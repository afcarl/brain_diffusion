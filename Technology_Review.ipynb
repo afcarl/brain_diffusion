{
 "cells": [
  {
   "cell_type": "markdown",
   "metadata": {},
   "source": [
    "## Technology Review: Bokeh"
   ]
  },
  {
   "cell_type": "markdown",
   "metadata": {},
   "source": [
    "A major portion of our project will involve plots, both static and interactive, and animations.  We chose to evaluate using the Bokeh as a possible package for this purpose.\n",
    "Bokeh is a user-friendly visualization package that creates elegant interactive plots with relatively few lines of code.  "
   ]
  },
  {
   "cell_type": "markdown",
   "metadata": {},
   "source": [
    "##  Bokeh Levels of Complexity"
   ]
  },
  {
   "cell_type": "markdown",
   "metadata": {},
   "source": [
    "Bokeh has three levels of complexity from simple and low control to more difficult and high control: charts, plotting and modeling.  With charts, you can quickly churn out complex statistical plots with just a few lines of code.  Models lets you control nearly every aspect of the plots and is more for developers.  Plotting is a happy medium.\n",
    "\n",
    "Below is an example of using charts:"
   ]
  },
  {
   "cell_type": "code",
   "execution_count": 1,
   "metadata": {
    "collapsed": true
   },
   "outputs": [],
   "source": [
    "#Import library\n",
    "from bokeh.charts import Bar, output_notebook, show #use output_notebook to visualize it in notebook"
   ]
  },
  {
   "cell_type": "code",
   "execution_count": 2,
   "metadata": {
    "collapsed": true
   },
   "outputs": [],
   "source": [
    "# prepare data (dummy data)\n",
    "data = {\"y\": [1, 2, 3, 4, 5]}"
   ]
  },
  {
   "cell_type": "code",
   "execution_count": 3,
   "metadata": {
    "collapsed": false
   },
   "outputs": [
    {
     "data": {
      "text/html": [
       "\n",
       "    <div class=\"bk-banner\">\n",
       "        <a href=\"http://bokeh.pydata.org\" target=\"_blank\" class=\"bk-logo bk-logo-small bk-logo-notebook\"></a>\n",
       "        <span id=\"2b800ee3-7a1b-43ba-8144-40d030612623\">Loading BokehJS ...</span>\n",
       "    </div>"
      ]
     },
     "metadata": {},
     "output_type": "display_data"
    },
    {
     "data": {
      "application/javascript": [
       "\n",
       "(function(global) {\n",
       "  function now() {\n",
       "    return new Date();\n",
       "  }\n",
       "\n",
       "  if (typeof (window._bokeh_onload_callbacks) === \"undefined\") {\n",
       "    window._bokeh_onload_callbacks = [];\n",
       "  }\n",
       "\n",
       "  function run_callbacks() {\n",
       "    window._bokeh_onload_callbacks.forEach(function(callback) { callback() });\n",
       "    delete window._bokeh_onload_callbacks\n",
       "    console.info(\"Bokeh: all callbacks have finished\");\n",
       "  }\n",
       "\n",
       "  function load_libs(js_urls, callback) {\n",
       "    window._bokeh_onload_callbacks.push(callback);\n",
       "    if (window._bokeh_is_loading > 0) {\n",
       "      console.log(\"Bokeh: BokehJS is being loaded, scheduling callback at\", now());\n",
       "      return null;\n",
       "    }\n",
       "    if (js_urls == null || js_urls.length === 0) {\n",
       "      run_callbacks();\n",
       "      return null;\n",
       "    }\n",
       "    console.log(\"Bokeh: BokehJS not loaded, scheduling load and callback at\", now());\n",
       "    window._bokeh_is_loading = js_urls.length;\n",
       "    for (var i = 0; i < js_urls.length; i++) {\n",
       "      var url = js_urls[i];\n",
       "      var s = document.createElement('script');\n",
       "      s.src = url;\n",
       "      s.async = false;\n",
       "      s.onreadystatechange = s.onload = function() {\n",
       "        window._bokeh_is_loading--;\n",
       "        if (window._bokeh_is_loading === 0) {\n",
       "          console.log(\"Bokeh: all BokehJS libraries loaded\");\n",
       "          run_callbacks()\n",
       "        }\n",
       "      };\n",
       "      s.onerror = function() {\n",
       "        console.warn(\"failed to load library \" + url);\n",
       "      };\n",
       "      console.log(\"Bokeh: injecting script tag for BokehJS library: \", url);\n",
       "      document.getElementsByTagName(\"head\")[0].appendChild(s);\n",
       "    }\n",
       "  };\n",
       "\n",
       "  var js_urls = ['https://cdn.pydata.org/bokeh/release/bokeh-0.11.1.min.js', 'https://cdn.pydata.org/bokeh/release/bokeh-widgets-0.11.1.min.js', 'https://cdn.pydata.org/bokeh/release/bokeh-compiler-0.11.1.min.js'];\n",
       "\n",
       "  var inline_js = [\n",
       "    function(Bokeh) {\n",
       "      Bokeh.set_log_level(\"info\");\n",
       "    },\n",
       "    \n",
       "    function(Bokeh) {\n",
       "      Bokeh.$(\"#2b800ee3-7a1b-43ba-8144-40d030612623\").text(\"BokehJS successfully loaded\");\n",
       "    },\n",
       "    function(Bokeh) {\n",
       "      console.log(\"Bokeh: injecting CSS: https://cdn.pydata.org/bokeh/release/bokeh-0.11.1.min.css\");\n",
       "      Bokeh.embed.inject_css(\"https://cdn.pydata.org/bokeh/release/bokeh-0.11.1.min.css\");\n",
       "      console.log(\"Bokeh: injecting CSS: https://cdn.pydata.org/bokeh/release/bokeh-widgets-0.11.1.min.css\");\n",
       "      Bokeh.embed.inject_css(\"https://cdn.pydata.org/bokeh/release/bokeh-widgets-0.11.1.min.css\");\n",
       "    }\n",
       "  ];\n",
       "\n",
       "  function run_inline_js() {\n",
       "    for (var i = 0; i < inline_js.length; i++) {\n",
       "      inline_js[i](window.Bokeh);\n",
       "    }\n",
       "  }\n",
       "\n",
       "  if (window._bokeh_is_loading === 0) {\n",
       "    console.log(\"Bokeh: BokehJS loaded, going straight to plotting\");\n",
       "    run_inline_js();\n",
       "  } else {\n",
       "    load_libs(js_urls, function() {\n",
       "      console.log(\"Bokeh: BokehJS plotting callback run at\", now());\n",
       "      run_inline_js();\n",
       "    });\n",
       "  }\n",
       "}(this));"
      ]
     },
     "metadata": {},
     "output_type": "display_data"
    }
   ],
   "source": [
    "# Output to Line.HTML\n",
    "output_notebook() #put output_notebook() for notebook"
   ]
  },
  {
   "cell_type": "code",
   "execution_count": 4,
   "metadata": {
    "collapsed": false
   },
   "outputs": [
    {
     "data": {
      "text/html": [
       "\n",
       "\n",
       "    <div class=\"plotdiv\" id=\"b65e011d-a496-421e-b80b-950bca65a863\"></div>\n",
       "<script type=\"text/javascript\">\n",
       "  \n",
       "  (function(global) {\n",
       "    function now() {\n",
       "      return new Date();\n",
       "    }\n",
       "  \n",
       "    if (typeof (window._bokeh_onload_callbacks) === \"undefined\") {\n",
       "      window._bokeh_onload_callbacks = [];\n",
       "    }\n",
       "  \n",
       "    function run_callbacks() {\n",
       "      window._bokeh_onload_callbacks.forEach(function(callback) { callback() });\n",
       "      delete window._bokeh_onload_callbacks\n",
       "      console.info(\"Bokeh: all callbacks have finished\");\n",
       "    }\n",
       "  \n",
       "    function load_libs(js_urls, callback) {\n",
       "      window._bokeh_onload_callbacks.push(callback);\n",
       "      if (window._bokeh_is_loading > 0) {\n",
       "        console.log(\"Bokeh: BokehJS is being loaded, scheduling callback at\", now());\n",
       "        return null;\n",
       "      }\n",
       "      if (js_urls == null || js_urls.length === 0) {\n",
       "        run_callbacks();\n",
       "        return null;\n",
       "      }\n",
       "      console.log(\"Bokeh: BokehJS not loaded, scheduling load and callback at\", now());\n",
       "      window._bokeh_is_loading = js_urls.length;\n",
       "      for (var i = 0; i < js_urls.length; i++) {\n",
       "        var url = js_urls[i];\n",
       "        var s = document.createElement('script');\n",
       "        s.src = url;\n",
       "        s.async = false;\n",
       "        s.onreadystatechange = s.onload = function() {\n",
       "          window._bokeh_is_loading--;\n",
       "          if (window._bokeh_is_loading === 0) {\n",
       "            console.log(\"Bokeh: all BokehJS libraries loaded\");\n",
       "            run_callbacks()\n",
       "          }\n",
       "        };\n",
       "        s.onerror = function() {\n",
       "          console.warn(\"failed to load library \" + url);\n",
       "        };\n",
       "        console.log(\"Bokeh: injecting script tag for BokehJS library: \", url);\n",
       "        document.getElementsByTagName(\"head\")[0].appendChild(s);\n",
       "      }\n",
       "    };var element = document.getElementById(\"b65e011d-a496-421e-b80b-950bca65a863\");\n",
       "    if (element == null) {\n",
       "      console.log(\"Bokeh: ERROR: autoload.js configured with elementid 'b65e011d-a496-421e-b80b-950bca65a863' but no matching script tag was found. \")\n",
       "      return false;\n",
       "    }\n",
       "  \n",
       "    var js_urls = [];\n",
       "  \n",
       "    var inline_js = [\n",
       "      function(Bokeh) {\n",
       "        Bokeh.$(function() {\n",
       "            var docs_json = {\"b8da6cb1-9654-4202-91ff-ed8ba68de833\":{\"roots\":{\"references\":[{\"attributes\":{\"data_source\":{\"id\":\"d5ab6c4b-d612-45f3-92e7-c325f68a14f8\",\"type\":\"ColumnDataSource\"},\"glyph\":{\"id\":\"642bdf64-b3ec-44bc-a1cf-dc60efe564ac\",\"type\":\"Rect\"},\"hover_glyph\":null,\"nonselection_glyph\":null,\"selection_glyph\":null},\"id\":\"dab6189a-a044-408c-b5c4-f8f37aebddf3\",\"type\":\"GlyphRenderer\"},{\"attributes\":{\"plot\":{\"id\":\"7a32346f-613b-4e75-8f62-71365b2a8636\",\"subtype\":\"Chart\",\"type\":\"Plot\"}},\"id\":\"68296ea6-473c-4a28-b0f4-24d7e4cc7bbb\",\"type\":\"HelpTool\"},{\"attributes\":{\"bottom_units\":\"screen\",\"fill_alpha\":{\"value\":0.5},\"fill_color\":{\"value\":\"lightgrey\"},\"left_units\":\"screen\",\"level\":\"overlay\",\"line_alpha\":{\"value\":1.0},\"line_color\":{\"value\":\"black\"},\"line_dash\":[4,4],\"line_width\":{\"value\":2},\"plot\":null,\"render_mode\":\"css\",\"right_units\":\"screen\",\"top_units\":\"screen\"},\"id\":\"66d534dc-2f9a-4fc5-b24d-9301ca64db3f\",\"type\":\"BoxAnnotation\"},{\"attributes\":{\"callback\":null,\"column_names\":[\"color\",\"y\",\"x\",\"height\",\"line_color\",\"line_alpha\",\"fill_alpha\",\"width\"],\"data\":{\"chart_index\":[{\"index\":4}],\"color\":[\"#f22c40\"],\"fill_alpha\":[0.8],\"height\":[5.0],\"index\":[4],\"line_alpha\":[1.0],\"line_color\":[\"white\"],\"width\":[0.8],\"x\":[\"4\"],\"y\":[2.5]}},\"id\":\"cc57b54c-c7b0-44ce-8e53-cf85e2a779da\",\"type\":\"ColumnDataSource\"},{\"attributes\":{\"plot\":{\"id\":\"7a32346f-613b-4e75-8f62-71365b2a8636\",\"subtype\":\"Chart\",\"type\":\"Plot\"}},\"id\":\"01e59b8d-bf3c-45f2-a641-67280870addc\",\"type\":\"PanTool\"},{\"attributes\":{\"plot\":{\"id\":\"7a32346f-613b-4e75-8f62-71365b2a8636\",\"subtype\":\"Chart\",\"type\":\"Plot\"}},\"id\":\"580a3338-5ce7-44c0-9f3e-b228007bbdac\",\"type\":\"WheelZoomTool\"},{\"attributes\":{\"data_source\":{\"id\":\"40c60f58-f1e0-4a1d-9de6-fcc61efdc903\",\"type\":\"ColumnDataSource\"},\"glyph\":{\"id\":\"61998efa-c0f3-49ae-93e3-bde8ca2ed967\",\"type\":\"Rect\"},\"hover_glyph\":null,\"nonselection_glyph\":null,\"selection_glyph\":null},\"id\":\"2bd47b5a-d174-492c-b4d3-fc20cde89864\",\"type\":\"GlyphRenderer\"},{\"attributes\":{\"data_source\":{\"id\":\"cc57b54c-c7b0-44ce-8e53-cf85e2a779da\",\"type\":\"ColumnDataSource\"},\"glyph\":{\"id\":\"642ae662-5456-41ab-82db-689806dca062\",\"type\":\"Rect\"},\"hover_glyph\":null,\"nonselection_glyph\":null,\"selection_glyph\":null},\"id\":\"7b0121af-9a52-4ae4-9c1d-4b5f5463e428\",\"type\":\"GlyphRenderer\"},{\"attributes\":{\"fill_alpha\":{\"field\":\"fill_alpha\"},\"fill_color\":{\"field\":\"color\"},\"height\":{\"field\":\"height\",\"units\":\"data\"},\"line_color\":{\"field\":\"line_color\"},\"width\":{\"field\":\"width\",\"units\":\"data\"},\"x\":{\"field\":\"x\"},\"y\":{\"field\":\"y\"}},\"id\":\"61998efa-c0f3-49ae-93e3-bde8ca2ed967\",\"type\":\"Rect\"},{\"attributes\":{\"callback\":null,\"factors\":[\"0\",\"1\",\"2\",\"3\",\"4\"]},\"id\":\"57b2e980-6bc4-4cfb-a7e9-760bdcabdcea\",\"type\":\"FactorRange\"},{\"attributes\":{\"below\":[{\"id\":\"27671093-471f-4c54-9f18-ab37ef2ddda4\",\"type\":\"CategoricalAxis\"}],\"left\":[{\"id\":\"41091272-37a5-4792-9de3-227abca79aac\",\"type\":\"LinearAxis\"}],\"legend\":null,\"plot_height\":400,\"plot_width\":400,\"renderers\":[{\"id\":\"66d534dc-2f9a-4fc5-b24d-9301ca64db3f\",\"type\":\"BoxAnnotation\"},{\"id\":\"dab6189a-a044-408c-b5c4-f8f37aebddf3\",\"type\":\"GlyphRenderer\"},{\"id\":\"44166579-2cb4-4a8e-86b2-54fc7141ce3a\",\"type\":\"GlyphRenderer\"},{\"id\":\"2bd47b5a-d174-492c-b4d3-fc20cde89864\",\"type\":\"GlyphRenderer\"},{\"id\":\"72d0b828-4fd5-412a-b21c-dbdd9d19aaee\",\"type\":\"GlyphRenderer\"},{\"id\":\"7b0121af-9a52-4ae4-9c1d-4b5f5463e428\",\"type\":\"GlyphRenderer\"},{\"id\":\"27671093-471f-4c54-9f18-ab37ef2ddda4\",\"type\":\"CategoricalAxis\"},{\"id\":\"41091272-37a5-4792-9de3-227abca79aac\",\"type\":\"LinearAxis\"},{\"id\":\"976d2214-692b-4996-9dbe-5f0783225533\",\"type\":\"Grid\"}],\"title\":\"Line Chart Example\",\"title_text_font_size\":{\"value\":\"14pt\"},\"tool_events\":{\"id\":\"4d677a69-31df-40ab-b753-962b8c14e901\",\"type\":\"ToolEvents\"},\"tools\":[{\"id\":\"01e59b8d-bf3c-45f2-a641-67280870addc\",\"type\":\"PanTool\"},{\"id\":\"580a3338-5ce7-44c0-9f3e-b228007bbdac\",\"type\":\"WheelZoomTool\"},{\"id\":\"9706ed4e-db92-4fb6-a41c-99beff0df901\",\"type\":\"BoxZoomTool\"},{\"id\":\"104bfdd0-65c4-4f67-9473-de4f4d263748\",\"type\":\"PreviewSaveTool\"},{\"id\":\"10efcb89-123b-404d-8430-5fd7919b34a9\",\"type\":\"ResizeTool\"},{\"id\":\"f50e690d-7a92-4033-bbfb-6f8befedb65d\",\"type\":\"ResetTool\"},{\"id\":\"68296ea6-473c-4a28-b0f4-24d7e4cc7bbb\",\"type\":\"HelpTool\"}],\"x_mapper_type\":\"auto\",\"x_range\":{\"id\":\"57b2e980-6bc4-4cfb-a7e9-760bdcabdcea\",\"type\":\"FactorRange\"},\"xgrid\":false,\"xscale\":\"auto\",\"y_mapper_type\":\"auto\",\"y_range\":{\"id\":\"402ba006-d96c-4a40-842c-83a410e0cd48\",\"type\":\"Range1d\"},\"yscale\":\"auto\"},\"id\":\"7a32346f-613b-4e75-8f62-71365b2a8636\",\"subtype\":\"Chart\",\"type\":\"Plot\"},{\"attributes\":{},\"id\":\"7506746d-fdc4-4310-816c-8639ee43a8d5\",\"type\":\"CategoricalTickFormatter\"},{\"attributes\":{},\"id\":\"6ab216a6-ea17-43cf-b797-0d378a924c30\",\"type\":\"CategoricalTicker\"},{\"attributes\":{\"data_source\":{\"id\":\"15978491-2ddc-4239-915c-9c074e1ace2b\",\"type\":\"ColumnDataSource\"},\"glyph\":{\"id\":\"130815f3-dfdf-49bd-9d6a-cb53af6b2b36\",\"type\":\"Rect\"},\"hover_glyph\":null,\"nonselection_glyph\":null,\"selection_glyph\":null},\"id\":\"44166579-2cb4-4a8e-86b2-54fc7141ce3a\",\"type\":\"GlyphRenderer\"},{\"attributes\":{\"data_source\":{\"id\":\"1e0a3f33-84c3-4015-b96c-7b149b4b4fa3\",\"type\":\"ColumnDataSource\"},\"glyph\":{\"id\":\"b7e19d6d-c161-4291-9ea8-51a79c214d50\",\"type\":\"Rect\"},\"hover_glyph\":null,\"nonselection_glyph\":null,\"selection_glyph\":null},\"id\":\"72d0b828-4fd5-412a-b21c-dbdd9d19aaee\",\"type\":\"GlyphRenderer\"},{\"attributes\":{\"callback\":null,\"column_names\":[\"color\",\"y\",\"x\",\"height\",\"line_color\",\"line_alpha\",\"fill_alpha\",\"width\"],\"data\":{\"chart_index\":[{\"index\":3}],\"color\":[\"#f22c40\"],\"fill_alpha\":[0.8],\"height\":[4.0],\"index\":[3],\"line_alpha\":[1.0],\"line_color\":[\"white\"],\"width\":[0.8],\"x\":[\"3\"],\"y\":[2.0]}},\"id\":\"1e0a3f33-84c3-4015-b96c-7b149b4b4fa3\",\"type\":\"ColumnDataSource\"},{\"attributes\":{\"callback\":null,\"end\":5.25},\"id\":\"402ba006-d96c-4a40-842c-83a410e0cd48\",\"type\":\"Range1d\"},{\"attributes\":{\"fill_alpha\":{\"field\":\"fill_alpha\"},\"fill_color\":{\"field\":\"color\"},\"height\":{\"field\":\"height\",\"units\":\"data\"},\"line_color\":{\"field\":\"line_color\"},\"width\":{\"field\":\"width\",\"units\":\"data\"},\"x\":{\"field\":\"x\"},\"y\":{\"field\":\"y\"}},\"id\":\"130815f3-dfdf-49bd-9d6a-cb53af6b2b36\",\"type\":\"Rect\"},{\"attributes\":{\"dimension\":1,\"plot\":{\"id\":\"7a32346f-613b-4e75-8f62-71365b2a8636\",\"subtype\":\"Chart\",\"type\":\"Plot\"},\"ticker\":{\"id\":\"d1ee7dd7-9293-4a0b-9dd1-dc9c10c0ccad\",\"type\":\"BasicTicker\"}},\"id\":\"976d2214-692b-4996-9dbe-5f0783225533\",\"type\":\"Grid\"},{\"attributes\":{},\"id\":\"4d677a69-31df-40ab-b753-962b8c14e901\",\"type\":\"ToolEvents\"},{\"attributes\":{\"overlay\":{\"id\":\"66d534dc-2f9a-4fc5-b24d-9301ca64db3f\",\"type\":\"BoxAnnotation\"},\"plot\":{\"id\":\"7a32346f-613b-4e75-8f62-71365b2a8636\",\"subtype\":\"Chart\",\"type\":\"Plot\"}},\"id\":\"9706ed4e-db92-4fb6-a41c-99beff0df901\",\"type\":\"BoxZoomTool\"},{\"attributes\":{\"plot\":{\"id\":\"7a32346f-613b-4e75-8f62-71365b2a8636\",\"subtype\":\"Chart\",\"type\":\"Plot\"}},\"id\":\"f50e690d-7a92-4033-bbfb-6f8befedb65d\",\"type\":\"ResetTool\"},{\"attributes\":{\"fill_alpha\":{\"field\":\"fill_alpha\"},\"fill_color\":{\"field\":\"color\"},\"height\":{\"field\":\"height\",\"units\":\"data\"},\"line_color\":{\"field\":\"line_color\"},\"width\":{\"field\":\"width\",\"units\":\"data\"},\"x\":{\"field\":\"x\"},\"y\":{\"field\":\"y\"}},\"id\":\"b7e19d6d-c161-4291-9ea8-51a79c214d50\",\"type\":\"Rect\"},{\"attributes\":{\"axis_label\":\"values\",\"formatter\":{\"id\":\"c931f0fb-c20d-40cf-97e9-3b197e2e88b6\",\"type\":\"BasicTickFormatter\"},\"plot\":{\"id\":\"7a32346f-613b-4e75-8f62-71365b2a8636\",\"subtype\":\"Chart\",\"type\":\"Plot\"},\"ticker\":{\"id\":\"d1ee7dd7-9293-4a0b-9dd1-dc9c10c0ccad\",\"type\":\"BasicTicker\"}},\"id\":\"41091272-37a5-4792-9de3-227abca79aac\",\"type\":\"LinearAxis\"},{\"attributes\":{\"plot\":{\"id\":\"7a32346f-613b-4e75-8f62-71365b2a8636\",\"subtype\":\"Chart\",\"type\":\"Plot\"}},\"id\":\"10efcb89-123b-404d-8430-5fd7919b34a9\",\"type\":\"ResizeTool\"},{\"attributes\":{\"formatter\":{\"id\":\"7506746d-fdc4-4310-816c-8639ee43a8d5\",\"type\":\"CategoricalTickFormatter\"},\"major_label_orientation\":0.7853981633974483,\"plot\":{\"id\":\"7a32346f-613b-4e75-8f62-71365b2a8636\",\"subtype\":\"Chart\",\"type\":\"Plot\"},\"ticker\":{\"id\":\"6ab216a6-ea17-43cf-b797-0d378a924c30\",\"type\":\"CategoricalTicker\"}},\"id\":\"27671093-471f-4c54-9f18-ab37ef2ddda4\",\"type\":\"CategoricalAxis\"},{\"attributes\":{\"callback\":null,\"column_names\":[\"color\",\"y\",\"x\",\"height\",\"line_color\",\"line_alpha\",\"fill_alpha\",\"width\"],\"data\":{\"chart_index\":[{\"index\":2}],\"color\":[\"#f22c40\"],\"fill_alpha\":[0.8],\"height\":[3.0],\"index\":[2],\"line_alpha\":[1.0],\"line_color\":[\"white\"],\"width\":[0.8],\"x\":[\"2\"],\"y\":[1.5]}},\"id\":\"40c60f58-f1e0-4a1d-9de6-fcc61efdc903\",\"type\":\"ColumnDataSource\"},{\"attributes\":{\"callback\":null,\"column_names\":[\"color\",\"y\",\"x\",\"height\",\"line_color\",\"line_alpha\",\"fill_alpha\",\"width\"],\"data\":{\"chart_index\":[{\"index\":0}],\"color\":[\"#f22c40\"],\"fill_alpha\":[0.8],\"height\":[1.0],\"index\":[0],\"line_alpha\":[1.0],\"line_color\":[\"white\"],\"width\":[0.8],\"x\":[\"0\"],\"y\":[0.5]}},\"id\":\"d5ab6c4b-d612-45f3-92e7-c325f68a14f8\",\"type\":\"ColumnDataSource\"},{\"attributes\":{\"callback\":null,\"column_names\":[\"color\",\"y\",\"x\",\"height\",\"line_color\",\"line_alpha\",\"fill_alpha\",\"width\"],\"data\":{\"chart_index\":[{\"index\":1}],\"color\":[\"#f22c40\"],\"fill_alpha\":[0.8],\"height\":[2.0],\"index\":[1],\"line_alpha\":[1.0],\"line_color\":[\"white\"],\"width\":[0.8],\"x\":[\"1\"],\"y\":[1.0]}},\"id\":\"15978491-2ddc-4239-915c-9c074e1ace2b\",\"type\":\"ColumnDataSource\"},{\"attributes\":{},\"id\":\"c931f0fb-c20d-40cf-97e9-3b197e2e88b6\",\"type\":\"BasicTickFormatter\"},{\"attributes\":{\"plot\":{\"id\":\"7a32346f-613b-4e75-8f62-71365b2a8636\",\"subtype\":\"Chart\",\"type\":\"Plot\"}},\"id\":\"104bfdd0-65c4-4f67-9473-de4f4d263748\",\"type\":\"PreviewSaveTool\"},{\"attributes\":{\"fill_alpha\":{\"field\":\"fill_alpha\"},\"fill_color\":{\"field\":\"color\"},\"height\":{\"field\":\"height\",\"units\":\"data\"},\"line_color\":{\"field\":\"line_color\"},\"width\":{\"field\":\"width\",\"units\":\"data\"},\"x\":{\"field\":\"x\"},\"y\":{\"field\":\"y\"}},\"id\":\"642bdf64-b3ec-44bc-a1cf-dc60efe564ac\",\"type\":\"Rect\"},{\"attributes\":{\"fill_alpha\":{\"field\":\"fill_alpha\"},\"fill_color\":{\"field\":\"color\"},\"height\":{\"field\":\"height\",\"units\":\"data\"},\"line_color\":{\"field\":\"line_color\"},\"width\":{\"field\":\"width\",\"units\":\"data\"},\"x\":{\"field\":\"x\"},\"y\":{\"field\":\"y\"}},\"id\":\"642ae662-5456-41ab-82db-689806dca062\",\"type\":\"Rect\"},{\"attributes\":{},\"id\":\"d1ee7dd7-9293-4a0b-9dd1-dc9c10c0ccad\",\"type\":\"BasicTicker\"}],\"root_ids\":[\"7a32346f-613b-4e75-8f62-71365b2a8636\"]},\"title\":\"Bokeh Application\",\"version\":\"0.11.1\"}};\n",
       "            var render_items = [{\"docid\":\"b8da6cb1-9654-4202-91ff-ed8ba68de833\",\"elementid\":\"b65e011d-a496-421e-b80b-950bca65a863\",\"modelid\":\"7a32346f-613b-4e75-8f62-71365b2a8636\",\"notebook_comms_target\":\"107f8cff-6e86-4a83-b955-9d45b822a724\"}];\n",
       "            \n",
       "            Bokeh.embed.embed_items(docs_json, render_items);\n",
       "        });\n",
       "      },\n",
       "      function(Bokeh) {\n",
       "      }\n",
       "    ];\n",
       "  \n",
       "    function run_inline_js() {\n",
       "      for (var i = 0; i < inline_js.length; i++) {\n",
       "        inline_js[i](window.Bokeh);\n",
       "      }\n",
       "    }\n",
       "  \n",
       "    if (window._bokeh_is_loading === 0) {\n",
       "      console.log(\"Bokeh: BokehJS loaded, going straight to plotting\");\n",
       "      run_inline_js();\n",
       "    } else {\n",
       "      load_libs(js_urls, function() {\n",
       "        console.log(\"Bokeh: BokehJS plotting callback run at\", now());\n",
       "        run_inline_js();\n",
       "      });\n",
       "    }\n",
       "  }(this));\n",
       "</script>"
      ]
     },
     "metadata": {},
     "output_type": "display_data"
    },
    {
     "data": {
      "text/html": [
       "<p><code>&lt;Bokeh Notebook handle for <strong>In[4]</strong>&gt;</code></p>"
      ],
      "text/plain": [
       "<bokeh.io._CommsHandle at 0x2292bbd2940>"
      ]
     },
     "execution_count": 4,
     "metadata": {},
     "output_type": "execute_result"
    }
   ],
   "source": [
    "# create a new line chart with a title and axis labels\n",
    "p = Bar(data, title=\"Line Chart Example\", xlabel='x', ylabel='values', width=400, height=400)\n",
    "# show the results\n",
    "show(p)"
   ]
  },
  {
   "cell_type": "markdown",
   "metadata": {},
   "source": [
    "Bokeh plotting is probably the one we are going to be using the most.  Developing any plot with Bokeh plotting takes five steps:\n",
    "* Prepare or load data\n",
    "* Tell Bokeh where to store output (html file, notebook, server, etc.)\n",
    "* Call figure() to generate the skeleton of the plot.\n",
    "* Add renderers for the for the data (this would be the line of your graph or the points of the scatter plot).\n",
    "* Show or save your plot.\n"
   ]
  },
  {
   "cell_type": "code",
   "execution_count": 5,
   "metadata": {
    "collapsed": false
   },
   "outputs": [
    {
     "data": {
      "text/html": [
       "\n",
       "    <div class=\"bk-banner\">\n",
       "        <a href=\"http://bokeh.pydata.org\" target=\"_blank\" class=\"bk-logo bk-logo-small bk-logo-notebook\"></a>\n",
       "        <span id=\"c746b8e6-b89f-4475-ba58-342127cf5fad\">Loading BokehJS ...</span>\n",
       "    </div>"
      ]
     },
     "metadata": {},
     "output_type": "display_data"
    },
    {
     "data": {
      "application/javascript": [
       "\n",
       "(function(global) {\n",
       "  function now() {\n",
       "    return new Date();\n",
       "  }\n",
       "\n",
       "  if (typeof (window._bokeh_onload_callbacks) === \"undefined\") {\n",
       "    window._bokeh_onload_callbacks = [];\n",
       "  }\n",
       "\n",
       "  function run_callbacks() {\n",
       "    window._bokeh_onload_callbacks.forEach(function(callback) { callback() });\n",
       "    delete window._bokeh_onload_callbacks\n",
       "    console.info(\"Bokeh: all callbacks have finished\");\n",
       "  }\n",
       "\n",
       "  function load_libs(js_urls, callback) {\n",
       "    window._bokeh_onload_callbacks.push(callback);\n",
       "    if (window._bokeh_is_loading > 0) {\n",
       "      console.log(\"Bokeh: BokehJS is being loaded, scheduling callback at\", now());\n",
       "      return null;\n",
       "    }\n",
       "    if (js_urls == null || js_urls.length === 0) {\n",
       "      run_callbacks();\n",
       "      return null;\n",
       "    }\n",
       "    console.log(\"Bokeh: BokehJS not loaded, scheduling load and callback at\", now());\n",
       "    window._bokeh_is_loading = js_urls.length;\n",
       "    for (var i = 0; i < js_urls.length; i++) {\n",
       "      var url = js_urls[i];\n",
       "      var s = document.createElement('script');\n",
       "      s.src = url;\n",
       "      s.async = false;\n",
       "      s.onreadystatechange = s.onload = function() {\n",
       "        window._bokeh_is_loading--;\n",
       "        if (window._bokeh_is_loading === 0) {\n",
       "          console.log(\"Bokeh: all BokehJS libraries loaded\");\n",
       "          run_callbacks()\n",
       "        }\n",
       "      };\n",
       "      s.onerror = function() {\n",
       "        console.warn(\"failed to load library \" + url);\n",
       "      };\n",
       "      console.log(\"Bokeh: injecting script tag for BokehJS library: \", url);\n",
       "      document.getElementsByTagName(\"head\")[0].appendChild(s);\n",
       "    }\n",
       "  };\n",
       "\n",
       "  var js_urls = ['https://cdn.pydata.org/bokeh/release/bokeh-0.11.1.min.js', 'https://cdn.pydata.org/bokeh/release/bokeh-widgets-0.11.1.min.js', 'https://cdn.pydata.org/bokeh/release/bokeh-compiler-0.11.1.min.js'];\n",
       "\n",
       "  var inline_js = [\n",
       "    function(Bokeh) {\n",
       "      Bokeh.set_log_level(\"info\");\n",
       "    },\n",
       "    \n",
       "    function(Bokeh) {\n",
       "      Bokeh.$(\"#c746b8e6-b89f-4475-ba58-342127cf5fad\").text(\"BokehJS successfully loaded\");\n",
       "    },\n",
       "    function(Bokeh) {\n",
       "      console.log(\"Bokeh: injecting CSS: https://cdn.pydata.org/bokeh/release/bokeh-0.11.1.min.css\");\n",
       "      Bokeh.embed.inject_css(\"https://cdn.pydata.org/bokeh/release/bokeh-0.11.1.min.css\");\n",
       "      console.log(\"Bokeh: injecting CSS: https://cdn.pydata.org/bokeh/release/bokeh-widgets-0.11.1.min.css\");\n",
       "      Bokeh.embed.inject_css(\"https://cdn.pydata.org/bokeh/release/bokeh-widgets-0.11.1.min.css\");\n",
       "    }\n",
       "  ];\n",
       "\n",
       "  function run_inline_js() {\n",
       "    for (var i = 0; i < inline_js.length; i++) {\n",
       "      inline_js[i](window.Bokeh);\n",
       "    }\n",
       "  }\n",
       "\n",
       "  if (window._bokeh_is_loading === 0) {\n",
       "    console.log(\"Bokeh: BokehJS loaded, going straight to plotting\");\n",
       "    run_inline_js();\n",
       "  } else {\n",
       "    load_libs(js_urls, function() {\n",
       "      console.log(\"Bokeh: BokehJS plotting callback run at\", now());\n",
       "      run_inline_js();\n",
       "    });\n",
       "  }\n",
       "}(this));"
      ]
     },
     "metadata": {},
     "output_type": "display_data"
    },
    {
     "data": {
      "text/html": [
       "\n",
       "\n",
       "    <div class=\"plotdiv\" id=\"8e79432e-780b-4662-8467-76ce24a7c72d\"></div>\n",
       "<script type=\"text/javascript\">\n",
       "  \n",
       "  (function(global) {\n",
       "    function now() {\n",
       "      return new Date();\n",
       "    }\n",
       "  \n",
       "    if (typeof (window._bokeh_onload_callbacks) === \"undefined\") {\n",
       "      window._bokeh_onload_callbacks = [];\n",
       "    }\n",
       "  \n",
       "    function run_callbacks() {\n",
       "      window._bokeh_onload_callbacks.forEach(function(callback) { callback() });\n",
       "      delete window._bokeh_onload_callbacks\n",
       "      console.info(\"Bokeh: all callbacks have finished\");\n",
       "    }\n",
       "  \n",
       "    function load_libs(js_urls, callback) {\n",
       "      window._bokeh_onload_callbacks.push(callback);\n",
       "      if (window._bokeh_is_loading > 0) {\n",
       "        console.log(\"Bokeh: BokehJS is being loaded, scheduling callback at\", now());\n",
       "        return null;\n",
       "      }\n",
       "      if (js_urls == null || js_urls.length === 0) {\n",
       "        run_callbacks();\n",
       "        return null;\n",
       "      }\n",
       "      console.log(\"Bokeh: BokehJS not loaded, scheduling load and callback at\", now());\n",
       "      window._bokeh_is_loading = js_urls.length;\n",
       "      for (var i = 0; i < js_urls.length; i++) {\n",
       "        var url = js_urls[i];\n",
       "        var s = document.createElement('script');\n",
       "        s.src = url;\n",
       "        s.async = false;\n",
       "        s.onreadystatechange = s.onload = function() {\n",
       "          window._bokeh_is_loading--;\n",
       "          if (window._bokeh_is_loading === 0) {\n",
       "            console.log(\"Bokeh: all BokehJS libraries loaded\");\n",
       "            run_callbacks()\n",
       "          }\n",
       "        };\n",
       "        s.onerror = function() {\n",
       "          console.warn(\"failed to load library \" + url);\n",
       "        };\n",
       "        console.log(\"Bokeh: injecting script tag for BokehJS library: \", url);\n",
       "        document.getElementsByTagName(\"head\")[0].appendChild(s);\n",
       "      }\n",
       "    };var element = document.getElementById(\"8e79432e-780b-4662-8467-76ce24a7c72d\");\n",
       "    if (element == null) {\n",
       "      console.log(\"Bokeh: ERROR: autoload.js configured with elementid '8e79432e-780b-4662-8467-76ce24a7c72d' but no matching script tag was found. \")\n",
       "      return false;\n",
       "    }\n",
       "  \n",
       "    var js_urls = [];\n",
       "  \n",
       "    var inline_js = [\n",
       "      function(Bokeh) {\n",
       "        Bokeh.$(function() {\n",
       "            var docs_json = {\"665c50b1-88ab-41ad-ba86-42938d70a7ae\":{\"roots\":{\"references\":[{\"attributes\":{\"line_color\":{\"value\":\"orange\"},\"line_dash\":[4,4],\"x\":{\"field\":\"x\"},\"y\":{\"field\":\"y\"}},\"id\":\"94ccf32b-5c3d-403f-8e04-43780d7b963c\",\"type\":\"Line\"},{\"attributes\":{},\"id\":\"6998996f-586e-490b-a853-c895c88be3c7\",\"type\":\"ToolEvents\"},{\"attributes\":{\"callback\":null,\"column_names\":[\"color\",\"y\",\"x\",\"height\",\"line_color\",\"line_alpha\",\"fill_alpha\",\"width\"],\"data\":{\"chart_index\":[{\"index\":3}],\"color\":[\"#f22c40\"],\"fill_alpha\":[0.8],\"height\":[4.0],\"index\":[3],\"line_alpha\":[1.0],\"line_color\":[\"white\"],\"width\":[0.8],\"x\":[\"3\"],\"y\":[2.0]}},\"id\":\"1e0a3f33-84c3-4015-b96c-7b149b4b4fa3\",\"type\":\"ColumnDataSource\"},{\"attributes\":{\"overlay\":{\"id\":\"3007e5f6-8c9c-4125-b0ee-0b75f691594a\",\"type\":\"BoxAnnotation\"},\"plot\":{\"id\":\"0b8b4b97-7939-42a5-81e8-a7ca2230f1af\",\"subtype\":\"Figure\",\"type\":\"Plot\"}},\"id\":\"d695b09f-248e-49cd-8ad3-14eace3b5fdb\",\"type\":\"BoxZoomTool\"},{\"attributes\":{\"bottom_units\":\"screen\",\"fill_alpha\":{\"value\":0.5},\"fill_color\":{\"value\":\"lightgrey\"},\"left_units\":\"screen\",\"level\":\"overlay\",\"line_alpha\":{\"value\":1.0},\"line_color\":{\"value\":\"black\"},\"line_dash\":[4,4],\"line_width\":{\"value\":2},\"plot\":null,\"render_mode\":\"css\",\"right_units\":\"screen\",\"top_units\":\"screen\"},\"id\":\"66d534dc-2f9a-4fc5-b24d-9301ca64db3f\",\"type\":\"BoxAnnotation\"},{\"attributes\":{\"data_source\":{\"id\":\"6c7ce535-8f10-4ee8-bd5a-e7e7fb66073d\",\"type\":\"ColumnDataSource\"},\"glyph\":{\"id\":\"6c37107d-c1e7-493c-926e-2cf7b1adfe7b\",\"type\":\"Line\"},\"hover_glyph\":null,\"nonselection_glyph\":{\"id\":\"208975ac-0b74-46b3-aad4-781528ffcf55\",\"type\":\"Line\"},\"selection_glyph\":null},\"id\":\"bea5f84a-db9e-4bf3-acf8-e632f217e274\",\"type\":\"GlyphRenderer\"},{\"attributes\":{\"plot\":{\"id\":\"7a32346f-613b-4e75-8f62-71365b2a8636\",\"subtype\":\"Chart\",\"type\":\"Plot\"}},\"id\":\"01e59b8d-bf3c-45f2-a641-67280870addc\",\"type\":\"PanTool\"},{\"attributes\":{\"line_color\":{\"value\":\"#1f77b4\"},\"line_width\":{\"value\":3},\"x\":{\"field\":\"x\"},\"y\":{\"field\":\"y\"}},\"id\":\"d1a6d537-1e99-416a-9055-4b63f193ec2e\",\"type\":\"Line\"},{\"attributes\":{\"plot\":{\"id\":\"7a32346f-613b-4e75-8f62-71365b2a8636\",\"subtype\":\"Chart\",\"type\":\"Plot\"}},\"id\":\"10efcb89-123b-404d-8430-5fd7919b34a9\",\"type\":\"ResizeTool\"},{\"attributes\":{\"plot\":{\"id\":\"0b8b4b97-7939-42a5-81e8-a7ca2230f1af\",\"subtype\":\"Figure\",\"type\":\"Plot\"}},\"id\":\"9762ef5b-f488-49c7-9d8c-5efeac15b92d\",\"type\":\"ResetTool\"},{\"attributes\":{\"line_alpha\":{\"value\":0.1},\"line_color\":{\"value\":\"#1f77b4\"},\"x\":{\"field\":\"x\"},\"y\":{\"field\":\"y\"}},\"id\":\"5e364124-1c1c-4854-b5f4-7312d312f881\",\"type\":\"Line\"},{\"attributes\":{\"line_alpha\":{\"value\":0.1},\"line_color\":{\"value\":\"#1f77b4\"},\"x\":{\"field\":\"x\"},\"y\":{\"field\":\"y\"}},\"id\":\"208975ac-0b74-46b3-aad4-781528ffcf55\",\"type\":\"Line\"},{\"attributes\":{\"formatter\":{\"id\":\"7506746d-fdc4-4310-816c-8639ee43a8d5\",\"type\":\"CategoricalTickFormatter\"},\"major_label_orientation\":0.7853981633974483,\"plot\":{\"id\":\"7a32346f-613b-4e75-8f62-71365b2a8636\",\"subtype\":\"Chart\",\"type\":\"Plot\"},\"ticker\":{\"id\":\"6ab216a6-ea17-43cf-b797-0d378a924c30\",\"type\":\"CategoricalTicker\"}},\"id\":\"27671093-471f-4c54-9f18-ab37ef2ddda4\",\"type\":\"CategoricalAxis\"},{\"attributes\":{\"fill_alpha\":{\"field\":\"fill_alpha\"},\"fill_color\":{\"field\":\"color\"},\"height\":{\"field\":\"height\",\"units\":\"data\"},\"line_color\":{\"field\":\"line_color\"},\"width\":{\"field\":\"width\",\"units\":\"data\"},\"x\":{\"field\":\"x\"},\"y\":{\"field\":\"y\"}},\"id\":\"130815f3-dfdf-49bd-9d6a-cb53af6b2b36\",\"type\":\"Rect\"},{\"attributes\":{\"below\":[{\"id\":\"27671093-471f-4c54-9f18-ab37ef2ddda4\",\"type\":\"CategoricalAxis\"}],\"left\":[{\"id\":\"41091272-37a5-4792-9de3-227abca79aac\",\"type\":\"LinearAxis\"}],\"legend\":null,\"plot_height\":400,\"plot_width\":400,\"renderers\":[{\"id\":\"66d534dc-2f9a-4fc5-b24d-9301ca64db3f\",\"type\":\"BoxAnnotation\"},{\"id\":\"dab6189a-a044-408c-b5c4-f8f37aebddf3\",\"type\":\"GlyphRenderer\"},{\"id\":\"44166579-2cb4-4a8e-86b2-54fc7141ce3a\",\"type\":\"GlyphRenderer\"},{\"id\":\"2bd47b5a-d174-492c-b4d3-fc20cde89864\",\"type\":\"GlyphRenderer\"},{\"id\":\"72d0b828-4fd5-412a-b21c-dbdd9d19aaee\",\"type\":\"GlyphRenderer\"},{\"id\":\"7b0121af-9a52-4ae4-9c1d-4b5f5463e428\",\"type\":\"GlyphRenderer\"},{\"id\":\"27671093-471f-4c54-9f18-ab37ef2ddda4\",\"type\":\"CategoricalAxis\"},{\"id\":\"41091272-37a5-4792-9de3-227abca79aac\",\"type\":\"LinearAxis\"},{\"id\":\"976d2214-692b-4996-9dbe-5f0783225533\",\"type\":\"Grid\"}],\"title\":\"Line Chart Example\",\"title_text_font_size\":{\"value\":\"14pt\"},\"tool_events\":{\"id\":\"4d677a69-31df-40ab-b753-962b8c14e901\",\"type\":\"ToolEvents\"},\"tools\":[{\"id\":\"01e59b8d-bf3c-45f2-a641-67280870addc\",\"type\":\"PanTool\"},{\"id\":\"580a3338-5ce7-44c0-9f3e-b228007bbdac\",\"type\":\"WheelZoomTool\"},{\"id\":\"9706ed4e-db92-4fb6-a41c-99beff0df901\",\"type\":\"BoxZoomTool\"},{\"id\":\"104bfdd0-65c4-4f67-9473-de4f4d263748\",\"type\":\"PreviewSaveTool\"},{\"id\":\"10efcb89-123b-404d-8430-5fd7919b34a9\",\"type\":\"ResizeTool\"},{\"id\":\"f50e690d-7a92-4033-bbfb-6f8befedb65d\",\"type\":\"ResetTool\"},{\"id\":\"68296ea6-473c-4a28-b0f4-24d7e4cc7bbb\",\"type\":\"HelpTool\"}],\"x_mapper_type\":\"auto\",\"x_range\":{\"id\":\"57b2e980-6bc4-4cfb-a7e9-760bdcabdcea\",\"type\":\"FactorRange\"},\"xgrid\":false,\"xscale\":\"auto\",\"y_mapper_type\":\"auto\",\"y_range\":{\"id\":\"402ba006-d96c-4a40-842c-83a410e0cd48\",\"type\":\"Range1d\"},\"yscale\":\"auto\"},\"id\":\"7a32346f-613b-4e75-8f62-71365b2a8636\",\"subtype\":\"Chart\",\"type\":\"Plot\"},{\"attributes\":{\"callback\":null,\"end\":100000000000,\"start\":0.001},\"id\":\"01b355cd-4584-4dce-8e4f-2498e65c969c\",\"type\":\"Range1d\"},{\"attributes\":{},\"id\":\"6ab216a6-ea17-43cf-b797-0d378a924c30\",\"type\":\"CategoricalTicker\"},{\"attributes\":{\"callback\":null},\"id\":\"6e1db700-e60b-4633-8138-335c174150d0\",\"type\":\"DataRange1d\"},{\"attributes\":{\"data_source\":{\"id\":\"15978491-2ddc-4239-915c-9c074e1ace2b\",\"type\":\"ColumnDataSource\"},\"glyph\":{\"id\":\"130815f3-dfdf-49bd-9d6a-cb53af6b2b36\",\"type\":\"Rect\"},\"hover_glyph\":null,\"nonselection_glyph\":null,\"selection_glyph\":null},\"id\":\"44166579-2cb4-4a8e-86b2-54fc7141ce3a\",\"type\":\"GlyphRenderer\"},{\"attributes\":{\"fill_color\":{\"value\":\"white\"},\"line_color\":{\"value\":\"#1f77b4\"},\"size\":{\"units\":\"screen\",\"value\":8},\"x\":{\"field\":\"x\"},\"y\":{\"field\":\"y\"}},\"id\":\"df218ed9-103f-4d8b-ad53-c64632cdc4c9\",\"type\":\"Circle\"},{\"attributes\":{\"data_source\":{\"id\":\"60cf0844-16bd-4117-ac26-96073cb95a80\",\"type\":\"ColumnDataSource\"},\"glyph\":{\"id\":\"94ccf32b-5c3d-403f-8e04-43780d7b963c\",\"type\":\"Line\"},\"hover_glyph\":null,\"nonselection_glyph\":{\"id\":\"e0e0458d-5ade-42e8-bbaa-7e08fd13a7d5\",\"type\":\"Line\"},\"selection_glyph\":null},\"id\":\"0455bc73-b2b6-46be-ba61-13f267d52c0d\",\"type\":\"GlyphRenderer\"},{\"attributes\":{\"axis_label\":\"sections\",\"formatter\":{\"id\":\"149881bf-ab1d-40ed-a7b5-d7162dd052b5\",\"type\":\"BasicTickFormatter\"},\"plot\":{\"id\":\"0b8b4b97-7939-42a5-81e8-a7ca2230f1af\",\"subtype\":\"Figure\",\"type\":\"Plot\"},\"ticker\":{\"id\":\"bf75c482-207e-446d-baa4-7d902c2ec1f4\",\"type\":\"BasicTicker\"}},\"id\":\"e444c747-348d-4dd0-832d-a471b634077f\",\"type\":\"LinearAxis\"},{\"attributes\":{\"data_source\":{\"id\":\"7ddc32fc-b011-4d59-bf22-4d94da5e109c\",\"type\":\"ColumnDataSource\"},\"glyph\":{\"id\":\"b141b8a7-1d59-4ea8-b90e-2a1f0716d71b\",\"type\":\"Circle\"},\"hover_glyph\":null,\"nonselection_glyph\":{\"id\":\"493ff99d-ef19-428c-8c48-6c9e335fb026\",\"type\":\"Circle\"},\"selection_glyph\":null},\"id\":\"14d2e41c-9ded-41d2-885d-8fbbfa05f3ee\",\"type\":\"GlyphRenderer\"},{\"attributes\":{\"line_color\":{\"value\":\"red\"},\"x\":{\"field\":\"x\"},\"y\":{\"field\":\"y\"}},\"id\":\"719d46b0-439b-43be-9f78-7d78573e12b3\",\"type\":\"Line\"},{\"attributes\":{},\"id\":\"4d677a69-31df-40ab-b753-962b8c14e901\",\"type\":\"ToolEvents\"},{\"attributes\":{\"fill_alpha\":{\"value\":0.1},\"fill_color\":{\"value\":\"#1f77b4\"},\"line_alpha\":{\"value\":0.1},\"line_color\":{\"value\":\"#1f77b4\"},\"size\":{\"units\":\"screen\",\"value\":6},\"x\":{\"field\":\"x\"},\"y\":{\"field\":\"y\"}},\"id\":\"493ff99d-ef19-428c-8c48-6c9e335fb026\",\"type\":\"Circle\"},{\"attributes\":{\"plot\":{\"id\":\"7a32346f-613b-4e75-8f62-71365b2a8636\",\"subtype\":\"Chart\",\"type\":\"Plot\"}},\"id\":\"f50e690d-7a92-4033-bbfb-6f8befedb65d\",\"type\":\"ResetTool\"},{\"attributes\":{\"fill_alpha\":{\"field\":\"fill_alpha\"},\"fill_color\":{\"field\":\"color\"},\"height\":{\"field\":\"height\",\"units\":\"data\"},\"line_color\":{\"field\":\"line_color\"},\"width\":{\"field\":\"width\",\"units\":\"data\"},\"x\":{\"field\":\"x\"},\"y\":{\"field\":\"y\"}},\"id\":\"b7e19d6d-c161-4291-9ea8-51a79c214d50\",\"type\":\"Rect\"},{\"attributes\":{\"plot\":{\"id\":\"7a32346f-613b-4e75-8f62-71365b2a8636\",\"subtype\":\"Chart\",\"type\":\"Plot\"}},\"id\":\"68296ea6-473c-4a28-b0f4-24d7e4cc7bbb\",\"type\":\"HelpTool\"},{\"attributes\":{\"fill_color\":{\"value\":\"red\"},\"line_color\":{\"value\":\"red\"},\"size\":{\"units\":\"screen\",\"value\":6},\"x\":{\"field\":\"x\"},\"y\":{\"field\":\"y\"}},\"id\":\"b141b8a7-1d59-4ea8-b90e-2a1f0716d71b\",\"type\":\"Circle\"},{\"attributes\":{\"callback\":null,\"column_names\":[\"y\",\"x\"],\"data\":{\"x\":[0.1,0.5,1.0,1.5,2.0,2.5,3.0],\"y\":[0.1,0.5,1.0,1.5,2.0,2.5,3.0]}},\"id\":\"b9d37b02-4383-416b-a933-4ada458b7298\",\"type\":\"ColumnDataSource\"},{\"attributes\":{\"plot\":{\"id\":\"0b8b4b97-7939-42a5-81e8-a7ca2230f1af\",\"subtype\":\"Figure\",\"type\":\"Plot\"},\"ticker\":{\"id\":\"bf75c482-207e-446d-baa4-7d902c2ec1f4\",\"type\":\"BasicTicker\"}},\"id\":\"cb4985cd-cb21-4582-8f08-edbc9e38719a\",\"type\":\"Grid\"},{\"attributes\":{\"callback\":null,\"column_names\":[\"color\",\"y\",\"x\",\"height\",\"line_color\",\"line_alpha\",\"fill_alpha\",\"width\"],\"data\":{\"chart_index\":[{\"index\":0}],\"color\":[\"#f22c40\"],\"fill_alpha\":[0.8],\"height\":[1.0],\"index\":[0],\"line_alpha\":[1.0],\"line_color\":[\"white\"],\"width\":[0.8],\"x\":[\"0\"],\"y\":[0.5]}},\"id\":\"d5ab6c4b-d612-45f3-92e7-c325f68a14f8\",\"type\":\"ColumnDataSource\"},{\"attributes\":{\"plot\":{\"id\":\"0b8b4b97-7939-42a5-81e8-a7ca2230f1af\",\"subtype\":\"Figure\",\"type\":\"Plot\"}},\"id\":\"c625a918-a201-4459-b1a3-a3ba82df7b6e\",\"type\":\"PreviewSaveTool\"},{\"attributes\":{\"callback\":null,\"column_names\":[\"color\",\"y\",\"x\",\"height\",\"line_color\",\"line_alpha\",\"fill_alpha\",\"width\"],\"data\":{\"chart_index\":[{\"index\":1}],\"color\":[\"#f22c40\"],\"fill_alpha\":[0.8],\"height\":[2.0],\"index\":[1],\"line_alpha\":[1.0],\"line_color\":[\"white\"],\"width\":[0.8],\"x\":[\"1\"],\"y\":[1.0]}},\"id\":\"15978491-2ddc-4239-915c-9c074e1ace2b\",\"type\":\"ColumnDataSource\"},{\"attributes\":{},\"id\":\"c931f0fb-c20d-40cf-97e9-3b197e2e88b6\",\"type\":\"BasicTickFormatter\"},{\"attributes\":{\"plot\":{\"id\":\"7a32346f-613b-4e75-8f62-71365b2a8636\",\"subtype\":\"Chart\",\"type\":\"Plot\"}},\"id\":\"104bfdd0-65c4-4f67-9473-de4f4d263748\",\"type\":\"PreviewSaveTool\"},{\"attributes\":{\"fill_alpha\":{\"value\":0.1},\"fill_color\":{\"value\":\"#1f77b4\"},\"line_alpha\":{\"value\":0.1},\"line_color\":{\"value\":\"#1f77b4\"},\"size\":{\"units\":\"screen\",\"value\":8},\"x\":{\"field\":\"x\"},\"y\":{\"field\":\"y\"}},\"id\":\"d0070c7b-7780-49bd-881c-01e4cb485c87\",\"type\":\"Circle\"},{\"attributes\":{\"fill_alpha\":{\"field\":\"fill_alpha\"},\"fill_color\":{\"field\":\"color\"},\"height\":{\"field\":\"height\",\"units\":\"data\"},\"line_color\":{\"field\":\"line_color\"},\"width\":{\"field\":\"width\",\"units\":\"data\"},\"x\":{\"field\":\"x\"},\"y\":{\"field\":\"y\"}},\"id\":\"642bdf64-b3ec-44bc-a1cf-dc60efe564ac\",\"type\":\"Rect\"},{\"attributes\":{\"plot\":{\"id\":\"0b8b4b97-7939-42a5-81e8-a7ca2230f1af\",\"subtype\":\"Figure\",\"type\":\"Plot\"}},\"id\":\"3564c796-3b47-4f6c-9320-340214f1d124\",\"type\":\"PanTool\"},{\"attributes\":{\"callback\":null,\"end\":5.25},\"id\":\"402ba006-d96c-4a40-842c-83a410e0cd48\",\"type\":\"Range1d\"},{\"attributes\":{\"num_minor_ticks\":10},\"id\":\"5fe350c4-18e4-4c21-988b-cd600cd4da14\",\"type\":\"LogTicker\"},{\"attributes\":{\"callback\":null,\"column_names\":[\"y\",\"x\"],\"data\":{\"x\":[0.1,0.5,1.0,1.5,2.0,2.5,3.0],\"y\":[1.023292992280754,1.7782794100389228,10.0,177.82794100389228,10000.0,1778279.410038923,1000000000.0]}},\"id\":\"60cf0844-16bd-4117-ac26-96073cb95a80\",\"type\":\"ColumnDataSource\"},{\"attributes\":{\"data_source\":{\"id\":\"d5ab6c4b-d612-45f3-92e7-c325f68a14f8\",\"type\":\"ColumnDataSource\"},\"glyph\":{\"id\":\"642bdf64-b3ec-44bc-a1cf-dc60efe564ac\",\"type\":\"Rect\"},\"hover_glyph\":null,\"nonselection_glyph\":null,\"selection_glyph\":null},\"id\":\"dab6189a-a044-408c-b5c4-f8f37aebddf3\",\"type\":\"GlyphRenderer\"},{\"attributes\":{\"below\":[{\"id\":\"e444c747-348d-4dd0-832d-a471b634077f\",\"type\":\"LinearAxis\"}],\"left\":[{\"id\":\"19fb5fa9-0d6b-4ff9-9f93-e96335271294\",\"type\":\"LogAxis\"}],\"renderers\":[{\"id\":\"e444c747-348d-4dd0-832d-a471b634077f\",\"type\":\"LinearAxis\"},{\"id\":\"cb4985cd-cb21-4582-8f08-edbc9e38719a\",\"type\":\"Grid\"},{\"id\":\"19fb5fa9-0d6b-4ff9-9f93-e96335271294\",\"type\":\"LogAxis\"},{\"id\":\"09511aca-4d13-410e-adfa-29c95c40298c\",\"type\":\"Grid\"},{\"id\":\"3007e5f6-8c9c-4125-b0ee-0b75f691594a\",\"type\":\"BoxAnnotation\"},{\"id\":\"ea11acac-2045-4393-80e6-5668f936786a\",\"type\":\"Legend\"},{\"id\":\"bea5f84a-db9e-4bf3-acf8-e632f217e274\",\"type\":\"GlyphRenderer\"},{\"id\":\"8af7ff95-441c-43cc-a6b5-5ca49424951e\",\"type\":\"GlyphRenderer\"},{\"id\":\"6dd1951c-3c6f-44a4-979f-6b39f30786cb\",\"type\":\"GlyphRenderer\"},{\"id\":\"18d8c825-e3f2-419f-949b-01374e3c6528\",\"type\":\"GlyphRenderer\"},{\"id\":\"14d2e41c-9ded-41d2-885d-8fbbfa05f3ee\",\"type\":\"GlyphRenderer\"},{\"id\":\"0455bc73-b2b6-46be-ba61-13f267d52c0d\",\"type\":\"GlyphRenderer\"}],\"title\":\"log axis example\",\"tool_events\":{\"id\":\"6998996f-586e-490b-a853-c895c88be3c7\",\"type\":\"ToolEvents\"},\"tools\":[{\"id\":\"3564c796-3b47-4f6c-9320-340214f1d124\",\"type\":\"PanTool\"},{\"id\":\"d695b09f-248e-49cd-8ad3-14eace3b5fdb\",\"type\":\"BoxZoomTool\"},{\"id\":\"9762ef5b-f488-49c7-9d8c-5efeac15b92d\",\"type\":\"ResetTool\"},{\"id\":\"c625a918-a201-4459-b1a3-a3ba82df7b6e\",\"type\":\"PreviewSaveTool\"}],\"x_range\":{\"id\":\"6e1db700-e60b-4633-8138-335c174150d0\",\"type\":\"DataRange1d\"},\"y_mapper_type\":\"log\",\"y_range\":{\"id\":\"01b355cd-4584-4dce-8e4f-2498e65c969c\",\"type\":\"Range1d\"}},\"id\":\"0b8b4b97-7939-42a5-81e8-a7ca2230f1af\",\"subtype\":\"Figure\",\"type\":\"Plot\"},{\"attributes\":{\"dimension\":1,\"plot\":{\"id\":\"7a32346f-613b-4e75-8f62-71365b2a8636\",\"subtype\":\"Chart\",\"type\":\"Plot\"},\"ticker\":{\"id\":\"d1ee7dd7-9293-4a0b-9dd1-dc9c10c0ccad\",\"type\":\"BasicTicker\"}},\"id\":\"976d2214-692b-4996-9dbe-5f0783225533\",\"type\":\"Grid\"},{\"attributes\":{\"legends\":[[\"y=x\",[{\"id\":\"bea5f84a-db9e-4bf3-acf8-e632f217e274\",\"type\":\"GlyphRenderer\"},{\"id\":\"8af7ff95-441c-43cc-a6b5-5ca49424951e\",\"type\":\"GlyphRenderer\"}]],[\"y=x^2\",[{\"id\":\"6dd1951c-3c6f-44a4-979f-6b39f30786cb\",\"type\":\"GlyphRenderer\"}]],[\"y=10^x\",[{\"id\":\"18d8c825-e3f2-419f-949b-01374e3c6528\",\"type\":\"GlyphRenderer\"},{\"id\":\"14d2e41c-9ded-41d2-885d-8fbbfa05f3ee\",\"type\":\"GlyphRenderer\"}]],[\"y=10^x^2\",[{\"id\":\"0455bc73-b2b6-46be-ba61-13f267d52c0d\",\"type\":\"GlyphRenderer\"}]]],\"plot\":{\"id\":\"0b8b4b97-7939-42a5-81e8-a7ca2230f1af\",\"subtype\":\"Figure\",\"type\":\"Plot\"}},\"id\":\"ea11acac-2045-4393-80e6-5668f936786a\",\"type\":\"Legend\"},{\"attributes\":{\"callback\":null,\"column_names\":[\"color\",\"y\",\"x\",\"height\",\"line_color\",\"line_alpha\",\"fill_alpha\",\"width\"],\"data\":{\"chart_index\":[{\"index\":4}],\"color\":[\"#f22c40\"],\"fill_alpha\":[0.8],\"height\":[5.0],\"index\":[4],\"line_alpha\":[1.0],\"line_color\":[\"white\"],\"width\":[0.8],\"x\":[\"4\"],\"y\":[2.5]}},\"id\":\"cc57b54c-c7b0-44ce-8e53-cf85e2a779da\",\"type\":\"ColumnDataSource\"},{\"attributes\":{\"data_source\":{\"id\":\"13c4fb8c-61f6-4bcd-8dc0-3b3963579715\",\"type\":\"ColumnDataSource\"},\"glyph\":{\"id\":\"d1a6d537-1e99-416a-9055-4b63f193ec2e\",\"type\":\"Line\"},\"hover_glyph\":null,\"nonselection_glyph\":{\"id\":\"852014fa-60a3-4d55-8417-910d77a3b332\",\"type\":\"Line\"},\"selection_glyph\":null},\"id\":\"6dd1951c-3c6f-44a4-979f-6b39f30786cb\",\"type\":\"GlyphRenderer\"},{\"attributes\":{\"plot\":{\"id\":\"7a32346f-613b-4e75-8f62-71365b2a8636\",\"subtype\":\"Chart\",\"type\":\"Plot\"}},\"id\":\"580a3338-5ce7-44c0-9f3e-b228007bbdac\",\"type\":\"WheelZoomTool\"},{\"attributes\":{\"data_source\":{\"id\":\"40c60f58-f1e0-4a1d-9de6-fcc61efdc903\",\"type\":\"ColumnDataSource\"},\"glyph\":{\"id\":\"61998efa-c0f3-49ae-93e3-bde8ca2ed967\",\"type\":\"Rect\"},\"hover_glyph\":null,\"nonselection_glyph\":null,\"selection_glyph\":null},\"id\":\"2bd47b5a-d174-492c-b4d3-fc20cde89864\",\"type\":\"GlyphRenderer\"},{\"attributes\":{\"line_color\":{\"value\":\"#1f77b4\"},\"x\":{\"field\":\"x\"},\"y\":{\"field\":\"y\"}},\"id\":\"6c37107d-c1e7-493c-926e-2cf7b1adfe7b\",\"type\":\"Line\"},{\"attributes\":{\"line_alpha\":{\"value\":0.1},\"line_color\":{\"value\":\"#1f77b4\"},\"line_width\":{\"value\":3},\"x\":{\"field\":\"x\"},\"y\":{\"field\":\"y\"}},\"id\":\"852014fa-60a3-4d55-8417-910d77a3b332\",\"type\":\"Line\"},{\"attributes\":{\"line_alpha\":{\"value\":0.1},\"line_color\":{\"value\":\"#1f77b4\"},\"line_dash\":[4,4],\"x\":{\"field\":\"x\"},\"y\":{\"field\":\"y\"}},\"id\":\"e0e0458d-5ade-42e8-bbaa-7e08fd13a7d5\",\"type\":\"Line\"},{\"attributes\":{},\"id\":\"d1ee7dd7-9293-4a0b-9dd1-dc9c10c0ccad\",\"type\":\"BasicTicker\"},{\"attributes\":{\"callback\":null,\"factors\":[\"0\",\"1\",\"2\",\"3\",\"4\"]},\"id\":\"57b2e980-6bc4-4cfb-a7e9-760bdcabdcea\",\"type\":\"FactorRange\"},{\"attributes\":{\"callback\":null,\"column_names\":[\"y\",\"x\"],\"data\":{\"x\":[0.1,0.5,1.0,1.5,2.0,2.5,3.0],\"y\":[1.2589254117941673,3.1622776601683795,10.0,31.622776601683793,100.0,316.22776601683796,1000.0]}},\"id\":\"7ddc32fc-b011-4d59-bf22-4d94da5e109c\",\"type\":\"ColumnDataSource\"},{\"attributes\":{},\"id\":\"7506746d-fdc4-4310-816c-8639ee43a8d5\",\"type\":\"CategoricalTickFormatter\"},{\"attributes\":{\"callback\":null,\"column_names\":[\"x\",\"y\"],\"data\":{\"x\":[0.1,0.5,1.0,1.5,2.0,2.5,3.0],\"y\":[0.010000000000000002,0.25,1.0,2.25,4.0,6.25,9.0]}},\"id\":\"13c4fb8c-61f6-4bcd-8dc0-3b3963579715\",\"type\":\"ColumnDataSource\"},{\"attributes\":{\"data_source\":{\"id\":\"b9d37b02-4383-416b-a933-4ada458b7298\",\"type\":\"ColumnDataSource\"},\"glyph\":{\"id\":\"df218ed9-103f-4d8b-ad53-c64632cdc4c9\",\"type\":\"Circle\"},\"hover_glyph\":null,\"nonselection_glyph\":{\"id\":\"d0070c7b-7780-49bd-881c-01e4cb485c87\",\"type\":\"Circle\"},\"selection_glyph\":null},\"id\":\"8af7ff95-441c-43cc-a6b5-5ca49424951e\",\"type\":\"GlyphRenderer\"},{\"attributes\":{\"data_source\":{\"id\":\"1e0a3f33-84c3-4015-b96c-7b149b4b4fa3\",\"type\":\"ColumnDataSource\"},\"glyph\":{\"id\":\"b7e19d6d-c161-4291-9ea8-51a79c214d50\",\"type\":\"Rect\"},\"hover_glyph\":null,\"nonselection_glyph\":null,\"selection_glyph\":null},\"id\":\"72d0b828-4fd5-412a-b21c-dbdd9d19aaee\",\"type\":\"GlyphRenderer\"},{\"attributes\":{\"callback\":null,\"column_names\":[\"x\",\"y\"],\"data\":{\"x\":[0.1,0.5,1.0,1.5,2.0,2.5,3.0],\"y\":[0.1,0.5,1.0,1.5,2.0,2.5,3.0]}},\"id\":\"6c7ce535-8f10-4ee8-bd5a-e7e7fb66073d\",\"type\":\"ColumnDataSource\"},{\"attributes\":{\"dimension\":1,\"plot\":{\"id\":\"0b8b4b97-7939-42a5-81e8-a7ca2230f1af\",\"subtype\":\"Figure\",\"type\":\"Plot\"},\"ticker\":{\"id\":\"5fe350c4-18e4-4c21-988b-cd600cd4da14\",\"type\":\"LogTicker\"}},\"id\":\"09511aca-4d13-410e-adfa-29c95c40298c\",\"type\":\"Grid\"},{\"attributes\":{\"ticker\":null},\"id\":\"95007ffe-fc77-4520-b625-75a1df503cdb\",\"type\":\"LogTickFormatter\"},{\"attributes\":{\"overlay\":{\"id\":\"66d534dc-2f9a-4fc5-b24d-9301ca64db3f\",\"type\":\"BoxAnnotation\"},\"plot\":{\"id\":\"7a32346f-613b-4e75-8f62-71365b2a8636\",\"subtype\":\"Chart\",\"type\":\"Plot\"}},\"id\":\"9706ed4e-db92-4fb6-a41c-99beff0df901\",\"type\":\"BoxZoomTool\"},{\"attributes\":{\"axis_label\":\"particles\",\"formatter\":{\"id\":\"95007ffe-fc77-4520-b625-75a1df503cdb\",\"type\":\"LogTickFormatter\"},\"plot\":{\"id\":\"0b8b4b97-7939-42a5-81e8-a7ca2230f1af\",\"subtype\":\"Figure\",\"type\":\"Plot\"},\"ticker\":{\"id\":\"5fe350c4-18e4-4c21-988b-cd600cd4da14\",\"type\":\"LogTicker\"}},\"id\":\"19fb5fa9-0d6b-4ff9-9f93-e96335271294\",\"type\":\"LogAxis\"},{\"attributes\":{\"axis_label\":\"values\",\"formatter\":{\"id\":\"c931f0fb-c20d-40cf-97e9-3b197e2e88b6\",\"type\":\"BasicTickFormatter\"},\"plot\":{\"id\":\"7a32346f-613b-4e75-8f62-71365b2a8636\",\"subtype\":\"Chart\",\"type\":\"Plot\"},\"ticker\":{\"id\":\"d1ee7dd7-9293-4a0b-9dd1-dc9c10c0ccad\",\"type\":\"BasicTicker\"}},\"id\":\"41091272-37a5-4792-9de3-227abca79aac\",\"type\":\"LinearAxis\"},{\"attributes\":{},\"id\":\"bf75c482-207e-446d-baa4-7d902c2ec1f4\",\"type\":\"BasicTicker\"},{\"attributes\":{\"callback\":null,\"column_names\":[\"y\",\"x\"],\"data\":{\"x\":[0.1,0.5,1.0,1.5,2.0,2.5,3.0],\"y\":[1.2589254117941673,3.1622776601683795,10.0,31.622776601683793,100.0,316.22776601683796,1000.0]}},\"id\":\"99b84d59-5abb-4a76-9c99-058ed932ae2f\",\"type\":\"ColumnDataSource\"},{\"attributes\":{\"fill_alpha\":{\"field\":\"fill_alpha\"},\"fill_color\":{\"field\":\"color\"},\"height\":{\"field\":\"height\",\"units\":\"data\"},\"line_color\":{\"field\":\"line_color\"},\"width\":{\"field\":\"width\",\"units\":\"data\"},\"x\":{\"field\":\"x\"},\"y\":{\"field\":\"y\"}},\"id\":\"61998efa-c0f3-49ae-93e3-bde8ca2ed967\",\"type\":\"Rect\"},{\"attributes\":{\"callback\":null,\"column_names\":[\"color\",\"y\",\"x\",\"height\",\"line_color\",\"line_alpha\",\"fill_alpha\",\"width\"],\"data\":{\"chart_index\":[{\"index\":2}],\"color\":[\"#f22c40\"],\"fill_alpha\":[0.8],\"height\":[3.0],\"index\":[2],\"line_alpha\":[1.0],\"line_color\":[\"white\"],\"width\":[0.8],\"x\":[\"2\"],\"y\":[1.5]}},\"id\":\"40c60f58-f1e0-4a1d-9de6-fcc61efdc903\",\"type\":\"ColumnDataSource\"},{\"attributes\":{\"fill_alpha\":{\"field\":\"fill_alpha\"},\"fill_color\":{\"field\":\"color\"},\"height\":{\"field\":\"height\",\"units\":\"data\"},\"line_color\":{\"field\":\"line_color\"},\"width\":{\"field\":\"width\",\"units\":\"data\"},\"x\":{\"field\":\"x\"},\"y\":{\"field\":\"y\"}},\"id\":\"642ae662-5456-41ab-82db-689806dca062\",\"type\":\"Rect\"},{\"attributes\":{\"data_source\":{\"id\":\"cc57b54c-c7b0-44ce-8e53-cf85e2a779da\",\"type\":\"ColumnDataSource\"},\"glyph\":{\"id\":\"642ae662-5456-41ab-82db-689806dca062\",\"type\":\"Rect\"},\"hover_glyph\":null,\"nonselection_glyph\":null,\"selection_glyph\":null},\"id\":\"7b0121af-9a52-4ae4-9c1d-4b5f5463e428\",\"type\":\"GlyphRenderer\"},{\"attributes\":{},\"id\":\"149881bf-ab1d-40ed-a7b5-d7162dd052b5\",\"type\":\"BasicTickFormatter\"},{\"attributes\":{\"data_source\":{\"id\":\"99b84d59-5abb-4a76-9c99-058ed932ae2f\",\"type\":\"ColumnDataSource\"},\"glyph\":{\"id\":\"719d46b0-439b-43be-9f78-7d78573e12b3\",\"type\":\"Line\"},\"hover_glyph\":null,\"nonselection_glyph\":{\"id\":\"5e364124-1c1c-4854-b5f4-7312d312f881\",\"type\":\"Line\"},\"selection_glyph\":null},\"id\":\"18d8c825-e3f2-419f-949b-01374e3c6528\",\"type\":\"GlyphRenderer\"},{\"attributes\":{\"bottom_units\":\"screen\",\"fill_alpha\":{\"value\":0.5},\"fill_color\":{\"value\":\"lightgrey\"},\"left_units\":\"screen\",\"level\":\"overlay\",\"line_alpha\":{\"value\":1.0},\"line_color\":{\"value\":\"black\"},\"line_dash\":[4,4],\"line_width\":{\"value\":2},\"plot\":null,\"render_mode\":\"css\",\"right_units\":\"screen\",\"top_units\":\"screen\"},\"id\":\"3007e5f6-8c9c-4125-b0ee-0b75f691594a\",\"type\":\"BoxAnnotation\"}],\"root_ids\":[\"7a32346f-613b-4e75-8f62-71365b2a8636\",\"0b8b4b97-7939-42a5-81e8-a7ca2230f1af\"]},\"title\":\"Bokeh Application\",\"version\":\"0.11.1\"}};\n",
       "            var render_items = [{\"docid\":\"665c50b1-88ab-41ad-ba86-42938d70a7ae\",\"elementid\":\"8e79432e-780b-4662-8467-76ce24a7c72d\",\"modelid\":\"0b8b4b97-7939-42a5-81e8-a7ca2230f1af\",\"notebook_comms_target\":\"1d6c690f-8659-4708-b0fb-438b701b1553\"}];\n",
       "            \n",
       "            Bokeh.embed.embed_items(docs_json, render_items);\n",
       "        });\n",
       "      },\n",
       "      function(Bokeh) {\n",
       "      }\n",
       "    ];\n",
       "  \n",
       "    function run_inline_js() {\n",
       "      for (var i = 0; i < inline_js.length; i++) {\n",
       "        inline_js[i](window.Bokeh);\n",
       "      }\n",
       "    }\n",
       "  \n",
       "    if (window._bokeh_is_loading === 0) {\n",
       "      console.log(\"Bokeh: BokehJS loaded, going straight to plotting\");\n",
       "      run_inline_js();\n",
       "    } else {\n",
       "      load_libs(js_urls, function() {\n",
       "        console.log(\"Bokeh: BokehJS plotting callback run at\", now());\n",
       "        run_inline_js();\n",
       "      });\n",
       "    }\n",
       "  }(this));\n",
       "</script>"
      ]
     },
     "metadata": {},
     "output_type": "display_data"
    },
    {
     "data": {
      "text/html": [
       "<p><code>&lt;Bokeh Notebook handle for <strong>In[5]</strong>&gt;</code></p>"
      ],
      "text/plain": [
       "<bokeh.io._CommsHandle at 0x2292bbf4400>"
      ]
     },
     "execution_count": 5,
     "metadata": {},
     "output_type": "execute_result"
    }
   ],
   "source": [
    "from bokeh.plotting import figure\n",
    "\n",
    "# prepare some data\n",
    "x = [0.1, 0.5, 1.0, 1.5, 2.0, 2.5, 3.0]\n",
    "y0 = [i**2 for i in x]\n",
    "y1 = [10**i for i in x]\n",
    "y2 = [10**(i**2) for i in x]\n",
    "\n",
    "# output to static HTML file\n",
    "output_notebook()\n",
    "\n",
    "# create a new plot\n",
    "p = figure(\n",
    "   tools=\"pan,box_zoom,reset,save\",\n",
    "   y_axis_type=\"log\", y_range=[0.001, 10**11], title=\"log axis example\",\n",
    "   x_axis_label='sections', y_axis_label='particles'\n",
    ")\n",
    "\n",
    "# add some renderers\n",
    "p.line(x, x, legend=\"y=x\")\n",
    "p.circle(x, x, legend=\"y=x\", fill_color=\"white\", size=8)\n",
    "p.line(x, y0, legend=\"y=x^2\", line_width=3)\n",
    "p.line(x, y1, legend=\"y=10^x\", line_color=\"red\")\n",
    "p.circle(x, y1, legend=\"y=10^x\", fill_color=\"red\", line_color=\"red\", size=6)\n",
    "p.line(x, y2, legend=\"y=10^x^2\", line_color=\"orange\", line_dash=\"4 4\")\n",
    "\n",
    "# show the results\n",
    "show(p)"
   ]
  },
  {
   "cell_type": "code",
   "execution_count": null,
   "metadata": {
    "collapsed": true
   },
   "outputs": [],
   "source": []
  }
 ],
 "metadata": {
  "kernelspec": {
   "display_name": "Python 3",
   "language": "python",
   "name": "python3"
  },
  "language_info": {
   "codemirror_mode": {
    "name": "ipython",
    "version": 3
   },
   "file_extension": ".py",
   "mimetype": "text/x-python",
   "name": "python",
   "nbconvert_exporter": "python",
   "pygments_lexer": "ipython3",
   "version": "3.5.1"
  }
 },
 "nbformat": 4,
 "nbformat_minor": 0
}
