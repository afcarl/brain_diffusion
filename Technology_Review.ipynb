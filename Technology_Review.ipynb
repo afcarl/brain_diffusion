{
 "cells": [
  {
   "cell_type": "markdown",
   "metadata": {},
   "source": [
    "## Technology Review: Bokeh"
   ]
  },
  {
   "cell_type": "markdown",
   "metadata": {},
   "source": [
    "A major portion of our project will involve plots, both static and interactive, and animations.\n",
    "- interactive histograms of Deff with toggled parameters\n",
    "- visualize NP movement in time, with selection of particles for display\n",
    "- create mini movies that simulate original confocal microscopy videos\n",
    "- future expansion of project to incorporate in vivo brain tissue background (neurons, glia, ECS, etc)\n",
    "\n",
    "Currently, our knowledge of data visualization is limited to matplotlib. \n",
    "- Matplotlib lacks the level of sophistication we need for the animated displays\n",
    "\n",
    "Bokeh is a user-friendly visualization package that creates elegant interactive plots with relatively few lines of code.  "
   ]
  },
  {
   "cell_type": "markdown",
   "metadata": {},
   "source": [
    "##  Bokeh Levels of Complexity"
   ]
  },
  {
   "cell_type": "markdown",
   "metadata": {},
   "source": [
    "Bokeh has three levels of complexity from simple and low control to more difficult and high control: charts, plotting and modeling.  With charts, you can quickly churn out complex statistical plots with just a few lines of code.  Models lets you control nearly every aspect of the plots and is more for developers.  Plotting is a happy medium.\n",
    "\n",
    "The scope of this tech review will be limited to charts and plotting.\n",
    "\n",
    "Below is an example of using charts:"
   ]
  },
  {
   "cell_type": "code",
   "execution_count": 1,
   "metadata": {
    "collapsed": true
   },
   "outputs": [],
   "source": [
    "# Import library\n",
    "from bokeh.charts import Bar, output_notebook, show #use output_notebook to visualize it in notebook"
   ]
  },
  {
   "cell_type": "code",
   "execution_count": 2,
   "metadata": {
    "collapsed": true
   },
   "outputs": [],
   "source": [
    "# you can use output_file as well to have the chart open up in a new window"
   ]
  },
  {
   "cell_type": "code",
   "execution_count": 3,
   "metadata": {
    "collapsed": true
   },
   "outputs": [],
   "source": [
    "# prepare data (dummy data)\n",
    "data = {\"y\": [1, 2, 3, 4, 5]}"
   ]
  },
  {
   "cell_type": "code",
   "execution_count": 4,
   "metadata": {
    "collapsed": false
   },
   "outputs": [
    {
     "data": {
      "text/html": [
       "\n",
       "    <div class=\"bk-banner\">\n",
       "        <a href=\"http://bokeh.pydata.org\" target=\"_blank\" class=\"bk-logo bk-logo-small bk-logo-notebook\"></a>\n",
       "        <span id=\"ea0eec05-b282-4b2b-8998-7d144b805558\">Loading BokehJS ...</span>\n",
       "    </div>"
      ]
     },
     "metadata": {},
     "output_type": "display_data"
    },
    {
     "data": {
      "application/javascript": [
       "\n",
       "(function(global) {\n",
       "  function now() {\n",
       "    return new Date();\n",
       "  }\n",
       "\n",
       "  if (typeof (window._bokeh_onload_callbacks) === \"undefined\") {\n",
       "    window._bokeh_onload_callbacks = [];\n",
       "  }\n",
       "\n",
       "  function run_callbacks() {\n",
       "    window._bokeh_onload_callbacks.forEach(function(callback) { callback() });\n",
       "    delete window._bokeh_onload_callbacks\n",
       "    console.info(\"Bokeh: all callbacks have finished\");\n",
       "  }\n",
       "\n",
       "  function load_libs(js_urls, callback) {\n",
       "    window._bokeh_onload_callbacks.push(callback);\n",
       "    if (window._bokeh_is_loading > 0) {\n",
       "      console.log(\"Bokeh: BokehJS is being loaded, scheduling callback at\", now());\n",
       "      return null;\n",
       "    }\n",
       "    if (js_urls == null || js_urls.length === 0) {\n",
       "      run_callbacks();\n",
       "      return null;\n",
       "    }\n",
       "    console.log(\"Bokeh: BokehJS not loaded, scheduling load and callback at\", now());\n",
       "    window._bokeh_is_loading = js_urls.length;\n",
       "    for (var i = 0; i < js_urls.length; i++) {\n",
       "      var url = js_urls[i];\n",
       "      var s = document.createElement('script');\n",
       "      s.src = url;\n",
       "      s.async = false;\n",
       "      s.onreadystatechange = s.onload = function() {\n",
       "        window._bokeh_is_loading--;\n",
       "        if (window._bokeh_is_loading === 0) {\n",
       "          console.log(\"Bokeh: all BokehJS libraries loaded\");\n",
       "          run_callbacks()\n",
       "        }\n",
       "      };\n",
       "      s.onerror = function() {\n",
       "        console.warn(\"failed to load library \" + url);\n",
       "      };\n",
       "      console.log(\"Bokeh: injecting script tag for BokehJS library: \", url);\n",
       "      document.getElementsByTagName(\"head\")[0].appendChild(s);\n",
       "    }\n",
       "  };\n",
       "\n",
       "  var js_urls = ['https://cdn.pydata.org/bokeh/release/bokeh-0.11.1.min.js', 'https://cdn.pydata.org/bokeh/release/bokeh-widgets-0.11.1.min.js', 'https://cdn.pydata.org/bokeh/release/bokeh-compiler-0.11.1.min.js'];\n",
       "\n",
       "  var inline_js = [\n",
       "    function(Bokeh) {\n",
       "      Bokeh.set_log_level(\"info\");\n",
       "    },\n",
       "    \n",
       "    function(Bokeh) {\n",
       "      Bokeh.$(\"#ea0eec05-b282-4b2b-8998-7d144b805558\").text(\"BokehJS successfully loaded\");\n",
       "    },\n",
       "    function(Bokeh) {\n",
       "      console.log(\"Bokeh: injecting CSS: https://cdn.pydata.org/bokeh/release/bokeh-0.11.1.min.css\");\n",
       "      Bokeh.embed.inject_css(\"https://cdn.pydata.org/bokeh/release/bokeh-0.11.1.min.css\");\n",
       "      console.log(\"Bokeh: injecting CSS: https://cdn.pydata.org/bokeh/release/bokeh-widgets-0.11.1.min.css\");\n",
       "      Bokeh.embed.inject_css(\"https://cdn.pydata.org/bokeh/release/bokeh-widgets-0.11.1.min.css\");\n",
       "    }\n",
       "  ];\n",
       "\n",
       "  function run_inline_js() {\n",
       "    for (var i = 0; i < inline_js.length; i++) {\n",
       "      inline_js[i](window.Bokeh);\n",
       "    }\n",
       "  }\n",
       "\n",
       "  if (window._bokeh_is_loading === 0) {\n",
       "    console.log(\"Bokeh: BokehJS loaded, going straight to plotting\");\n",
       "    run_inline_js();\n",
       "  } else {\n",
       "    load_libs(js_urls, function() {\n",
       "      console.log(\"Bokeh: BokehJS plotting callback run at\", now());\n",
       "      run_inline_js();\n",
       "    });\n",
       "  }\n",
       "}(this));"
      ]
     },
     "metadata": {},
     "output_type": "display_data"
    }
   ],
   "source": [
    "# Output to Line.HTML\n",
    "output_notebook() #put output_notebook() for notebook"
   ]
  },
  {
   "cell_type": "code",
   "execution_count": 5,
   "metadata": {
    "collapsed": false
   },
   "outputs": [
    {
     "data": {
      "text/html": [
       "\n",
       "\n",
       "    <div class=\"plotdiv\" id=\"1f520fb6-d573-4c53-8d5e-8e6f35209163\"></div>\n",
       "<script type=\"text/javascript\">\n",
       "  \n",
       "  (function(global) {\n",
       "    function now() {\n",
       "      return new Date();\n",
       "    }\n",
       "  \n",
       "    if (typeof (window._bokeh_onload_callbacks) === \"undefined\") {\n",
       "      window._bokeh_onload_callbacks = [];\n",
       "    }\n",
       "  \n",
       "    function run_callbacks() {\n",
       "      window._bokeh_onload_callbacks.forEach(function(callback) { callback() });\n",
       "      delete window._bokeh_onload_callbacks\n",
       "      console.info(\"Bokeh: all callbacks have finished\");\n",
       "    }\n",
       "  \n",
       "    function load_libs(js_urls, callback) {\n",
       "      window._bokeh_onload_callbacks.push(callback);\n",
       "      if (window._bokeh_is_loading > 0) {\n",
       "        console.log(\"Bokeh: BokehJS is being loaded, scheduling callback at\", now());\n",
       "        return null;\n",
       "      }\n",
       "      if (js_urls == null || js_urls.length === 0) {\n",
       "        run_callbacks();\n",
       "        return null;\n",
       "      }\n",
       "      console.log(\"Bokeh: BokehJS not loaded, scheduling load and callback at\", now());\n",
       "      window._bokeh_is_loading = js_urls.length;\n",
       "      for (var i = 0; i < js_urls.length; i++) {\n",
       "        var url = js_urls[i];\n",
       "        var s = document.createElement('script');\n",
       "        s.src = url;\n",
       "        s.async = false;\n",
       "        s.onreadystatechange = s.onload = function() {\n",
       "          window._bokeh_is_loading--;\n",
       "          if (window._bokeh_is_loading === 0) {\n",
       "            console.log(\"Bokeh: all BokehJS libraries loaded\");\n",
       "            run_callbacks()\n",
       "          }\n",
       "        };\n",
       "        s.onerror = function() {\n",
       "          console.warn(\"failed to load library \" + url);\n",
       "        };\n",
       "        console.log(\"Bokeh: injecting script tag for BokehJS library: \", url);\n",
       "        document.getElementsByTagName(\"head\")[0].appendChild(s);\n",
       "      }\n",
       "    };var element = document.getElementById(\"1f520fb6-d573-4c53-8d5e-8e6f35209163\");\n",
       "    if (element == null) {\n",
       "      console.log(\"Bokeh: ERROR: autoload.js configured with elementid '1f520fb6-d573-4c53-8d5e-8e6f35209163' but no matching script tag was found. \")\n",
       "      return false;\n",
       "    }\n",
       "  \n",
       "    var js_urls = [];\n",
       "  \n",
       "    var inline_js = [\n",
       "      function(Bokeh) {\n",
       "        Bokeh.$(function() {\n",
       "            var docs_json = {\"de59b67f-a07c-4153-8f7b-6d95de2f031f\":{\"roots\":{\"references\":[{\"attributes\":{\"bottom_units\":\"screen\",\"fill_alpha\":{\"value\":0.5},\"fill_color\":{\"value\":\"lightgrey\"},\"left_units\":\"screen\",\"level\":\"overlay\",\"line_alpha\":{\"value\":1.0},\"line_color\":{\"value\":\"black\"},\"line_dash\":[4,4],\"line_width\":{\"value\":2},\"plot\":null,\"render_mode\":\"css\",\"right_units\":\"screen\",\"top_units\":\"screen\"},\"id\":\"cb3c0ad1-6c1f-4598-b69d-6197a952dedb\",\"type\":\"BoxAnnotation\"},{\"attributes\":{\"data_source\":{\"id\":\"30501e39-b9c2-4223-a053-e23eebb2e7bf\",\"type\":\"ColumnDataSource\"},\"glyph\":{\"id\":\"7dee5d01-97d1-4e60-9e1d-c4ec8f1d6fe6\",\"type\":\"Rect\"},\"hover_glyph\":null,\"nonselection_glyph\":null,\"selection_glyph\":null},\"id\":\"cdceb86a-a089-4121-9400-088da7453cb7\",\"type\":\"GlyphRenderer\"},{\"attributes\":{},\"id\":\"423a27ee-a0f6-4cc5-a4e8-20fc23c062d3\",\"type\":\"ToolEvents\"},{\"attributes\":{\"callback\":null,\"column_names\":[\"width\",\"line_alpha\",\"y\",\"fill_alpha\",\"x\",\"height\",\"line_color\",\"color\"],\"data\":{\"chart_index\":[{\"index\":2}],\"color\":[\"#f22c40\"],\"fill_alpha\":[0.8],\"height\":[3.0],\"index\":[2],\"line_alpha\":[1.0],\"line_color\":[\"white\"],\"width\":[0.8],\"x\":[\"2\"],\"y\":[1.5]}},\"id\":\"30501e39-b9c2-4223-a053-e23eebb2e7bf\",\"type\":\"ColumnDataSource\"},{\"attributes\":{},\"id\":\"34a86c0a-9e51-42a3-9ea9-28859e908908\",\"type\":\"BasicTicker\"},{\"attributes\":{\"formatter\":{\"id\":\"6eb1fb77-577f-45b5-9bcb-dafccad4dbcc\",\"type\":\"CategoricalTickFormatter\"},\"major_label_orientation\":0.7853981633974483,\"plot\":{\"id\":\"28fb95f8-71cc-4c75-842b-48fdbe64c28d\",\"subtype\":\"Chart\",\"type\":\"Plot\"},\"ticker\":{\"id\":\"f77a994d-46c1-43be-bb0e-a36c47751e83\",\"type\":\"CategoricalTicker\"}},\"id\":\"878b1cd1-d958-4a00-bd4a-54b9cb116df2\",\"type\":\"CategoricalAxis\"},{\"attributes\":{\"callback\":null,\"column_names\":[\"width\",\"line_alpha\",\"y\",\"fill_alpha\",\"x\",\"height\",\"line_color\",\"color\"],\"data\":{\"chart_index\":[{\"index\":0}],\"color\":[\"#f22c40\"],\"fill_alpha\":[0.8],\"height\":[1.0],\"index\":[0],\"line_alpha\":[1.0],\"line_color\":[\"white\"],\"width\":[0.8],\"x\":[\"0\"],\"y\":[0.5]}},\"id\":\"3b557619-e952-4722-bfdd-112c09d1f697\",\"type\":\"ColumnDataSource\"},{\"attributes\":{\"axis_label\":\"values\",\"formatter\":{\"id\":\"c061ef40-2569-4259-89d4-39f9837c0626\",\"type\":\"BasicTickFormatter\"},\"plot\":{\"id\":\"28fb95f8-71cc-4c75-842b-48fdbe64c28d\",\"subtype\":\"Chart\",\"type\":\"Plot\"},\"ticker\":{\"id\":\"34a86c0a-9e51-42a3-9ea9-28859e908908\",\"type\":\"BasicTicker\"}},\"id\":\"cf9299f5-efdd-4b9c-afee-9a289ae485ab\",\"type\":\"LinearAxis\"},{\"attributes\":{\"callback\":null,\"end\":5.25},\"id\":\"30291235-d096-4d62-bb96-697666930726\",\"type\":\"Range1d\"},{\"attributes\":{\"data_source\":{\"id\":\"bb55f143-cf85-4f49-8c7e-c983eeddd6f1\",\"type\":\"ColumnDataSource\"},\"glyph\":{\"id\":\"c3f424b3-9c05-4066-8a9b-64dba48d5ceb\",\"type\":\"Rect\"},\"hover_glyph\":null,\"nonselection_glyph\":null,\"selection_glyph\":null},\"id\":\"62126daa-c782-432d-8750-65e051c735dc\",\"type\":\"GlyphRenderer\"},{\"attributes\":{\"plot\":{\"id\":\"28fb95f8-71cc-4c75-842b-48fdbe64c28d\",\"subtype\":\"Chart\",\"type\":\"Plot\"}},\"id\":\"7b1b580e-6670-4a5d-88ef-d59df68c8e35\",\"type\":\"WheelZoomTool\"},{\"attributes\":{\"data_source\":{\"id\":\"d29d62c8-283c-48cb-adb1-7780883eae67\",\"type\":\"ColumnDataSource\"},\"glyph\":{\"id\":\"b9be7c4e-39ee-4045-ac79-55f14b17ee34\",\"type\":\"Rect\"},\"hover_glyph\":null,\"nonselection_glyph\":null,\"selection_glyph\":null},\"id\":\"daa14e8e-eba6-45b1-9531-45b725fdfa6d\",\"type\":\"GlyphRenderer\"},{\"attributes\":{\"fill_alpha\":{\"field\":\"fill_alpha\"},\"fill_color\":{\"field\":\"color\"},\"height\":{\"field\":\"height\",\"units\":\"data\"},\"line_color\":{\"field\":\"line_color\"},\"width\":{\"field\":\"width\",\"units\":\"data\"},\"x\":{\"field\":\"x\"},\"y\":{\"field\":\"y\"}},\"id\":\"9a7f9944-e750-42be-9c70-92abac390752\",\"type\":\"Rect\"},{\"attributes\":{\"data_source\":{\"id\":\"3b557619-e952-4722-bfdd-112c09d1f697\",\"type\":\"ColumnDataSource\"},\"glyph\":{\"id\":\"0ecc952e-8d80-44a3-9837-91f6fdc1f2c7\",\"type\":\"Rect\"},\"hover_glyph\":null,\"nonselection_glyph\":null,\"selection_glyph\":null},\"id\":\"12e83b4e-8d26-467f-9abb-fba70776501f\",\"type\":\"GlyphRenderer\"},{\"attributes\":{\"callback\":null,\"factors\":[\"0\",\"1\",\"2\",\"3\",\"4\"]},\"id\":\"d4e43819-89bd-47bd-abcc-a9aa16039c0e\",\"type\":\"FactorRange\"},{\"attributes\":{},\"id\":\"c061ef40-2569-4259-89d4-39f9837c0626\",\"type\":\"BasicTickFormatter\"},{\"attributes\":{\"fill_alpha\":{\"field\":\"fill_alpha\"},\"fill_color\":{\"field\":\"color\"},\"height\":{\"field\":\"height\",\"units\":\"data\"},\"line_color\":{\"field\":\"line_color\"},\"width\":{\"field\":\"width\",\"units\":\"data\"},\"x\":{\"field\":\"x\"},\"y\":{\"field\":\"y\"}},\"id\":\"7dee5d01-97d1-4e60-9e1d-c4ec8f1d6fe6\",\"type\":\"Rect\"},{\"attributes\":{\"plot\":{\"id\":\"28fb95f8-71cc-4c75-842b-48fdbe64c28d\",\"subtype\":\"Chart\",\"type\":\"Plot\"}},\"id\":\"87ffc88e-eeb8-45f7-a163-d209e26a4c12\",\"type\":\"ResizeTool\"},{\"attributes\":{\"fill_alpha\":{\"field\":\"fill_alpha\"},\"fill_color\":{\"field\":\"color\"},\"height\":{\"field\":\"height\",\"units\":\"data\"},\"line_color\":{\"field\":\"line_color\"},\"width\":{\"field\":\"width\",\"units\":\"data\"},\"x\":{\"field\":\"x\"},\"y\":{\"field\":\"y\"}},\"id\":\"c3f424b3-9c05-4066-8a9b-64dba48d5ceb\",\"type\":\"Rect\"},{\"attributes\":{\"callback\":null,\"column_names\":[\"width\",\"line_alpha\",\"y\",\"fill_alpha\",\"x\",\"height\",\"line_color\",\"color\"],\"data\":{\"chart_index\":[{\"index\":3}],\"color\":[\"#f22c40\"],\"fill_alpha\":[0.8],\"height\":[4.0],\"index\":[3],\"line_alpha\":[1.0],\"line_color\":[\"white\"],\"width\":[0.8],\"x\":[\"3\"],\"y\":[2.0]}},\"id\":\"d29d62c8-283c-48cb-adb1-7780883eae67\",\"type\":\"ColumnDataSource\"},{\"attributes\":{\"fill_alpha\":{\"field\":\"fill_alpha\"},\"fill_color\":{\"field\":\"color\"},\"height\":{\"field\":\"height\",\"units\":\"data\"},\"line_color\":{\"field\":\"line_color\"},\"width\":{\"field\":\"width\",\"units\":\"data\"},\"x\":{\"field\":\"x\"},\"y\":{\"field\":\"y\"}},\"id\":\"0ecc952e-8d80-44a3-9837-91f6fdc1f2c7\",\"type\":\"Rect\"},{\"attributes\":{\"plot\":{\"id\":\"28fb95f8-71cc-4c75-842b-48fdbe64c28d\",\"subtype\":\"Chart\",\"type\":\"Plot\"}},\"id\":\"0af36999-cf79-4a31-b9ff-ed17628de12b\",\"type\":\"PanTool\"},{\"attributes\":{\"data_source\":{\"id\":\"4a58ebcd-ebd9-4992-95de-6957b8ac7655\",\"type\":\"ColumnDataSource\"},\"glyph\":{\"id\":\"9a7f9944-e750-42be-9c70-92abac390752\",\"type\":\"Rect\"},\"hover_glyph\":null,\"nonselection_glyph\":null,\"selection_glyph\":null},\"id\":\"d9a757be-4429-4cba-aa31-84c887da75a4\",\"type\":\"GlyphRenderer\"},{\"attributes\":{\"overlay\":{\"id\":\"cb3c0ad1-6c1f-4598-b69d-6197a952dedb\",\"type\":\"BoxAnnotation\"},\"plot\":{\"id\":\"28fb95f8-71cc-4c75-842b-48fdbe64c28d\",\"subtype\":\"Chart\",\"type\":\"Plot\"}},\"id\":\"eb40476c-5b5a-4235-9089-88d548305faf\",\"type\":\"BoxZoomTool\"},{\"attributes\":{\"dimension\":1,\"plot\":{\"id\":\"28fb95f8-71cc-4c75-842b-48fdbe64c28d\",\"subtype\":\"Chart\",\"type\":\"Plot\"},\"ticker\":{\"id\":\"34a86c0a-9e51-42a3-9ea9-28859e908908\",\"type\":\"BasicTicker\"}},\"id\":\"ce935794-d4fe-4da0-bd71-38355d507b16\",\"type\":\"Grid\"},{\"attributes\":{},\"id\":\"6eb1fb77-577f-45b5-9bcb-dafccad4dbcc\",\"type\":\"CategoricalTickFormatter\"},{\"attributes\":{\"fill_alpha\":{\"field\":\"fill_alpha\"},\"fill_color\":{\"field\":\"color\"},\"height\":{\"field\":\"height\",\"units\":\"data\"},\"line_color\":{\"field\":\"line_color\"},\"width\":{\"field\":\"width\",\"units\":\"data\"},\"x\":{\"field\":\"x\"},\"y\":{\"field\":\"y\"}},\"id\":\"b9be7c4e-39ee-4045-ac79-55f14b17ee34\",\"type\":\"Rect\"},{\"attributes\":{\"below\":[{\"id\":\"878b1cd1-d958-4a00-bd4a-54b9cb116df2\",\"type\":\"CategoricalAxis\"}],\"left\":[{\"id\":\"cf9299f5-efdd-4b9c-afee-9a289ae485ab\",\"type\":\"LinearAxis\"}],\"legend\":null,\"plot_height\":400,\"plot_width\":400,\"renderers\":[{\"id\":\"cb3c0ad1-6c1f-4598-b69d-6197a952dedb\",\"type\":\"BoxAnnotation\"},{\"id\":\"12e83b4e-8d26-467f-9abb-fba70776501f\",\"type\":\"GlyphRenderer\"},{\"id\":\"62126daa-c782-432d-8750-65e051c735dc\",\"type\":\"GlyphRenderer\"},{\"id\":\"cdceb86a-a089-4121-9400-088da7453cb7\",\"type\":\"GlyphRenderer\"},{\"id\":\"daa14e8e-eba6-45b1-9531-45b725fdfa6d\",\"type\":\"GlyphRenderer\"},{\"id\":\"d9a757be-4429-4cba-aa31-84c887da75a4\",\"type\":\"GlyphRenderer\"},{\"id\":\"878b1cd1-d958-4a00-bd4a-54b9cb116df2\",\"type\":\"CategoricalAxis\"},{\"id\":\"cf9299f5-efdd-4b9c-afee-9a289ae485ab\",\"type\":\"LinearAxis\"},{\"id\":\"ce935794-d4fe-4da0-bd71-38355d507b16\",\"type\":\"Grid\"}],\"title\":\"Line Chart Example\",\"title_text_font_size\":{\"value\":\"14pt\"},\"tool_events\":{\"id\":\"423a27ee-a0f6-4cc5-a4e8-20fc23c062d3\",\"type\":\"ToolEvents\"},\"tools\":[{\"id\":\"0af36999-cf79-4a31-b9ff-ed17628de12b\",\"type\":\"PanTool\"},{\"id\":\"7b1b580e-6670-4a5d-88ef-d59df68c8e35\",\"type\":\"WheelZoomTool\"},{\"id\":\"eb40476c-5b5a-4235-9089-88d548305faf\",\"type\":\"BoxZoomTool\"},{\"id\":\"32d67d3a-4c1f-4983-a771-8ecafc43ee9b\",\"type\":\"PreviewSaveTool\"},{\"id\":\"87ffc88e-eeb8-45f7-a163-d209e26a4c12\",\"type\":\"ResizeTool\"},{\"id\":\"4fe9f9fa-6dbf-4864-8125-6eeb4cc7195f\",\"type\":\"ResetTool\"},{\"id\":\"ef9d0f6a-deb3-4d30-9ffb-dc2f28e76449\",\"type\":\"HelpTool\"}],\"x_mapper_type\":\"auto\",\"x_range\":{\"id\":\"d4e43819-89bd-47bd-abcc-a9aa16039c0e\",\"type\":\"FactorRange\"},\"xgrid\":false,\"xscale\":\"auto\",\"y_mapper_type\":\"auto\",\"y_range\":{\"id\":\"30291235-d096-4d62-bb96-697666930726\",\"type\":\"Range1d\"},\"yscale\":\"auto\"},\"id\":\"28fb95f8-71cc-4c75-842b-48fdbe64c28d\",\"subtype\":\"Chart\",\"type\":\"Plot\"},{\"attributes\":{\"plot\":{\"id\":\"28fb95f8-71cc-4c75-842b-48fdbe64c28d\",\"subtype\":\"Chart\",\"type\":\"Plot\"}},\"id\":\"4fe9f9fa-6dbf-4864-8125-6eeb4cc7195f\",\"type\":\"ResetTool\"},{\"attributes\":{},\"id\":\"f77a994d-46c1-43be-bb0e-a36c47751e83\",\"type\":\"CategoricalTicker\"},{\"attributes\":{\"callback\":null,\"column_names\":[\"width\",\"line_alpha\",\"y\",\"fill_alpha\",\"x\",\"height\",\"line_color\",\"color\"],\"data\":{\"chart_index\":[{\"index\":4}],\"color\":[\"#f22c40\"],\"fill_alpha\":[0.8],\"height\":[5.0],\"index\":[4],\"line_alpha\":[1.0],\"line_color\":[\"white\"],\"width\":[0.8],\"x\":[\"4\"],\"y\":[2.5]}},\"id\":\"4a58ebcd-ebd9-4992-95de-6957b8ac7655\",\"type\":\"ColumnDataSource\"},{\"attributes\":{\"plot\":{\"id\":\"28fb95f8-71cc-4c75-842b-48fdbe64c28d\",\"subtype\":\"Chart\",\"type\":\"Plot\"}},\"id\":\"32d67d3a-4c1f-4983-a771-8ecafc43ee9b\",\"type\":\"PreviewSaveTool\"},{\"attributes\":{\"callback\":null,\"column_names\":[\"width\",\"line_alpha\",\"y\",\"fill_alpha\",\"x\",\"height\",\"line_color\",\"color\"],\"data\":{\"chart_index\":[{\"index\":1}],\"color\":[\"#f22c40\"],\"fill_alpha\":[0.8],\"height\":[2.0],\"index\":[1],\"line_alpha\":[1.0],\"line_color\":[\"white\"],\"width\":[0.8],\"x\":[\"1\"],\"y\":[1.0]}},\"id\":\"bb55f143-cf85-4f49-8c7e-c983eeddd6f1\",\"type\":\"ColumnDataSource\"},{\"attributes\":{\"plot\":{\"id\":\"28fb95f8-71cc-4c75-842b-48fdbe64c28d\",\"subtype\":\"Chart\",\"type\":\"Plot\"}},\"id\":\"ef9d0f6a-deb3-4d30-9ffb-dc2f28e76449\",\"type\":\"HelpTool\"}],\"root_ids\":[\"28fb95f8-71cc-4c75-842b-48fdbe64c28d\"]},\"title\":\"Bokeh Application\",\"version\":\"0.11.1\"}};\n",
       "            var render_items = [{\"docid\":\"de59b67f-a07c-4153-8f7b-6d95de2f031f\",\"elementid\":\"1f520fb6-d573-4c53-8d5e-8e6f35209163\",\"modelid\":\"28fb95f8-71cc-4c75-842b-48fdbe64c28d\",\"notebook_comms_target\":\"c01bbd08-ea90-4b6b-8d99-1a482fcf2e32\"}];\n",
       "            \n",
       "            Bokeh.embed.embed_items(docs_json, render_items);\n",
       "        });\n",
       "      },\n",
       "      function(Bokeh) {\n",
       "      }\n",
       "    ];\n",
       "  \n",
       "    function run_inline_js() {\n",
       "      for (var i = 0; i < inline_js.length; i++) {\n",
       "        inline_js[i](window.Bokeh);\n",
       "      }\n",
       "    }\n",
       "  \n",
       "    if (window._bokeh_is_loading === 0) {\n",
       "      console.log(\"Bokeh: BokehJS loaded, going straight to plotting\");\n",
       "      run_inline_js();\n",
       "    } else {\n",
       "      load_libs(js_urls, function() {\n",
       "        console.log(\"Bokeh: BokehJS plotting callback run at\", now());\n",
       "        run_inline_js();\n",
       "      });\n",
       "    }\n",
       "  }(this));\n",
       "</script>"
      ]
     },
     "metadata": {},
     "output_type": "display_data"
    },
    {
     "data": {
      "text/html": [
       "<p><code>&lt;Bokeh Notebook handle for <strong>In[5]</strong>&gt;</code></p>"
      ],
      "text/plain": [
       "<bokeh.io._CommsHandle at 0x17e34d11828>"
      ]
     },
     "execution_count": 5,
     "metadata": {},
     "output_type": "execute_result"
    }
   ],
   "source": [
    "# create a new line chart with a title and axis labels\n",
    "p = Bar(data, title=\"Line Chart Example\", xlabel='x', ylabel='values', width=400, height=400)\n",
    "# show the results\n",
    "show(p)"
   ]
  },
  {
   "cell_type": "markdown",
   "metadata": {},
   "source": [
    "Bokeh plotting is probably the one we are going to be using the most.  Developing any plot with Bokeh plotting takes five steps:\n",
    "* Prepare or load data\n",
    "* Tell Bokeh where to store output (html file, notebook, server, etc.)\n",
    "* Call figure() to generate the skeleton of the plot.\n",
    "* Add renderers for the data (this would be the line of your graph or the points of the scatter plot).\n",
    "* Show or save your plot.\n"
   ]
  },
  {
   "cell_type": "code",
   "execution_count": null,
   "metadata": {
    "collapsed": false
   },
   "outputs": [],
   "source": [
    "from bokeh.plotting import figure\n",
    "\n",
    "# prepare some data\n",
    "x = [0.1, 0.5, 1.0, 1.5, 2.0, 2.5, 3.0]\n",
    "y0 = [i**2 for i in x]\n",
    "y1 = [10**i for i in x]\n",
    "y2 = [10**(i**2) for i in x]\n",
    "\n",
    "# output to static HTML file\n",
    "output_notebook()\n",
    "\n",
    "# create a new plot\n",
    "p = figure(\n",
    "   tools=\"pan,box_zoom,reset,save\",\n",
    "   y_axis_type=\"log\", y_range=[0.001, 10**11], title=\"log axis example\",\n",
    "   x_axis_label='sections', y_axis_label='particles'\n",
    ")\n",
    "\n",
    "# add some renderers\n",
    "p.line(x, x, legend=\"y=x\")\n",
    "p.circle(x, x, legend=\"y=x\", fill_color=\"white\", size=8)\n",
    "p.line(x, y0, legend=\"y=x^2\", line_width=3)\n",
    "p.line(x, y1, legend=\"y=10^x\", line_color=\"red\")\n",
    "p.circle(x, y1, legend=\"y=10^x\", fill_color=\"red\", line_color=\"red\", size=6)\n",
    "p.line(x, y2, legend=\"y=10^x^2\", line_color=\"orange\", line_dash=\"4 4\")\n",
    "\n",
    "# show the results\n",
    "show(p)"
   ]
  },
  {
   "cell_type": "markdown",
   "metadata": {
    "collapsed": true
   },
   "source": [
    "## Appeals:\n",
    "- recommended by the Dave Beck\n",
    "- high functionality with few lines of code\n",
    "- high compatibility with Jupyter\n",
    "- flexibility: can use plotting vs charts depending on the complexity of the specific components we want"
   ]
  },
  {
   "cell_type": "markdown",
   "metadata": {},
   "source": [
    "## Drawbacks:\n",
    "- requires learning a new package"
   ]
  },
  {
   "cell_type": "code",
   "execution_count": null,
   "metadata": {
    "collapsed": true
   },
   "outputs": [],
   "source": []
  }
 ],
 "metadata": {
  "kernelspec": {
   "display_name": "Python 3",
   "language": "python",
   "name": "python3"
  },
  "language_info": {
   "codemirror_mode": {
    "name": "ipython",
    "version": 3
   },
   "file_extension": ".py",
   "mimetype": "text/x-python",
   "name": "python",
   "nbconvert_exporter": "python",
   "pygments_lexer": "ipython3",
   "version": "3.5.1"
  }
 },
 "nbformat": 4,
 "nbformat_minor": 0
}
