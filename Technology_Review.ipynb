{
 "cells": [
  {
   "cell_type": "markdown",
   "metadata": {},
   "source": [
    "## Technology Review: Bokeh"
   ]
  },
  {
   "cell_type": "markdown",
   "metadata": {},
   "source": [
    "A major portion of our project will involve plots, both static and interactive, and animations.  We chose to evaluate using the Bokeh as a possible package for this purpose.\n",
    "Bokeh is a user-friendly visualization package that creates elegant interactive plots with relatively few lines of code.  "
   ]
  },
  {
   "cell_type": "markdown",
   "metadata": {},
   "source": [
    "##  Bokeh Levels of Complexity"
   ]
  },
  {
   "cell_type": "markdown",
   "metadata": {},
   "source": [
    "Bokeh has three levels of complexity from simple and low control to more difficult and high control: charts, plotting and modeling.  With charts, you can quickly churn out complex statistical plots with just a few lines of code.  Models lets you control nearly every aspect of the plots and is more for developers.  Plotting is a happy medium.\n",
    "\n",
    "Below is an example of using charts:"
   ]
  },
  {
   "cell_type": "code",
   "execution_count": 1,
   "metadata": {
    "collapsed": true
   },
   "outputs": [],
   "source": [
    "#Import library\n",
    "from bokeh.charts import Bar, output_notebook, show #use output_notebook to visualize it in notebook"
   ]
  },
  {
   "cell_type": "code",
   "execution_count": 2,
   "metadata": {
    "collapsed": true
   },
   "outputs": [],
   "source": [
    "# prepare data (dummy data)\n",
    "data = {\"y\": [1, 2, 3, 4, 5]}"
   ]
  },
  {
   "cell_type": "code",
   "execution_count": 3,
   "metadata": {
    "collapsed": false
   },
   "outputs": [
    {
     "data": {
      "text/html": [
       "\n",
       "    <div class=\"bk-banner\">\n",
       "        <a href=\"http://bokeh.pydata.org\" target=\"_blank\" class=\"bk-logo bk-logo-small bk-logo-notebook\"></a>\n",
       "        <span id=\"859b7ae8-47bc-45fe-8f5f-9974e20e6b36\">Loading BokehJS ...</span>\n",
       "    </div>"
      ]
     },
     "metadata": {},
     "output_type": "display_data"
    },
    {
     "data": {
      "application/javascript": [
       "\n",
       "(function(global) {\n",
       "  function now() {\n",
       "    return new Date();\n",
       "  }\n",
       "\n",
       "  if (typeof (window._bokeh_onload_callbacks) === \"undefined\") {\n",
       "    window._bokeh_onload_callbacks = [];\n",
       "  }\n",
       "\n",
       "  function run_callbacks() {\n",
       "    window._bokeh_onload_callbacks.forEach(function(callback) { callback() });\n",
       "    delete window._bokeh_onload_callbacks\n",
       "    console.info(\"Bokeh: all callbacks have finished\");\n",
       "  }\n",
       "\n",
       "  function load_libs(js_urls, callback) {\n",
       "    window._bokeh_onload_callbacks.push(callback);\n",
       "    if (window._bokeh_is_loading > 0) {\n",
       "      console.log(\"Bokeh: BokehJS is being loaded, scheduling callback at\", now());\n",
       "      return null;\n",
       "    }\n",
       "    if (js_urls == null || js_urls.length === 0) {\n",
       "      run_callbacks();\n",
       "      return null;\n",
       "    }\n",
       "    console.log(\"Bokeh: BokehJS not loaded, scheduling load and callback at\", now());\n",
       "    window._bokeh_is_loading = js_urls.length;\n",
       "    for (var i = 0; i < js_urls.length; i++) {\n",
       "      var url = js_urls[i];\n",
       "      var s = document.createElement('script');\n",
       "      s.src = url;\n",
       "      s.async = false;\n",
       "      s.onreadystatechange = s.onload = function() {\n",
       "        window._bokeh_is_loading--;\n",
       "        if (window._bokeh_is_loading === 0) {\n",
       "          console.log(\"Bokeh: all BokehJS libraries loaded\");\n",
       "          run_callbacks()\n",
       "        }\n",
       "      };\n",
       "      s.onerror = function() {\n",
       "        console.warn(\"failed to load library \" + url);\n",
       "      };\n",
       "      console.log(\"Bokeh: injecting script tag for BokehJS library: \", url);\n",
       "      document.getElementsByTagName(\"head\")[0].appendChild(s);\n",
       "    }\n",
       "  };\n",
       "\n",
       "  var js_urls = ['https://cdn.pydata.org/bokeh/release/bokeh-0.11.1.min.js', 'https://cdn.pydata.org/bokeh/release/bokeh-widgets-0.11.1.min.js', 'https://cdn.pydata.org/bokeh/release/bokeh-compiler-0.11.1.min.js'];\n",
       "\n",
       "  var inline_js = [\n",
       "    function(Bokeh) {\n",
       "      Bokeh.set_log_level(\"info\");\n",
       "    },\n",
       "    \n",
       "    function(Bokeh) {\n",
       "      Bokeh.$(\"#859b7ae8-47bc-45fe-8f5f-9974e20e6b36\").text(\"BokehJS successfully loaded\");\n",
       "    },\n",
       "    function(Bokeh) {\n",
       "      console.log(\"Bokeh: injecting CSS: https://cdn.pydata.org/bokeh/release/bokeh-0.11.1.min.css\");\n",
       "      Bokeh.embed.inject_css(\"https://cdn.pydata.org/bokeh/release/bokeh-0.11.1.min.css\");\n",
       "      console.log(\"Bokeh: injecting CSS: https://cdn.pydata.org/bokeh/release/bokeh-widgets-0.11.1.min.css\");\n",
       "      Bokeh.embed.inject_css(\"https://cdn.pydata.org/bokeh/release/bokeh-widgets-0.11.1.min.css\");\n",
       "    }\n",
       "  ];\n",
       "\n",
       "  function run_inline_js() {\n",
       "    for (var i = 0; i < inline_js.length; i++) {\n",
       "      inline_js[i](window.Bokeh);\n",
       "    }\n",
       "  }\n",
       "\n",
       "  if (window._bokeh_is_loading === 0) {\n",
       "    console.log(\"Bokeh: BokehJS loaded, going straight to plotting\");\n",
       "    run_inline_js();\n",
       "  } else {\n",
       "    load_libs(js_urls, function() {\n",
       "      console.log(\"Bokeh: BokehJS plotting callback run at\", now());\n",
       "      run_inline_js();\n",
       "    });\n",
       "  }\n",
       "}(this));"
      ]
     },
     "metadata": {},
     "output_type": "display_data"
    }
   ],
   "source": [
    "# Output to Line.HTML\n",
    "output_notebook() #put output_notebook() for notebook"
   ]
  },
  {
   "cell_type": "code",
   "execution_count": 4,
   "metadata": {
    "collapsed": false
   },
   "outputs": [
    {
     "data": {
      "text/html": [
       "\n",
       "\n",
       "    <div class=\"plotdiv\" id=\"bbc1270f-2575-422d-a7e2-2de7e25eaa48\"></div>\n",
       "<script type=\"text/javascript\">\n",
       "  \n",
       "  (function(global) {\n",
       "    function now() {\n",
       "      return new Date();\n",
       "    }\n",
       "  \n",
       "    if (typeof (window._bokeh_onload_callbacks) === \"undefined\") {\n",
       "      window._bokeh_onload_callbacks = [];\n",
       "    }\n",
       "  \n",
       "    function run_callbacks() {\n",
       "      window._bokeh_onload_callbacks.forEach(function(callback) { callback() });\n",
       "      delete window._bokeh_onload_callbacks\n",
       "      console.info(\"Bokeh: all callbacks have finished\");\n",
       "    }\n",
       "  \n",
       "    function load_libs(js_urls, callback) {\n",
       "      window._bokeh_onload_callbacks.push(callback);\n",
       "      if (window._bokeh_is_loading > 0) {\n",
       "        console.log(\"Bokeh: BokehJS is being loaded, scheduling callback at\", now());\n",
       "        return null;\n",
       "      }\n",
       "      if (js_urls == null || js_urls.length === 0) {\n",
       "        run_callbacks();\n",
       "        return null;\n",
       "      }\n",
       "      console.log(\"Bokeh: BokehJS not loaded, scheduling load and callback at\", now());\n",
       "      window._bokeh_is_loading = js_urls.length;\n",
       "      for (var i = 0; i < js_urls.length; i++) {\n",
       "        var url = js_urls[i];\n",
       "        var s = document.createElement('script');\n",
       "        s.src = url;\n",
       "        s.async = false;\n",
       "        s.onreadystatechange = s.onload = function() {\n",
       "          window._bokeh_is_loading--;\n",
       "          if (window._bokeh_is_loading === 0) {\n",
       "            console.log(\"Bokeh: all BokehJS libraries loaded\");\n",
       "            run_callbacks()\n",
       "          }\n",
       "        };\n",
       "        s.onerror = function() {\n",
       "          console.warn(\"failed to load library \" + url);\n",
       "        };\n",
       "        console.log(\"Bokeh: injecting script tag for BokehJS library: \", url);\n",
       "        document.getElementsByTagName(\"head\")[0].appendChild(s);\n",
       "      }\n",
       "    };var element = document.getElementById(\"bbc1270f-2575-422d-a7e2-2de7e25eaa48\");\n",
       "    if (element == null) {\n",
       "      console.log(\"Bokeh: ERROR: autoload.js configured with elementid 'bbc1270f-2575-422d-a7e2-2de7e25eaa48' but no matching script tag was found. \")\n",
       "      return false;\n",
       "    }\n",
       "  \n",
       "    var js_urls = [];\n",
       "  \n",
       "    var inline_js = [\n",
       "      function(Bokeh) {\n",
       "        Bokeh.$(function() {\n",
       "            var docs_json = {\"e50f34a6-a159-4f2b-bd7b-8b4445b36258\":{\"roots\":{\"references\":[{\"attributes\":{\"data_source\":{\"id\":\"1f2ec278-00f0-4dd2-a3e1-579eb48a77e1\",\"type\":\"ColumnDataSource\"},\"glyph\":{\"id\":\"5e2736bb-6d11-4e19-b92d-8da0b4530620\",\"type\":\"Rect\"},\"hover_glyph\":null,\"nonselection_glyph\":null,\"selection_glyph\":null},\"id\":\"d6ed0f5e-c13a-418d-a261-04fad5192fe6\",\"type\":\"GlyphRenderer\"},{\"attributes\":{\"callback\":null,\"column_names\":[\"width\",\"y\",\"height\",\"line_alpha\",\"fill_alpha\",\"line_color\",\"x\",\"color\"],\"data\":{\"chart_index\":[{\"index\":3}],\"color\":[\"#f22c40\"],\"fill_alpha\":[0.8],\"height\":[4.0],\"index\":[3],\"line_alpha\":[1.0],\"line_color\":[\"white\"],\"width\":[0.8],\"x\":[\"3\"],\"y\":[2.0]}},\"id\":\"8d48d5e4-00b0-49d9-aaaf-40fd04c646ab\",\"type\":\"ColumnDataSource\"},{\"attributes\":{\"bottom_units\":\"screen\",\"fill_alpha\":{\"value\":0.5},\"fill_color\":{\"value\":\"lightgrey\"},\"left_units\":\"screen\",\"level\":\"overlay\",\"line_alpha\":{\"value\":1.0},\"line_color\":{\"value\":\"black\"},\"line_dash\":[4,4],\"line_width\":{\"value\":2},\"plot\":null,\"render_mode\":\"css\",\"right_units\":\"screen\",\"top_units\":\"screen\"},\"id\":\"8af37a0f-4b1d-4d4a-935c-6d7f20c38925\",\"type\":\"BoxAnnotation\"},{\"attributes\":{\"fill_alpha\":{\"field\":\"fill_alpha\"},\"fill_color\":{\"field\":\"color\"},\"height\":{\"field\":\"height\",\"units\":\"data\"},\"line_color\":{\"field\":\"line_color\"},\"width\":{\"field\":\"width\",\"units\":\"data\"},\"x\":{\"field\":\"x\"},\"y\":{\"field\":\"y\"}},\"id\":\"00dd8e75-c257-44bd-a349-16f066e769ce\",\"type\":\"Rect\"},{\"attributes\":{\"data_source\":{\"id\":\"9ba62481-c108-4ab9-94cf-8c03af6e76be\",\"type\":\"ColumnDataSource\"},\"glyph\":{\"id\":\"84ecc415-3632-4c16-8fc0-5e0a6c408d72\",\"type\":\"Rect\"},\"hover_glyph\":null,\"nonselection_glyph\":null,\"selection_glyph\":null},\"id\":\"84b76f70-ba02-49ac-a814-32949cd338be\",\"type\":\"GlyphRenderer\"},{\"attributes\":{\"data_source\":{\"id\":\"45afd01a-c4cd-4e1f-b77d-67ad499c8288\",\"type\":\"ColumnDataSource\"},\"glyph\":{\"id\":\"c1d0b3c5-6011-4b4d-b354-775a2a8f4b97\",\"type\":\"Rect\"},\"hover_glyph\":null,\"nonselection_glyph\":null,\"selection_glyph\":null},\"id\":\"e87ad2a9-c7d1-4d94-820b-6c4814d2f703\",\"type\":\"GlyphRenderer\"},{\"attributes\":{\"fill_alpha\":{\"field\":\"fill_alpha\"},\"fill_color\":{\"field\":\"color\"},\"height\":{\"field\":\"height\",\"units\":\"data\"},\"line_color\":{\"field\":\"line_color\"},\"width\":{\"field\":\"width\",\"units\":\"data\"},\"x\":{\"field\":\"x\"},\"y\":{\"field\":\"y\"}},\"id\":\"b2b00230-0325-412c-8156-424a47851666\",\"type\":\"Rect\"},{\"attributes\":{\"fill_alpha\":{\"field\":\"fill_alpha\"},\"fill_color\":{\"field\":\"color\"},\"height\":{\"field\":\"height\",\"units\":\"data\"},\"line_color\":{\"field\":\"line_color\"},\"width\":{\"field\":\"width\",\"units\":\"data\"},\"x\":{\"field\":\"x\"},\"y\":{\"field\":\"y\"}},\"id\":\"c1d0b3c5-6011-4b4d-b354-775a2a8f4b97\",\"type\":\"Rect\"},{\"attributes\":{\"dimension\":1,\"plot\":{\"id\":\"32cda746-af79-48a1-918d-21979a4eb45f\",\"subtype\":\"Chart\",\"type\":\"Plot\"},\"ticker\":{\"id\":\"324e6a97-c7fd-47a1-94a6-cd076e14d416\",\"type\":\"BasicTicker\"}},\"id\":\"8fe57af4-46da-4a1c-93df-7af73d32187b\",\"type\":\"Grid\"},{\"attributes\":{\"callback\":null,\"column_names\":[\"width\",\"y\",\"height\",\"line_alpha\",\"fill_alpha\",\"line_color\",\"x\",\"color\"],\"data\":{\"chart_index\":[{\"index\":1}],\"color\":[\"#f22c40\"],\"fill_alpha\":[0.8],\"height\":[2.0],\"index\":[1],\"line_alpha\":[1.0],\"line_color\":[\"white\"],\"width\":[0.8],\"x\":[\"1\"],\"y\":[1.0]}},\"id\":\"9ba62481-c108-4ab9-94cf-8c03af6e76be\",\"type\":\"ColumnDataSource\"},{\"attributes\":{\"overlay\":{\"id\":\"8af37a0f-4b1d-4d4a-935c-6d7f20c38925\",\"type\":\"BoxAnnotation\"},\"plot\":{\"id\":\"32cda746-af79-48a1-918d-21979a4eb45f\",\"subtype\":\"Chart\",\"type\":\"Plot\"}},\"id\":\"33315087-398a-4dd2-a668-c3827f9d9d56\",\"type\":\"BoxZoomTool\"},{\"attributes\":{\"plot\":{\"id\":\"32cda746-af79-48a1-918d-21979a4eb45f\",\"subtype\":\"Chart\",\"type\":\"Plot\"}},\"id\":\"b22c1ce9-4978-4fbf-a19c-ed1567a23f62\",\"type\":\"PanTool\"},{\"attributes\":{},\"id\":\"324e6a97-c7fd-47a1-94a6-cd076e14d416\",\"type\":\"BasicTicker\"},{\"attributes\":{\"callback\":null,\"column_names\":[\"width\",\"y\",\"height\",\"line_alpha\",\"fill_alpha\",\"line_color\",\"x\",\"color\"],\"data\":{\"chart_index\":[{\"index\":2}],\"color\":[\"#f22c40\"],\"fill_alpha\":[0.8],\"height\":[3.0],\"index\":[2],\"line_alpha\":[1.0],\"line_color\":[\"white\"],\"width\":[0.8],\"x\":[\"2\"],\"y\":[1.5]}},\"id\":\"88fd2ef6-0ee6-4b1d-9790-56548e3924a2\",\"type\":\"ColumnDataSource\"},{\"attributes\":{\"data_source\":{\"id\":\"8d48d5e4-00b0-49d9-aaaf-40fd04c646ab\",\"type\":\"ColumnDataSource\"},\"glyph\":{\"id\":\"b2b00230-0325-412c-8156-424a47851666\",\"type\":\"Rect\"},\"hover_glyph\":null,\"nonselection_glyph\":null,\"selection_glyph\":null},\"id\":\"a907e186-d856-43b5-b797-57ebc8756b3c\",\"type\":\"GlyphRenderer\"},{\"attributes\":{},\"id\":\"bbba255c-c584-424e-8819-b44977961bf4\",\"type\":\"BasicTickFormatter\"},{\"attributes\":{\"data_source\":{\"id\":\"88fd2ef6-0ee6-4b1d-9790-56548e3924a2\",\"type\":\"ColumnDataSource\"},\"glyph\":{\"id\":\"00dd8e75-c257-44bd-a349-16f066e769ce\",\"type\":\"Rect\"},\"hover_glyph\":null,\"nonselection_glyph\":null,\"selection_glyph\":null},\"id\":\"b3b07324-4262-4618-81d9-33e17cf3e5b7\",\"type\":\"GlyphRenderer\"},{\"attributes\":{\"formatter\":{\"id\":\"f587e09e-3d26-42c4-813f-59c46da00940\",\"type\":\"CategoricalTickFormatter\"},\"major_label_orientation\":0.7853981633974483,\"plot\":{\"id\":\"32cda746-af79-48a1-918d-21979a4eb45f\",\"subtype\":\"Chart\",\"type\":\"Plot\"},\"ticker\":{\"id\":\"6b02f442-a366-49d3-a01a-c462d0cc2786\",\"type\":\"CategoricalTicker\"}},\"id\":\"775b7e74-6c2e-4699-994f-c396c6ddc3cd\",\"type\":\"CategoricalAxis\"},{\"attributes\":{\"fill_alpha\":{\"field\":\"fill_alpha\"},\"fill_color\":{\"field\":\"color\"},\"height\":{\"field\":\"height\",\"units\":\"data\"},\"line_color\":{\"field\":\"line_color\"},\"width\":{\"field\":\"width\",\"units\":\"data\"},\"x\":{\"field\":\"x\"},\"y\":{\"field\":\"y\"}},\"id\":\"84ecc415-3632-4c16-8fc0-5e0a6c408d72\",\"type\":\"Rect\"},{\"attributes\":{\"plot\":{\"id\":\"32cda746-af79-48a1-918d-21979a4eb45f\",\"subtype\":\"Chart\",\"type\":\"Plot\"}},\"id\":\"71f27835-63d6-4fff-bc8c-4b51a15c7df1\",\"type\":\"WheelZoomTool\"},{\"attributes\":{\"plot\":{\"id\":\"32cda746-af79-48a1-918d-21979a4eb45f\",\"subtype\":\"Chart\",\"type\":\"Plot\"}},\"id\":\"fdd01fc4-8ef9-4cc3-8d74-f9ef1c5a86de\",\"type\":\"ResetTool\"},{\"attributes\":{\"callback\":null,\"end\":5.25},\"id\":\"c43aafb0-a963-4ed0-a1f3-28eed3dd51b6\",\"type\":\"Range1d\"},{\"attributes\":{},\"id\":\"9e142729-0f01-473f-91b1-a330f19405a3\",\"type\":\"ToolEvents\"},{\"attributes\":{},\"id\":\"6b02f442-a366-49d3-a01a-c462d0cc2786\",\"type\":\"CategoricalTicker\"},{\"attributes\":{},\"id\":\"f587e09e-3d26-42c4-813f-59c46da00940\",\"type\":\"CategoricalTickFormatter\"},{\"attributes\":{\"callback\":null,\"factors\":[\"0\",\"1\",\"2\",\"3\",\"4\"]},\"id\":\"a8d7ff7f-a016-45fa-a769-317c1517ea18\",\"type\":\"FactorRange\"},{\"attributes\":{\"plot\":{\"id\":\"32cda746-af79-48a1-918d-21979a4eb45f\",\"subtype\":\"Chart\",\"type\":\"Plot\"}},\"id\":\"ec82b091-83be-4f1a-bc75-d79578394cad\",\"type\":\"PreviewSaveTool\"},{\"attributes\":{\"below\":[{\"id\":\"775b7e74-6c2e-4699-994f-c396c6ddc3cd\",\"type\":\"CategoricalAxis\"}],\"left\":[{\"id\":\"495b56b0-beb0-44f2-b9d4-f27236b9a7b1\",\"type\":\"LinearAxis\"}],\"legend\":null,\"plot_height\":400,\"plot_width\":400,\"renderers\":[{\"id\":\"8af37a0f-4b1d-4d4a-935c-6d7f20c38925\",\"type\":\"BoxAnnotation\"},{\"id\":\"e87ad2a9-c7d1-4d94-820b-6c4814d2f703\",\"type\":\"GlyphRenderer\"},{\"id\":\"84b76f70-ba02-49ac-a814-32949cd338be\",\"type\":\"GlyphRenderer\"},{\"id\":\"b3b07324-4262-4618-81d9-33e17cf3e5b7\",\"type\":\"GlyphRenderer\"},{\"id\":\"a907e186-d856-43b5-b797-57ebc8756b3c\",\"type\":\"GlyphRenderer\"},{\"id\":\"d6ed0f5e-c13a-418d-a261-04fad5192fe6\",\"type\":\"GlyphRenderer\"},{\"id\":\"775b7e74-6c2e-4699-994f-c396c6ddc3cd\",\"type\":\"CategoricalAxis\"},{\"id\":\"495b56b0-beb0-44f2-b9d4-f27236b9a7b1\",\"type\":\"LinearAxis\"},{\"id\":\"8fe57af4-46da-4a1c-93df-7af73d32187b\",\"type\":\"Grid\"}],\"title\":\"Line Chart Example\",\"title_text_font_size\":{\"value\":\"14pt\"},\"tool_events\":{\"id\":\"9e142729-0f01-473f-91b1-a330f19405a3\",\"type\":\"ToolEvents\"},\"tools\":[{\"id\":\"b22c1ce9-4978-4fbf-a19c-ed1567a23f62\",\"type\":\"PanTool\"},{\"id\":\"71f27835-63d6-4fff-bc8c-4b51a15c7df1\",\"type\":\"WheelZoomTool\"},{\"id\":\"33315087-398a-4dd2-a668-c3827f9d9d56\",\"type\":\"BoxZoomTool\"},{\"id\":\"ec82b091-83be-4f1a-bc75-d79578394cad\",\"type\":\"PreviewSaveTool\"},{\"id\":\"5f62d5a2-e240-48e6-b06c-8c60e668a8d4\",\"type\":\"ResizeTool\"},{\"id\":\"fdd01fc4-8ef9-4cc3-8d74-f9ef1c5a86de\",\"type\":\"ResetTool\"},{\"id\":\"898df834-7449-4e9e-a57c-6db10ebe4bb6\",\"type\":\"HelpTool\"}],\"x_mapper_type\":\"auto\",\"x_range\":{\"id\":\"a8d7ff7f-a016-45fa-a769-317c1517ea18\",\"type\":\"FactorRange\"},\"xgrid\":false,\"xscale\":\"auto\",\"y_mapper_type\":\"auto\",\"y_range\":{\"id\":\"c43aafb0-a963-4ed0-a1f3-28eed3dd51b6\",\"type\":\"Range1d\"},\"yscale\":\"auto\"},\"id\":\"32cda746-af79-48a1-918d-21979a4eb45f\",\"subtype\":\"Chart\",\"type\":\"Plot\"},{\"attributes\":{\"callback\":null,\"column_names\":[\"width\",\"y\",\"height\",\"line_alpha\",\"fill_alpha\",\"line_color\",\"x\",\"color\"],\"data\":{\"chart_index\":[{\"index\":4}],\"color\":[\"#f22c40\"],\"fill_alpha\":[0.8],\"height\":[5.0],\"index\":[4],\"line_alpha\":[1.0],\"line_color\":[\"white\"],\"width\":[0.8],\"x\":[\"4\"],\"y\":[2.5]}},\"id\":\"1f2ec278-00f0-4dd2-a3e1-579eb48a77e1\",\"type\":\"ColumnDataSource\"},{\"attributes\":{\"callback\":null,\"column_names\":[\"width\",\"y\",\"height\",\"line_alpha\",\"fill_alpha\",\"line_color\",\"x\",\"color\"],\"data\":{\"chart_index\":[{\"index\":0}],\"color\":[\"#f22c40\"],\"fill_alpha\":[0.8],\"height\":[1.0],\"index\":[0],\"line_alpha\":[1.0],\"line_color\":[\"white\"],\"width\":[0.8],\"x\":[\"0\"],\"y\":[0.5]}},\"id\":\"45afd01a-c4cd-4e1f-b77d-67ad499c8288\",\"type\":\"ColumnDataSource\"},{\"attributes\":{\"plot\":{\"id\":\"32cda746-af79-48a1-918d-21979a4eb45f\",\"subtype\":\"Chart\",\"type\":\"Plot\"}},\"id\":\"898df834-7449-4e9e-a57c-6db10ebe4bb6\",\"type\":\"HelpTool\"},{\"attributes\":{\"plot\":{\"id\":\"32cda746-af79-48a1-918d-21979a4eb45f\",\"subtype\":\"Chart\",\"type\":\"Plot\"}},\"id\":\"5f62d5a2-e240-48e6-b06c-8c60e668a8d4\",\"type\":\"ResizeTool\"},{\"attributes\":{\"axis_label\":\"values\",\"formatter\":{\"id\":\"bbba255c-c584-424e-8819-b44977961bf4\",\"type\":\"BasicTickFormatter\"},\"plot\":{\"id\":\"32cda746-af79-48a1-918d-21979a4eb45f\",\"subtype\":\"Chart\",\"type\":\"Plot\"},\"ticker\":{\"id\":\"324e6a97-c7fd-47a1-94a6-cd076e14d416\",\"type\":\"BasicTicker\"}},\"id\":\"495b56b0-beb0-44f2-b9d4-f27236b9a7b1\",\"type\":\"LinearAxis\"},{\"attributes\":{\"fill_alpha\":{\"field\":\"fill_alpha\"},\"fill_color\":{\"field\":\"color\"},\"height\":{\"field\":\"height\",\"units\":\"data\"},\"line_color\":{\"field\":\"line_color\"},\"width\":{\"field\":\"width\",\"units\":\"data\"},\"x\":{\"field\":\"x\"},\"y\":{\"field\":\"y\"}},\"id\":\"5e2736bb-6d11-4e19-b92d-8da0b4530620\",\"type\":\"Rect\"}],\"root_ids\":[\"32cda746-af79-48a1-918d-21979a4eb45f\"]},\"title\":\"Bokeh Application\",\"version\":\"0.11.1\"}};\n",
       "            var render_items = [{\"docid\":\"e50f34a6-a159-4f2b-bd7b-8b4445b36258\",\"elementid\":\"bbc1270f-2575-422d-a7e2-2de7e25eaa48\",\"modelid\":\"32cda746-af79-48a1-918d-21979a4eb45f\",\"notebook_comms_target\":\"08284997-089f-4957-9ae6-c0df9bfdd9fe\"}];\n",
       "            \n",
       "            Bokeh.embed.embed_items(docs_json, render_items);\n",
       "        });\n",
       "      },\n",
       "      function(Bokeh) {\n",
       "      }\n",
       "    ];\n",
       "  \n",
       "    function run_inline_js() {\n",
       "      for (var i = 0; i < inline_js.length; i++) {\n",
       "        inline_js[i](window.Bokeh);\n",
       "      }\n",
       "    }\n",
       "  \n",
       "    if (window._bokeh_is_loading === 0) {\n",
       "      console.log(\"Bokeh: BokehJS loaded, going straight to plotting\");\n",
       "      run_inline_js();\n",
       "    } else {\n",
       "      load_libs(js_urls, function() {\n",
       "        console.log(\"Bokeh: BokehJS plotting callback run at\", now());\n",
       "        run_inline_js();\n",
       "      });\n",
       "    }\n",
       "  }(this));\n",
       "</script>"
      ]
     },
     "metadata": {},
     "output_type": "display_data"
    },
    {
     "data": {
      "text/html": [
       "<p><code>&lt;Bokeh Notebook handle for <strong>In[4]</strong>&gt;</code></p>"
      ],
      "text/plain": [
       "<bokeh.io._CommsHandle at 0x28364ad39b0>"
      ]
     },
     "execution_count": 4,
     "metadata": {},
     "output_type": "execute_result"
    }
   ],
   "source": [
    "# create a new line chart with a title and axis labels\n",
    "p = Bar(data, title=\"Line Chart Example\", xlabel='x', ylabel='values', width=400, height=400)\n",
    "# show the results\n",
    "show(p)"
   ]
  },
  {
   "cell_type": "markdown",
   "metadata": {},
   "source": [
    "Bokeh plotting is probably the one we are going to be using the most.  Developing any plot with Bokeh plotting takes five steps:\n",
    "* Prepare or load data\n",
    "* Tell Bokeh where to store output (html file, notebook, server, etc.)\n",
    "* Call figure() to generate the skeleton of the plot.\n",
    "* Add renderers for the for the data (this would be the line of your graph or the points of the scatter plot).\n",
    "* Show or save your plot.\n"
   ]
  },
  {
   "cell_type": "code",
   "execution_count": 5,
   "metadata": {
    "collapsed": false
   },
   "outputs": [
    {
     "data": {
      "text/html": [
       "\n",
       "    <div class=\"bk-banner\">\n",
       "        <a href=\"http://bokeh.pydata.org\" target=\"_blank\" class=\"bk-logo bk-logo-small bk-logo-notebook\"></a>\n",
       "        <span id=\"807bbcac-0567-4cd5-aa98-af9b532c6c60\">Loading BokehJS ...</span>\n",
       "    </div>"
      ]
     },
     "metadata": {},
     "output_type": "display_data"
    },
    {
     "data": {
      "application/javascript": [
       "\n",
       "(function(global) {\n",
       "  function now() {\n",
       "    return new Date();\n",
       "  }\n",
       "\n",
       "  if (typeof (window._bokeh_onload_callbacks) === \"undefined\") {\n",
       "    window._bokeh_onload_callbacks = [];\n",
       "  }\n",
       "\n",
       "  function run_callbacks() {\n",
       "    window._bokeh_onload_callbacks.forEach(function(callback) { callback() });\n",
       "    delete window._bokeh_onload_callbacks\n",
       "    console.info(\"Bokeh: all callbacks have finished\");\n",
       "  }\n",
       "\n",
       "  function load_libs(js_urls, callback) {\n",
       "    window._bokeh_onload_callbacks.push(callback);\n",
       "    if (window._bokeh_is_loading > 0) {\n",
       "      console.log(\"Bokeh: BokehJS is being loaded, scheduling callback at\", now());\n",
       "      return null;\n",
       "    }\n",
       "    if (js_urls == null || js_urls.length === 0) {\n",
       "      run_callbacks();\n",
       "      return null;\n",
       "    }\n",
       "    console.log(\"Bokeh: BokehJS not loaded, scheduling load and callback at\", now());\n",
       "    window._bokeh_is_loading = js_urls.length;\n",
       "    for (var i = 0; i < js_urls.length; i++) {\n",
       "      var url = js_urls[i];\n",
       "      var s = document.createElement('script');\n",
       "      s.src = url;\n",
       "      s.async = false;\n",
       "      s.onreadystatechange = s.onload = function() {\n",
       "        window._bokeh_is_loading--;\n",
       "        if (window._bokeh_is_loading === 0) {\n",
       "          console.log(\"Bokeh: all BokehJS libraries loaded\");\n",
       "          run_callbacks()\n",
       "        }\n",
       "      };\n",
       "      s.onerror = function() {\n",
       "        console.warn(\"failed to load library \" + url);\n",
       "      };\n",
       "      console.log(\"Bokeh: injecting script tag for BokehJS library: \", url);\n",
       "      document.getElementsByTagName(\"head\")[0].appendChild(s);\n",
       "    }\n",
       "  };\n",
       "\n",
       "  var js_urls = ['https://cdn.pydata.org/bokeh/release/bokeh-0.11.1.min.js', 'https://cdn.pydata.org/bokeh/release/bokeh-widgets-0.11.1.min.js', 'https://cdn.pydata.org/bokeh/release/bokeh-compiler-0.11.1.min.js'];\n",
       "\n",
       "  var inline_js = [\n",
       "    function(Bokeh) {\n",
       "      Bokeh.set_log_level(\"info\");\n",
       "    },\n",
       "    \n",
       "    function(Bokeh) {\n",
       "      Bokeh.$(\"#807bbcac-0567-4cd5-aa98-af9b532c6c60\").text(\"BokehJS successfully loaded\");\n",
       "    },\n",
       "    function(Bokeh) {\n",
       "      console.log(\"Bokeh: injecting CSS: https://cdn.pydata.org/bokeh/release/bokeh-0.11.1.min.css\");\n",
       "      Bokeh.embed.inject_css(\"https://cdn.pydata.org/bokeh/release/bokeh-0.11.1.min.css\");\n",
       "      console.log(\"Bokeh: injecting CSS: https://cdn.pydata.org/bokeh/release/bokeh-widgets-0.11.1.min.css\");\n",
       "      Bokeh.embed.inject_css(\"https://cdn.pydata.org/bokeh/release/bokeh-widgets-0.11.1.min.css\");\n",
       "    }\n",
       "  ];\n",
       "\n",
       "  function run_inline_js() {\n",
       "    for (var i = 0; i < inline_js.length; i++) {\n",
       "      inline_js[i](window.Bokeh);\n",
       "    }\n",
       "  }\n",
       "\n",
       "  if (window._bokeh_is_loading === 0) {\n",
       "    console.log(\"Bokeh: BokehJS loaded, going straight to plotting\");\n",
       "    run_inline_js();\n",
       "  } else {\n",
       "    load_libs(js_urls, function() {\n",
       "      console.log(\"Bokeh: BokehJS plotting callback run at\", now());\n",
       "      run_inline_js();\n",
       "    });\n",
       "  }\n",
       "}(this));"
      ]
     },
     "metadata": {},
     "output_type": "display_data"
    },
    {
     "data": {
      "text/html": [
       "\n",
       "\n",
       "    <div class=\"plotdiv\" id=\"cd247dfa-5cdb-451f-96ba-dd14ae756d95\"></div>\n",
       "<script type=\"text/javascript\">\n",
       "  \n",
       "  (function(global) {\n",
       "    function now() {\n",
       "      return new Date();\n",
       "    }\n",
       "  \n",
       "    if (typeof (window._bokeh_onload_callbacks) === \"undefined\") {\n",
       "      window._bokeh_onload_callbacks = [];\n",
       "    }\n",
       "  \n",
       "    function run_callbacks() {\n",
       "      window._bokeh_onload_callbacks.forEach(function(callback) { callback() });\n",
       "      delete window._bokeh_onload_callbacks\n",
       "      console.info(\"Bokeh: all callbacks have finished\");\n",
       "    }\n",
       "  \n",
       "    function load_libs(js_urls, callback) {\n",
       "      window._bokeh_onload_callbacks.push(callback);\n",
       "      if (window._bokeh_is_loading > 0) {\n",
       "        console.log(\"Bokeh: BokehJS is being loaded, scheduling callback at\", now());\n",
       "        return null;\n",
       "      }\n",
       "      if (js_urls == null || js_urls.length === 0) {\n",
       "        run_callbacks();\n",
       "        return null;\n",
       "      }\n",
       "      console.log(\"Bokeh: BokehJS not loaded, scheduling load and callback at\", now());\n",
       "      window._bokeh_is_loading = js_urls.length;\n",
       "      for (var i = 0; i < js_urls.length; i++) {\n",
       "        var url = js_urls[i];\n",
       "        var s = document.createElement('script');\n",
       "        s.src = url;\n",
       "        s.async = false;\n",
       "        s.onreadystatechange = s.onload = function() {\n",
       "          window._bokeh_is_loading--;\n",
       "          if (window._bokeh_is_loading === 0) {\n",
       "            console.log(\"Bokeh: all BokehJS libraries loaded\");\n",
       "            run_callbacks()\n",
       "          }\n",
       "        };\n",
       "        s.onerror = function() {\n",
       "          console.warn(\"failed to load library \" + url);\n",
       "        };\n",
       "        console.log(\"Bokeh: injecting script tag for BokehJS library: \", url);\n",
       "        document.getElementsByTagName(\"head\")[0].appendChild(s);\n",
       "      }\n",
       "    };var element = document.getElementById(\"cd247dfa-5cdb-451f-96ba-dd14ae756d95\");\n",
       "    if (element == null) {\n",
       "      console.log(\"Bokeh: ERROR: autoload.js configured with elementid 'cd247dfa-5cdb-451f-96ba-dd14ae756d95' but no matching script tag was found. \")\n",
       "      return false;\n",
       "    }\n",
       "  \n",
       "    var js_urls = [];\n",
       "  \n",
       "    var inline_js = [\n",
       "      function(Bokeh) {\n",
       "        Bokeh.$(function() {\n",
       "            var docs_json = {\"4c1e1ad3-c20f-4503-bac7-bebee01a7c66\":{\"roots\":{\"references\":[{\"attributes\":{\"line_alpha\":{\"value\":0.1},\"line_color\":{\"value\":\"#1f77b4\"},\"x\":{\"field\":\"x\"},\"y\":{\"field\":\"y\"}},\"id\":\"64b879ec-32c6-4ea9-8548-449588dc16a9\",\"type\":\"Line\"},{\"attributes\":{\"line_color\":{\"value\":\"#1f77b4\"},\"line_width\":{\"value\":3},\"x\":{\"field\":\"x\"},\"y\":{\"field\":\"y\"}},\"id\":\"4750182e-48f4-425a-b9da-9cc9c1517478\",\"type\":\"Line\"},{\"attributes\":{},\"id\":\"f587e09e-3d26-42c4-813f-59c46da00940\",\"type\":\"CategoricalTickFormatter\"},{\"attributes\":{\"ticker\":null},\"id\":\"60313fb5-a50f-4e02-9b5a-8fe8503d5cd5\",\"type\":\"LogTickFormatter\"},{\"attributes\":{\"bottom_units\":\"screen\",\"fill_alpha\":{\"value\":0.5},\"fill_color\":{\"value\":\"lightgrey\"},\"left_units\":\"screen\",\"level\":\"overlay\",\"line_alpha\":{\"value\":1.0},\"line_color\":{\"value\":\"black\"},\"line_dash\":[4,4],\"line_width\":{\"value\":2},\"plot\":null,\"render_mode\":\"css\",\"right_units\":\"screen\",\"top_units\":\"screen\"},\"id\":\"8af37a0f-4b1d-4d4a-935c-6d7f20c38925\",\"type\":\"BoxAnnotation\"},{\"attributes\":{\"fill_color\":{\"value\":\"white\"},\"line_color\":{\"value\":\"#1f77b4\"},\"size\":{\"units\":\"screen\",\"value\":8},\"x\":{\"field\":\"x\"},\"y\":{\"field\":\"y\"}},\"id\":\"2da52db5-fa0f-4795-b9b1-bef6f33f2d90\",\"type\":\"Circle\"},{\"attributes\":{\"data_source\":{\"id\":\"9ba62481-c108-4ab9-94cf-8c03af6e76be\",\"type\":\"ColumnDataSource\"},\"glyph\":{\"id\":\"84ecc415-3632-4c16-8fc0-5e0a6c408d72\",\"type\":\"Rect\"},\"hover_glyph\":null,\"nonselection_glyph\":null,\"selection_glyph\":null},\"id\":\"84b76f70-ba02-49ac-a814-32949cd338be\",\"type\":\"GlyphRenderer\"},{\"attributes\":{\"fill_alpha\":{\"field\":\"fill_alpha\"},\"fill_color\":{\"field\":\"color\"},\"height\":{\"field\":\"height\",\"units\":\"data\"},\"line_color\":{\"field\":\"line_color\"},\"width\":{\"field\":\"width\",\"units\":\"data\"},\"x\":{\"field\":\"x\"},\"y\":{\"field\":\"y\"}},\"id\":\"b2b00230-0325-412c-8156-424a47851666\",\"type\":\"Rect\"},{\"attributes\":{\"below\":[{\"id\":\"2cc63f3a-d2b8-48a7-b6c1-2aa3e41f4b45\",\"type\":\"LinearAxis\"}],\"left\":[{\"id\":\"5070eee4-0f6e-4cdb-b66e-515ef8d13dd2\",\"type\":\"LogAxis\"}],\"renderers\":[{\"id\":\"2cc63f3a-d2b8-48a7-b6c1-2aa3e41f4b45\",\"type\":\"LinearAxis\"},{\"id\":\"e79e14b0-04a7-4849-bbeb-15cd0689a193\",\"type\":\"Grid\"},{\"id\":\"5070eee4-0f6e-4cdb-b66e-515ef8d13dd2\",\"type\":\"LogAxis\"},{\"id\":\"b9fd2e88-29f1-4465-b9c1-6be44192ea5a\",\"type\":\"Grid\"},{\"id\":\"81a55f3d-6183-40f3-acaa-caa0f511eab8\",\"type\":\"BoxAnnotation\"},{\"id\":\"f381cc72-7060-43e4-9d55-c88d1218374c\",\"type\":\"Legend\"},{\"id\":\"40928ab5-2fa6-400a-afcc-8d6a1ef49468\",\"type\":\"GlyphRenderer\"},{\"id\":\"d94b4a8c-a2fa-4076-a55e-09fe582e39ad\",\"type\":\"GlyphRenderer\"},{\"id\":\"8edf001a-832f-4a81-9d23-7766612b120a\",\"type\":\"GlyphRenderer\"},{\"id\":\"68f88b4c-df02-4f17-bb72-8fc91c6b48a6\",\"type\":\"GlyphRenderer\"},{\"id\":\"3e93a108-0e8d-410b-a2fd-1f0f02daafe3\",\"type\":\"GlyphRenderer\"},{\"id\":\"35c256c0-ce87-4d95-a657-855befac2419\",\"type\":\"GlyphRenderer\"}],\"title\":\"log axis example\",\"tool_events\":{\"id\":\"f02b6c4f-a487-4cfc-9496-911aa021800f\",\"type\":\"ToolEvents\"},\"tools\":[{\"id\":\"17152325-8534-45d7-8588-43c099ee9ad9\",\"type\":\"PanTool\"},{\"id\":\"83734121-1483-498b-9cd7-544682e22222\",\"type\":\"BoxZoomTool\"},{\"id\":\"5e1e8de8-7941-4e6d-b1bd-dc87a1cecbbf\",\"type\":\"ResetTool\"},{\"id\":\"39b7d8e4-73f6-44c1-8026-5917e7d57377\",\"type\":\"PreviewSaveTool\"}],\"x_range\":{\"id\":\"7f01efa8-629a-4e22-850f-2c6d5f804c88\",\"type\":\"DataRange1d\"},\"y_mapper_type\":\"log\",\"y_range\":{\"id\":\"13a2e100-7874-4340-804a-28a47cce29e5\",\"type\":\"Range1d\"}},\"id\":\"5d60346a-58b7-4140-b28e-84e55607f68d\",\"subtype\":\"Figure\",\"type\":\"Plot\"},{\"attributes\":{\"callback\":null,\"column_names\":[\"y\",\"x\"],\"data\":{\"x\":[0.1,0.5,1.0,1.5,2.0,2.5,3.0],\"y\":[0.1,0.5,1.0,1.5,2.0,2.5,3.0]}},\"id\":\"2c59745d-fe43-4021-a503-4699e07903a7\",\"type\":\"ColumnDataSource\"},{\"attributes\":{\"plot\":{\"id\":\"5d60346a-58b7-4140-b28e-84e55607f68d\",\"subtype\":\"Figure\",\"type\":\"Plot\"},\"ticker\":{\"id\":\"5fb7e884-b3c0-4515-991a-93f976f0c4be\",\"type\":\"BasicTicker\"}},\"id\":\"e79e14b0-04a7-4849-bbeb-15cd0689a193\",\"type\":\"Grid\"},{\"attributes\":{\"line_alpha\":{\"value\":0.1},\"line_color\":{\"value\":\"#1f77b4\"},\"line_width\":{\"value\":3},\"x\":{\"field\":\"x\"},\"y\":{\"field\":\"y\"}},\"id\":\"6be142bf-7fc1-4d16-a40a-e1311f8d5f32\",\"type\":\"Line\"},{\"attributes\":{\"line_color\":{\"value\":\"orange\"},\"line_dash\":[4,4],\"x\":{\"field\":\"x\"},\"y\":{\"field\":\"y\"}},\"id\":\"98b373d2-5297-4481-bc13-b6d9361e231c\",\"type\":\"Line\"},{\"attributes\":{},\"id\":\"5fb7e884-b3c0-4515-991a-93f976f0c4be\",\"type\":\"BasicTicker\"},{\"attributes\":{\"callback\":null,\"column_names\":[\"width\",\"y\",\"height\",\"line_alpha\",\"fill_alpha\",\"line_color\",\"x\",\"color\"],\"data\":{\"chart_index\":[{\"index\":2}],\"color\":[\"#f22c40\"],\"fill_alpha\":[0.8],\"height\":[3.0],\"index\":[2],\"line_alpha\":[1.0],\"line_color\":[\"white\"],\"width\":[0.8],\"x\":[\"2\"],\"y\":[1.5]}},\"id\":\"88fd2ef6-0ee6-4b1d-9790-56548e3924a2\",\"type\":\"ColumnDataSource\"},{\"attributes\":{},\"id\":\"bbba255c-c584-424e-8819-b44977961bf4\",\"type\":\"BasicTickFormatter\"},{\"attributes\":{\"fill_alpha\":{\"field\":\"fill_alpha\"},\"fill_color\":{\"field\":\"color\"},\"height\":{\"field\":\"height\",\"units\":\"data\"},\"line_color\":{\"field\":\"line_color\"},\"width\":{\"field\":\"width\",\"units\":\"data\"},\"x\":{\"field\":\"x\"},\"y\":{\"field\":\"y\"}},\"id\":\"00dd8e75-c257-44bd-a349-16f066e769ce\",\"type\":\"Rect\"},{\"attributes\":{\"formatter\":{\"id\":\"f587e09e-3d26-42c4-813f-59c46da00940\",\"type\":\"CategoricalTickFormatter\"},\"major_label_orientation\":0.7853981633974483,\"plot\":{\"id\":\"32cda746-af79-48a1-918d-21979a4eb45f\",\"subtype\":\"Chart\",\"type\":\"Plot\"},\"ticker\":{\"id\":\"6b02f442-a366-49d3-a01a-c462d0cc2786\",\"type\":\"CategoricalTicker\"}},\"id\":\"775b7e74-6c2e-4699-994f-c396c6ddc3cd\",\"type\":\"CategoricalAxis\"},{\"attributes\":{\"data_source\":{\"id\":\"2c59745d-fe43-4021-a503-4699e07903a7\",\"type\":\"ColumnDataSource\"},\"glyph\":{\"id\":\"25afdd91-1f27-4415-a24a-21df37804ae7\",\"type\":\"Line\"},\"hover_glyph\":null,\"nonselection_glyph\":{\"id\":\"aa645ae7-150f-4baf-a3a6-5d8e76d723ed\",\"type\":\"Line\"},\"selection_glyph\":null},\"id\":\"40928ab5-2fa6-400a-afcc-8d6a1ef49468\",\"type\":\"GlyphRenderer\"},{\"attributes\":{\"fill_alpha\":{\"field\":\"fill_alpha\"},\"fill_color\":{\"field\":\"color\"},\"height\":{\"field\":\"height\",\"units\":\"data\"},\"line_color\":{\"field\":\"line_color\"},\"width\":{\"field\":\"width\",\"units\":\"data\"},\"x\":{\"field\":\"x\"},\"y\":{\"field\":\"y\"}},\"id\":\"84ecc415-3632-4c16-8fc0-5e0a6c408d72\",\"type\":\"Rect\"},{\"attributes\":{\"plot\":{\"id\":\"5d60346a-58b7-4140-b28e-84e55607f68d\",\"subtype\":\"Figure\",\"type\":\"Plot\"}},\"id\":\"17152325-8534-45d7-8588-43c099ee9ad9\",\"type\":\"PanTool\"},{\"attributes\":{\"plot\":{\"id\":\"32cda746-af79-48a1-918d-21979a4eb45f\",\"subtype\":\"Chart\",\"type\":\"Plot\"}},\"id\":\"fdd01fc4-8ef9-4cc3-8d74-f9ef1c5a86de\",\"type\":\"ResetTool\"},{\"attributes\":{},\"id\":\"9e142729-0f01-473f-91b1-a330f19405a3\",\"type\":\"ToolEvents\"},{\"attributes\":{\"callback\":null,\"factors\":[\"0\",\"1\",\"2\",\"3\",\"4\"]},\"id\":\"a8d7ff7f-a016-45fa-a769-317c1517ea18\",\"type\":\"FactorRange\"},{\"attributes\":{\"axis_label\":\"particles\",\"formatter\":{\"id\":\"60313fb5-a50f-4e02-9b5a-8fe8503d5cd5\",\"type\":\"LogTickFormatter\"},\"plot\":{\"id\":\"5d60346a-58b7-4140-b28e-84e55607f68d\",\"subtype\":\"Figure\",\"type\":\"Plot\"},\"ticker\":{\"id\":\"8bb3e492-2099-473c-80e2-7e1949539a4c\",\"type\":\"LogTicker\"}},\"id\":\"5070eee4-0f6e-4cdb-b66e-515ef8d13dd2\",\"type\":\"LogAxis\"},{\"attributes\":{\"callback\":null,\"column_names\":[\"y\",\"x\"],\"data\":{\"x\":[0.1,0.5,1.0,1.5,2.0,2.5,3.0],\"y\":[1.2589254117941673,3.1622776601683795,10.0,31.622776601683793,100.0,316.22776601683796,1000.0]}},\"id\":\"88058ec6-8bde-400f-a073-b1e9ff2f7b4d\",\"type\":\"ColumnDataSource\"},{\"attributes\":{\"data_source\":{\"id\":\"88058ec6-8bde-400f-a073-b1e9ff2f7b4d\",\"type\":\"ColumnDataSource\"},\"glyph\":{\"id\":\"f25e3186-9b83-4d99-98cb-2adc61bac8f9\",\"type\":\"Line\"},\"hover_glyph\":null,\"nonselection_glyph\":{\"id\":\"64b879ec-32c6-4ea9-8548-449588dc16a9\",\"type\":\"Line\"},\"selection_glyph\":null},\"id\":\"68f88b4c-df02-4f17-bb72-8fc91c6b48a6\",\"type\":\"GlyphRenderer\"},{\"attributes\":{\"plot\":{\"id\":\"5d60346a-58b7-4140-b28e-84e55607f68d\",\"subtype\":\"Figure\",\"type\":\"Plot\"}},\"id\":\"39b7d8e4-73f6-44c1-8026-5917e7d57377\",\"type\":\"PreviewSaveTool\"},{\"attributes\":{\"data_source\":{\"id\":\"1ed4cb42-a5cd-488f-9ecc-bfe18fae5842\",\"type\":\"ColumnDataSource\"},\"glyph\":{\"id\":\"98b373d2-5297-4481-bc13-b6d9361e231c\",\"type\":\"Line\"},\"hover_glyph\":null,\"nonselection_glyph\":{\"id\":\"1e6cb65c-0765-4ae5-999c-62e4aa9408e3\",\"type\":\"Line\"},\"selection_glyph\":null},\"id\":\"35c256c0-ce87-4d95-a657-855befac2419\",\"type\":\"GlyphRenderer\"},{\"attributes\":{\"callback\":null,\"column_names\":[\"width\",\"y\",\"height\",\"line_alpha\",\"fill_alpha\",\"line_color\",\"x\",\"color\"],\"data\":{\"chart_index\":[{\"index\":4}],\"color\":[\"#f22c40\"],\"fill_alpha\":[0.8],\"height\":[5.0],\"index\":[4],\"line_alpha\":[1.0],\"line_color\":[\"white\"],\"width\":[0.8],\"x\":[\"4\"],\"y\":[2.5]}},\"id\":\"1f2ec278-00f0-4dd2-a3e1-579eb48a77e1\",\"type\":\"ColumnDataSource\"},{\"attributes\":{\"data_source\":{\"id\":\"ec743597-6530-4d6a-8846-2bab3ebbd2fa\",\"type\":\"ColumnDataSource\"},\"glyph\":{\"id\":\"b97b9161-650f-443e-b03f-e32de6c064b9\",\"type\":\"Circle\"},\"hover_glyph\":null,\"nonselection_glyph\":{\"id\":\"56263883-50c3-43b3-9337-f4eb3b040f76\",\"type\":\"Circle\"},\"selection_glyph\":null},\"id\":\"3e93a108-0e8d-410b-a2fd-1f0f02daafe3\",\"type\":\"GlyphRenderer\"},{\"attributes\":{\"callback\":null,\"column_names\":[\"width\",\"y\",\"height\",\"line_alpha\",\"fill_alpha\",\"line_color\",\"x\",\"color\"],\"data\":{\"chart_index\":[{\"index\":0}],\"color\":[\"#f22c40\"],\"fill_alpha\":[0.8],\"height\":[1.0],\"index\":[0],\"line_alpha\":[1.0],\"line_color\":[\"white\"],\"width\":[0.8],\"x\":[\"0\"],\"y\":[0.5]}},\"id\":\"45afd01a-c4cd-4e1f-b77d-67ad499c8288\",\"type\":\"ColumnDataSource\"},{\"attributes\":{\"plot\":{\"id\":\"32cda746-af79-48a1-918d-21979a4eb45f\",\"subtype\":\"Chart\",\"type\":\"Plot\"}},\"id\":\"5f62d5a2-e240-48e6-b06c-8c60e668a8d4\",\"type\":\"ResizeTool\"},{\"attributes\":{},\"id\":\"f02b6c4f-a487-4cfc-9496-911aa021800f\",\"type\":\"ToolEvents\"},{\"attributes\":{\"plot\":{\"id\":\"32cda746-af79-48a1-918d-21979a4eb45f\",\"subtype\":\"Chart\",\"type\":\"Plot\"}},\"id\":\"71f27835-63d6-4fff-bc8c-4b51a15c7df1\",\"type\":\"WheelZoomTool\"},{\"attributes\":{\"callback\":null,\"column_names\":[\"y\",\"x\"],\"data\":{\"x\":[0.1,0.5,1.0,1.5,2.0,2.5,3.0],\"y\":[1.2589254117941673,3.1622776601683795,10.0,31.622776601683793,100.0,316.22776601683796,1000.0]}},\"id\":\"ec743597-6530-4d6a-8846-2bab3ebbd2fa\",\"type\":\"ColumnDataSource\"},{\"attributes\":{\"plot\":{\"id\":\"5d60346a-58b7-4140-b28e-84e55607f68d\",\"subtype\":\"Figure\",\"type\":\"Plot\"}},\"id\":\"5e1e8de8-7941-4e6d-b1bd-dc87a1cecbbf\",\"type\":\"ResetTool\"},{\"attributes\":{\"fill_alpha\":{\"field\":\"fill_alpha\"},\"fill_color\":{\"field\":\"color\"},\"height\":{\"field\":\"height\",\"units\":\"data\"},\"line_color\":{\"field\":\"line_color\"},\"width\":{\"field\":\"width\",\"units\":\"data\"},\"x\":{\"field\":\"x\"},\"y\":{\"field\":\"y\"}},\"id\":\"5e2736bb-6d11-4e19-b92d-8da0b4530620\",\"type\":\"Rect\"},{\"attributes\":{\"data_source\":{\"id\":\"1f2ec278-00f0-4dd2-a3e1-579eb48a77e1\",\"type\":\"ColumnDataSource\"},\"glyph\":{\"id\":\"5e2736bb-6d11-4e19-b92d-8da0b4530620\",\"type\":\"Rect\"},\"hover_glyph\":null,\"nonselection_glyph\":null,\"selection_glyph\":null},\"id\":\"d6ed0f5e-c13a-418d-a261-04fad5192fe6\",\"type\":\"GlyphRenderer\"},{\"attributes\":{\"callback\":null,\"column_names\":[\"width\",\"y\",\"height\",\"line_alpha\",\"fill_alpha\",\"line_color\",\"x\",\"color\"],\"data\":{\"chart_index\":[{\"index\":3}],\"color\":[\"#f22c40\"],\"fill_alpha\":[0.8],\"height\":[4.0],\"index\":[3],\"line_alpha\":[1.0],\"line_color\":[\"white\"],\"width\":[0.8],\"x\":[\"3\"],\"y\":[2.0]}},\"id\":\"8d48d5e4-00b0-49d9-aaaf-40fd04c646ab\",\"type\":\"ColumnDataSource\"},{\"attributes\":{\"callback\":null},\"id\":\"7f01efa8-629a-4e22-850f-2c6d5f804c88\",\"type\":\"DataRange1d\"},{\"attributes\":{\"data_source\":{\"id\":\"45afd01a-c4cd-4e1f-b77d-67ad499c8288\",\"type\":\"ColumnDataSource\"},\"glyph\":{\"id\":\"c1d0b3c5-6011-4b4d-b354-775a2a8f4b97\",\"type\":\"Rect\"},\"hover_glyph\":null,\"nonselection_glyph\":null,\"selection_glyph\":null},\"id\":\"e87ad2a9-c7d1-4d94-820b-6c4814d2f703\",\"type\":\"GlyphRenderer\"},{\"attributes\":{\"bottom_units\":\"screen\",\"fill_alpha\":{\"value\":0.5},\"fill_color\":{\"value\":\"lightgrey\"},\"left_units\":\"screen\",\"level\":\"overlay\",\"line_alpha\":{\"value\":1.0},\"line_color\":{\"value\":\"black\"},\"line_dash\":[4,4],\"line_width\":{\"value\":2},\"plot\":null,\"render_mode\":\"css\",\"right_units\":\"screen\",\"top_units\":\"screen\"},\"id\":\"81a55f3d-6183-40f3-acaa-caa0f511eab8\",\"type\":\"BoxAnnotation\"},{\"attributes\":{\"line_color\":{\"value\":\"#1f77b4\"},\"x\":{\"field\":\"x\"},\"y\":{\"field\":\"y\"}},\"id\":\"25afdd91-1f27-4415-a24a-21df37804ae7\",\"type\":\"Line\"},{\"attributes\":{\"fill_alpha\":{\"field\":\"fill_alpha\"},\"fill_color\":{\"field\":\"color\"},\"height\":{\"field\":\"height\",\"units\":\"data\"},\"line_color\":{\"field\":\"line_color\"},\"width\":{\"field\":\"width\",\"units\":\"data\"},\"x\":{\"field\":\"x\"},\"y\":{\"field\":\"y\"}},\"id\":\"c1d0b3c5-6011-4b4d-b354-775a2a8f4b97\",\"type\":\"Rect\"},{\"attributes\":{\"dimension\":1,\"plot\":{\"id\":\"32cda746-af79-48a1-918d-21979a4eb45f\",\"subtype\":\"Chart\",\"type\":\"Plot\"},\"ticker\":{\"id\":\"324e6a97-c7fd-47a1-94a6-cd076e14d416\",\"type\":\"BasicTicker\"}},\"id\":\"8fe57af4-46da-4a1c-93df-7af73d32187b\",\"type\":\"Grid\"},{\"attributes\":{\"callback\":null,\"column_names\":[\"width\",\"y\",\"height\",\"line_alpha\",\"fill_alpha\",\"line_color\",\"x\",\"color\"],\"data\":{\"chart_index\":[{\"index\":1}],\"color\":[\"#f22c40\"],\"fill_alpha\":[0.8],\"height\":[2.0],\"index\":[1],\"line_alpha\":[1.0],\"line_color\":[\"white\"],\"width\":[0.8],\"x\":[\"1\"],\"y\":[1.0]}},\"id\":\"9ba62481-c108-4ab9-94cf-8c03af6e76be\",\"type\":\"ColumnDataSource\"},{\"attributes\":{\"overlay\":{\"id\":\"8af37a0f-4b1d-4d4a-935c-6d7f20c38925\",\"type\":\"BoxAnnotation\"},\"plot\":{\"id\":\"32cda746-af79-48a1-918d-21979a4eb45f\",\"subtype\":\"Chart\",\"type\":\"Plot\"}},\"id\":\"33315087-398a-4dd2-a668-c3827f9d9d56\",\"type\":\"BoxZoomTool\"},{\"attributes\":{\"callback\":null,\"column_names\":[\"y\",\"x\"],\"data\":{\"x\":[0.1,0.5,1.0,1.5,2.0,2.5,3.0],\"y\":[0.010000000000000002,0.25,1.0,2.25,4.0,6.25,9.0]}},\"id\":\"a2a73ef8-f83c-4c86-8f67-0a3ea97777ef\",\"type\":\"ColumnDataSource\"},{\"attributes\":{\"plot\":{\"id\":\"32cda746-af79-48a1-918d-21979a4eb45f\",\"subtype\":\"Chart\",\"type\":\"Plot\"}},\"id\":\"b22c1ce9-4978-4fbf-a19c-ed1567a23f62\",\"type\":\"PanTool\"},{\"attributes\":{},\"id\":\"324e6a97-c7fd-47a1-94a6-cd076e14d416\",\"type\":\"BasicTicker\"},{\"attributes\":{},\"id\":\"6679abe6-c86e-4600-931d-c45bf333fa14\",\"type\":\"BasicTickFormatter\"},{\"attributes\":{\"data_source\":{\"id\":\"8d48d5e4-00b0-49d9-aaaf-40fd04c646ab\",\"type\":\"ColumnDataSource\"},\"glyph\":{\"id\":\"b2b00230-0325-412c-8156-424a47851666\",\"type\":\"Rect\"},\"hover_glyph\":null,\"nonselection_glyph\":null,\"selection_glyph\":null},\"id\":\"a907e186-d856-43b5-b797-57ebc8756b3c\",\"type\":\"GlyphRenderer\"},{\"attributes\":{\"data_source\":{\"id\":\"88fd2ef6-0ee6-4b1d-9790-56548e3924a2\",\"type\":\"ColumnDataSource\"},\"glyph\":{\"id\":\"00dd8e75-c257-44bd-a349-16f066e769ce\",\"type\":\"Rect\"},\"hover_glyph\":null,\"nonselection_glyph\":null,\"selection_glyph\":null},\"id\":\"b3b07324-4262-4618-81d9-33e17cf3e5b7\",\"type\":\"GlyphRenderer\"},{\"attributes\":{\"data_source\":{\"id\":\"33520e40-be9e-434f-b06c-d75db2725792\",\"type\":\"ColumnDataSource\"},\"glyph\":{\"id\":\"2da52db5-fa0f-4795-b9b1-bef6f33f2d90\",\"type\":\"Circle\"},\"hover_glyph\":null,\"nonselection_glyph\":{\"id\":\"5bb58fef-09ee-4986-857b-6b1b8168d679\",\"type\":\"Circle\"},\"selection_glyph\":null},\"id\":\"d94b4a8c-a2fa-4076-a55e-09fe582e39ad\",\"type\":\"GlyphRenderer\"},{\"attributes\":{\"axis_label\":\"sections\",\"formatter\":{\"id\":\"6679abe6-c86e-4600-931d-c45bf333fa14\",\"type\":\"BasicTickFormatter\"},\"plot\":{\"id\":\"5d60346a-58b7-4140-b28e-84e55607f68d\",\"subtype\":\"Figure\",\"type\":\"Plot\"},\"ticker\":{\"id\":\"5fb7e884-b3c0-4515-991a-93f976f0c4be\",\"type\":\"BasicTicker\"}},\"id\":\"2cc63f3a-d2b8-48a7-b6c1-2aa3e41f4b45\",\"type\":\"LinearAxis\"},{\"attributes\":{\"callback\":null,\"end\":5.25},\"id\":\"c43aafb0-a963-4ed0-a1f3-28eed3dd51b6\",\"type\":\"Range1d\"},{\"attributes\":{\"fill_alpha\":{\"value\":0.1},\"fill_color\":{\"value\":\"#1f77b4\"},\"line_alpha\":{\"value\":0.1},\"line_color\":{\"value\":\"#1f77b4\"},\"size\":{\"units\":\"screen\",\"value\":6},\"x\":{\"field\":\"x\"},\"y\":{\"field\":\"y\"}},\"id\":\"56263883-50c3-43b3-9337-f4eb3b040f76\",\"type\":\"Circle\"},{\"attributes\":{\"overlay\":{\"id\":\"81a55f3d-6183-40f3-acaa-caa0f511eab8\",\"type\":\"BoxAnnotation\"},\"plot\":{\"id\":\"5d60346a-58b7-4140-b28e-84e55607f68d\",\"subtype\":\"Figure\",\"type\":\"Plot\"}},\"id\":\"83734121-1483-498b-9cd7-544682e22222\",\"type\":\"BoxZoomTool\"},{\"attributes\":{\"axis_label\":\"values\",\"formatter\":{\"id\":\"bbba255c-c584-424e-8819-b44977961bf4\",\"type\":\"BasicTickFormatter\"},\"plot\":{\"id\":\"32cda746-af79-48a1-918d-21979a4eb45f\",\"subtype\":\"Chart\",\"type\":\"Plot\"},\"ticker\":{\"id\":\"324e6a97-c7fd-47a1-94a6-cd076e14d416\",\"type\":\"BasicTicker\"}},\"id\":\"495b56b0-beb0-44f2-b9d4-f27236b9a7b1\",\"type\":\"LinearAxis\"},{\"attributes\":{},\"id\":\"6b02f442-a366-49d3-a01a-c462d0cc2786\",\"type\":\"CategoricalTicker\"},{\"attributes\":{\"fill_alpha\":{\"value\":0.1},\"fill_color\":{\"value\":\"#1f77b4\"},\"line_alpha\":{\"value\":0.1},\"line_color\":{\"value\":\"#1f77b4\"},\"size\":{\"units\":\"screen\",\"value\":8},\"x\":{\"field\":\"x\"},\"y\":{\"field\":\"y\"}},\"id\":\"5bb58fef-09ee-4986-857b-6b1b8168d679\",\"type\":\"Circle\"},{\"attributes\":{\"line_alpha\":{\"value\":0.1},\"line_color\":{\"value\":\"#1f77b4\"},\"line_dash\":[4,4],\"x\":{\"field\":\"x\"},\"y\":{\"field\":\"y\"}},\"id\":\"1e6cb65c-0765-4ae5-999c-62e4aa9408e3\",\"type\":\"Line\"},{\"attributes\":{\"num_minor_ticks\":10},\"id\":\"8bb3e492-2099-473c-80e2-7e1949539a4c\",\"type\":\"LogTicker\"},{\"attributes\":{\"callback\":null,\"column_names\":[\"y\",\"x\"],\"data\":{\"x\":[0.1,0.5,1.0,1.5,2.0,2.5,3.0],\"y\":[0.1,0.5,1.0,1.5,2.0,2.5,3.0]}},\"id\":\"33520e40-be9e-434f-b06c-d75db2725792\",\"type\":\"ColumnDataSource\"},{\"attributes\":{\"plot\":{\"id\":\"32cda746-af79-48a1-918d-21979a4eb45f\",\"subtype\":\"Chart\",\"type\":\"Plot\"}},\"id\":\"ec82b091-83be-4f1a-bc75-d79578394cad\",\"type\":\"PreviewSaveTool\"},{\"attributes\":{\"line_alpha\":{\"value\":0.1},\"line_color\":{\"value\":\"#1f77b4\"},\"x\":{\"field\":\"x\"},\"y\":{\"field\":\"y\"}},\"id\":\"aa645ae7-150f-4baf-a3a6-5d8e76d723ed\",\"type\":\"Line\"},{\"attributes\":{\"below\":[{\"id\":\"775b7e74-6c2e-4699-994f-c396c6ddc3cd\",\"type\":\"CategoricalAxis\"}],\"left\":[{\"id\":\"495b56b0-beb0-44f2-b9d4-f27236b9a7b1\",\"type\":\"LinearAxis\"}],\"legend\":null,\"plot_height\":400,\"plot_width\":400,\"renderers\":[{\"id\":\"8af37a0f-4b1d-4d4a-935c-6d7f20c38925\",\"type\":\"BoxAnnotation\"},{\"id\":\"e87ad2a9-c7d1-4d94-820b-6c4814d2f703\",\"type\":\"GlyphRenderer\"},{\"id\":\"84b76f70-ba02-49ac-a814-32949cd338be\",\"type\":\"GlyphRenderer\"},{\"id\":\"b3b07324-4262-4618-81d9-33e17cf3e5b7\",\"type\":\"GlyphRenderer\"},{\"id\":\"a907e186-d856-43b5-b797-57ebc8756b3c\",\"type\":\"GlyphRenderer\"},{\"id\":\"d6ed0f5e-c13a-418d-a261-04fad5192fe6\",\"type\":\"GlyphRenderer\"},{\"id\":\"775b7e74-6c2e-4699-994f-c396c6ddc3cd\",\"type\":\"CategoricalAxis\"},{\"id\":\"495b56b0-beb0-44f2-b9d4-f27236b9a7b1\",\"type\":\"LinearAxis\"},{\"id\":\"8fe57af4-46da-4a1c-93df-7af73d32187b\",\"type\":\"Grid\"}],\"title\":\"Line Chart Example\",\"title_text_font_size\":{\"value\":\"14pt\"},\"tool_events\":{\"id\":\"9e142729-0f01-473f-91b1-a330f19405a3\",\"type\":\"ToolEvents\"},\"tools\":[{\"id\":\"b22c1ce9-4978-4fbf-a19c-ed1567a23f62\",\"type\":\"PanTool\"},{\"id\":\"71f27835-63d6-4fff-bc8c-4b51a15c7df1\",\"type\":\"WheelZoomTool\"},{\"id\":\"33315087-398a-4dd2-a668-c3827f9d9d56\",\"type\":\"BoxZoomTool\"},{\"id\":\"ec82b091-83be-4f1a-bc75-d79578394cad\",\"type\":\"PreviewSaveTool\"},{\"id\":\"5f62d5a2-e240-48e6-b06c-8c60e668a8d4\",\"type\":\"ResizeTool\"},{\"id\":\"fdd01fc4-8ef9-4cc3-8d74-f9ef1c5a86de\",\"type\":\"ResetTool\"},{\"id\":\"898df834-7449-4e9e-a57c-6db10ebe4bb6\",\"type\":\"HelpTool\"}],\"x_mapper_type\":\"auto\",\"x_range\":{\"id\":\"a8d7ff7f-a016-45fa-a769-317c1517ea18\",\"type\":\"FactorRange\"},\"xgrid\":false,\"xscale\":\"auto\",\"y_mapper_type\":\"auto\",\"y_range\":{\"id\":\"c43aafb0-a963-4ed0-a1f3-28eed3dd51b6\",\"type\":\"Range1d\"},\"yscale\":\"auto\"},\"id\":\"32cda746-af79-48a1-918d-21979a4eb45f\",\"subtype\":\"Chart\",\"type\":\"Plot\"},{\"attributes\":{\"callback\":null,\"end\":100000000000,\"start\":0.001},\"id\":\"13a2e100-7874-4340-804a-28a47cce29e5\",\"type\":\"Range1d\"},{\"attributes\":{\"legends\":[[\"y=x\",[{\"id\":\"40928ab5-2fa6-400a-afcc-8d6a1ef49468\",\"type\":\"GlyphRenderer\"},{\"id\":\"d94b4a8c-a2fa-4076-a55e-09fe582e39ad\",\"type\":\"GlyphRenderer\"}]],[\"y=x^2\",[{\"id\":\"8edf001a-832f-4a81-9d23-7766612b120a\",\"type\":\"GlyphRenderer\"}]],[\"y=10^x\",[{\"id\":\"68f88b4c-df02-4f17-bb72-8fc91c6b48a6\",\"type\":\"GlyphRenderer\"},{\"id\":\"3e93a108-0e8d-410b-a2fd-1f0f02daafe3\",\"type\":\"GlyphRenderer\"}]],[\"y=10^x^2\",[{\"id\":\"35c256c0-ce87-4d95-a657-855befac2419\",\"type\":\"GlyphRenderer\"}]]],\"plot\":{\"id\":\"5d60346a-58b7-4140-b28e-84e55607f68d\",\"subtype\":\"Figure\",\"type\":\"Plot\"}},\"id\":\"f381cc72-7060-43e4-9d55-c88d1218374c\",\"type\":\"Legend\"},{\"attributes\":{\"plot\":{\"id\":\"32cda746-af79-48a1-918d-21979a4eb45f\",\"subtype\":\"Chart\",\"type\":\"Plot\"}},\"id\":\"898df834-7449-4e9e-a57c-6db10ebe4bb6\",\"type\":\"HelpTool\"},{\"attributes\":{\"line_color\":{\"value\":\"red\"},\"x\":{\"field\":\"x\"},\"y\":{\"field\":\"y\"}},\"id\":\"f25e3186-9b83-4d99-98cb-2adc61bac8f9\",\"type\":\"Line\"},{\"attributes\":{\"dimension\":1,\"plot\":{\"id\":\"5d60346a-58b7-4140-b28e-84e55607f68d\",\"subtype\":\"Figure\",\"type\":\"Plot\"},\"ticker\":{\"id\":\"8bb3e492-2099-473c-80e2-7e1949539a4c\",\"type\":\"LogTicker\"}},\"id\":\"b9fd2e88-29f1-4465-b9c1-6be44192ea5a\",\"type\":\"Grid\"},{\"attributes\":{\"data_source\":{\"id\":\"a2a73ef8-f83c-4c86-8f67-0a3ea97777ef\",\"type\":\"ColumnDataSource\"},\"glyph\":{\"id\":\"4750182e-48f4-425a-b9da-9cc9c1517478\",\"type\":\"Line\"},\"hover_glyph\":null,\"nonselection_glyph\":{\"id\":\"6be142bf-7fc1-4d16-a40a-e1311f8d5f32\",\"type\":\"Line\"},\"selection_glyph\":null},\"id\":\"8edf001a-832f-4a81-9d23-7766612b120a\",\"type\":\"GlyphRenderer\"},{\"attributes\":{\"fill_color\":{\"value\":\"red\"},\"line_color\":{\"value\":\"red\"},\"size\":{\"units\":\"screen\",\"value\":6},\"x\":{\"field\":\"x\"},\"y\":{\"field\":\"y\"}},\"id\":\"b97b9161-650f-443e-b03f-e32de6c064b9\",\"type\":\"Circle\"},{\"attributes\":{\"callback\":null,\"column_names\":[\"y\",\"x\"],\"data\":{\"x\":[0.1,0.5,1.0,1.5,2.0,2.5,3.0],\"y\":[1.023292992280754,1.7782794100389228,10.0,177.82794100389228,10000.0,1778279.410038923,1000000000.0]}},\"id\":\"1ed4cb42-a5cd-488f-9ecc-bfe18fae5842\",\"type\":\"ColumnDataSource\"}],\"root_ids\":[\"32cda746-af79-48a1-918d-21979a4eb45f\",\"5d60346a-58b7-4140-b28e-84e55607f68d\"]},\"title\":\"Bokeh Application\",\"version\":\"0.11.1\"}};\n",
       "            var render_items = [{\"docid\":\"4c1e1ad3-c20f-4503-bac7-bebee01a7c66\",\"elementid\":\"cd247dfa-5cdb-451f-96ba-dd14ae756d95\",\"modelid\":\"5d60346a-58b7-4140-b28e-84e55607f68d\",\"notebook_comms_target\":\"12452ec9-60c4-4fd3-9267-16f1bed9b405\"}];\n",
       "            \n",
       "            Bokeh.embed.embed_items(docs_json, render_items);\n",
       "        });\n",
       "      },\n",
       "      function(Bokeh) {\n",
       "      }\n",
       "    ];\n",
       "  \n",
       "    function run_inline_js() {\n",
       "      for (var i = 0; i < inline_js.length; i++) {\n",
       "        inline_js[i](window.Bokeh);\n",
       "      }\n",
       "    }\n",
       "  \n",
       "    if (window._bokeh_is_loading === 0) {\n",
       "      console.log(\"Bokeh: BokehJS loaded, going straight to plotting\");\n",
       "      run_inline_js();\n",
       "    } else {\n",
       "      load_libs(js_urls, function() {\n",
       "        console.log(\"Bokeh: BokehJS plotting callback run at\", now());\n",
       "        run_inline_js();\n",
       "      });\n",
       "    }\n",
       "  }(this));\n",
       "</script>"
      ]
     },
     "metadata": {},
     "output_type": "display_data"
    },
    {
     "data": {
      "text/html": [
       "<p><code>&lt;Bokeh Notebook handle for <strong>In[5]</strong>&gt;</code></p>"
      ],
      "text/plain": [
       "<bokeh.io._CommsHandle at 0x28364afe2e8>"
      ]
     },
     "execution_count": 5,
     "metadata": {},
     "output_type": "execute_result"
    }
   ],
   "source": [
    "from bokeh.plotting import figure\n",
    "\n",
    "# prepare some data\n",
    "x = [0.1, 0.5, 1.0, 1.5, 2.0, 2.5, 3.0]\n",
    "y0 = [i**2 for i in x]\n",
    "y1 = [10**i for i in x]\n",
    "y2 = [10**(i**2) for i in x]\n",
    "\n",
    "# output to static HTML file\n",
    "output_notebook()\n",
    "\n",
    "# create a new plot\n",
    "p = figure(\n",
    "   tools=\"pan,box_zoom,reset,save\",\n",
    "   y_axis_type=\"log\", y_range=[0.001, 10**11], title=\"log axis example\",\n",
    "   x_axis_label='sections', y_axis_label='particles'\n",
    ")\n",
    "\n",
    "# add some renderers\n",
    "p.line(x, x, legend=\"y=x\")\n",
    "p.circle(x, x, legend=\"y=x\", fill_color=\"white\", size=8)\n",
    "p.line(x, y0, legend=\"y=x^2\", line_width=3)\n",
    "p.line(x, y1, legend=\"y=10^x\", line_color=\"red\")\n",
    "p.circle(x, y1, legend=\"y=10^x\", fill_color=\"red\", line_color=\"red\", size=6)\n",
    "p.line(x, y2, legend=\"y=10^x^2\", line_color=\"orange\", line_dash=\"4 4\")\n",
    "\n",
    "# show the results\n",
    "show(p)"
   ]
  },
  {
   "cell_type": "code",
   "execution_count": null,
   "metadata": {
    "collapsed": true
   },
   "outputs": [],
   "source": []
  }
 ],
 "metadata": {
  "kernelspec": {
   "display_name": "Python 3",
   "language": "python",
   "name": "python3"
  },
  "language_info": {
   "codemirror_mode": {
    "name": "ipython",
    "version": 3
   },
   "file_extension": ".py",
   "mimetype": "text/x-python",
   "name": "python",
   "nbconvert_exporter": "python",
   "pygments_lexer": "ipython3",
   "version": "3.5.1"
  }
 },
 "nbformat": 4,
 "nbformat_minor": 0
}
