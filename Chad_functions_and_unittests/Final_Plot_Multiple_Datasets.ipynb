{
 "cells": [
  {
   "cell_type": "code",
   "execution_count": 1,
   "metadata": {
    "collapsed": true
   },
   "outputs": [],
   "source": [
    "import matplotlib as mpl\n",
    "import matplotlib.pyplot as plt\n",
    "import scipy.optimize as opt\n",
    "from mpl_toolkits.mplot3d import Axes3D\n",
    "from trajectory_visualization import plot_trajectory, sidebyside, shift_trajectory, overlay, shift_trajectory3D\n",
    "from trajectory_visualization import plot_trajectories3D, plot_3Doverlay, plot_MSDorDeff, plot_MeanMSDorDeff, randtraj, multrandtraj\n",
    "from trajectory_visualization import randtraj2, plot_Mean2DMSDsorDeff, plot_MSDorDeffLR, LRfor3D2D, fillin, prettify\n",
    "from operator import itemgetter\n",
    "from random_traj import randaniso, randconv, multrandaniso, multrandconv, randsamp, multrandsamp, randall, multrandall\n",
    "from random_traj import randanisorot, multrandanisorot\n",
    "from ellipsoid import maxtraj, mvee, plot_mvee, plot_mveeoverl, rotmat, rotmat2, plot_mveeoverl2\n",
    "from ellipsoid import ellipsax, MSDS, andiff, plot_anisoMSDS, plot_anisodiff\n",
    "import random\n",
    "import numpy as np\n",
    "import numpy.linalg as la\n",
    "from mpl_toolkits.mplot3d import Axes3D\n",
    "from ellipsoid import extrema, enclosed_MSD\n",
    "\n",
    "pi = np.pi\n",
    "sin = np.sin\n",
    "cos = np.cos"
   ]
  },
  {
   "cell_type": "code",
   "execution_count": null,
   "metadata": {
    "collapsed": true
   },
   "outputs": [],
   "source": [
    "# The purpose of this code is to continue work from _Final_Data_Analysis.  I will construct a code that will average\n",
    "# data from multiple videos.  \n",
    "\n",
    "#I am modifying this notebook further to allow the comparison of two datasets at different regions or ages."
   ]
  },
  {
   "cell_type": "code",
   "execution_count": 12,
   "metadata": {
    "collapsed": false
   },
   "outputs": [],
   "source": [
    "# Type in datasets you would like to combine.  Adjust totvids to reflect the total number of videos. Also type in the\n",
    "# umppx and fps in the conversion dictionary.\n",
    "\n",
    "conversion = dict() #First element is the umppx, second is fps\n",
    "\n",
    "conversion[1] = (0.11, 4)\n",
    "conversion[2] = (0.11, 4)\n",
    "conversion[3] = (0.11, 4)\n",
    "conversion[4] = (0.11, 4)\n",
    "conversion[5] = (0.11, 4)\n",
    "\n",
    "trajectory = dict()\n",
    "\n",
    "trajectory[1] = np.genfromtxt('../sample_data/gopher_S2_R4_V1_10NPs_traj.csv',\n",
    "            delimiter =\",\")\n",
    "trajectory[2] = np.genfromtxt('../sample_data/gopher_S2_R4_V2_10NPs_traj.csv',\n",
    "            delimiter =\",\")\n",
    "trajectory[3] = np.genfromtxt('../sample_data/gopher_S2_R4_V3_10NPs_traj.csv',\n",
    "            delimiter =\",\")\n",
    "trajectory[4] = np.genfromtxt('../sample_data/gopher_S2_R4_V4_10NPs_traj.csv',\n",
    "            delimiter =\",\")\n",
    "trajectory[5] = np.genfromtxt('../sample_data/gopher_S2_R4_V5_10NPs_traj.csv',\n",
    "            delimiter =\",\")\n",
    "\n",
    "totvids = 5\n",
    "\n",
    "for num in range(1, totvids + 1):\n",
    "    \n",
    "    #Remove titles from columns\n",
    "    trajectory[num]=np.delete(trajectory[num], 0,0)\n",
    "    #Remove the number column from dataset\n",
    "    #trajectory[num]=np.delete(trajectory[num],0,1)\n",
    "    "
   ]
  },
  {
   "cell_type": "code",
   "execution_count": 13,
   "metadata": {
    "collapsed": false
   },
   "outputs": [],
   "source": [
    "\n",
    "final = dict()\n",
    "tots = dict()\n",
    "\n",
    "for num in range(1, totvids + 1):\n",
    "    (final[num], tots[num]) = prettify(trajectory[num], 80, 80, conversion[num][0], conversion[num][1])\n",
    "    "
   ]
  },
  {
   "cell_type": "code",
   "execution_count": 14,
   "metadata": {
    "collapsed": false
   },
   "outputs": [],
   "source": [
    "parts = dict()\n",
    "lehi = dict()\n",
    "\n",
    "for num in range(1, totvids + 1):\n",
    "    parts[num] = tots[num]\n",
    "    lehi[num] = final[num][1]\n",
    "    counter = 1\n",
    "\n",
    "    while counter < parts[num]:\n",
    "        counter = counter + 1\n",
    "        lehi[num] = np.append(lehi[num], final[num][counter], axis=0)\n",
    "\n",
    "for num in range(2, totvids + 1):\n",
    "    lehi[num][:,0] = lehi[num][:,0] + max(lehi[num-1][:, 0])        \n",
    "        \n",
    "nephi = lehi[1]\n",
    "counter = 1\n",
    "\n",
    "while counter < totvids:\n",
    "    counter = counter + 1\n",
    "    nephi = np.append(nephi, lehi[counter], axis=0)\n"
   ]
  },
  {
   "cell_type": "code",
   "execution_count": 15,
   "metadata": {
    "collapsed": false
   },
   "outputs": [],
   "source": [
    "# Now for a plotting function, as modified from Testing_Tracking_Software\n",
    "\n",
    "# Creates an array 'particles' that contains the particle number at each frame.\n",
    "particles = nephi[:, 0]\n",
    "position = nephi[:, 5:5+4]\n",
    "total = int(max(particles))\n",
    "total1 = total + 1\n",
    "path = dict()\n",
    "\n",
    "# Creates an array for each trajectory containing all xyz data\n",
    "for num in range(1, total1):\n",
    "\n",
    "    hold = np.where(particles == num)\n",
    "    itindex = hold[0]\n",
    "    min1 = min(itindex)\n",
    "    max1 = max(itindex)\n",
    "    path[num] = (position[min1:max1, :])\n",
    "\n",
    "# Creates figure\n",
    "fig = plt.figure(figsize=(24, 18), dpi=80)\n",
    "ax = fig.add_subplot(111)\n",
    "# ax.set_title('Particle Trajectories', x=0.5, y=1.15)\n",
    "\n",
    "# Plots individual trajectories\n",
    "for num in range(1, total1):\n",
    "\n",
    "    ax.plot(path[num][:, 0], path[num][:, 1], label='Particle {}'.format(num), linewidth=5)\n",
    "\n",
    "axbox = ax.get_position()\n",
    "\n",
    "legunit = max(nephi[:,0])\n",
    "#ax.legend(loc=(0.85, 0.96-0.0273*legunit), prop={'size': 20})\n",
    "ax.locator_params(nbins=6)\n",
    "\n",
    "# A few adjustments to prettify the graph\n",
    "for item in ([ax.xaxis.label, ax.yaxis.label] +\n",
    "             ax.get_xticklabels() + ax.get_yticklabels()):\n",
    "    item.set_fontsize(20)\n",
    "\n",
    "ax.title.set_fontsize(35)\n",
    "ax.tick_params(direction='out', pad=3)\n",
    "plt.gca().xaxis.set_major_formatter(mpl.ticker.FormatStrFormatter('%.{}f um'.format(1)))\n",
    "plt.gca().yaxis.set_major_formatter(mpl.ticker.FormatStrFormatter('%.{}f um'.format(1)))\n",
    "\n",
    "dim = 200\n",
    "plt.gca().set_xlim([-dim, dim])\n",
    "plt.gca().set_ylim([-dim, dim])\n",
    "\n",
    "# Save your figure\n",
    "plt.savefig('{}.png'.format('test_1'), bbox_inches='tight')\n",
    "\n",
    "plt.show()"
   ]
  },
  {
   "cell_type": "code",
   "execution_count": 16,
   "metadata": {
    "collapsed": false
   },
   "outputs": [
    {
     "data": {
      "text/plain": [
       "array([   1.,    1.,    1., ...,  177.,  177.,  177.])"
      ]
     },
     "execution_count": 16,
     "metadata": {},
     "output_type": "execute_result"
    }
   ],
   "source": [
    "nephi[:, 0]"
   ]
  },
  {
   "cell_type": "code",
   "execution_count": 17,
   "metadata": {
    "collapsed": false
   },
   "outputs": [],
   "source": [
    "def plot_Mean1DMSDsorDeff(traj, n1, n2, n3, dec1, dec2, datatype, filename, limit1, limit2, tick1, tick2):\n",
    "    \"\"\"\n",
    "    Plots the MSDs or Deffs from a trajectory dataset.\n",
    "\n",
    "    n1: particle numbers (typically 0)\n",
    "    n2: time (typically 1)\n",
    "    n3: MSDs or Deffs (11 or 15 typically)\n",
    "    \"\"\"\n",
    "\n",
    "    # Creates an array 'particles' that contains the particle number at each frame.\n",
    "    particles = traj[:, n1]\n",
    "    total = int(max(particles))\n",
    "    total1 = total + 1\n",
    "    rawtime = traj[:, n2]\n",
    "    bow = traj.shape[0]\n",
    "    raw2DMSDs = np.zeros((bow, 4))\n",
    "    raw2DMSDs[:, 0] = traj[:, n3]\n",
    "    raw2DMSDs[:, 1:4] = traj[:, n3 + 3:n3 + 6]\n",
    "    MSD = dict()\n",
    "    time = dict()\n",
    "\n",
    "    # Creates an array for each trajectory containing all xyz data\n",
    "    for num in range(1, total1):\n",
    "\n",
    "        hold = np.where(particles == num)\n",
    "        itindex = hold[0]\n",
    "        min1 = min(itindex)\n",
    "        max1 = max(itindex)\n",
    "        MSD[num] = (raw2DMSDs[min1+2:max1, :])\n",
    "        time[num] = (rawtime[min1+2:max1])\n",
    "\n",
    "    MMSD = MSD[1]\n",
    "    for num in range(2, total1):\n",
    "        MMSD = MMSD + MSD[num]\n",
    "    MMSD = MMSD/total1\n",
    "\n",
    "    # Creates figure\n",
    "    fig = plt.figure(figsize=(24, 18), dpi=80)\n",
    "    ax = fig.add_subplot(111)\n",
    "    # ax.set_title('Particle Trajectories', x=0.5, y=1.15)\n",
    "\n",
    "    ax.plot(time[1][:], MMSD[:, 0], linewidth=10, label='2D')\n",
    "    ax.plot(time[1][:], MMSD[:, 1], linewidth=10, label='1D x')\n",
    "    ax.plot(time[1][:], MMSD[:, 2], linewidth=10, label='1D y')\n",
    "\n",
    "    # A few adjustments to prettify the graph\n",
    "    for item in ([ax.xaxis.label, ax.yaxis.label] +\n",
    "                 ax.get_xticklabels() + ax.get_yticklabels()):\n",
    "        item.set_fontsize(70)\n",
    "\n",
    "    xmajor_ticks = np.arange(0, limit1, tick1)\n",
    "    ymajor_ticks = np.arange(0, limit2, tick2)\n",
    "\n",
    "    ax.set_xticks(xmajor_ticks)\n",
    "    ax.set_yticks(ymajor_ticks)\n",
    "    ax.title.set_fontsize(70)\n",
    "    ax.set_xlabel('Time (s)', fontsize=95)\n",
    "    ax.set_ylabel(datatype, fontsize=95)\n",
    "    ax.tick_params(direction='out', pad=16)\n",
    "    ax.legend(loc=(0.65, 0.05), prop={'size': 70})\n",
    "    plt.gca().xaxis.set_major_formatter(mpl.ticker.FormatStrFormatter('%.{}f'.format(dec1)))\n",
    "    plt.gca().yaxis.set_major_formatter(mpl.ticker.FormatStrFormatter('%.{}f'.format(dec2)))\n",
    "\n",
    "    plt.gca().set_xlim([0, limit1])\n",
    "    plt.gca().set_ylim([0, limit2])\n",
    "\n",
    "    # Save your figure\n",
    "    plt.savefig('{}.png'.format(filename), bbox_inches='tight')\n",
    "    return MMSD\n",
    "\n"
   ]
  },
  {
   "cell_type": "code",
   "execution_count": 19,
   "metadata": {
    "collapsed": false
   },
   "outputs": [],
   "source": [
    "one = plot_Mean1DMSDsorDeff(nephi, 0, 15, 9, 0, 0, 'MSD (um^2)', 'gopher_S2_R4_177NPs_MSD', 21, 101, 4, 20)\n",
    "plt.show()"
   ]
  },
  {
   "cell_type": "code",
   "execution_count": 21,
   "metadata": {
    "collapsed": false
   },
   "outputs": [],
   "source": [
    "one = plot_Mean1DMSDsorDeff(nephi, 0, 15, 17, 0, 1, 'Deff (um^2/s)', 'gopher_S2_R4_134NPs_Deff', 21, 3.5, 4, 0.5)\n",
    "plt.show()"
   ]
  },
  {
   "cell_type": "code",
   "execution_count": null,
   "metadata": {
    "collapsed": false
   },
   "outputs": [],
   "source": [
    "nephi.shape[0]"
   ]
  },
  {
   "cell_type": "code",
   "execution_count": null,
   "metadata": {
    "collapsed": false
   },
   "outputs": [],
   "source": [
    "nephi[:, 0]"
   ]
  },
  {
   "cell_type": "code",
   "execution_count": null,
   "metadata": {
    "collapsed": true
   },
   "outputs": [],
   "source": []
  }
 ],
 "metadata": {
  "kernelspec": {
   "display_name": "Python 3",
   "language": "python",
   "name": "python3"
  },
  "language_info": {
   "codemirror_mode": {
    "name": "ipython",
    "version": 3
   },
   "file_extension": ".py",
   "mimetype": "text/x-python",
   "name": "python",
   "nbconvert_exporter": "python",
   "pygments_lexer": "ipython3",
   "version": "3.5.1"
  }
 },
 "nbformat": 4,
 "nbformat_minor": 0
}
