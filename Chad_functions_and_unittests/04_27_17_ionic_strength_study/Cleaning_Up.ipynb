{
 "cells": [
  {
   "cell_type": "code",
   "execution_count": 1,
   "metadata": {
    "collapsed": false
   },
   "outputs": [],
   "source": [
    "import os\n",
    "import csv\n",
    "import sys\n",
    "module_path = os.path.abspath(os.path.join('C:\\\\Users\\\\koolk\\\\Desktop\\\\brain-diffusion\\\\Chad_functions_and_unittests'))\n",
    "if module_path not in sys.path:\n",
    "    sys.path.append(module_path)\n",
    "\n",
    "# import matplotlib as mpl\n",
    "# import matplotlib.pyplot as plt\n",
    "# import matplotlib.ticker as mtick\n",
    "# import scipy.optimize as opt\n",
    "# import scipy.stats as stat\n",
    "# from mpl_toolkits.mplot3d import Axes3D\n",
    "# from operator import itemgetter\n",
    "# import random\n",
    "# import numpy as np\n",
    "# import numpy.ma as ma\n",
    "# import numpy.linalg as la\n",
    "# from mpl_toolkits.mplot3d import Axes3D\n",
    "\n",
    "# pi = np.pi\n",
    "# sin = np.sin\n",
    "# cos = np.cos"
   ]
  },
  {
   "cell_type": "code",
   "execution_count": 2,
   "metadata": {
    "collapsed": false
   },
   "outputs": [],
   "source": [
    "import numpy as np\n",
    "from MSD_utils import get_data_gels, build_time_array, return_average, avg_all"
   ]
  },
  {
   "cell_type": "code",
   "execution_count": 3,
   "metadata": {
    "collapsed": false
   },
   "outputs": [],
   "source": [
    "path = \"./{concentration}_ACSF/geoM2xy_{sample_name}.csv\"\n",
    "data = {}\n",
    "avg_sets = {}\n",
    "all_avg = {}\n",
    "frames = 90\n",
    "SD_frames = [1, 7, 14, 15]\n",
    "conversion = (0.16, 9.89, 1)\n",
    "\n",
    "data, avg_sets = get_data_gels([\"RED\", \"YG\"], [\"PEG\", \"nPEG\"], [\"in_agarose\"], [\"0_1x\", \"1x\", \"10x\"], [\"S1\", \"S2\", \"S3\", \"S4\"], path);\n",
    "time, time_SD = build_time_array(frames, conversion, SD_frames)\n",
    "all_avg = avg_all(data, frames, avg_sets)"
   ]
  },
  {
   "cell_type": "code",
   "execution_count": null,
   "metadata": {
    "collapsed": false
   },
   "outputs": [],
   "source": [
    "to_err = {}\n",
    "for keys in avg_sets:\n",
    "    to_err[avg_sets[keys]] = np.zeros(np.size(SD_frames))\n",
    "    for frames in range(0, np.size(SD_frames)):\n",
    "        for keys2 in data:\n",
    "            if avg_sets[keys] in keys2:\n",
    "                to_err[avg_sets[keys]][frames] = data[keys2][SD_frames[frames]]\n",
    "to_err"
   ]
  },
  {
   "cell_type": "code",
   "execution_count": 11,
   "metadata": {
    "collapsed": true
   },
   "outputs": [],
   "source": [
    "def return_SD(data, frames = 90, SD_frames = [1, 7, 14, 15], to_stdev='YG_nPEG_in_agarose_1x'):\n",
    "    \"\"\"\n",
    "    Finds standard deviation over replicates within a sample at frames specified by SD_frames.\n",
    "\n",
    "    Parameters:\n",
    "    to_average is a string.\n",
    "\n",
    "    Example:\n",
    "    return_SD(data, 90, [1, 7, 14, 15], 'RED_PEG_in_agarose_10x')\n",
    "    \"\"\"\n",
    "\n",
    "    to_SD = {}\n",
    "    counter = 0\n",
    "    for keys in data:\n",
    "        if to_stdev in keys:\n",
    "            to_SD[counter] = keys\n",
    "            counter = counter + 1\n",
    "\n",
    "    to_SD_num = np.zeros((frames, counter))\n",
    "    for i in range(0, counter):\n",
    "        for j in range(0, frames):\n",
    "            to_SD_num[j, i] = data[to_SD[i]][j]\n",
    "\n",
    "    answer = np.std(to_SD_num, axis=1)\n",
    "    answer_sep = answer[SD_frames[:]]\n",
    "\n",
    "    return answer_sep"
   ]
  },
  {
   "cell_type": "code",
   "execution_count": 16,
   "metadata": {
    "collapsed": false
   },
   "outputs": [],
   "source": [
    "def SD_all(data, frames, SD_frames, avg_sets):\n",
    "    \"\"\"\n",
    "    Finds standard deviations over all replicates in a dataset.\n",
    "\n",
    "    data is a dictionary defined in function get_data.\n",
    "    frames is the number of frames in each experiment.\n",
    "    avg_sets is a dictionary of strings (keys are 0-N)\n",
    "\n",
    "    Example:\n",
    "    SD_all(data, 90, [1, 7, 14, 15], {0: 'RED_PEG_in_agarose_0_1x', 1: 'RED_PEG_in_agarose_1x'})\n",
    "    \"\"\"\n",
    "\n",
    "    all_SD = {}\n",
    "    for keys in avg_sets:\n",
    "        all_SD[avg_sets[keys]] = return_SD(data, frames, SD_frames, avg_sets[keys])\n",
    "    return all_SD"
   ]
  },
  {
   "cell_type": "code",
   "execution_count": 17,
   "metadata": {
    "collapsed": false
   },
   "outputs": [
    {
     "data": {
      "text/plain": [
       "{'RED_PEG_in_agarose_0_1x': array([ 0.01799577,  0.12888967,  0.48744722,  0.47406954]),\n",
       " 'RED_PEG_in_agarose_10x': array([ 0.31210583,  0.7233711 ,  0.99323293,  1.10380315]),\n",
       " 'RED_PEG_in_agarose_1x': array([ 0.09624787,  0.18324761,  0.2992174 ,  0.26911513]),\n",
       " 'RED_nPEG_in_agarose_0_1x': array([ 0.11072203,  0.17231605,  0.44494148,  0.47454044]),\n",
       " 'RED_nPEG_in_agarose_10x': array([ 0.18644158,  0.14506437,  0.04451931,  0.04109105]),\n",
       " 'RED_nPEG_in_agarose_1x': array([ 0.10816792,  0.17938703,  0.12763036,  0.12448398]),\n",
       " 'YG_PEG_in_agarose_0_1x': array([ 0.07224573,  0.80062934,  2.895559  ,  3.44343851]),\n",
       " 'YG_PEG_in_agarose_10x': array([ 0.48027526,  3.14272258,  8.49897093,  9.70420755]),\n",
       " 'YG_PEG_in_agarose_1x': array([ 0.04193042,  0.24920053,  1.17475004,  1.2825949 ]),\n",
       " 'YG_nPEG_in_agarose_0_1x': array([ 0.04168235,  0.5140084 ,  2.84261543,  2.85949461]),\n",
       " 'YG_nPEG_in_agarose_10x': array([ 0.3278004 ,  0.53499538,  0.02416813,  0.02121745]),\n",
       " 'YG_nPEG_in_agarose_1x': array([ 0.13774239,  0.13181154,  0.04864839,  0.05091775])}"
      ]
     },
     "execution_count": 17,
     "metadata": {},
     "output_type": "execute_result"
    }
   ],
   "source": [
    "SD_all(data, 90, [1, 7, 14, 15], avg_sets)"
   ]
  },
  {
   "cell_type": "code",
   "execution_count": null,
   "metadata": {
    "collapsed": true
   },
   "outputs": [],
   "source": [
    "to_stdev='YG_nPEG_in_agarose_1x'\n",
    "to_SD = {}\n",
    "counter = 0\n",
    "for keys in data:\n",
    "    if to_stdev in keys:\n",
    "        to_SD[counter] = keys\n",
    "        counter = counter + 1"
   ]
  },
  {
   "cell_type": "code",
   "execution_count": 12,
   "metadata": {
    "collapsed": false
   },
   "outputs": [
    {
     "data": {
      "text/plain": [
       "array([ 0.13774239,  0.13181154,  0.04864839,  0.05091775])"
      ]
     },
     "execution_count": 12,
     "metadata": {},
     "output_type": "execute_result"
    }
   ],
   "source": [
    "a = return_SD(data, frames, SD_frames, 'YG_nPEG_in_agarose_1x')\n",
    "a"
   ]
  },
  {
   "cell_type": "code",
   "execution_count": null,
   "metadata": {
    "collapsed": false
   },
   "outputs": [],
   "source": [
    "return_average(data, frames)"
   ]
  },
  {
   "cell_type": "code",
   "execution_count": null,
   "metadata": {
    "collapsed": false
   },
   "outputs": [],
   "source": [
    "geo_err1 = np.zeros(3)\n",
    "geo_err2 = np.zeros(3)\n",
    "geo_err3 = np.zeros(3)\n",
    "geo_err4 = np.zeros(3)\n",
    "geo_err5 = np.zeros(3)\n",
    "geo_err6 = np.zeros(3)\n",
    "geo_err7 = np.zeros(3)\n",
    "geo_err8 = np.zeros(3)\n",
    "geo_err9 = np.zeros(3)\n",
    "geo_err10 = np.zeros(3)\n",
    "geo_err11 = np.zeros(3)\n",
    "geo_err12 = np.zeros(3)\n",
    "\n",
    "for i in range(0,3):\n",
    "    geo_err1[i] = geo_x01_P_Y[SD_frames[i]]\n",
    "    geo_err2[i] = geo_x01_P_R[SD_frames[i]]\n",
    "    geo_err3[i] = geo_x01_N_Y[SD_frames[i]]\n",
    "    geo_err4[i] = geo_x01_N_R[SD_frames[i]]\n",
    "\n",
    "    geo_err5[i] = geo_x1_P_Y[SD_frames[i]]\n",
    "    geo_err6[i] = geo_x1_P_R[SD_frames[i]]\n",
    "    geo_err7[i] = geo_x1_N_Y[SD_frames[i]]\n",
    "    geo_err8[i] = geo_x1_N_R[SD_frames[i]]\n",
    "\n",
    "    geo_err9[i] = geo_x10_P_Y[SD_frames[i]]\n",
    "    geo_err10[i] = geo_x10_P_R[SD_frames[i]]\n",
    "    geo_err11[i] = geo_x10_N_Y[SD_frames[i]]\n",
    "    geo_err12[i] = geo_x10_N_R[SD_frames[i]]"
   ]
  },
  {
   "cell_type": "code",
   "execution_count": null,
   "metadata": {
    "collapsed": false
   },
   "outputs": [],
   "source": [
    "def return_SD(n1, n2, n3, n4):\n",
    "    f1 = np.zeros((frames, 4))\n",
    "    a = 4.*0.5\n",
    "\n",
    "    for i in range(0, frames):\n",
    "        f1[i, 0] = n1[i]\n",
    "        f1[i, 1] = n2[i]\n",
    "        f1[i, 2] = n3[i]\n",
    "        f1[i, 3] = n4[i]\n",
    "\n",
    "    answer1 = np.std(f1, axis=1)\n",
    "    answer = np.zeros(3)\n",
    "    for i in range(0, 3):\n",
    "        answer[i] = answer1[SD_frames[i]]/a\n",
    "    return answer"
   ]
  },
  {
   "cell_type": "code",
   "execution_count": null,
   "metadata": {
    "collapsed": false
   },
   "outputs": [],
   "source": [
    "std_x01_P_Y = return_SD(geo_x01_P_Y_S1, geo_x01_P_Y_S2, geo_x01_P_Y_S3, geo_x01_P_Y_S4)\n",
    "std_x01_P_R = return_SD(geo_x01_P_R_S1, geo_x01_P_R_S2, geo_x01_P_R_S3, geo_x01_P_R_S4)\n",
    "std_x01_N_Y = return_SD(geo_x01_N_Y_S1, geo_x01_N_Y_S2, geo_x01_N_Y_S3, geo_x01_N_Y_S4)\n",
    "std_x01_N_R = return_SD(geo_x01_N_R_S1, geo_x01_N_R_S2, geo_x01_N_R_S3, geo_x01_N_R_S4)\n",
    "\n",
    "std_x1_P_Y = return_SD(geo_x1_P_Y_S1, geo_x1_P_Y_S2, geo_x1_P_Y_S3, geo_x1_P_Y_S4)\n",
    "std_x1_P_R = return_SD(geo_x1_P_R_S1, geo_x1_P_R_S2, geo_x1_P_R_S3, geo_x1_P_R_S4)\n",
    "std_x1_N_Y = return_SD(geo_x1_N_Y_S1, geo_x1_N_Y_S2, geo_x1_N_Y_S3, geo_x1_N_Y_S4)\n",
    "std_x1_N_R = return_SD(geo_x1_N_R_S1, geo_x1_N_R_S2, geo_x1_N_R_S3, geo_x1_N_R_S4)\n",
    "\n",
    "std_x10_P_Y = return_SD(geo_x10_P_Y_S1, geo_x10_P_Y_S2, geo_x10_P_Y_S3, geo_x10_P_Y_S4)\n",
    "std_x10_P_R = return_SD(geo_x10_P_R_S1, geo_x10_P_R_S2, geo_x10_P_R_S3, geo_x10_P_R_S4)\n",
    "std_x10_N_Y = return_SD(geo_x10_N_Y_S1, geo_x10_N_Y_S2, geo_x10_N_Y_S3, geo_x10_N_Y_S4)\n",
    "std_x10_N_R = return_SD(geo_x10_N_R_S1, geo_x10_N_R_S2, geo_x10_N_R_S3, geo_x10_N_R_S4)"
   ]
  },
  {
   "cell_type": "code",
   "execution_count": null,
   "metadata": {
    "collapsed": false
   },
   "outputs": [],
   "source": [
    "#Figure parameters\n",
    "\n",
    "filename = '01x.png'\n",
    "\n",
    "frame_m = 15\n",
    "\n",
    "limit1=1.51 #x range\n",
    "tick1 = 0.5\n",
    "\n",
    "limit2=40.1 #y range\n",
    "tick2 = 8 #y ticks\n",
    "\n",
    "label=95 #label font size\n",
    "leg=40 #legend font size\n",
    "ylabel=r'MSD ($\\mu$m$^2$)'\n",
    "\n",
    "dec1=1 #decimals displayed on x axis\n",
    "dec2=0 #decimals displayed on y axis\n",
    "\n",
    "d1 = 30 #dashed line dash length\n",
    "d2 = 15 #dashed line space length\n",
    "\n",
    "wi = 10 #line width\n",
    "mi = 12 #marker size"
   ]
  },
  {
   "cell_type": "code",
   "execution_count": null,
   "metadata": {
    "collapsed": false
   },
   "outputs": [],
   "source": [
    "# Creates figure\n",
    "fig = plt.figure(figsize=(18, 18), dpi=80)\n",
    "ax = fig.add_subplot(111)\n",
    "    # ax.set_title('Particle Trajectories', x=0.5, y=1.15)\n",
    "\n",
    "ax.plot(time[0:frame_m], geo_x01_N_R[0:frame_m], 'g-', linewidth=wi, label='100nm')\n",
    "ax.plot(time[0:frame_m], geo_x01_P_R[0:frame_m], 'g--', linewidth=wi, dashes=[d1,d2], label='100nm PEG')\n",
    "ax.plot(time[0:frame_m], geo_x01_N_Y[0:frame_m], 'b-', linewidth=wi, label='60nm')\n",
    "ax.plot(time[0:frame_m], geo_x01_P_Y[0:frame_m], 'b--', linewidth=wi, dashes=[d1,d2], label='60nm PEG')\n",
    "\n",
    "ax.errorbar(time_SD, geo_err4, yerr=std_x01_N_R, fmt='', linestyle='', capsize=7, capthick=2, elinewidth=2, color='green')\n",
    "ax.errorbar(time_SD, geo_err2, yerr=std_x01_P_R, fmt='', linestyle='', capsize=7, capthick=2, elinewidth=2, color='green')\n",
    "ax.errorbar(time_SD, geo_err3, yerr=std_x01_N_Y, fmt='', linestyle='', capsize=7, capthick=2, elinewidth=2, color='blue')\n",
    "ax.errorbar(time_SD, geo_err1, yerr=std_x01_P_Y, fmt='', linestyle='', capsize=7, capthick=2, elinewidth=2, color='blue')\n",
    "\n",
    "\n",
    "# ax.plot(time1[1:], line1[0][1:], linewidth=wi-3, color=b2)\n",
    "# ax.plot(time1[1:], line1[1][1:], linewidth=wi-3, color=g2)\n",
    "# ax.plot(time1[1:], line1[2][1:], linewidth=wi-3, color=r2)\n",
    "    \n",
    "# A few adjustments to prettify the graph\n",
    "for item in ([ax.xaxis.label, ax.yaxis.label] +\n",
    "             ax.get_xticklabels() + ax.get_yticklabels()):\n",
    "    item.set_fontsize(70)\n",
    "\n",
    "xmajor_ticks = np.arange(0, limit1, tick1)\n",
    "ymajor_ticks = np.arange(0, limit2, tick2)\n",
    "\n",
    "ax.set_xticks(xmajor_ticks)\n",
    "ax.set_yticks(ymajor_ticks)\n",
    "ax.title.set_fontsize(70)\n",
    "ax.set_xlabel('Time (s)', fontsize=label)\n",
    "ax.set_ylabel(ylabel, fontsize=label)\n",
    "ax.tick_params(direction='out', pad=16)\n",
    "ax.legend(loc=(0.02, 0.75), prop={'size': leg})\n",
    "plt.gca().xaxis.set_major_formatter(mpl.ticker.FormatStrFormatter('%.{}f'.format(dec1)))\n",
    "plt.gca().yaxis.set_major_formatter(mpl.ticker.FormatStrFormatter('%.{}f'.format(dec2)))\n",
    "\n",
    "\n",
    "# plt.yscale('log')\n",
    "# plt.xscale('log')\n",
    "plt.gca().set_xlim([0, limit1])\n",
    "plt.gca().set_ylim([0.00001, limit2])\n",
    "\n",
    "# Save your figure\n",
    "plt.savefig('{}'.format(filename), bbox_inches='tight')\n",
    "plt.show()"
   ]
  },
  {
   "cell_type": "code",
   "execution_count": null,
   "metadata": {
    "collapsed": true
   },
   "outputs": [],
   "source": [
    "#Figure parameters\n",
    "\n",
    "filename = '1x.png'\n",
    "\n",
    "frame_m = 15\n",
    "\n",
    "limit1=1.51 #x range\n",
    "tick1 = 0.5\n",
    "\n",
    "limit2=40.1 #y range\n",
    "tick2 = 8 #y ticks\n",
    "\n",
    "label=95 #label font size\n",
    "leg=40 #legend font size\n",
    "ylabel=r'MSD ($\\mu$m$^2$)'\n",
    "\n",
    "dec1=1 #decimals displayed on x axis\n",
    "dec2=0 #decimals displayed on y axis\n",
    "\n",
    "d1 = 30 #dashed line dash length\n",
    "d2 = 15 #dashed line space length\n",
    "\n",
    "wi = 10 #line width\n",
    "mi = 12 #marker size"
   ]
  },
  {
   "cell_type": "code",
   "execution_count": null,
   "metadata": {
    "collapsed": true
   },
   "outputs": [],
   "source": [
    "# Creates figure\n",
    "fig = plt.figure(figsize=(18, 18), dpi=80)\n",
    "ax = fig.add_subplot(111)\n",
    "    # ax.set_title('Particle Trajectories', x=0.5, y=1.15)\n",
    "\n",
    "ax.plot(time[0:frame_m], geo_x1_N_R[0:frame_m], 'g-', linewidth=wi, label='100nm')\n",
    "ax.plot(time[0:frame_m], geo_x1_P_R[0:frame_m], 'g--', linewidth=wi, dashes=[d1,d2], label='100nm PEG')\n",
    "ax.plot(time[0:frame_m], geo_x1_N_Y[0:frame_m], 'b-', linewidth=wi, label='60nm')\n",
    "ax.plot(time[0:frame_m], geo_x1_P_Y[0:frame_m], 'b--', linewidth=wi, dashes=[d1,d2], label='60nm PEG')\n",
    "\n",
    "ax.errorbar(time_SD, geo_err8, yerr=std_x01_N_R, fmt='', linestyle='', capsize=7, capthick=2, elinewidth=2, color='green')\n",
    "ax.errorbar(time_SD, geo_err6, yerr=std_x01_P_R, fmt='', linestyle='', capsize=7, capthick=2, elinewidth=2, color='green')\n",
    "ax.errorbar(time_SD, geo_err7, yerr=std_x01_N_Y, fmt='', linestyle='', capsize=7, capthick=2, elinewidth=2, color='blue')\n",
    "ax.errorbar(time_SD, geo_err5, yerr=std_x01_P_Y, fmt='', linestyle='', capsize=7, capthick=2, elinewidth=2, color='blue')\n",
    "\n",
    "\n",
    "# ax.plot(time1[1:], line1[0][1:], linewidth=wi-3, color=b2)\n",
    "# ax.plot(time1[1:], line1[1][1:], linewidth=wi-3, color=g2)\n",
    "# ax.plot(time1[1:], line1[2][1:], linewidth=wi-3, color=r2)\n",
    "    \n",
    "# A few adjustments to prettify the graph\n",
    "for item in ([ax.xaxis.label, ax.yaxis.label] +\n",
    "             ax.get_xticklabels() + ax.get_yticklabels()):\n",
    "    item.set_fontsize(70)\n",
    "\n",
    "xmajor_ticks = np.arange(0, limit1, tick1)\n",
    "ymajor_ticks = np.arange(0, limit2, tick2)\n",
    "\n",
    "ax.set_xticks(xmajor_ticks)\n",
    "ax.set_yticks(ymajor_ticks)\n",
    "ax.title.set_fontsize(70)\n",
    "ax.set_xlabel('Time (s)', fontsize=label)\n",
    "ax.set_ylabel(ylabel, fontsize=label)\n",
    "ax.tick_params(direction='out', pad=16)\n",
    "ax.legend(loc=(0.02, 0.75), prop={'size': leg})\n",
    "plt.gca().xaxis.set_major_formatter(mpl.ticker.FormatStrFormatter('%.{}f'.format(dec1)))\n",
    "plt.gca().yaxis.set_major_formatter(mpl.ticker.FormatStrFormatter('%.{}f'.format(dec2)))\n",
    "\n",
    "\n",
    "# plt.yscale('log')\n",
    "# plt.xscale('log')\n",
    "plt.gca().set_xlim([0, limit1])\n",
    "plt.gca().set_ylim([0.00001, limit2])\n",
    "\n",
    "# Save your figure\n",
    "plt.savefig('{}'.format(filename), bbox_inches='tight')\n",
    "plt.show()"
   ]
  },
  {
   "cell_type": "code",
   "execution_count": null,
   "metadata": {
    "collapsed": true
   },
   "outputs": [],
   "source": [
    "#Figure parameters\n",
    "\n",
    "filename = '10x.png'\n",
    "\n",
    "frame_m = 15\n",
    "\n",
    "limit1=1.51 #x range\n",
    "tick1 = 0.5\n",
    "\n",
    "limit2=40.1 #y range\n",
    "tick2 = 8 #y ticks\n",
    "\n",
    "label=95 #label font size\n",
    "leg=40 #legend font size\n",
    "ylabel=r'MSD ($\\mu$m$^2$)'\n",
    "\n",
    "dec1=1 #decimals displayed on x axis\n",
    "dec2=0 #decimals displayed on y axis\n",
    "\n",
    "d1 = 30 #dashed line dash length\n",
    "d2 = 15 #dashed line space length\n",
    "\n",
    "wi = 10 #line width\n",
    "mi = 12 #marker size"
   ]
  },
  {
   "cell_type": "code",
   "execution_count": null,
   "metadata": {
    "collapsed": true
   },
   "outputs": [],
   "source": [
    "# Creates figure\n",
    "fig = plt.figure(figsize=(18, 18), dpi=80)\n",
    "ax = fig.add_subplot(111)\n",
    "    # ax.set_title('Particle Trajectories', x=0.5, y=1.15)\n",
    "\n",
    "ax.plot(time[0:frame_m], geo_x10_N_R[0:frame_m], 'g-', linewidth=wi, label='100nm')\n",
    "ax.plot(time[0:frame_m], geo_x10_P_R[0:frame_m], 'g--', linewidth=wi, dashes=[d1,d2], label='100nm PEG')\n",
    "ax.plot(time[0:frame_m], geo_x10_N_Y[0:frame_m], 'b-', linewidth=wi, label='60nm')\n",
    "ax.plot(time[0:frame_m], geo_x10_P_Y[0:frame_m], 'b--', linewidth=wi, dashes=[d1,d2], label='60nm PEG')\n",
    "\n",
    "ax.errorbar(time_SD, geo_err12, yerr=std_x01_N_R, fmt='', linestyle='', capsize=7, capthick=2, elinewidth=2, color='green')\n",
    "ax.errorbar(time_SD, geo_err10, yerr=std_x01_P_R, fmt='', linestyle='', capsize=7, capthick=2, elinewidth=2, color='green')\n",
    "ax.errorbar(time_SD, geo_err11, yerr=std_x01_N_Y, fmt='', linestyle='', capsize=7, capthick=2, elinewidth=2, color='blue')\n",
    "ax.errorbar(time_SD, geo_err9, yerr=std_x01_P_Y, fmt='', linestyle='', capsize=7, capthick=2, elinewidth=2, color='blue')\n",
    "\n",
    "\n",
    "# ax.plot(time1[1:], line1[0][1:], linewidth=wi-3, color=b2)\n",
    "# ax.plot(time1[1:], line1[1][1:], linewidth=wi-3, color=g2)\n",
    "# ax.plot(time1[1:], line1[2][1:], linewidth=wi-3, color=r2)\n",
    "    \n",
    "# A few adjustments to prettify the graph\n",
    "for item in ([ax.xaxis.label, ax.yaxis.label] +\n",
    "             ax.get_xticklabels() + ax.get_yticklabels()):\n",
    "    item.set_fontsize(70)\n",
    "\n",
    "xmajor_ticks = np.arange(0, limit1, tick1)\n",
    "ymajor_ticks = np.arange(0, limit2, tick2)\n",
    "\n",
    "ax.set_xticks(xmajor_ticks)\n",
    "ax.set_yticks(ymajor_ticks)\n",
    "ax.title.set_fontsize(70)\n",
    "ax.set_xlabel('Time (s)', fontsize=label)\n",
    "ax.set_ylabel(ylabel, fontsize=label)\n",
    "ax.tick_params(direction='out', pad=16)\n",
    "ax.legend(loc=(0.02, 0.75), prop={'size': leg})\n",
    "plt.gca().xaxis.set_major_formatter(mpl.ticker.FormatStrFormatter('%.{}f'.format(dec1)))\n",
    "plt.gca().yaxis.set_major_formatter(mpl.ticker.FormatStrFormatter('%.{}f'.format(dec2)))\n",
    "\n",
    "\n",
    "# plt.yscale('log')\n",
    "# plt.xscale('log')\n",
    "plt.gca().set_xlim([0, limit1])\n",
    "plt.gca().set_ylim([0.00001, limit2])\n",
    "\n",
    "# Save your figure\n",
    "plt.savefig('{}'.format(filename), bbox_inches='tight')\n",
    "plt.show()"
   ]
  },
  {
   "cell_type": "code",
   "execution_count": null,
   "metadata": {
    "collapsed": true
   },
   "outputs": [],
   "source": [
    "#Figure parameters\n",
    "\n",
    "filename = 'PEG_RED.png'\n",
    "\n",
    "frame_m = 15\n",
    "\n",
    "limit1=1.51 #x range\n",
    "tick1 = 0.5\n",
    "\n",
    "limit2=10.1 #y range\n",
    "tick2 = 2 #y ticks\n",
    "\n",
    "label=95 #label font size\n",
    "leg=40 #legend font size\n",
    "ylabel=r'MSD ($\\mu$m$^2$)'\n",
    "\n",
    "dec1=1 #decimals displayed on x axis\n",
    "dec2=0 #decimals displayed on y axis\n",
    "\n",
    "d1 = 30 #dashed line dash length\n",
    "d2 = 15 #dashed line space length\n",
    "\n",
    "wi = 10 #line width\n",
    "mi = 12 #marker size"
   ]
  },
  {
   "cell_type": "code",
   "execution_count": null,
   "metadata": {
    "collapsed": true
   },
   "outputs": [],
   "source": [
    "# Creates figure\n",
    "fig = plt.figure(figsize=(18, 18), dpi=80)\n",
    "ax = fig.add_subplot(111)\n",
    "    # ax.set_title('Particle Trajectories', x=0.5, y=1.15)\n",
    "\n",
    "ax.plot(time[0:frame_m], geo_x01_P_R[0:frame_m], 'g-', linewidth=wi, label='0.1x')\n",
    "ax.plot(time[0:frame_m], geo_x1_P_R[0:frame_m], 'b-', linewidth=wi, label='1x')\n",
    "ax.plot(time[0:frame_m], geo_x10_P_R[0:frame_m], 'r-', linewidth=wi, label='10x')\n",
    "\n",
    "ax.errorbar(time_SD, geo_err2, yerr=std_x01_P_R, fmt='', linestyle='', capsize=7, capthick=2, elinewidth=2, color='green')\n",
    "ax.errorbar(time_SD, geo_err6, yerr=std_x1_P_R, fmt='', linestyle='', capsize=7, capthick=2, elinewidth=2, color='blue')\n",
    "ax.errorbar(time_SD, geo_err10, yerr=std_x10_P_R, fmt='', linestyle='', capsize=7, capthick=2, elinewidth=2, color='red')\n",
    "\n",
    "\n",
    "# ax.plot(time1[1:], line1[0][1:], linewidth=wi-3, color=b2)\n",
    "# ax.plot(time1[1:], line1[1][1:], linewidth=wi-3, color=g2)\n",
    "# ax.plot(time1[1:], line1[2][1:], linewidth=wi-3, color=r2)\n",
    "    \n",
    "# A few adjustments to prettify the graph\n",
    "for item in ([ax.xaxis.label, ax.yaxis.label] +\n",
    "             ax.get_xticklabels() + ax.get_yticklabels()):\n",
    "    item.set_fontsize(70)\n",
    "\n",
    "xmajor_ticks = np.arange(0, limit1, tick1)\n",
    "ymajor_ticks = np.arange(0, limit2, tick2)\n",
    "\n",
    "ax.set_xticks(xmajor_ticks)\n",
    "ax.set_yticks(ymajor_ticks)\n",
    "ax.title.set_fontsize(70)\n",
    "ax.set_xlabel('Time (s)', fontsize=label)\n",
    "ax.set_ylabel(ylabel, fontsize=label)\n",
    "ax.tick_params(direction='out', pad=16)\n",
    "ax.legend(loc=(0.02, 0.75), prop={'size': leg})\n",
    "plt.gca().xaxis.set_major_formatter(mpl.ticker.FormatStrFormatter('%.{}f'.format(dec1)))\n",
    "plt.gca().yaxis.set_major_formatter(mpl.ticker.FormatStrFormatter('%.{}f'.format(dec2)))\n",
    "\n",
    "\n",
    "# plt.yscale('log')\n",
    "# plt.xscale('log')\n",
    "plt.gca().set_xlim([0, limit1])\n",
    "plt.gca().set_ylim([0.00001, limit2])\n",
    "\n",
    "# Save your figure\n",
    "plt.savefig('{}'.format(filename), bbox_inches='tight')\n",
    "plt.show()"
   ]
  },
  {
   "cell_type": "code",
   "execution_count": null,
   "metadata": {
    "collapsed": true
   },
   "outputs": [],
   "source": [
    "#Figure parameters\n",
    "\n",
    "filename = 'PEG_YG.png'\n",
    "\n",
    "frame_m = 15\n",
    "\n",
    "limit1=1.51 #x range\n",
    "tick1 = 0.5\n",
    "\n",
    "limit2=40.1 #y range\n",
    "tick2 = 8 #y ticks\n",
    "\n",
    "label=95 #label font size\n",
    "leg=40 #legend font size\n",
    "ylabel=r'MSD ($\\mu$m$^2$)'\n",
    "\n",
    "dec1=1 #decimals displayed on x axis\n",
    "dec2=0 #decimals displayed on y axis\n",
    "\n",
    "d1 = 30 #dashed line dash length\n",
    "d2 = 15 #dashed line space length\n",
    "\n",
    "wi = 10 #line width\n",
    "mi = 12 #marker size"
   ]
  },
  {
   "cell_type": "code",
   "execution_count": null,
   "metadata": {
    "collapsed": true
   },
   "outputs": [],
   "source": [
    "# Creates figure\n",
    "fig = plt.figure(figsize=(18, 18), dpi=80)\n",
    "ax = fig.add_subplot(111)\n",
    "    # ax.set_title('Particle Trajectories', x=0.5, y=1.15)\n",
    "\n",
    "ax.plot(time[0:frame_m], geo_x01_P_Y[0:frame_m], 'g-', linewidth=wi, label='0.1x')\n",
    "ax.plot(time[0:frame_m], geo_x1_P_Y[0:frame_m], 'b-', linewidth=wi, label='1x')\n",
    "ax.plot(time[0:frame_m], geo_x10_P_Y[0:frame_m], 'r-', linewidth=wi, label='10x')\n",
    "\n",
    "ax.errorbar(time_SD, geo_err1, yerr=std_x01_P_Y, fmt='', linestyle='', capsize=7, capthick=2, elinewidth=2, color='green')\n",
    "ax.errorbar(time_SD, geo_err5, yerr=std_x1_P_Y, fmt='', linestyle='', capsize=7, capthick=2, elinewidth=2, color='blue')\n",
    "ax.errorbar(time_SD, geo_err9, yerr=std_x10_P_Y, fmt='', linestyle='', capsize=7, capthick=2, elinewidth=2, color='red')\n",
    "\n",
    "\n",
    "# ax.plot(time1[1:], line1[0][1:], linewidth=wi-3, color=b2)\n",
    "# ax.plot(time1[1:], line1[1][1:], linewidth=wi-3, color=g2)\n",
    "# ax.plot(time1[1:], line1[2][1:], linewidth=wi-3, color=r2)\n",
    "    \n",
    "# A few adjustments to prettify the graph\n",
    "for item in ([ax.xaxis.label, ax.yaxis.label] +\n",
    "             ax.get_xticklabels() + ax.get_yticklabels()):\n",
    "    item.set_fontsize(70)\n",
    "\n",
    "xmajor_ticks = np.arange(0, limit1, tick1)\n",
    "ymajor_ticks = np.arange(0, limit2, tick2)\n",
    "\n",
    "ax.set_xticks(xmajor_ticks)\n",
    "ax.set_yticks(ymajor_ticks)\n",
    "ax.title.set_fontsize(70)\n",
    "ax.set_xlabel('Time (s)', fontsize=label)\n",
    "ax.set_ylabel(ylabel, fontsize=label)\n",
    "ax.tick_params(direction='out', pad=16)\n",
    "ax.legend(loc=(0.02, 0.75), prop={'size': leg})\n",
    "plt.gca().xaxis.set_major_formatter(mpl.ticker.FormatStrFormatter('%.{}f'.format(dec1)))\n",
    "plt.gca().yaxis.set_major_formatter(mpl.ticker.FormatStrFormatter('%.{}f'.format(dec2)))\n",
    "\n",
    "\n",
    "# plt.yscale('log')\n",
    "# plt.xscale('log')\n",
    "plt.gca().set_xlim([0, limit1])\n",
    "plt.gca().set_ylim([0.00001, limit2])\n",
    "\n",
    "# Save your figure\n",
    "plt.savefig('{}'.format(filename), bbox_inches='tight')\n",
    "plt.show()"
   ]
  },
  {
   "cell_type": "code",
   "execution_count": null,
   "metadata": {
    "collapsed": false
   },
   "outputs": [],
   "source": [
    "std_x01_N_R"
   ]
  },
  {
   "cell_type": "code",
   "execution_count": null,
   "metadata": {
    "collapsed": false
   },
   "outputs": [],
   "source": [
    "time_SD"
   ]
  },
  {
   "cell_type": "code",
   "execution_count": null,
   "metadata": {
    "collapsed": false
   },
   "outputs": [],
   "source": [
    "# Creates figure\n",
    "fig = plt.figure(figsize=(18, 18), dpi=80)\n",
    "ax = fig.add_subplot(111)\n",
    "    # ax.set_title('Particle Trajectories', x=0.5, y=1.15)\n",
    "\n",
    "ax.plot(time[0:frame_m], geoRED_WT_P1_mid[0:frame_m], 'g--', linewidth=wi, dashes=[d1,d2], label='P1')\n",
    "ax.plot(time[0:frame_m], geoRED_WT_P2_mid[0:frame_m], 'b--', linewidth=wi, dashes=[d1,d2], label='P2')\n",
    "ax.plot(time[0:frame_m], geoRED_WT_P3_mid[0:frame_m], 'r--', linewidth=wi, dashes=[d1,d2], label='P3')\n",
    "\n",
    "# ax.errorbar(time_SD, geo_err1, yerr=stdRED_cor, fmt='', linestyle='', capsize=7, capthick=2, elinewidth=2, color='green')\n",
    "# ax.errorbar(time_SD, geo_err2, yerr=stdRED_hip, fmt='', linestyle='', capsize=7, capthick=2, elinewidth=2, color='blue')\n",
    "# ax.errorbar(time_SD, geo_err3, yerr=stdRED_mid, fmt='', linestyle='', capsize=7, capthick=2, elinewidth=2, color='red')\n",
    "\n",
    "# ax.plot(time1[1:], line1[0][1:], linewidth=wi-3, color=b2)\n",
    "# ax.plot(time1[1:], line1[1][1:], linewidth=wi-3, color=g2)\n",
    "# ax.plot(time1[1:], line1[2][1:], linewidth=wi-3, color=r2)\n",
    "    \n",
    "# A few adjustments to prettify the graph\n",
    "for item in ([ax.xaxis.label, ax.yaxis.label] +\n",
    "             ax.get_xticklabels() + ax.get_yticklabels()):\n",
    "    item.set_fontsize(70)\n",
    "\n",
    "xmajor_ticks = np.arange(0, limit1, tick1)\n",
    "ymajor_ticks = np.arange(0, limit2, tick2)\n",
    "\n",
    "ax.set_xticks(xmajor_ticks)\n",
    "ax.set_yticks(ymajor_ticks)\n",
    "ax.title.set_fontsize(70)\n",
    "ax.set_xlabel('Time (s)', fontsize=label)\n",
    "ax.set_ylabel(ylabel, fontsize=label)\n",
    "ax.tick_params(direction='out', pad=16)\n",
    "ax.legend(loc=(0.02, 0.82), prop={'size': leg})\n",
    "plt.gca().xaxis.set_major_formatter(mpl.ticker.FormatStrFormatter('%.{}f'.format(dec1)))\n",
    "plt.gca().yaxis.set_major_formatter(mpl.ticker.FormatStrFormatter('%.{}f'.format(dec2)))\n",
    "\n",
    "\n",
    "# plt.yscale('log')\n",
    "# plt.xscale('log')\n",
    "plt.gca().set_xlim([0, limit1])\n",
    "plt.gca().set_ylim([0.00001, limit2])\n",
    "\n",
    "# Save your figure\n",
    "plt.savefig('{}'.format(filename), bbox_inches='tight')\n",
    "plt.show()"
   ]
  },
  {
   "cell_type": "code",
   "execution_count": null,
   "metadata": {
    "collapsed": true
   },
   "outputs": [],
   "source": [
    "#Figure parameters\n",
    "\n",
    "filename = 'YG_pH.png'\n",
    "\n",
    "frame_m = 11\n",
    "\n",
    "limit1=2.1 #x range\n",
    "tick1 = 0.5\n",
    "\n",
    "limit2=120.1 #y range\n",
    "tick2 = 30 #y ticks\n",
    "\n",
    "label=95 #label font size\n",
    "leg=40 #legend font size\n",
    "ylabel=r'MSD ($\\mu$m$^2$)'\n",
    "\n",
    "dec1=1 #decimals displayed on x axis\n",
    "dec2=0 #decimals displayed on y axis\n",
    "\n",
    "d1 = 30 #dashed line dash length\n",
    "d2 = 15 #dashed line space length\n",
    "\n",
    "wi = 10 #line width\n",
    "mi = 12 #marker size"
   ]
  },
  {
   "cell_type": "code",
   "execution_count": null,
   "metadata": {
    "collapsed": true
   },
   "outputs": [],
   "source": [
    "# Creates figure\n",
    "fig = plt.figure(figsize=(18, 18), dpi=80)\n",
    "ax = fig.add_subplot(111)\n",
    "    # ax.set_title('Particle Trajectories', x=0.5, y=1.15)\n",
    "\n",
    "ax.plot(time[0:frame_m], geoYG_pH6[0:frame_m], 'g--', linewidth=wi, dashes=[d1,d2], label='pH6')\n",
    "ax.plot(time[0:frame_m], geoYG_pH7[0:frame_m], 'b--', linewidth=wi, dashes=[d1,d2], label='pH7')\n",
    "ax.plot(time[0:frame_m], geoYG_pH8[0:frame_m], 'r--', linewidth=wi, dashes=[d1,d2], label='pH8')\n",
    "\n",
    "ax.errorbar(time_SD, geo_err1a, yerr=stdYG_pH6, fmt='', linestyle='', capsize=7, capthick=2, elinewidth=2, color='green')\n",
    "ax.errorbar(time_SD, geo_err2a, yerr=stdYG_pH7, fmt='', linestyle='', capsize=7, capthick=2, elinewidth=2, color='blue')\n",
    "ax.errorbar(time_SD, geo_err3a, yerr=stdYG_pH8, fmt='', linestyle='', capsize=7, capthick=2, elinewidth=2, color='red')\n",
    "\n",
    "# ax.plot(time1[1:], line1[0][1:], linewidth=wi-3, color=b2)\n",
    "# ax.plot(time1[1:], line1[1][1:], linewidth=wi-3, color=g2)\n",
    "# ax.plot(time1[1:], line1[2][1:], linewidth=wi-3, color=r2)\n",
    "    \n",
    "# A few adjustments to prettify the graph\n",
    "for item in ([ax.xaxis.label, ax.yaxis.label] +\n",
    "             ax.get_xticklabels() + ax.get_yticklabels()):\n",
    "    item.set_fontsize(70)\n",
    "\n",
    "xmajor_ticks = np.arange(0, limit1, tick1)\n",
    "ymajor_ticks = np.arange(0, limit2, tick2)\n",
    "\n",
    "ax.set_xticks(xmajor_ticks)\n",
    "ax.set_yticks(ymajor_ticks)\n",
    "ax.title.set_fontsize(70)\n",
    "ax.set_xlabel('Time (s)', fontsize=label)\n",
    "ax.set_ylabel(ylabel, fontsize=label)\n",
    "ax.tick_params(direction='out', pad=16)\n",
    "ax.legend(loc=(0.02, 0.80), prop={'size': leg})\n",
    "plt.gca().xaxis.set_major_formatter(mpl.ticker.FormatStrFormatter('%.{}f'.format(dec1)))\n",
    "plt.gca().yaxis.set_major_formatter(mpl.ticker.FormatStrFormatter('%.{}f'.format(dec2)))\n",
    "\n",
    "\n",
    "# plt.yscale('log')\n",
    "# plt.xscale('log')\n",
    "plt.gca().set_xlim([0, limit1])\n",
    "plt.gca().set_ylim([0.00001, limit2])\n",
    "\n",
    "# Save your figure\n",
    "plt.savefig('{}'.format(filename), bbox_inches='tight')\n",
    "plt.show()"
   ]
  },
  {
   "cell_type": "code",
   "execution_count": null,
   "metadata": {
    "collapsed": true
   },
   "outputs": [],
   "source": [
    "#Repeat for x data\n",
    "\n",
    "xgeoRED_pH6_1 = np.genfromtxt('geoM1x_{}.csv'.format(RED_pH6_1), delimiter =\",\")\n",
    "xgeoRED_pH6_2 = np.genfromtxt('geoM1x_{}.csv'.format(RED_pH6_2), delimiter =\",\")\n",
    "xgeoRED_pH6_3 = np.genfromtxt('geoM1x_{}.csv'.format(RED_pH6_3), delimiter =\",\")\n",
    "\n",
    "xgeoRED_pH7_1 = np.genfromtxt('geoM1x_{}.csv'.format(RED_pH7_1), delimiter =\",\")\n",
    "xgeoRED_pH7_2 = np.genfromtxt('geoM1x_{}.csv'.format(RED_pH7_2), delimiter =\",\")\n",
    "xgeoRED_pH7_3 = np.genfromtxt('geoM1x_{}.csv'.format(RED_pH7_3), delimiter =\",\")\n",
    "\n",
    "xgeoRED_pH8_1 = np.genfromtxt('geoM1x_{}.csv'.format(RED_pH8_1), delimiter =\",\")\n",
    "xgeoRED_pH8_2 = np.genfromtxt('geoM1x_{}.csv'.format(RED_pH8_2), delimiter =\",\")\n",
    "xgeoRED_pH8_3 = np.genfromtxt('geoM1x_{}.csv'.format(RED_pH8_3), delimiter =\",\")\n",
    "\n",
    "xgeoYG_pH6_1 = np.genfromtxt('geoM1x_{}.csv'.format(YG_pH6_1), delimiter =\",\")\n",
    "xgeoYG_pH6_2 = np.genfromtxt('geoM1x_{}.csv'.format(YG_pH6_2), delimiter =\",\")\n",
    "xgeoYG_pH6_3 = np.genfromtxt('geoM1x_{}.csv'.format(YG_pH6_3), delimiter =\",\")\n",
    "\n",
    "xgeoYG_pH7_1 = np.genfromtxt('geoM1x_{}.csv'.format(YG_pH7_1), delimiter =\",\")\n",
    "xgeoYG_pH7_2 = np.genfromtxt('geoM1x_{}.csv'.format(YG_pH7_2), delimiter =\",\")\n",
    "xgeoYG_pH7_3 = np.genfromtxt('geoM1x_{}.csv'.format(YG_pH7_3), delimiter =\",\")\n",
    "\n",
    "xgeoYG_pH8_1 = np.genfromtxt('geoM1x_{}.csv'.format(YG_pH8_1), delimiter =\",\")\n",
    "xgeoYG_pH8_2 = np.genfromtxt('geoM1x_{}.csv'.format(YG_pH8_2), delimiter =\",\")\n",
    "xgeoYG_pH8_3 = np.genfromtxt('geoM1x_{}.csv'.format(YG_pH8_3), delimiter =\",\")"
   ]
  },
  {
   "cell_type": "code",
   "execution_count": null,
   "metadata": {
    "collapsed": true
   },
   "outputs": [],
   "source": [
    "#Repeat for x data\n",
    "\n",
    "ygeoRED_pH6_1 = np.genfromtxt('geoM1y_{}.csv'.format(RED_pH6_1), delimiter =\",\")\n",
    "ygeoRED_pH6_2 = np.genfromtxt('geoM1y_{}.csv'.format(RED_pH6_2), delimiter =\",\")\n",
    "ygeoRED_pH6_3 = np.genfromtxt('geoM1y_{}.csv'.format(RED_pH6_3), delimiter =\",\")\n",
    "\n",
    "ygeoRED_pH7_1 = np.genfromtxt('geoM1y_{}.csv'.format(RED_pH7_1), delimiter =\",\")\n",
    "ygeoRED_pH7_2 = np.genfromtxt('geoM1y_{}.csv'.format(RED_pH7_2), delimiter =\",\")\n",
    "ygeoRED_pH7_3 = np.genfromtxt('geoM1y_{}.csv'.format(RED_pH7_3), delimiter =\",\")\n",
    "\n",
    "ygeoRED_pH8_1 = np.genfromtxt('geoM1y_{}.csv'.format(RED_pH8_1), delimiter =\",\")\n",
    "ygeoRED_pH8_2 = np.genfromtxt('geoM1y_{}.csv'.format(RED_pH8_2), delimiter =\",\")\n",
    "ygeoRED_pH8_3 = np.genfromtxt('geoM1y_{}.csv'.format(RED_pH8_3), delimiter =\",\")\n",
    "\n",
    "ygeoYG_pH6_1 = np.genfromtxt('geoM1y_{}.csv'.format(YG_pH6_1), delimiter =\",\")\n",
    "ygeoYG_pH6_2 = np.genfromtxt('geoM1y_{}.csv'.format(YG_pH6_2), delimiter =\",\")\n",
    "ygeoYG_pH6_3 = np.genfromtxt('geoM1y_{}.csv'.format(YG_pH6_3), delimiter =\",\")\n",
    "\n",
    "ygeoYG_pH7_1 = np.genfromtxt('geoM1y_{}.csv'.format(YG_pH7_1), delimiter =\",\")\n",
    "ygeoYG_pH7_2 = np.genfromtxt('geoM1y_{}.csv'.format(YG_pH7_2), delimiter =\",\")\n",
    "ygeoYG_pH7_3 = np.genfromtxt('geoM1y_{}.csv'.format(YG_pH7_3), delimiter =\",\")\n",
    "\n",
    "ygeoYG_pH8_1 = np.genfromtxt('geoM1y_{}.csv'.format(YG_pH8_1), delimiter =\",\")\n",
    "ygeoYG_pH8_2 = np.genfromtxt('geoM1y_{}.csv'.format(YG_pH8_2), delimiter =\",\")\n",
    "ygeoYG_pH8_3 = np.genfromtxt('geoM1y_{}.csv'.format(YG_pH8_3), delimiter =\",\")"
   ]
  },
  {
   "cell_type": "code",
   "execution_count": null,
   "metadata": {
    "collapsed": true
   },
   "outputs": [],
   "source": [
    "#Linear algebra to find Deff:\n",
    "geoM2xy = geoYG_pH8_3\n",
    "geoM1x = xgeoYG_pH8_3\n",
    "geoM1y = ygeoYG_pH8_3\n",
    "\n",
    "w = dict()\n",
    "residuals = dict()\n",
    "line = dict()\n",
    "A1 = np.ones((np.shape(time[1:frame_m])[0], 2))\n",
    "A1[:, 0] = time[1:frame_m]\n",
    "\n",
    "w[0], residuals[0] = np.linalg.lstsq(A1[:, :], geoM2xy[1:frame_m])[0:2]\n",
    "w[1], residuals[1] = np.linalg.lstsq(A1[:, :], geoM1x[1:frame_m])[0:2]\n",
    "w[2], residuals[2] = np.linalg.lstsq(A1[:, :], geoM1y[1:frame_m])[0:2]\n",
    "\n",
    "\n",
    "line[0] = w[0][0]*time + w[0][1]"
   ]
  },
  {
   "cell_type": "code",
   "execution_count": null,
   "metadata": {
    "collapsed": false
   },
   "outputs": [],
   "source": [
    "print('2D Diffusion Coeff (um^2/s):', np.round(w[0][0]/4, 5), 'geoM2xy')\n",
    "print('1Dx Diffusion Coeff (um^2/s):', np.round(w[1][0]/2, 5), 'geoM1x')\n",
    "print('1Dy Diffusion Coeff (um^2/s):', np.round(w[2][0]/2, 5), 'geoM1y')"
   ]
  },
  {
   "cell_type": "code",
   "execution_count": null,
   "metadata": {
    "collapsed": true
   },
   "outputs": [],
   "source": []
  }
 ],
 "metadata": {
  "kernelspec": {
   "display_name": "Python 3",
   "language": "python",
   "name": "python3"
  },
  "language_info": {
   "codemirror_mode": {
    "name": "ipython",
    "version": 3
   },
   "file_extension": ".py",
   "mimetype": "text/x-python",
   "name": "python",
   "nbconvert_exporter": "python",
   "pygments_lexer": "ipython3",
   "version": "3.5.3"
  }
 },
 "nbformat": 4,
 "nbformat_minor": 0
}
