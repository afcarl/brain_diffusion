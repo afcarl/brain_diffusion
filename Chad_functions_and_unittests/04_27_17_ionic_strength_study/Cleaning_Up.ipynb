{
 "cells": [
  {
   "cell_type": "code",
   "execution_count": 1,
   "metadata": {
    "collapsed": false
   },
   "outputs": [],
   "source": [
    "import os\n",
    "import csv\n",
    "import sys\n",
    "module_path = os.path.abspath(os.path.join('C:\\\\Users\\\\koolk\\\\Desktop\\\\brain-diffusion\\\\Chad_functions_and_unittests'))\n",
    "if module_path not in sys.path:\n",
    "    sys.path.append(module_path)\n",
    "\n",
    "import matplotlib as mpl\n",
    "import matplotlib.pyplot as plt\n",
    "# import matplotlib.ticker as mtick\n",
    "# import scipy.optimize as opt\n",
    "# import scipy.stats as stat\n",
    "# from mpl_toolkits.mplot3d import Axes3D\n",
    "# from operator import itemgetter\n",
    "# import random\n",
    "import numpy as np\n",
    "import numpy.ma as ma\n",
    "# import numpy.linalg as la\n",
    "# from mpl_toolkits.mplot3d import Axes3D\n",
    "\n",
    "# pi = np.pi\n",
    "# sin = np.sin\n",
    "# cos = np.cos"
   ]
  },
  {
   "cell_type": "code",
   "execution_count": 2,
   "metadata": {
    "collapsed": false
   },
   "outputs": [],
   "source": [
    "import numpy as np\n",
    "from MSD_utils import get_data_gels, build_time_array, return_average, avg_all\n",
    "from MSD_utils import SD_all, return_SD"
   ]
  },
  {
   "cell_type": "code",
   "execution_count": 3,
   "metadata": {
    "collapsed": false
   },
   "outputs": [],
   "source": [
    "path = \"./{concentration}_ACSF/geoM2xy_{sample_name}.csv\"\n",
    "frames = 90\n",
    "SD_frames = [1, 7, 14, 15]\n",
    "conversion = (0.16, 9.89, 1)\n",
    "to_frame = 16\n",
    "\n",
    "data = {}\n",
    "avg_sets = {}\n",
    "all_avg = {}\n",
    "all_SD = {}\n",
    "\n",
    "data, avg_sets = get_data_gels([\"RED\", \"YG\"], [\"PEG\", \"nPEG\"], [\"in_agarose\"], [\"0_1x\", \"1x\", \"10x\"], [\"S1\", \"S2\", \"S3\", \"S4\"], path);\n",
    "time, time_SD = build_time_array(frames, conversion, SD_frames)\n",
    "all_avg = avg_all(data, frames, avg_sets)\n",
    "all_SD = SD_all(data, frames, SD_frames, avg_sets)"
   ]
  },
  {
   "cell_type": "code",
   "execution_count": 4,
   "metadata": {
    "collapsed": false
   },
   "outputs": [],
   "source": [
    "# def range_and_ticks(range_to_graph, to_frame, manual_decimals = False, manual_decimals_val = 2):\n",
    "#     \"\"\"\n",
    "#     This is a useful function that calculates the best range, tick mark interval size, and decimals displayed for a given input\n",
    "#     dataset.\n",
    "    \n",
    "#     Inputs:\n",
    "#     range_to_graph: numpy array of data to be graphed.\n",
    "#     to_frame: integer, limits data to be graphed to the range [0, to_frame].\n",
    "#     manual_decimals: True/False.  Allow the user to manually adjust the number of decimals displayed.\n",
    "#     manual_decimals_val: integer.  Number of decimals the user desires.\n",
    "    \n",
    "#     Outputs:\n",
    "#     y_range: upper boundary containing the entire range of range_to_graph[0, to_frame].\n",
    "#     ticks: tick interval.\n",
    "#     decimals: number of decimals to display.\n",
    "    \n",
    "    \n",
    "    \n",
    "#     This function must be modified if I need to plot graphs with negative values.\n",
    "#     I should also include symmetrical capabilities when I want to plot negative values.\n",
    "#     \"\"\"\n",
    "#     graph_max = np.nanmax(range_to_graph[0:to_frame]) #Define max within range\n",
    "\n",
    "#     if np.ceil(np.log10(graph_max)) >= 0: #Find nearest 10^x that contains graph_max\n",
    "#         base = np.ceil(np.log10(graph_max))\n",
    "#         raw_max = 10**base\n",
    "#         decimals = int(1)\n",
    "#     else:\n",
    "#         base = np.ceil(np.log10(1/graph_max))\n",
    "#         raw_max = 10**(-base)\n",
    "#         decimals = int(base + 1)\n",
    "\n",
    "#     range_correct = False\n",
    "#     cut_down_max = 0.1*raw_max\n",
    "#     counter = -1\n",
    "#     while range_correct is False: #Make sure that most of the graph space is used efficiently (75%).\n",
    "#         if graph_max/raw_max > 0.75:\n",
    "#             y_range = raw_max\n",
    "#             range_correct = True\n",
    "#         else:\n",
    "#             raw_max = raw_max - cut_down_max\n",
    "#             range_correct = False\n",
    "#         counter = counter + 1\n",
    "\n",
    "#     if graph_max > y_range: #Make sure that graph_max doesn't exceed limits\n",
    "#         y_range = y_range + cut_down_max\n",
    "\n",
    "#     if counter % 2 == 0: #Define tick size. I based it off of 0.1*raw_max, which is always a 10^x\n",
    "#         ticks = cut_down_max * 2\n",
    "#     else:\n",
    "#         ticks = cut_down_max\n",
    "\n",
    "#     range_correct = False #Modifies the tick size if there aren't enough ticks on the graph.\n",
    "#     while range_correct is False:\n",
    "#         if ticks/y_range >= 0.24:\n",
    "#             ticks = ticks/2\n",
    "#             range_correct = False\n",
    "#         else:\n",
    "#             range_correct = True\n",
    "    \n",
    "#     if manual_decimals == True: #Allow user to set manual decimal values.\n",
    "#         decimals = manual_decimals_val\n",
    "    \n",
    "#     return y_range, ticks, decimals"
   ]
  },
  {
   "cell_type": "code",
   "execution_count": 5,
   "metadata": {
    "collapsed": false
   },
   "outputs": [
    {
     "name": "stdout",
     "output_type": "stream",
     "text": [
      "y range is  4.0\n",
      "tick size is 0.5\n",
      "decimals 1\n"
     ]
    }
   ],
   "source": [
    "y_range, ticks_y, dec_y = range_and_ticks(all_avg[avg_sets[3]]*1, 15)\n",
    "\n",
    "print('y range is ', y_range)\n",
    "print('tick size is', ticks_y)\n",
    "print('decimals', dec_y)\n"
   ]
  },
  {
   "cell_type": "code",
   "execution_count": 6,
   "metadata": {
    "collapsed": false
   },
   "outputs": [
    {
     "name": "stdout",
     "output_type": "stream",
     "text": [
      "x range is  2.0\n",
      "tick size is 0.25\n",
      "decimals 2\n"
     ]
    }
   ],
   "source": [
    "x_range, ticks_x, dec_x = range_and_ticks(time, 15, manual_decimals = True, manual_decimals_val = 2)\n",
    "\n",
    "print('x range is ', x_range)\n",
    "print('tick size is', ticks_x)\n",
    "print('decimals', dec_x)"
   ]
  },
  {
   "cell_type": "code",
   "execution_count": 7,
   "metadata": {
    "collapsed": false
   },
   "outputs": [],
   "source": [
    "def choose_y_axis_params(all_avg, in_name1, in_name2, to_frame):\n",
    "    \"\"\"\n",
    "    When plotting multiple trajectories, I need to choose plot parameters based on multiple datasets.  This function uses the\n",
    "    function ranges_and_ticks to choose the best parameters based on multiple trajectories.\n",
    "    \n",
    "    Inputs:\n",
    "    all_avg: dictionary of numpy arrays.  A subset of this data will be plotted based on the parameters in_name1 and in_name2.\n",
    "    in_name1: string.  in_name1 should be found within the keys in all_avg of all datasets to be plotted e.g. if I want to plot \n",
    "        all RED datasets, the I could use in_name1=RED.\n",
    "    in_name2: similar criteria to in_name1.  If I want to narrow the data to be plotted to PEG datasets, then, in_name2 could be\n",
    "        \"_PEG\" (if you only use PEG, it will plot all nPEG and PEG datasets, due to my chosen nomenclature. Just be aware of\n",
    "        your naming system).\n",
    "    to_frame: integer, limits data to be graphed to the range [0, to_frame].\n",
    "    \n",
    "    Outputs:\n",
    "    y_range_final: upper boundary containing the entire range of range_to_graph[0, to_frame].\n",
    "    ticks_final: tick interval.\n",
    "    decimals_final: number of decimals to display.\n",
    "    \n",
    "    Example:\n",
    "    choose_y_axis_params(all_avg, \"RED\", \"_PEG\", 15)\n",
    "    \"\"\"\n",
    "\n",
    "    to_graph = {}\n",
    "    counter = 0\n",
    "\n",
    "    for keys in all_avg:\n",
    "        if in_name1 in keys and in_name2 in keys:\n",
    "            to_graph[counter] = keys\n",
    "            counter = counter + 1\n",
    "\n",
    "    y_range = np.zeros(counter)\n",
    "    ticks = np.zeros(counter)\n",
    "    decimals = np.zeros(counter)\n",
    "    base = np.zeros(counter)\n",
    "\n",
    "    for keys in to_graph:\n",
    "        y_range[keys], ticks[keys], decimals[keys] = range_and_ticks(all_avg[to_graph[keys]], to_frame)\n",
    "\n",
    "    one_to_graph = np.argmax(y_range)\n",
    "    y_range_final = y_range[one_to_graph]\n",
    "    ticks_final = ticks[one_to_graph]\n",
    "    decimals_final = int(decimals[one_to_graph])\n",
    "\n",
    "    return y_range_final, ticks_final, decimals_final"
   ]
  },
  {
   "cell_type": "code",
   "execution_count": 10,
   "metadata": {
    "collapsed": false
   },
   "outputs": [],
   "source": [
    "def graph_single_variable(all_avg, time, time_SD, SD_frames, in_name1, in_name2, to_frame=15, line_colors=['g', 'r', 'b', 'c', 'm', 'k'], line_kind='-',\n",
    "                         x_manual_decimals=False, x_manual_decimals_val=2, label_size=95, legend_size=40, tick_size=50,\n",
    "                         line_width=10, fig_size=(20,18), modify_labels=False, label_identifier=\"agarose_\"):\n",
    "    to_graph = {}\n",
    "    line_type = {}\n",
    "    counter = 0\n",
    "    labels = {}\n",
    "\n",
    "    y_range, ticks_y, dec_y = choose_y_axis_params(all_avg, in_name1, in_name2, to_frame)\n",
    "    x_range, ticks_x, dec_x = range_and_ticks(time, to_frame, x_manual_decimals, x_manual_decimals_val)\n",
    "\n",
    "    filename = in_name1 + in_name2 + \".png\"\n",
    "\n",
    "    # Creates figure\n",
    "    fig = plt.figure(figsize=fig_size, dpi=80)\n",
    "    ax = fig.add_subplot(111)\n",
    "\n",
    "    for keys in all_avg:\n",
    "        if in_name1 in keys and in_name2 in keys:\n",
    "            to_graph[counter] = keys\n",
    "            counter = counter + 1\n",
    "\n",
    "    for keys in to_graph:\n",
    "        if modify_labels==True:\n",
    "            labels[keys] = to_graph[keys].split(label_identifier, 1)[1]\n",
    "        else:\n",
    "            labels[keys] = to_graph[keys]\n",
    "        line_type[keys] = line_colors[keys]+line_kind  \n",
    "        ax.plot(time[0:to_frame], all_avg[to_graph[keys]][0:to_frame], line_type[keys], linewidth=line_width, label=labels[keys])\n",
    "        ax.errorbar(time_SD, all_avg[to_graph[keys]][SD_frames], all_SD[to_graph[keys]], fmt='', linestyle='', capsize=7, capthick=2, elinewidth=2, color=line_colors[keys])\n",
    "\n",
    "    # A few adjustments to prettify the graph\n",
    "    for item in ([ax.xaxis.label, ax.yaxis.label] +\n",
    "                 ax.get_xticklabels() + ax.get_yticklabels()):\n",
    "        item.set_fontsize(tick_size)\n",
    "\n",
    "    xmajor_ticks = np.arange(0, x_range+0.0001, ticks_x)\n",
    "    ymajor_ticks = np.arange(0, y_range+0.0001, ticks_y)\n",
    "\n",
    "    ax.set_xticks(xmajor_ticks)\n",
    "    plt.xticks(rotation=-30)\n",
    "    ax.set_yticks(ymajor_ticks)\n",
    "    ax.title.set_fontsize(tick_size)\n",
    "    ax.set_xlabel('Time (s)', fontsize=label_size)\n",
    "    ax.set_ylabel(r'MSD ($\\mu$m$^2$)', fontsize=label_size)\n",
    "    ax.tick_params(direction='out', pad=16)\n",
    "    ax.legend(loc=(0.02, 0.75), prop={'size': legend_size})\n",
    "    plt.gca().xaxis.set_major_formatter(mpl.ticker.FormatStrFormatter('%.{}f'.format(dec_x)))\n",
    "    plt.gca().yaxis.set_major_formatter(mpl.ticker.FormatStrFormatter('%.{}f'.format(dec_y)))\n",
    "\n",
    "\n",
    "    # plt.yscale('log')\n",
    "    # plt.xscale('log')\n",
    "    plt.gca().set_xlim([0, x_range+0.0001])\n",
    "    plt.gca().set_ylim([0, y_range+0.0001])\n",
    "\n",
    "    # Save your figure\n",
    "    plt.savefig('{}'.format(filename), bbox_inches='tight')"
   ]
  },
  {
   "cell_type": "code",
   "execution_count": 11,
   "metadata": {
    "collapsed": false
   },
   "outputs": [],
   "source": [
    "in_name1 = \"RED\"\n",
    "in_name2 = \"nPEG\"\n",
    "\n",
    "graph_single_variable(all_avg, time, time_SD, SD_frames, in_name1, in_name2, to_frame=to_frame,  x_manual_decimals=True, x_manual_decimals_val=2,\n",
    "                      modify_labels=True, label_identifier=\"agarose_\")\n",
    "plt.show()"
   ]
  },
  {
   "cell_type": "code",
   "execution_count": 12,
   "metadata": {
    "collapsed": true
   },
   "outputs": [],
   "source": [
    "in_name1 = \"RED\"\n",
    "in_name2 = \"_PEG\"\n",
    "\n",
    "graph_single_variable(all_avg, time, time_SD, SD_frames, in_name1, in_name2, to_frame=to_frame,  x_manual_decimals=True, x_manual_decimals_val=2,\n",
    "                      modify_labels=True, label_identifier=\"agarose_\")\n",
    "plt.show()"
   ]
  },
  {
   "cell_type": "code",
   "execution_count": null,
   "metadata": {
    "collapsed": true
   },
   "outputs": [],
   "source": []
  }
 ],
 "metadata": {
  "kernelspec": {
   "display_name": "Python 3",
   "language": "python",
   "name": "python3"
  },
  "language_info": {
   "codemirror_mode": {
    "name": "ipython",
    "version": 3
   },
   "file_extension": ".py",
   "mimetype": "text/x-python",
   "name": "python",
   "nbconvert_exporter": "python",
   "pygments_lexer": "ipython3",
   "version": "3.5.3"
  }
 },
 "nbformat": 4,
 "nbformat_minor": 0
}
