{
 "cells": [
  {
   "cell_type": "code",
   "execution_count": 1,
   "metadata": {
    "collapsed": true
   },
   "outputs": [],
   "source": [
    "import os\n",
    "import csv\n",
    "import sys\n",
    "module_path = os.path.abspath(os.path.join('..'))\n",
    "if module_path not in sys.path:\n",
    "    sys.path.append(module_path)\n",
    "\n",
    "from trajectory_visualization import plot_trajectory, sidebyside, shift_trajectory, overlay, shift_trajectory3D\n",
    "from trajectory_visualization import plot_trajectories3D, plot_3Doverlay, plot_MSDorDeff, plot_MeanMSDorDeff, randtraj, multrandtraj\n",
    "from trajectory_visualization import randtraj2, plot_Mean2DMSDsorDeff, plot_MSDorDeffLR, LRfor3D2D, fillin, prettify\n",
    "from methods_of_Dcalc import Dpointder, Dlinalg, Dlinalgw\n",
    "\n",
    "import matplotlib as mpl\n",
    "import matplotlib.pyplot as plt\n",
    "import matplotlib.ticker as mtick\n",
    "import scipy.optimize as opt\n",
    "import scipy.stats as stat\n",
    "from mpl_toolkits.mplot3d import Axes3D\n",
    "from operator import itemgetter\n",
    "import random\n",
    "import numpy as np\n",
    "import numpy.ma as ma\n",
    "import numpy.linalg as la\n",
    "from mpl_toolkits.mplot3d import Axes3D\n",
    "\n",
    "pi = np.pi\n",
    "sin = np.sin\n",
    "cos = np.cos"
   ]
  },
  {
   "cell_type": "code",
   "execution_count": 74,
   "metadata": {
    "collapsed": false
   },
   "outputs": [],
   "source": [
    "#The purpose of this book is to compare in one plot the results of varying parameters.\n",
    "\n",
    "FM2xy_camera_1000ms_40x = np.genfromtxt('./FM2xy_camera_1000ms_40x.csv',delimiter =\",\")\n",
    "FM2xy_camera_1000ms_60x = np.genfromtxt('./FM2xy_camera_1000ms_60x.csv',delimiter =\",\")\n",
    "FM2xy_camera_625ms_40x = np.genfromtxt('./FM2xy_camera_625ms_40x.csv',delimiter =\",\")\n",
    "FM2xy_camera_625ms_60x = np.genfromtxt('./FM2xy_camera_625ms_60x.csv',delimiter =\",\")\n",
    "\n",
    "FM2xy_confocal_1000ms_40x = np.genfromtxt('./FM2xy_confocal_1000ms_40x.csv',delimiter =\",\")\n",
    "FM2xy_confocal_1000ms_60x = np.genfromtxt('./FM2xy_confocal_1000ms_60x.csv',delimiter =\",\")\n",
    "FM2xy_confocal_625ms_40x = np.genfromtxt('./FM2xy_confocal_625ms_40x.csv',delimiter =\",\")\n",
    "FM2xy_confocal_625ms_60x = np.genfromtxt('./FM2xy_confocal_625ms_60x.csv',delimiter =\",\")[0:-1]"
   ]
  },
  {
   "cell_type": "code",
   "execution_count": 85,
   "metadata": {
    "collapsed": true
   },
   "outputs": [],
   "source": [
    "geoM2xy_camera_1000ms_60x = np.genfromtxt('./geoM2xy_camera_1000ms_60x.csv',delimiter =\",\")\n",
    "arM2xy_camera_1000ms_60x = np.genfromtxt('./arM2xy_camera_1000ms_60x.csv',delimiter =\",\")"
   ]
  },
  {
   "cell_type": "code",
   "execution_count": 26,
   "metadata": {
    "collapsed": false
   },
   "outputs": [],
   "source": [
    "f1 = 1.62\n",
    "f2 = 1.02\n",
    "\n",
    "time1 = np.zeros(FM2xy_camera_625ms_40x.shape[0])\n",
    "time2 = np.zeros(FM2xy_camera_1000ms_40x.shape[0])\n",
    "\n",
    "for num in range(0, FM2xy_camera_625ms_40x.shape[0]):\n",
    "    time1[num] = num/f1\n",
    "\n",
    "for num in range(0, FM2xy_camera_1000ms_40x.shape[0]):\n",
    "    time2[num] = num/f2"
   ]
  },
  {
   "cell_type": "code",
   "execution_count": 24,
   "metadata": {
    "collapsed": false
   },
   "outputs": [
    {
     "data": {
      "text/plain": [
       "array([        nan,  0.00793567,  0.00681826,  0.00725611,  0.00802544,\n",
       "        0.00794948,  0.00762507,  0.00877513,  0.00693434,  0.0084937 ,\n",
       "        0.00841248,  0.00884374,  0.00930203,  0.00819191,  0.00901503,\n",
       "        0.00912503,  0.01021313,  0.01019277,  0.01044036,  0.01006949,\n",
       "        0.01030254,  0.01033532,  0.01160115,  0.01355012,  0.01198642,\n",
       "        0.01131481,  0.01217285,  0.01124666,  0.01309879,  0.01134813,\n",
       "        0.01327542,  0.01201142,  0.01106507,  0.01164769,  0.01168304,\n",
       "        0.01372017,  0.01252873,  0.01336069,  0.01416753,  0.01549862,\n",
       "        0.01491109,  0.01530654,  0.01469845,  0.01484872,  0.01374063,\n",
       "        0.01572874])"
      ]
     },
     "execution_count": 24,
     "metadata": {},
     "output_type": "execute_result"
    }
   ],
   "source": [
    "FM2xy_confocal_1000ms_40x"
   ]
  },
  {
   "cell_type": "code",
   "execution_count": 28,
   "metadata": {
    "collapsed": false
   },
   "outputs": [
    {
     "data": {
      "text/plain": [
       "array([  0.        ,   0.98039216,   1.96078431,   2.94117647,\n",
       "         3.92156863,   4.90196078,   5.88235294,   6.8627451 ,\n",
       "         7.84313725,   8.82352941,   9.80392157,  10.78431373,\n",
       "        11.76470588,  12.74509804,  13.7254902 ,  14.70588235,\n",
       "        15.68627451,  16.66666667,  17.64705882,  18.62745098,\n",
       "        19.60784314,  20.58823529,  21.56862745,  22.54901961,\n",
       "        23.52941176,  24.50980392,  25.49019608,  26.47058824,\n",
       "        27.45098039,  28.43137255,  29.41176471,  30.39215686,\n",
       "        31.37254902,  32.35294118,  33.33333333,  34.31372549,\n",
       "        35.29411765,  36.2745098 ,  37.25490196,  38.23529412,\n",
       "        39.21568627,  40.19607843,  41.17647059,  42.15686275,\n",
       "        43.1372549 ,  44.11764706])"
      ]
     },
     "execution_count": 28,
     "metadata": {},
     "output_type": "execute_result"
    }
   ],
   "source": [
    "time2"
   ]
  },
  {
   "cell_type": "code",
   "execution_count": 46,
   "metadata": {
    "collapsed": false
   },
   "outputs": [],
   "source": [
    "#Figure parameters\n",
    "\n",
    "filename = 'FBF_comparison_40x.png'\n",
    "\n",
    "limit1=50.1 #x range\n",
    "tick1 = round(limit1)/5 #x ticks\n",
    "\n",
    "limit2=0.051 #y range\n",
    "tick2 = round(limit2, 2)/5 #y ticks\n",
    "\n",
    "label=95 #label font size\n",
    "leg=40 #legend font size\n",
    "ylabel=r'MSD ($\\mu$m$^2$)'\n",
    "\n",
    "dec1=0 #decimals displayed on x axis\n",
    "dec2=2 #decimals displayed on y axis\n",
    "\n",
    "d1 = 30 #dashed line dash length\n",
    "d2 = 15 #dashed line space length\n",
    "\n",
    "wi = 10 #line width\n",
    "mi = 12 #marker size"
   ]
  },
  {
   "cell_type": "code",
   "execution_count": 49,
   "metadata": {
    "collapsed": false
   },
   "outputs": [],
   "source": [
    "# Creates figure\n",
    "fig = plt.figure(figsize=(24, 18), dpi=80)\n",
    "ax = fig.add_subplot(111)\n",
    "    # ax.set_title('Particle Trajectories', x=0.5, y=1.15)\n",
    "\n",
    "ax.plot(time2, FM2xy_camera_1000ms_40x, 'bo', ms=mi, label='Camera 1000ms 40x')\n",
    "ax.plot(time1, FM2xy_camera_625ms_40x, 'b--', linewidth=wi, dashes=[d1,d2], label='Camera 625ms 40x')\n",
    "ax.plot(time2, FM2xy_confocal_1000ms_40x, 'go', ms=mi, label='Confocal 1000ms 40x')\n",
    "ax.plot(time1, FM2xy_confocal_625ms_40x, 'g--', linewidth=wi, dashes=[d1,d2], label='Confocal 625ms 40x')\n",
    "    \n",
    "# ax.errorbar(t, MMSD[:, 0], yerr=SE[:, 0], fmt='', linestyle='', capsize=7, capthick=2, elinewidth=2, color='blue')\n",
    "# ax.errorbar(t, MMSD[:, 1], yerr=SE[:, 1], fmt='', linestyle='', capsize=7, capthick=2, elinewidth=2, color='red')\n",
    "# ax.errorbar(t, MMSD[:, 2], yerr=SE[:, 2], fmt='', linestyle='', capsize=7, capthick=2, elinewidth=2, color='green')\n",
    "\n",
    "# ax.plot(t, line[0], linewidth=3, color='blue')\n",
    "# ax.plot(t, line[1], linewidth=3, color='red')\n",
    "# ax.plot(t, line[2], linewidth=3, color='green')\n",
    "    \n",
    "#ax.plot(t, linel[0], linewidth=3, color='blue')\n",
    "#ax.plot(t, linel[1], linewidth=3, color='red')\n",
    "#ax.plot(t, linel[2], linewidth=3, color='green')\n",
    "    \n",
    "# A few adjustments to prettify the graph\n",
    "for item in ([ax.xaxis.label, ax.yaxis.label] +\n",
    "             ax.get_xticklabels() + ax.get_yticklabels()):\n",
    "    item.set_fontsize(70)\n",
    "\n",
    "xmajor_ticks = np.arange(0, limit1, tick1)\n",
    "ymajor_ticks = np.arange(0, limit2, tick2)\n",
    "\n",
    "ax.set_xticks(xmajor_ticks)\n",
    "ax.set_yticks(ymajor_ticks)\n",
    "ax.title.set_fontsize(70)\n",
    "ax.set_xlabel('Time (s)', fontsize=label)\n",
    "ax.set_ylabel(ylabel, fontsize=label)\n",
    "ax.tick_params(direction='out', pad=16)\n",
    "ax.legend(loc=(0.06, 0.66), prop={'size': leg})\n",
    "plt.gca().xaxis.set_major_formatter(mpl.ticker.FormatStrFormatter('%.{}f'.format(dec1)))\n",
    "plt.gca().yaxis.set_major_formatter(mpl.ticker.FormatStrFormatter('%.{}f'.format(dec2)))\n",
    "\n",
    "\n",
    "#plt.yscale('log')\n",
    "#plt.xscale('log')\n",
    "plt.gca().set_xlim([0, limit1])\n",
    "plt.gca().set_ylim([0, limit2])\n",
    "\n",
    "# Save your figure\n",
    "plt.savefig('{}.png'.format(filename), bbox_inches='tight')\n",
    "plt.show()"
   ]
  },
  {
   "cell_type": "code",
   "execution_count": 35,
   "metadata": {
    "collapsed": false
   },
   "outputs": [
    {
     "data": {
      "text/plain": [
       "'MSD ($\\\\mu$m$^2$)'"
      ]
     },
     "execution_count": 35,
     "metadata": {},
     "output_type": "execute_result"
    }
   ],
   "source": [
    "#Figure parameters\n",
    "\n",
    "filename = 'FBF_comparison_60x.png'\n",
    "\n",
    "limit1=50.1 #x range\n",
    "tick1 = round(limit1)/5 #x ticks\n",
    "\n",
    "limit2=0.051 #y range\n",
    "tick2 = round(limit2, 2)/5 #y ticks\n",
    "\n",
    "label=95 #label font size\n",
    "leg=40 #legend font size\n",
    "ylabel=r'MSD ($\\mu$m$^2$)'\n",
    "\n",
    "dec1=0 #decimals displayed on x axis\n",
    "dec2=2 #decimals displayed on y axis\n",
    "\n",
    "d1 = 30 #dashed line dash length\n",
    "d2 = 15 #dashed line space length\n",
    "\n",
    "wi = 10 #line width\n",
    "mi = 12 #marker size"
   ]
  },
  {
   "cell_type": "code",
   "execution_count": 59,
   "metadata": {
    "collapsed": false
   },
   "outputs": [],
   "source": [
    "# Creates figure\n",
    "fig = plt.figure(figsize=(24, 18), dpi=80)\n",
    "ax = fig.add_subplot(111)\n",
    "    # ax.set_title('Particle Trajectories', x=0.5, y=1.15)\n",
    "\n",
    "ax.plot(time2, FM2xy_camera_1000ms_60x, 'bo', ms=mi, label='Camera 1000ms 60x')\n",
    "ax.plot(time1, FM2xy_camera_625ms_60x, 'b--', linewidth=wi, dashes=[d1,d2], label='Camera 625ms 60x')\n",
    "ax.plot(time2, FM2xy_confocal_1000ms_60x, 'go', ms=mi, label='Confocal 1000ms 60x')\n",
    "ax.plot(time1, FM2xy_confocal_625ms_60x, 'g--', linewidth=wi, dashes=[d1,d2], label='Confocal 625ms 60x')\n",
    "    \n",
    "# ax.errorbar(t, MMSD[:, 0], yerr=SE[:, 0], fmt='', linestyle='', capsize=7, capthick=2, elinewidth=2, color='blue')\n",
    "# ax.errorbar(t, MMSD[:, 1], yerr=SE[:, 1], fmt='', linestyle='', capsize=7, capthick=2, elinewidth=2, color='red')\n",
    "# ax.errorbar(t, MMSD[:, 2], yerr=SE[:, 2], fmt='', linestyle='', capsize=7, capthick=2, elinewidth=2, color='green')\n",
    "\n",
    "# ax.plot(t, line[0], linewidth=3, color='blue')\n",
    "# ax.plot(t, line[1], linewidth=3, color='red')\n",
    "# ax.plot(t, line[2], linewidth=3, color='green')\n",
    "    \n",
    "#ax.plot(t, linel[0], linewidth=3, color='blue')\n",
    "#ax.plot(t, linel[1], linewidth=3, color='red')\n",
    "#ax.plot(t, linel[2], linewidth=3, color='green')\n",
    "    \n",
    "# A few adjustments to prettify the graph\n",
    "for item in ([ax.xaxis.label, ax.yaxis.label] +\n",
    "             ax.get_xticklabels() + ax.get_yticklabels()):\n",
    "    item.set_fontsize(70)\n",
    "\n",
    "xmajor_ticks = np.arange(0, limit1, tick1)\n",
    "ymajor_ticks = np.arange(0, limit2, tick2)\n",
    "\n",
    "ax.set_xticks(xmajor_ticks)\n",
    "ax.set_yticks(ymajor_ticks)\n",
    "ax.title.set_fontsize(70)\n",
    "ax.set_xlabel('Time (s)', fontsize=label)\n",
    "ax.set_ylabel(ylabel, fontsize=label)\n",
    "ax.tick_params(direction='out', pad=16)\n",
    "ax.legend(loc=(0.06, 0.66), prop={'size': leg})\n",
    "plt.gca().xaxis.set_major_formatter(mpl.ticker.FormatStrFormatter('%.{}f'.format(dec1)))\n",
    "plt.gca().yaxis.set_major_formatter(mpl.ticker.FormatStrFormatter('%.{}f'.format(dec2)))\n",
    "\n",
    "\n",
    "#plt.yscale('log')\n",
    "#plt.xscale('log')\n",
    "plt.gca().set_xlim([0, limit1])\n",
    "plt.gca().set_ylim([0, limit2])\n",
    "\n",
    "# Save your figure\n",
    "plt.savefig('{}.png'.format(filename), bbox_inches='tight')\n",
    "plt.show()"
   ]
  },
  {
   "cell_type": "code",
   "execution_count": 60,
   "metadata": {
    "collapsed": true
   },
   "outputs": [],
   "source": [
    "#Figure parameters\n",
    "\n",
    "filename = 'FBF_comparison_625ms.png'\n",
    "\n",
    "limit1=50.1 #x range\n",
    "tick1 = round(limit1)/5 #x ticks\n",
    "\n",
    "limit2=0.051 #y range\n",
    "tick2 = round(limit2, 2)/5 #y ticks\n",
    "\n",
    "label=95 #label font size\n",
    "leg=40 #legend font size\n",
    "ylabel=r'MSD ($\\mu$m$^2$)'\n",
    "\n",
    "dec1=0 #decimals displayed on x axis\n",
    "dec2=2 #decimals displayed on y axis\n",
    "\n",
    "d1 = 30 #dashed line dash length\n",
    "d2 = 15 #dashed line space length\n",
    "\n",
    "wi = 10 #line width\n",
    "mi = 12 #marker size"
   ]
  },
  {
   "cell_type": "code",
   "execution_count": 63,
   "metadata": {
    "collapsed": false
   },
   "outputs": [],
   "source": [
    "# Creates figure\n",
    "fig = plt.figure(figsize=(24, 18), dpi=80)\n",
    "ax = fig.add_subplot(111)\n",
    "    # ax.set_title('Particle Trajectories', x=0.5, y=1.15)\n",
    "\n",
    "ax.plot(time1, FM2xy_camera_625ms_40x, 'bo', ms=mi, label='Camera 625ms 40x')\n",
    "ax.plot(time1, FM2xy_camera_625ms_60x, 'b--', linewidth=wi, dashes=[d1,d2], label='Camera 625ms 60x')\n",
    "ax.plot(time1, FM2xy_confocal_625ms_40x, 'go', ms=mi, label='Confocal 625ms 40x')\n",
    "ax.plot(time1, FM2xy_confocal_625ms_60x, 'g--', linewidth=wi, dashes=[d1,d2], label='Confocal 625ms 60x')\n",
    "    \n",
    "# ax.errorbar(t, MMSD[:, 0], yerr=SE[:, 0], fmt='', linestyle='', capsize=7, capthick=2, elinewidth=2, color='blue')\n",
    "# ax.errorbar(t, MMSD[:, 1], yerr=SE[:, 1], fmt='', linestyle='', capsize=7, capthick=2, elinewidth=2, color='red')\n",
    "# ax.errorbar(t, MMSD[:, 2], yerr=SE[:, 2], fmt='', linestyle='', capsize=7, capthick=2, elinewidth=2, color='green')\n",
    "\n",
    "# ax.plot(t, line[0], linewidth=3, color='blue')\n",
    "# ax.plot(t, line[1], linewidth=3, color='red')\n",
    "# ax.plot(t, line[2], linewidth=3, color='green')\n",
    "    \n",
    "#ax.plot(t, linel[0], linewidth=3, color='blue')\n",
    "#ax.plot(t, linel[1], linewidth=3, color='red')\n",
    "#ax.plot(t, linel[2], linewidth=3, color='green')\n",
    "    \n",
    "# A few adjustments to prettify the graph\n",
    "for item in ([ax.xaxis.label, ax.yaxis.label] +\n",
    "             ax.get_xticklabels() + ax.get_yticklabels()):\n",
    "    item.set_fontsize(70)\n",
    "\n",
    "xmajor_ticks = np.arange(0, limit1, tick1)\n",
    "ymajor_ticks = np.arange(0, limit2, tick2)\n",
    "\n",
    "ax.set_xticks(xmajor_ticks)\n",
    "ax.set_yticks(ymajor_ticks)\n",
    "ax.title.set_fontsize(70)\n",
    "ax.set_xlabel('Time (s)', fontsize=label)\n",
    "ax.set_ylabel(ylabel, fontsize=label)\n",
    "ax.tick_params(direction='out', pad=16)\n",
    "ax.legend(loc=(0.06, 0.66), prop={'size': leg})\n",
    "plt.gca().xaxis.set_major_formatter(mpl.ticker.FormatStrFormatter('%.{}f'.format(dec1)))\n",
    "plt.gca().yaxis.set_major_formatter(mpl.ticker.FormatStrFormatter('%.{}f'.format(dec2)))\n",
    "\n",
    "\n",
    "#plt.yscale('log')\n",
    "#plt.xscale('log')\n",
    "plt.gca().set_xlim([0, limit1])\n",
    "plt.gca().set_ylim([0, limit2])\n",
    "\n",
    "# Save your figure\n",
    "plt.savefig('{}.png'.format(filename), bbox_inches='tight')\n",
    "plt.show()"
   ]
  },
  {
   "cell_type": "code",
   "execution_count": 64,
   "metadata": {
    "collapsed": true
   },
   "outputs": [],
   "source": [
    "#Figure parameters\n",
    "\n",
    "filename = 'FBF_comparison_1000ms.png'\n",
    "\n",
    "limit1=50.1 #x range\n",
    "tick1 = round(limit1)/5 #x ticks\n",
    "\n",
    "limit2=0.051 #y range\n",
    "tick2 = round(limit2, 2)/5 #y ticks\n",
    "\n",
    "label=95 #label font size\n",
    "leg=40 #legend font size\n",
    "ylabel=r'MSD ($\\mu$m$^2$)'\n",
    "\n",
    "dec1=0 #decimals displayed on x axis\n",
    "dec2=2 #decimals displayed on y axis\n",
    "\n",
    "d1 = 30 #dashed line dash length\n",
    "d2 = 15 #dashed line space length\n",
    "\n",
    "wi = 10 #line width\n",
    "mi = 12 #marker size"
   ]
  },
  {
   "cell_type": "code",
   "execution_count": 65,
   "metadata": {
    "collapsed": true
   },
   "outputs": [],
   "source": [
    "# Creates figure\n",
    "fig = plt.figure(figsize=(24, 18), dpi=80)\n",
    "ax = fig.add_subplot(111)\n",
    "    # ax.set_title('Particle Trajectories', x=0.5, y=1.15)\n",
    "\n",
    "ax.plot(time2, FM2xy_camera_1000ms_40x, 'bo', ms=mi, label='Camera 1000ms 40x')\n",
    "ax.plot(time2, FM2xy_camera_1000ms_60x, 'b--', linewidth=wi, dashes=[d1,d2], label='Camera 1000ms 60x')\n",
    "ax.plot(time2, FM2xy_confocal_1000ms_40x, 'go', ms=mi, label='Confocal 1000ms 40x')\n",
    "ax.plot(time2, FM2xy_confocal_1000ms_60x, 'g--', linewidth=wi, dashes=[d1,d2], label='Confocal 1000ms 60x')\n",
    "    \n",
    "# ax.errorbar(t, MMSD[:, 0], yerr=SE[:, 0], fmt='', linestyle='', capsize=7, capthick=2, elinewidth=2, color='blue')\n",
    "# ax.errorbar(t, MMSD[:, 1], yerr=SE[:, 1], fmt='', linestyle='', capsize=7, capthick=2, elinewidth=2, color='red')\n",
    "# ax.errorbar(t, MMSD[:, 2], yerr=SE[:, 2], fmt='', linestyle='', capsize=7, capthick=2, elinewidth=2, color='green')\n",
    "\n",
    "# ax.plot(t, line[0], linewidth=3, color='blue')\n",
    "# ax.plot(t, line[1], linewidth=3, color='red')\n",
    "# ax.plot(t, line[2], linewidth=3, color='green')\n",
    "    \n",
    "#ax.plot(t, linel[0], linewidth=3, color='blue')\n",
    "#ax.plot(t, linel[1], linewidth=3, color='red')\n",
    "#ax.plot(t, linel[2], linewidth=3, color='green')\n",
    "    \n",
    "# A few adjustments to prettify the graph\n",
    "for item in ([ax.xaxis.label, ax.yaxis.label] +\n",
    "             ax.get_xticklabels() + ax.get_yticklabels()):\n",
    "    item.set_fontsize(70)\n",
    "\n",
    "xmajor_ticks = np.arange(0, limit1, tick1)\n",
    "ymajor_ticks = np.arange(0, limit2, tick2)\n",
    "\n",
    "ax.set_xticks(xmajor_ticks)\n",
    "ax.set_yticks(ymajor_ticks)\n",
    "ax.title.set_fontsize(70)\n",
    "ax.set_xlabel('Time (s)', fontsize=label)\n",
    "ax.set_ylabel(ylabel, fontsize=label)\n",
    "ax.tick_params(direction='out', pad=16)\n",
    "ax.legend(loc=(0.06, 0.66), prop={'size': leg})\n",
    "plt.gca().xaxis.set_major_formatter(mpl.ticker.FormatStrFormatter('%.{}f'.format(dec1)))\n",
    "plt.gca().yaxis.set_major_formatter(mpl.ticker.FormatStrFormatter('%.{}f'.format(dec2)))\n",
    "\n",
    "\n",
    "#plt.yscale('log')\n",
    "#plt.xscale('log')\n",
    "plt.gca().set_xlim([0, limit1])\n",
    "plt.gca().set_ylim([0, limit2])\n",
    "\n",
    "# Save your figure\n",
    "plt.savefig('{}.png'.format(filename), bbox_inches='tight')\n",
    "plt.show()"
   ]
  },
  {
   "cell_type": "code",
   "execution_count": 66,
   "metadata": {
    "collapsed": true
   },
   "outputs": [],
   "source": [
    "#Figure parameters\n",
    "\n",
    "filename = 'FBF_comparison_camera.png'\n",
    "\n",
    "limit1=50.1 #x range\n",
    "tick1 = round(limit1)/5 #x ticks\n",
    "\n",
    "limit2=0.051 #y range\n",
    "tick2 = round(limit2, 2)/5 #y ticks\n",
    "\n",
    "label=95 #label font size\n",
    "leg=40 #legend font size\n",
    "ylabel=r'MSD ($\\mu$m$^2$)'\n",
    "\n",
    "dec1=0 #decimals displayed on x axis\n",
    "dec2=2 #decimals displayed on y axis\n",
    "\n",
    "d1 = 30 #dashed line dash length\n",
    "d2 = 15 #dashed line space length\n",
    "\n",
    "wi = 10 #line width\n",
    "mi = 12 #marker size"
   ]
  },
  {
   "cell_type": "code",
   "execution_count": 67,
   "metadata": {
    "collapsed": true
   },
   "outputs": [],
   "source": [
    "# Creates figure\n",
    "fig = plt.figure(figsize=(24, 18), dpi=80)\n",
    "ax = fig.add_subplot(111)\n",
    "    # ax.set_title('Particle Trajectories', x=0.5, y=1.15)\n",
    "\n",
    "ax.plot(time2, FM2xy_camera_1000ms_40x, 'bo', ms=mi, label='Camera 1000ms 40x')\n",
    "ax.plot(time2, FM2xy_camera_1000ms_60x, 'b--', linewidth=wi, dashes=[d1,d2], label='Camera 1000ms 60x')\n",
    "ax.plot(time1, FM2xy_camera_625ms_40x, 'go', ms=mi, label='Camera 625ms 40x')\n",
    "ax.plot(time1, FM2xy_camera_625ms_60x, 'g--', linewidth=wi, dashes=[d1,d2], label='Camera 625ms 60x')\n",
    "    \n",
    "# ax.errorbar(t, MMSD[:, 0], yerr=SE[:, 0], fmt='', linestyle='', capsize=7, capthick=2, elinewidth=2, color='blue')\n",
    "# ax.errorbar(t, MMSD[:, 1], yerr=SE[:, 1], fmt='', linestyle='', capsize=7, capthick=2, elinewidth=2, color='red')\n",
    "# ax.errorbar(t, MMSD[:, 2], yerr=SE[:, 2], fmt='', linestyle='', capsize=7, capthick=2, elinewidth=2, color='green')\n",
    "\n",
    "# ax.plot(t, line[0], linewidth=3, color='blue')\n",
    "# ax.plot(t, line[1], linewidth=3, color='red')\n",
    "# ax.plot(t, line[2], linewidth=3, color='green')\n",
    "    \n",
    "#ax.plot(t, linel[0], linewidth=3, color='blue')\n",
    "#ax.plot(t, linel[1], linewidth=3, color='red')\n",
    "#ax.plot(t, linel[2], linewidth=3, color='green')\n",
    "    \n",
    "# A few adjustments to prettify the graph\n",
    "for item in ([ax.xaxis.label, ax.yaxis.label] +\n",
    "             ax.get_xticklabels() + ax.get_yticklabels()):\n",
    "    item.set_fontsize(70)\n",
    "\n",
    "xmajor_ticks = np.arange(0, limit1, tick1)\n",
    "ymajor_ticks = np.arange(0, limit2, tick2)\n",
    "\n",
    "ax.set_xticks(xmajor_ticks)\n",
    "ax.set_yticks(ymajor_ticks)\n",
    "ax.title.set_fontsize(70)\n",
    "ax.set_xlabel('Time (s)', fontsize=label)\n",
    "ax.set_ylabel(ylabel, fontsize=label)\n",
    "ax.tick_params(direction='out', pad=16)\n",
    "ax.legend(loc=(0.06, 0.66), prop={'size': leg})\n",
    "plt.gca().xaxis.set_major_formatter(mpl.ticker.FormatStrFormatter('%.{}f'.format(dec1)))\n",
    "plt.gca().yaxis.set_major_formatter(mpl.ticker.FormatStrFormatter('%.{}f'.format(dec2)))\n",
    "\n",
    "\n",
    "#plt.yscale('log')\n",
    "#plt.xscale('log')\n",
    "plt.gca().set_xlim([0, limit1])\n",
    "plt.gca().set_ylim([0, limit2])\n",
    "\n",
    "# Save your figure\n",
    "plt.savefig('{}.png'.format(filename), bbox_inches='tight')\n",
    "plt.show()"
   ]
  },
  {
   "cell_type": "code",
   "execution_count": 68,
   "metadata": {
    "collapsed": true
   },
   "outputs": [],
   "source": [
    "#Figure parameters\n",
    "\n",
    "filename = 'FBF_comparison_confocal.png'\n",
    "\n",
    "limit1=50.1 #x range\n",
    "tick1 = round(limit1)/5 #x ticks\n",
    "\n",
    "limit2=0.051 #y range\n",
    "tick2 = round(limit2, 2)/5 #y ticks\n",
    "\n",
    "label=95 #label font size\n",
    "leg=40 #legend font size\n",
    "ylabel=r'MSD ($\\mu$m$^2$)'\n",
    "\n",
    "dec1=0 #decimals displayed on x axis\n",
    "dec2=2 #decimals displayed on y axis\n",
    "\n",
    "d1 = 30 #dashed line dash length\n",
    "d2 = 15 #dashed line space length\n",
    "\n",
    "wi = 10 #line width\n",
    "mi = 12 #marker size"
   ]
  },
  {
   "cell_type": "code",
   "execution_count": 69,
   "metadata": {
    "collapsed": true
   },
   "outputs": [],
   "source": [
    "# Creates figure\n",
    "fig = plt.figure(figsize=(24, 18), dpi=80)\n",
    "ax = fig.add_subplot(111)\n",
    "    # ax.set_title('Particle Trajectories', x=0.5, y=1.15)\n",
    "\n",
    "ax.plot(time2, FM2xy_confocal_1000ms_40x, 'bo', ms=mi, label='Confocal 1000ms 40x')\n",
    "ax.plot(time2, FM2xy_confocal_1000ms_60x, 'b--', linewidth=wi, dashes=[d1,d2], label='Confocal 1000ms 60x')\n",
    "ax.plot(time1, FM2xy_confocal_625ms_40x, 'go', ms=mi, label='Confocal 625ms 40x')\n",
    "ax.plot(time1, FM2xy_confocal_625ms_60x, 'g--', linewidth=wi, dashes=[d1,d2], label='Confocal 625ms 60x')\n",
    "    \n",
    "# ax.errorbar(t, MMSD[:, 0], yerr=SE[:, 0], fmt='', linestyle='', capsize=7, capthick=2, elinewidth=2, color='blue')\n",
    "# ax.errorbar(t, MMSD[:, 1], yerr=SE[:, 1], fmt='', linestyle='', capsize=7, capthick=2, elinewidth=2, color='red')\n",
    "# ax.errorbar(t, MMSD[:, 2], yerr=SE[:, 2], fmt='', linestyle='', capsize=7, capthick=2, elinewidth=2, color='green')\n",
    "\n",
    "# ax.plot(t, line[0], linewidth=3, color='blue')\n",
    "# ax.plot(t, line[1], linewidth=3, color='red')\n",
    "# ax.plot(t, line[2], linewidth=3, color='green')\n",
    "    \n",
    "#ax.plot(t, linel[0], linewidth=3, color='blue')\n",
    "#ax.plot(t, linel[1], linewidth=3, color='red')\n",
    "#ax.plot(t, linel[2], linewidth=3, color='green')\n",
    "    \n",
    "# A few adjustments to prettify the graph\n",
    "for item in ([ax.xaxis.label, ax.yaxis.label] +\n",
    "             ax.get_xticklabels() + ax.get_yticklabels()):\n",
    "    item.set_fontsize(70)\n",
    "\n",
    "xmajor_ticks = np.arange(0, limit1, tick1)\n",
    "ymajor_ticks = np.arange(0, limit2, tick2)\n",
    "\n",
    "ax.set_xticks(xmajor_ticks)\n",
    "ax.set_yticks(ymajor_ticks)\n",
    "ax.title.set_fontsize(70)\n",
    "ax.set_xlabel('Time (s)', fontsize=label)\n",
    "ax.set_ylabel(ylabel, fontsize=label)\n",
    "ax.tick_params(direction='out', pad=16)\n",
    "ax.legend(loc=(0.06, 0.66), prop={'size': leg})\n",
    "plt.gca().xaxis.set_major_formatter(mpl.ticker.FormatStrFormatter('%.{}f'.format(dec1)))\n",
    "plt.gca().yaxis.set_major_formatter(mpl.ticker.FormatStrFormatter('%.{}f'.format(dec2)))\n",
    "\n",
    "\n",
    "#plt.yscale('log')\n",
    "#plt.xscale('log')\n",
    "plt.gca().set_xlim([0, limit1])\n",
    "plt.gca().set_ylim([0, limit2])\n",
    "\n",
    "# Save your figure\n",
    "plt.savefig('{}.png'.format(filename), bbox_inches='tight')\n",
    "plt.show()"
   ]
  },
  {
   "cell_type": "code",
   "execution_count": 91,
   "metadata": {
    "collapsed": true
   },
   "outputs": [],
   "source": [
    "#Figure parameters\n",
    "\n",
    "filename = 'FBF_geo_ar_comparison.png'\n",
    "\n",
    "limit1=20.1 #x range\n",
    "tick1 = round(limit1)/5 #x ticks\n",
    "\n",
    "limit2=0.0051 #y range\n",
    "tick2 = round(limit2, 3)/5 #y ticks\n",
    "\n",
    "label=95 #label font size\n",
    "leg=40 #legend font size\n",
    "ylabel=r'MSD ($\\mu$m$^2$)'\n",
    "\n",
    "dec1=0 #decimals displayed on x axis\n",
    "dec2=3 #decimals displayed on y axis\n",
    "\n",
    "d1 = 30 #dashed line dash length\n",
    "d2 = 15 #dashed line space length\n",
    "\n",
    "wi = 10 #line width\n",
    "mi = 12 #marker size"
   ]
  },
  {
   "cell_type": "code",
   "execution_count": 97,
   "metadata": {
    "collapsed": false
   },
   "outputs": [],
   "source": [
    "# Creates figure\n",
    "fig = plt.figure(figsize=(24, 18), dpi=80)\n",
    "ax = fig.add_subplot(111)\n",
    "    # ax.set_title('Particle Trajectories', x=0.5, y=1.15)\n",
    "\n",
    "ax.plot(time2[0:19], geoM2xy_camera_1000ms_60x[0:-1], 'b--', linewidth=wi, dashes=[d1,d2], label='Geometric')\n",
    "ax.plot(time2[0:19], arM2xy_camera_1000ms_60x[0:-1], 'g--', linewidth=wi, dashes=[d1,d2], label='Arithmetic')\n",
    "ax.plot(time2, FM2xy_camera_1000ms_60x, 'r--', linewidth=wi, dashes=[d1,d2], label='Frame-by-frame')\n",
    "    \n",
    "# ax.errorbar(t, MMSD[:, 0], yerr=SE[:, 0], fmt='', linestyle='', capsize=7, capthick=2, elinewidth=2, color='blue')\n",
    "# ax.errorbar(t, MMSD[:, 1], yerr=SE[:, 1], fmt='', linestyle='', capsize=7, capthick=2, elinewidth=2, color='red')\n",
    "# ax.errorbar(t, MMSD[:, 2], yerr=SE[:, 2], fmt='', linestyle='', capsize=7, capthick=2, elinewidth=2, color='green')\n",
    "\n",
    "# ax.plot(t, line[0], linewidth=3, color='blue')\n",
    "# ax.plot(t, line[1], linewidth=3, color='red')\n",
    "# ax.plot(t, line[2], linewidth=3, color='green')\n",
    "    \n",
    "#ax.plot(t, linel[0], linewidth=3, color='blue')\n",
    "#ax.plot(t, linel[1], linewidth=3, color='red')\n",
    "#ax.plot(t, linel[2], linewidth=3, color='green')\n",
    "    \n",
    "# A few adjustments to prettify the graph\n",
    "for item in ([ax.xaxis.label, ax.yaxis.label] +\n",
    "             ax.get_xticklabels() + ax.get_yticklabels()):\n",
    "    item.set_fontsize(70)\n",
    "\n",
    "xmajor_ticks = np.arange(0, limit1, tick1)\n",
    "ymajor_ticks = np.arange(0, limit2, tick2)\n",
    "\n",
    "ax.set_xticks(xmajor_ticks)\n",
    "ax.set_yticks(ymajor_ticks)\n",
    "ax.title.set_fontsize(70)\n",
    "ax.set_xlabel('Time (s)', fontsize=label)\n",
    "ax.set_ylabel(ylabel, fontsize=label)\n",
    "ax.tick_params(direction='out', pad=16)\n",
    "ax.legend(loc=(0.06, 0.66), prop={'size': leg})\n",
    "plt.gca().xaxis.set_major_formatter(mpl.ticker.FormatStrFormatter('%.{}f'.format(dec1)))\n",
    "plt.gca().yaxis.set_major_formatter(mpl.ticker.FormatStrFormatter('%.{}f'.format(dec2)))\n",
    "\n",
    "\n",
    "#plt.yscale('log')\n",
    "#plt.xscale('log')\n",
    "plt.gca().set_xlim([0, limit1])\n",
    "plt.gca().set_ylim([0, limit2])\n",
    "\n",
    "# Save your figure\n",
    "plt.savefig('{}.png'.format(filename), bbox_inches='tight')\n",
    "plt.show()"
   ]
  },
  {
   "cell_type": "code",
   "execution_count": 84,
   "metadata": {
    "collapsed": false
   },
   "outputs": [
    {
     "data": {
      "text/plain": [
       "(46,)"
      ]
     },
     "execution_count": 84,
     "metadata": {},
     "output_type": "execute_result"
    }
   ],
   "source": [
    "geoM2xy_camera_1000ms_60x.shape"
   ]
  },
  {
   "cell_type": "code",
   "execution_count": null,
   "metadata": {
    "collapsed": true
   },
   "outputs": [],
   "source": []
  }
 ],
 "metadata": {
  "kernelspec": {
   "display_name": "Python 3",
   "language": "python",
   "name": "python3"
  },
  "language_info": {
   "codemirror_mode": {
    "name": "ipython",
    "version": 3
   },
   "file_extension": ".py",
   "mimetype": "text/x-python",
   "name": "python",
   "nbconvert_exporter": "python",
   "pygments_lexer": "ipython3",
   "version": "3.5.1"
  }
 },
 "nbformat": 4,
 "nbformat_minor": 0
}
