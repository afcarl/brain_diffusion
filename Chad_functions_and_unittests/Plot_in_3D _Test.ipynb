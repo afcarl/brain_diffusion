{
 "cells": [
  {
   "cell_type": "code",
   "execution_count": 1,
   "metadata": {
    "collapsed": false
   },
   "outputs": [],
   "source": [
    "import matplotlib as mpl\n",
    "import matplotlib.pyplot as plt\n",
    "import scipy.optimize as opt\n",
    "from mpl_toolkits.mplot3d import Axes3D\n",
    "from trajectory_visualization import plot_trajectory, sidebyside, shift_trajectory, overlay, shift_trajectory3D\n",
    "from trajectory_visualization import plot_trajectories3D, plot_3Doverlay, plot_MSDorDeff, plot_MeanMSDorDeff, randtraj, multrandtraj\n",
    "from trajectory_visualization import randtraj2, plot_Mean2DMSDsorDeff, plot_MSDorDeffLR, LRfor3D2D\n",
    "import numpy as np\n",
    "import random"
   ]
  },
  {
   "cell_type": "code",
   "execution_count": 7,
   "metadata": {
    "collapsed": false
   },
   "outputs": [],
   "source": [
    "trajectory = np.genfromtxt('../sample_data/Slice1_Video2_Trajectories.csv',\n",
    "            delimiter =\",\")\n",
    "trajectory=np.delete(trajectory, 0,0)\n"
   ]
  },
  {
   "cell_type": "code",
   "execution_count": null,
   "metadata": {
    "collapsed": false
   },
   "outputs": [],
   "source": [
    "plot_3Doverlay(trajectory, 1, 29, 2, 'practice')\n",
    "plt.show()"
   ]
  },
  {
   "cell_type": "code",
   "execution_count": null,
   "metadata": {
    "collapsed": false
   },
   "outputs": [],
   "source": [
    "plot_MeanMSDorDeff(three, 0,1,15, 2, 'Deff', 'picture')\n",
    "plt.show()"
   ]
  },
  {
   "cell_type": "code",
   "execution_count": null,
   "metadata": {
    "collapsed": false
   },
   "outputs": [],
   "source": [
    "three = multrandtraj(5, 1, 150, 2)"
   ]
  },
  {
   "cell_type": "code",
   "execution_count": null,
   "metadata": {
    "collapsed": false
   },
   "outputs": [],
   "source": [
    "three[:,0]"
   ]
  },
  {
   "cell_type": "code",
   "execution_count": null,
   "metadata": {
    "collapsed": false
   },
   "outputs": [],
   "source": [
    "plot_Mean2DMSDsorDeff(three, 0,1,15, 2, 'MSD', 'picture')\n",
    "plt.show()"
   ]
  },
  {
   "cell_type": "code",
   "execution_count": 6,
   "metadata": {
    "collapsed": false
   },
   "outputs": [
    {
     "ename": "NameError",
     "evalue": "name 'three' is not defined",
     "output_type": "error",
     "traceback": [
      "\u001b[1;31m---------------------------------------------------------------------------\u001b[0m",
      "\u001b[1;31mNameError\u001b[0m                                 Traceback (most recent call last)",
      "\u001b[1;32m<ipython-input-6-a70c9a0c7a0b>\u001b[0m in \u001b[0;36m<module>\u001b[1;34m()\u001b[0m\n\u001b[1;32m----> 1\u001b[1;33m \u001b[0mparticles\u001b[0m \u001b[1;33m=\u001b[0m \u001b[0mthree\u001b[0m\u001b[1;33m[\u001b[0m\u001b[1;33m:\u001b[0m\u001b[1;33m,\u001b[0m \u001b[1;36m0\u001b[0m\u001b[1;33m]\u001b[0m\u001b[1;33m\u001b[0m\u001b[0m\n\u001b[0m\u001b[0;32m      2\u001b[0m \u001b[0mtotal\u001b[0m \u001b[1;33m=\u001b[0m \u001b[0mint\u001b[0m\u001b[1;33m(\u001b[0m\u001b[0mmax\u001b[0m\u001b[1;33m(\u001b[0m\u001b[0mparticles\u001b[0m\u001b[1;33m)\u001b[0m\u001b[1;33m)\u001b[0m\u001b[1;33m\u001b[0m\u001b[0m\n\u001b[0;32m      3\u001b[0m \u001b[0mtotal1\u001b[0m \u001b[1;33m=\u001b[0m \u001b[0mtotal\u001b[0m \u001b[1;33m+\u001b[0m \u001b[1;36m1\u001b[0m\u001b[1;33m\u001b[0m\u001b[0m\n\u001b[0;32m      4\u001b[0m \u001b[0mrawtime\u001b[0m \u001b[1;33m=\u001b[0m \u001b[0mthree\u001b[0m\u001b[1;33m[\u001b[0m\u001b[1;33m:\u001b[0m\u001b[1;33m,\u001b[0m \u001b[1;36m1\u001b[0m\u001b[1;33m]\u001b[0m\u001b[1;33m\u001b[0m\u001b[0m\n\u001b[0;32m      5\u001b[0m \u001b[0mraw2DMSDs\u001b[0m \u001b[1;33m=\u001b[0m \u001b[0mthree\u001b[0m\u001b[1;33m[\u001b[0m\u001b[1;33m:\u001b[0m\u001b[1;33m,\u001b[0m \u001b[1;36m15\u001b[0m\u001b[1;33m:\u001b[0m\u001b[1;36m15\u001b[0m\u001b[1;33m+\u001b[0m\u001b[1;36m4\u001b[0m\u001b[1;33m]\u001b[0m\u001b[1;33m\u001b[0m\u001b[0m\n",
      "\u001b[1;31mNameError\u001b[0m: name 'three' is not defined"
     ]
    }
   ],
   "source": [
    "    particles = three[:, 0]\n",
    "    total = int(max(particles))\n",
    "    total1 = total + 1\n",
    "    rawtime = three[:, 1]\n",
    "    raw2DMSDs = three[:, 15:15+4]\n",
    "    MSD = dict()\n",
    "    time = dict()\n",
    "\n",
    "    # Creates an array for each trajectory containing all xyz data\n",
    "    for num in range(1, total1):\n",
    "\n",
    "        hold = np.where(particles == num)\n",
    "        itindex = hold[0]\n",
    "        min1 = min(itindex)\n",
    "        max1 = max(itindex)\n",
    "        MSD[num] = (raw2DMSDs[min1:max1, :])\n",
    "        time[num] = (rawtime[min1:max1])\n",
    "\n",
    "    MMSD = MSD[1]\n",
    "    for num in range(2, total1):\n",
    "        MMSD = MMSD + MSD[num]\n",
    "    MMSD = MMSD/total1"
   ]
  },
  {
   "cell_type": "code",
   "execution_count": null,
   "metadata": {
    "collapsed": false
   },
   "outputs": [],
   "source": [
    "time[1][:]"
   ]
  },
  {
   "cell_type": "code",
   "execution_count": null,
   "metadata": {
    "collapsed": false
   },
   "outputs": [],
   "source": [
    "MMSD[:,0]"
   ]
  },
  {
   "cell_type": "code",
   "execution_count": null,
   "metadata": {
    "collapsed": true
   },
   "outputs": [],
   "source": [
    "plot_MSDorDeff(trajectory, 1, 4, 34, 2, 'MSDs', 'practice')\n",
    "plt.show()"
   ]
  },
  {
   "cell_type": "code",
   "execution_count": null,
   "metadata": {
    "collapsed": false
   },
   "outputs": [],
   "source": [
    "#help(np.zeros)"
   ]
  },
  {
   "cell_type": "code",
   "execution_count": null,
   "metadata": {
    "collapsed": false
   },
   "outputs": [],
   "source": [
    "time = np.linspace(0, 100, num=100)\n",
    "np.shape(time)[0]"
   ]
  },
  {
   "cell_type": "code",
   "execution_count": null,
   "metadata": {
    "collapsed": false
   },
   "outputs": [],
   "source": [
    "params[1]"
   ]
  },
  {
   "cell_type": "code",
   "execution_count": null,
   "metadata": {
    "collapsed": false
   },
   "outputs": [],
   "source": [
    "params"
   ]
  },
  {
   "cell_type": "code",
   "execution_count": 8,
   "metadata": {
    "collapsed": false
   },
   "outputs": [],
   "source": [
    "plot_MSDorDeffLR(trajectory, 1, 4, 34, 2, 'MSDs', 'practice')\n",
    "plt.show()"
   ]
  },
  {
   "cell_type": "code",
   "execution_count": 9,
   "metadata": {
    "collapsed": false
   },
   "outputs": [
    {
     "ename": "IndexError",
     "evalue": "index 42 is out of bounds for axis 1 with size 41",
     "output_type": "error",
     "traceback": [
      "\u001b[1;31m---------------------------------------------------------------------------\u001b[0m",
      "\u001b[1;31mIndexError\u001b[0m                                Traceback (most recent call last)",
      "\u001b[1;32m<ipython-input-9-f0d881bdc484>\u001b[0m in \u001b[0;36m<module>\u001b[1;34m()\u001b[0m\n\u001b[1;32m----> 1\u001b[1;33m \u001b[0mLRfor3D2D\u001b[0m\u001b[1;33m(\u001b[0m\u001b[0mtrajectory\u001b[0m\u001b[1;33m,\u001b[0m \u001b[1;36m1\u001b[0m\u001b[1;33m,\u001b[0m \u001b[1;36m4\u001b[0m\u001b[1;33m,\u001b[0m \u001b[1;36m34\u001b[0m\u001b[1;33m,\u001b[0m \u001b[1;36m38\u001b[0m\u001b[1;33m,\u001b[0m \u001b[1;36m42\u001b[0m\u001b[1;33m,\u001b[0m \u001b[1;36m46\u001b[0m\u001b[1;33m,\u001b[0m \u001b[1;36m2\u001b[0m\u001b[1;33m,\u001b[0m \u001b[1;34m'MSD'\u001b[0m\u001b[1;33m,\u001b[0m \u001b[1;34m'practice'\u001b[0m\u001b[1;33m)\u001b[0m\u001b[1;33m\u001b[0m\u001b[0m\n\u001b[0m\u001b[0;32m      2\u001b[0m \u001b[0mplt\u001b[0m\u001b[1;33m.\u001b[0m\u001b[0mshow\u001b[0m\u001b[1;33m(\u001b[0m\u001b[1;33m)\u001b[0m\u001b[1;33m\u001b[0m\u001b[0m\n",
      "\u001b[1;32mC:\\Users\\koolk\\Desktop\\brain-diffusion\\Chad_functions_and_unittests\\trajectory_visualization.py\u001b[0m in \u001b[0;36mLRfor3D2D\u001b[1;34m(traj, n1, n2, n3, n4, n5, n6, dec, datatype, filename)\u001b[0m\n\u001b[0;32m   1109\u001b[0m \u001b[1;33m\u001b[0m\u001b[0m\n\u001b[0;32m   1110\u001b[0m     \u001b[1;31m# Linear regression for 2D xz MSDs\u001b[0m\u001b[1;33m\u001b[0m\u001b[1;33m\u001b[0m\u001b[0m\n\u001b[1;32m-> 1111\u001b[1;33m     \u001b[0my2data\u001b[0m \u001b[1;33m=\u001b[0m \u001b[0mtraj\u001b[0m\u001b[1;33m[\u001b[0m\u001b[1;33m:\u001b[0m\u001b[1;33m,\u001b[0m \u001b[0mn5\u001b[0m\u001b[1;33m]\u001b[0m\u001b[1;33m\u001b[0m\u001b[0m\n\u001b[0m\u001b[0;32m   1112\u001b[0m     \u001b[0mx2\u001b[0m \u001b[1;33m=\u001b[0m \u001b[1;33m[\u001b[0m\u001b[1;36m0.1\u001b[0m\u001b[1;33m,\u001b[0m \u001b[1;36m0.1\u001b[0m\u001b[1;33m,\u001b[0m \u001b[1;36m0.1\u001b[0m\u001b[1;33m,\u001b[0m \u001b[1;36m0.1\u001b[0m\u001b[1;33m,\u001b[0m \u001b[1;36m0.1\u001b[0m\u001b[1;33m]\u001b[0m\u001b[1;33m\u001b[0m\u001b[0m\n\u001b[0;32m   1113\u001b[0m     \u001b[0mparams2\u001b[0m\u001b[1;33m,\u001b[0m \u001b[0mother2\u001b[0m \u001b[1;33m=\u001b[0m \u001b[0mopt\u001b[0m\u001b[1;33m.\u001b[0m\u001b[0mcurve_fit\u001b[0m\u001b[1;33m(\u001b[0m\u001b[0mfunc\u001b[0m\u001b[1;33m,\u001b[0m \u001b[0mxdata\u001b[0m\u001b[1;33m,\u001b[0m \u001b[0my2data\u001b[0m\u001b[1;33m,\u001b[0m \u001b[0mx2\u001b[0m\u001b[1;33m)\u001b[0m\u001b[1;33m\u001b[0m\u001b[0m\n",
      "\u001b[1;31mIndexError\u001b[0m: index 42 is out of bounds for axis 1 with size 41"
     ]
    }
   ],
   "source": [
    "LRfor3D2D(trajectory, 1, 4, 34, 38, 42, 46, 2, 'MSD', 'practice')\n",
    "plt.show()"
   ]
  },
  {
   "cell_type": "code",
   "execution_count": 12,
   "metadata": {
    "collapsed": false
   },
   "outputs": [
    {
     "data": {
      "text/plain": [
       "array([ 0.     ,  0.0228 ,  0.00408,  0.01104,  0.01632,  0.012  ,\n",
       "        0.01152,  0.02664,  0.0096 ,  0.03384,  0.00648,  0.00672,\n",
       "        0.00864,  0.00912,  0.00192,  0.00528,  0.0552 ,  0.00096,\n",
       "        0.00504,  0.01872,  0.00576,  0.01776,  0.048  ,  0.0372 ,\n",
       "        0.03744,  0.04056,  0.06624,  0.02208,  0.0204 ,  0.0408 ,\n",
       "        0.0516 ,  0.05736,  0.08544,  0.0636 ,  0.07608,  0.07776,\n",
       "        0.08808,  0.0732 ,  0.04968,  0.07248,  0.08112,  0.1056 ,\n",
       "        0.06696,  0.084  ,  0.09144,  0.06192,  0.07368,  0.09336,\n",
       "        0.10584,  0.08064,  0.0924 ,  0.     ,  0.00552,  0.00096,\n",
       "        0.00888,  0.0024 ,  0.00168,  0.00888,  0.00744,  0.00288,\n",
       "        0.02136,  0.018  ,  0.00576,  0.01896,  0.0012 ,  0.00168,\n",
       "        0.01056,  0.02256,  0.01392,  0.02928,  0.01944,  0.01392,\n",
       "        0.0372 ,  0.0384 ,  0.0276 ,  0.03072,  0.01824,  0.06408,\n",
       "        0.02856,  0.02496,  0.03648,  0.0012 ,  0.03768,  0.0384 ,\n",
       "        0.03504,  0.04872,  0.0456 ,  0.0336 ,  0.0516 ,  0.0192 ,\n",
       "        0.06888,  0.05592,  0.05472,  0.07944,  0.06   ,  0.0816 ,\n",
       "        0.05184,  0.07032,  0.07512,  0.05232,  0.07392,  0.08208,\n",
       "        0.     ,  0.0048 ,  0.01056,  0.01656,  0.01344,  0.00312,\n",
       "        0.01296,  0.018  ,  0.02712,  0.03816,  0.03864,  0.02568,\n",
       "        0.05184,  0.05592,  0.06984,  0.0696 ,  0.05856,  0.05424,\n",
       "        0.06792,  0.06624,  0.0684 ,  0.06984,  0.0768 ,  0.08976,\n",
       "        0.09072,  0.08136,  0.09432,  0.0828 ,  0.08832,  0.11016,\n",
       "        0.11616,  0.12384,  0.1272 ,  0.11496,  0.11424,  0.13152,\n",
       "        0.1356 ,  0.14376,  0.15336,  0.14328,  0.13944,  0.15552,\n",
       "        0.16224,  0.17352,  0.16752,  0.17112,  0.19752,  0.18048,\n",
       "        0.15864,  0.16248,  0.17928,  0.     ,  0.00888,  0.00312,\n",
       "        0.00096,  0.0012 ,  0.0096 ,  0.01752,  0.01032,  0.01512,\n",
       "        0.00912,  0.02568,  0.0252 ,  0.0132 ,  0.06408,  0.02496,\n",
       "        0.06768,  0.03288,  0.0324 ,  0.02928,  0.02424,  0.01296,\n",
       "        0.02592,  0.02424,  0.01224,  0.03168,  0.03048,  0.04032,\n",
       "        0.04368,  0.03168,  0.02112,  0.09144,  0.00264,  0.0036 ,\n",
       "        0.00504,  0.00456,  0.01032,  0.02496,  0.00096,  0.00264,\n",
       "        0.00216,  0.018  ,  0.01968,  0.02304,  0.06672,  0.0684 ,\n",
       "        0.03264,  0.01992,  0.07584,  0.07584,  0.04224,  0.04656,\n",
       "        0.     ,  0.0072 ,  0.00792,  0.00624,  0.02208,  0.01536,\n",
       "        0.0192 ,  0.00936,  0.00312,  0.00912,  0.00048,  0.01776,\n",
       "        0.006  ,  0.00336,  0.00792,  0.0048 ,  0.0264 ,  0.00336,\n",
       "        0.00384,  0.02208,  0.00984,  0.02496,  0.01152,  0.04224,\n",
       "        0.01344,  0.01392,  0.01464,  0.01848,  0.00888,  0.01608,\n",
       "        0.04152,  0.03432,  0.04248,  0.01488,  0.03048,  0.01128,\n",
       "        0.0336 ,  0.03576,  0.03336,  0.03288,  0.05304,  0.05328,\n",
       "        0.01416,  0.05976,  0.03408,  0.04488,  0.03744,  0.02808,\n",
       "        0.05592,  0.04752,  0.04776,  0.     ,  0.00864,  0.00744,\n",
       "        0.01872,  0.02856,  0.0648 ,  0.02232,  0.02928,  0.03528,\n",
       "        0.04416,  0.04656,  0.036  ,  0.0408 ,  0.05256,  0.05904,\n",
       "        0.0456 ,  0.05184,  0.054  ,  0.08232,  0.07464,  0.06888,\n",
       "        0.07032,  0.04824,  0.06912,  0.07536,  0.08328,  0.09096,\n",
       "        0.0936 ,  0.08544,  0.09888,  0.1176 ,  0.10968,  0.11592,\n",
       "        0.13296,  0.1176 ,  0.1212 ,  0.10728,  0.1296 ,  0.12   ,\n",
       "        0.13344,  0.12024,  0.13656,  0.12048,  0.11712,  0.12504,\n",
       "        0.1224 ,  0.13104,  0.13584,  0.14592,  0.11424,  0.12144,\n",
       "        0.     ,  0.13296,  0.00912,  0.16152,  0.1536 ,  0.14808,\n",
       "        0.10128,  0.084  ,  0.15288,  0.11112,  0.19944,  0.04728,\n",
       "        0.15312,  0.0192 ,  0.20616,  0.08136,  0.10584,  0.12792,\n",
       "        0.12312,  0.15912,  0.19488,  0.14544,  0.17856,  0.17904,\n",
       "        0.09768,  0.16584,  0.2268 ,  0.09264,  0.14496,  0.1884 ,\n",
       "        0.102  ,  0.10944,  0.15072,  0.16344,  0.1032 ,  0.1752 ,\n",
       "        0.1752 ,  0.10008,  0.16464,  0.20328,  0.12984,  0.1908 ,\n",
       "        0.20496,  0.11424,  0.14688,  0.23232,  0.13824,  0.10896,\n",
       "        0.19464,  0.14184,  0.19176])"
      ]
     },
     "execution_count": 12,
     "metadata": {},
     "output_type": "execute_result"
    }
   ],
   "source": [
    "trajectory[:,38]"
   ]
  },
  {
   "cell_type": "code",
   "execution_count": null,
   "metadata": {
    "collapsed": true
   },
   "outputs": [],
   "source": []
  }
 ],
 "metadata": {
  "kernelspec": {
   "display_name": "Python 3",
   "language": "python",
   "name": "python3"
  },
  "language_info": {
   "codemirror_mode": {
    "name": "ipython",
    "version": 3
   },
   "file_extension": ".py",
   "mimetype": "text/x-python",
   "name": "python",
   "nbconvert_exporter": "python",
   "pygments_lexer": "ipython3",
   "version": "3.5.1"
  }
 },
 "nbformat": 4,
 "nbformat_minor": 0
}
