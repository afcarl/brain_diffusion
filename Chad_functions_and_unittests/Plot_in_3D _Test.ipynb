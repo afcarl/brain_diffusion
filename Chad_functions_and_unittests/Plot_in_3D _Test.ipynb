{
 "cells": [
  {
   "cell_type": "code",
   "execution_count": 3,
   "metadata": {
    "collapsed": false
   },
   "outputs": [],
   "source": [
    "import matplotlib as mpl\n",
    "import matplotlib.pyplot as plt\n",
    "import scipy.optimize as opt\n",
    "from mpl_toolkits.mplot3d import Axes3D\n",
    "from trajectory_visualization import plot_trajectory, sidebyside, shift_trajectory, overlay, shift_trajectory3D\n",
    "from trajectory_visualization import plot_trajectories3D, plot_3Doverlay, plot_MSDorDeff, plot_MeanMSDorDeff, randtraj, multrandtraj\n",
    "from trajectory_visualization import randtraj2, plot_Mean2DMSDsorDeff, plot_MSDorDeffLR\n",
    "import numpy as np\n",
    "import random"
   ]
  },
  {
   "cell_type": "code",
   "execution_count": 9,
   "metadata": {
    "collapsed": false
   },
   "outputs": [],
   "source": [
    "trajectory = np.genfromtxt('../sample_data/Slice3_Video2_Trajectories.csv',\n",
    "            delimiter =\",\")\n",
    "trajectory=np.delete(trajectory, 0,0)\n"
   ]
  },
  {
   "cell_type": "code",
   "execution_count": null,
   "metadata": {
    "collapsed": false
   },
   "outputs": [],
   "source": [
    "plot_3Doverlay(trajectory, 1, 29, 2, 'practice')\n",
    "plt.show()"
   ]
  },
  {
   "cell_type": "code",
   "execution_count": null,
   "metadata": {
    "collapsed": false
   },
   "outputs": [],
   "source": [
    "plot_MeanMSDorDeff(three, 0,1,15, 2, 'Deff', 'picture')\n",
    "plt.show()"
   ]
  },
  {
   "cell_type": "code",
   "execution_count": 22,
   "metadata": {
    "collapsed": false
   },
   "outputs": [],
   "source": [
    "three = multrandtraj(5, 1, 150, 2)"
   ]
  },
  {
   "cell_type": "code",
   "execution_count": null,
   "metadata": {
    "collapsed": false
   },
   "outputs": [],
   "source": [
    "three[:,0]"
   ]
  },
  {
   "cell_type": "code",
   "execution_count": null,
   "metadata": {
    "collapsed": false
   },
   "outputs": [],
   "source": [
    "plot_Mean2DMSDsorDeff(three, 0,1,15, 2, 'MSD', 'picture')\n",
    "plt.show()"
   ]
  },
  {
   "cell_type": "code",
   "execution_count": 23,
   "metadata": {
    "collapsed": false
   },
   "outputs": [],
   "source": [
    "    particles = three[:, 0]\n",
    "    total = int(max(particles))\n",
    "    total1 = total + 1\n",
    "    rawtime = three[:, 1]\n",
    "    raw2DMSDs = three[:, 15:15+4]\n",
    "    MSD = dict()\n",
    "    time = dict()\n",
    "\n",
    "    # Creates an array for each trajectory containing all xyz data\n",
    "    for num in range(1, total1):\n",
    "\n",
    "        hold = np.where(particles == num)\n",
    "        itindex = hold[0]\n",
    "        min1 = min(itindex)\n",
    "        max1 = max(itindex)\n",
    "        MSD[num] = (raw2DMSDs[min1:max1, :])\n",
    "        time[num] = (rawtime[min1:max1])\n",
    "\n",
    "    MMSD = MSD[1]\n",
    "    for num in range(2, total1):\n",
    "        MMSD = MMSD + MSD[num]\n",
    "    MMSD = MMSD/total1"
   ]
  },
  {
   "cell_type": "code",
   "execution_count": null,
   "metadata": {
    "collapsed": false
   },
   "outputs": [],
   "source": [
    "time[1][:]"
   ]
  },
  {
   "cell_type": "code",
   "execution_count": null,
   "metadata": {
    "collapsed": false
   },
   "outputs": [],
   "source": [
    "MMSD[:,0]"
   ]
  },
  {
   "cell_type": "code",
   "execution_count": null,
   "metadata": {
    "collapsed": true
   },
   "outputs": [],
   "source": [
    "plot_MSDorDeff(trajectory, 1, 4, 34, 2, 'MSDs', 'practice')\n",
    "plt.show()"
   ]
  },
  {
   "cell_type": "code",
   "execution_count": null,
   "metadata": {
    "collapsed": false
   },
   "outputs": [],
   "source": [
    "#help(np.zeros)"
   ]
  },
  {
   "cell_type": "code",
   "execution_count": null,
   "metadata": {
    "collapsed": false
   },
   "outputs": [],
   "source": [
    "time = np.linspace(0, 100, num=100)\n",
    "np.shape(time)[0]"
   ]
  },
  {
   "cell_type": "code",
   "execution_count": null,
   "metadata": {
    "collapsed": false
   },
   "outputs": [],
   "source": [
    "params[1]"
   ]
  },
  {
   "cell_type": "code",
   "execution_count": 24,
   "metadata": {
    "collapsed": false
   },
   "outputs": [
    {
     "ename": "NameError",
     "evalue": "name 'params' is not defined",
     "output_type": "error",
     "traceback": [
      "\u001b[1;31m---------------------------------------------------------------------------\u001b[0m",
      "\u001b[1;31mNameError\u001b[0m                                 Traceback (most recent call last)",
      "\u001b[1;32m<ipython-input-24-88e292b9447e>\u001b[0m in \u001b[0;36m<module>\u001b[1;34m()\u001b[0m\n\u001b[1;32m----> 1\u001b[1;33m \u001b[0mparams\u001b[0m\u001b[1;33m\u001b[0m\u001b[0m\n\u001b[0m",
      "\u001b[1;31mNameError\u001b[0m: name 'params' is not defined"
     ]
    }
   ],
   "source": [
    "params"
   ]
  },
  {
   "cell_type": "code",
   "execution_count": 10,
   "metadata": {
    "collapsed": false
   },
   "outputs": [],
   "source": [
    "plot_MSDorDeffLR(trajectory, 1, 4, 34, 2, 'MSDs', 'practice')\n",
    "plt.show()"
   ]
  },
  {
   "cell_type": "code",
   "execution_count": 30,
   "metadata": {
    "collapsed": false
   },
   "outputs": [],
   "source": [
    "def LRfor3D2D(traj, n1, n2, n3, n4, n5, n6, dec, datatype, filename):\n",
    "    \"\"\"\n",
    "    n1: particle numbers\n",
    "    n2: time\n",
    "    n3: 3DMSDs\n",
    "    n4: 2D xy MSDs\n",
    "    n5: 2D xz MSDs\n",
    "    n6: 2D yz MSDs\n",
    "    \"\"\"\n",
    "\n",
    "    # Insert to perform linear regression\n",
    "    small = 10**-10\n",
    "\n",
    "    def func(x, a, b, c, d, g):\n",
    "        return a*x + b*x**0.5 + c*x**2 + d*x**3 + g*np.log(x+small)\n",
    "\n",
    "    # Linear regression for 3D MSDs\n",
    "    xdata = traj[:, n2]\n",
    "    ydata = traj[:, n3]\n",
    "    x0 = [0.1, 0.1, 0.1, 0.1, 0.1]\n",
    "    params, other = opt.curve_fit(func, xdata, ydata, x0)\n",
    "\n",
    "    time1 = np.linspace(min(xdata), max(xdata), num=100)\n",
    "    MSD1 = np.zeros(np.shape(time1)[0])\n",
    "\n",
    "    for num in range(0, np.shape(time1)[0]):\n",
    "        MSD1[num] = params[0]*time1[num] + params[1]*time1[num]**0.5 + params[2]*time1[num]**2 + params[3]*time1[num]**3 + params[4]*np.log(time1[num] + small)\n",
    "\n",
    "    # Linear regression for 2D xy MSDs\n",
    "    y1data = traj[:, n4]\n",
    "    x1 = [0.1, 0.1, 0.1, 0.1, 0.1]\n",
    "    params1, other1 = opt.curve_fit(func, xdata, y1data, x1)\n",
    "\n",
    "    MSDxy = np.zeros(np.shape(time1)[0])\n",
    "\n",
    "    for num in range(0, np.shape(time1)[0]):\n",
    "        MSDxy[num] = params1[0]*time1[num] + params1[1]*time1[num]**0.5 + params1[2]*time1[num]**2 + params1[3]*time1[num]**3 + params1[4]*np.log(time1[num] + small)\n",
    "\n",
    "    # Linear regression for 2D xz MSDs\n",
    "    y2data = traj[:, n5]\n",
    "    x2 = [0.1, 0.1, 0.1, 0.1, 0.1]\n",
    "    params2, other2 = opt.curve_fit(func, xdata, y2data, x2)\n",
    "\n",
    "    MSDxz = np.zeros(np.shape(time1)[0])\n",
    "\n",
    "    for num in range(0, np.shape(time1)[0]):\n",
    "        MSDxz[num] = params2[0]*time1[num] + params2[1]*time1[num]**0.5 + params2[2]*time1[num]**2 + params2[3]*time1[num]**3 + params2[4]*np.log(time1[num] + small)\n",
    "\n",
    "    # Linear regression for 2D yz MSDs\n",
    "    y3data = traj[:, n5]\n",
    "    x3 = [0.1, 0.1, 0.1, 0.1, 0.1]\n",
    "    params3, other3 = opt.curve_fit(func, xdata, y3data, x3)\n",
    "\n",
    "    MSDyz = np.zeros(np.shape(time1)[0])\n",
    "\n",
    "    for num in range(0, np.shape(time1)[0]):\n",
    "        MSDyz[num] = params3[0]*time1[num] + params3[1]*time1[num]**0.5 + params3[2]*time1[num]**2 + params3[3]*time1[num]**3 + params3[4]*np.log(time1[num] + small)\n",
    "\n",
    "    Deff = np.divide(MSD1, 6*time1)\n",
    "    return Deff"
   ]
  },
  {
   "cell_type": "code",
   "execution_count": 31,
   "metadata": {
    "collapsed": false
   },
   "outputs": [
    {
     "data": {
      "text/plain": [
       "array([       -inf,  0.26556729,  0.1944998 ,  0.16332663,  0.14496065,\n",
       "        0.13259024,  0.12358703,  0.11669351,  0.11122245,  0.10676238,\n",
       "        0.10304987,  0.09990746,  0.0972106 ,  0.094869  ,  0.09281538,\n",
       "        0.09099842,  0.08937824,  0.08792327,  0.0866082 ,  0.08541242,\n",
       "        0.084319  ,  0.08331384,  0.08238513,  0.08152287,  0.08071853,\n",
       "        0.0799648 ,  0.07925536,  0.0785847 ,  0.07794802,  0.07734112,\n",
       "        0.07676025,  0.07620213,  0.07566383,  0.07514271,  0.07463644,\n",
       "        0.0741429 ,  0.07366018,  0.07318657,  0.07272049,  0.07226053,\n",
       "        0.07180538,  0.07135387,  0.0709049 ,  0.07045748,  0.07001068,\n",
       "        0.06956367,  0.06911566,  0.06866593,  0.06821381,  0.06775867,\n",
       "        0.06729995,  0.06683709,  0.06636961,  0.06589703,  0.06541891,\n",
       "        0.06493484,  0.06444444,  0.06394736,  0.06344324,  0.06293177,\n",
       "        0.06241266,  0.06188561,  0.06135037,  0.06080668,  0.0602543 ,\n",
       "        0.05969301,  0.0591226 ,  0.05854286,  0.0579536 ,  0.05735464,\n",
       "        0.05674581,  0.05612694,  0.05549788,  0.05485849,  0.0542086 ,\n",
       "        0.05354811,  0.05287686,  0.05219475,  0.05150165,  0.05079746,\n",
       "        0.05008206,  0.04935535,  0.04861724,  0.04786763,  0.04710643,\n",
       "        0.04633356,  0.04554892,  0.04475245,  0.04394407,  0.0431237 ,\n",
       "        0.04229127,  0.04144672,  0.04058998,  0.03972098,  0.03883968,\n",
       "        0.037946  ,  0.03703989,  0.03612131,  0.03519019,  0.03424648])"
      ]
     },
     "execution_count": 31,
     "metadata": {},
     "output_type": "execute_result"
    }
   ],
   "source": [
    "LRfor3D2D(trajectory, 1, 4, 34, 38, 42, 46, 2, 'MSD', 'practice')"
   ]
  },
  {
   "cell_type": "code",
   "execution_count": null,
   "metadata": {
    "collapsed": true
   },
   "outputs": [],
   "source": []
  }
 ],
 "metadata": {
  "kernelspec": {
   "display_name": "Python 3",
   "language": "python",
   "name": "python3"
  },
  "language_info": {
   "codemirror_mode": {
    "name": "ipython",
    "version": 3
   },
   "file_extension": ".py",
   "mimetype": "text/x-python",
   "name": "python",
   "nbconvert_exporter": "python",
   "pygments_lexer": "ipython3",
   "version": "3.5.1"
  }
 },
 "nbformat": 4,
 "nbformat_minor": 0
}
