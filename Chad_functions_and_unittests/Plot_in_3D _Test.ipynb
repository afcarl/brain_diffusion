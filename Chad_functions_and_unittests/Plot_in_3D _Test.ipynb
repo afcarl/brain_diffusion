{
 "cells": [
  {
   "cell_type": "code",
   "execution_count": 1,
   "metadata": {
    "collapsed": false
   },
   "outputs": [],
   "source": [
    "import matplotlib as mpl\n",
    "import matplotlib.pyplot as plt\n",
    "import scipy.optimize as opt\n",
    "from mpl_toolkits.mplot3d import Axes3D\n",
    "from trajectory_visualization import plot_trajectory, sidebyside, shift_trajectory, overlay, shift_trajectory3D\n",
    "from trajectory_visualization import plot_trajectories3D, plot_3Doverlay, plot_MSDorDeff, plot_MeanMSDorDeff, randtraj, multrandtraj\n",
    "from trajectory_visualization import randtraj2, plot_Mean2DMSDsorDeff, plot_MSDorDeffLR, LRfor3D2D\n",
    "import numpy as np\n",
    "import random"
   ]
  },
  {
   "cell_type": "code",
   "execution_count": 2,
   "metadata": {
    "collapsed": false
   },
   "outputs": [],
   "source": [
    "trajectory = np.genfromtxt('../sample_data/Exploratory_Data_3Dconvection_csv.csv',\n",
    "            delimiter =\",\")\n",
    "trajectory=np.delete(trajectory, 0,0)\n"
   ]
  },
  {
   "cell_type": "code",
   "execution_count": 7,
   "metadata": {
    "collapsed": false
   },
   "outputs": [],
   "source": [
    "plot_3Doverlay(trajectory, 1, 23, 2, 'practice')\n",
    "plt.show()"
   ]
  },
  {
   "cell_type": "code",
   "execution_count": 6,
   "metadata": {
    "collapsed": false
   },
   "outputs": [
    {
     "ename": "NameError",
     "evalue": "name 'three' is not defined",
     "output_type": "error",
     "traceback": [
      "\u001b[1;31m---------------------------------------------------------------------------\u001b[0m",
      "\u001b[1;31mNameError\u001b[0m                                 Traceback (most recent call last)",
      "\u001b[1;32m<ipython-input-6-296a343fffcb>\u001b[0m in \u001b[0;36m<module>\u001b[1;34m()\u001b[0m\n\u001b[1;32m----> 1\u001b[1;33m \u001b[0mplot_MeanMSDorDeff\u001b[0m\u001b[1;33m(\u001b[0m\u001b[0mthree\u001b[0m\u001b[1;33m,\u001b[0m \u001b[1;36m0\u001b[0m\u001b[1;33m,\u001b[0m\u001b[1;36m1\u001b[0m\u001b[1;33m,\u001b[0m\u001b[1;36m23\u001b[0m\u001b[1;33m,\u001b[0m \u001b[1;36m2\u001b[0m\u001b[1;33m,\u001b[0m \u001b[1;34m'Deff'\u001b[0m\u001b[1;33m,\u001b[0m \u001b[1;34m'picture'\u001b[0m\u001b[1;33m)\u001b[0m\u001b[1;33m\u001b[0m\u001b[0m\n\u001b[0m\u001b[0;32m      2\u001b[0m \u001b[0mplt\u001b[0m\u001b[1;33m.\u001b[0m\u001b[0mshow\u001b[0m\u001b[1;33m(\u001b[0m\u001b[1;33m)\u001b[0m\u001b[1;33m\u001b[0m\u001b[0m\n",
      "\u001b[1;31mNameError\u001b[0m: name 'three' is not defined"
     ]
    }
   ],
   "source": [
    "plot_MeanMSDorDeff(three, 0,1,23, 2, 'Deff', 'picture')\n",
    "plt.show()"
   ]
  },
  {
   "cell_type": "code",
   "execution_count": null,
   "metadata": {
    "collapsed": false
   },
   "outputs": [],
   "source": [
    "three = multrandtraj(5, 1, 150, 2)"
   ]
  },
  {
   "cell_type": "code",
   "execution_count": null,
   "metadata": {
    "collapsed": false
   },
   "outputs": [],
   "source": [
    "three[:,0]"
   ]
  },
  {
   "cell_type": "code",
   "execution_count": null,
   "metadata": {
    "collapsed": false
   },
   "outputs": [],
   "source": [
    "plot_Mean2DMSDsorDeff(three, 0,1,15, 2, 'MSD', 'picture')\n",
    "plt.show()"
   ]
  },
  {
   "cell_type": "code",
   "execution_count": null,
   "metadata": {
    "collapsed": false
   },
   "outputs": [],
   "source": [
    "    particles = three[:, 0]\n",
    "    total = int(max(particles))\n",
    "    total1 = total + 1\n",
    "    rawtime = three[:, 1]\n",
    "    raw2DMSDs = three[:, 15:15+4]\n",
    "    MSD = dict()\n",
    "    time = dict()\n",
    "\n",
    "    # Creates an array for each trajectory containing all xyz data\n",
    "    for num in range(1, total1):\n",
    "\n",
    "        hold = np.where(particles == num)\n",
    "        itindex = hold[0]\n",
    "        min1 = min(itindex)\n",
    "        max1 = max(itindex)\n",
    "        MSD[num] = (raw2DMSDs[min1:max1, :])\n",
    "        time[num] = (rawtime[min1:max1])\n",
    "\n",
    "    MMSD = MSD[1]\n",
    "    for num in range(2, total1):\n",
    "        MMSD = MMSD + MSD[num]\n",
    "    MMSD = MMSD/total1"
   ]
  },
  {
   "cell_type": "code",
   "execution_count": null,
   "metadata": {
    "collapsed": false
   },
   "outputs": [],
   "source": [
    "time[1][:]"
   ]
  },
  {
   "cell_type": "code",
   "execution_count": null,
   "metadata": {
    "collapsed": false
   },
   "outputs": [],
   "source": [
    "MMSD[:,0]"
   ]
  },
  {
   "cell_type": "code",
   "execution_count": 20,
   "metadata": {
    "collapsed": true
   },
   "outputs": [],
   "source": [
    "plot_MSDorDeff(trajectory, 1, 4, 29, 2, 'MSDs', 'practice')\n",
    "plt.show()"
   ]
  },
  {
   "cell_type": "code",
   "execution_count": null,
   "metadata": {
    "collapsed": false
   },
   "outputs": [],
   "source": [
    "#help(np.zeros)"
   ]
  },
  {
   "cell_type": "code",
   "execution_count": null,
   "metadata": {
    "collapsed": false
   },
   "outputs": [],
   "source": [
    "time = np.linspace(0, 100, num=100)\n",
    "np.shape(time)[0]"
   ]
  },
  {
   "cell_type": "code",
   "execution_count": null,
   "metadata": {
    "collapsed": false
   },
   "outputs": [],
   "source": [
    "params[1]"
   ]
  },
  {
   "cell_type": "code",
   "execution_count": null,
   "metadata": {
    "collapsed": false
   },
   "outputs": [],
   "source": [
    "params"
   ]
  },
  {
   "cell_type": "code",
   "execution_count": 25,
   "metadata": {
    "collapsed": false
   },
   "outputs": [],
   "source": [
    "plot_MSDorDeffLR(trajectory, 1, 4, 44, 2, 'MSDs', 'practice')\n",
    "plt.show()"
   ]
  },
  {
   "cell_type": "code",
   "execution_count": 26,
   "metadata": {
    "collapsed": false
   },
   "outputs": [],
   "source": [
    "LRfor3D2D(trajectory, 1, 4, 28, 32, 39, 44, 2, 'MSD', 'practice')\n",
    "plt.show()"
   ]
  },
  {
   "cell_type": "code",
   "execution_count": null,
   "metadata": {
    "collapsed": false
   },
   "outputs": [],
   "source": [
    "trajectory[:,38]"
   ]
  },
  {
   "cell_type": "code",
   "execution_count": 90,
   "metadata": {
    "collapsed": false
   },
   "outputs": [],
   "source": [
    "    # Insert to perform linear regression\n",
    "    small = 10**-10\n",
    "\n",
    "    def func(x, a, b, c, d, g):\n",
    "        return a*x + b*x**0.5 + c*x**2 + d*x**3 + g*np.log(x+small)\n",
    "\n",
    "    # Linear regression for 3D MSDs\n",
    "    xdata = trajectory[:, 4]\n",
    "    ydata = np.c_[np.c_[np.c_[trajectory[:,28],trajectory[:,32]], trajectory[:,39]], trajectory[:,44]]\n",
    "    x0 = [0.1, 0.1, 0.1, 0.1, 0.1]\n",
    "    params = dict()\n",
    "    MSD1 = dict()\n",
    "    \n",
    "    for num in range(0,4):\n",
    "        params[num], other = opt.curve_fit(func, xdata, ydata[:,num], x0)\n",
    "\n",
    "    time1 = np.linspace(min(xdata), max(xdata), num=100)\n",
    "    \n",
    "    \n",
    "    for b in range (0, 4):\n",
    "        MSD1[b] = np.zeros(np.shape(time1)[0])\n",
    "        for num in range(0, np.shape(time1)[0]):\n",
    "            MSD1[b][num] = params[b][0]*time1[num] + params[b][1]*time1[num]**0.5 + params[b][2]*time1[num]**2 + params[b][3]*time1[num]**3 + params[b][4]*np.log(time1[num] + small)\n",
    "    \n",
    "    Deff = np.divide(MSD1[0], 6*time1)\n",
    "    Dxy = np.divide(MSD1[1], 4*time1)\n",
    "    Dxz = np.divide(MSD1[2], 4*time1)\n",
    "    Dyz = np.divide(MSD1[3], 4*time1)\n",
    "\n",
    "    # Creates figure\n",
    "    fig = plt.figure(figsize=(24, 18), dpi=80)\n",
    "    ax = fig.add_subplot(111)\n",
    "    # ax.set_title('Particle Trajectories', x=0.5, y=1.15)\n",
    "\n",
    "    ax.plot(time1, MSD1[0], label='3D')\n",
    "    ax.plot(time1, MSD1[1], label='2D xy')\n",
    "    ax.plot(time1, MSD1[2], label='2D xz')\n",
    "    ax.plot(time1, MSD1[3], label='2D yz')\n",
    "\n",
    "    # A few adjustments to prettify the graph\n",
    "    for item in ([ax.xaxis.label, ax.yaxis.label] +\n",
    "                 ax.get_xticklabels() + ax.get_yticklabels()):\n",
    "        item.set_fontsize(16)\n",
    "\n",
    "    ax.title.set_fontsize(35)\n",
    "    ax.set_xlabel('Time (s)')\n",
    "    ax.set_ylabel('MSD')\n",
    "    ax.tick_params(direction='out', pad=16)\n",
    "    ax.legend(loc=(0.86, 0.86), prop={'size': 22})\n",
    "    plt.gca().xaxis.set_major_formatter(mpl.ticker.FormatStrFormatter('%.{}f'.format(2)))\n",
    "    plt.gca().yaxis.set_major_formatter(mpl.ticker.FormatStrFormatter('%.{}f'.format(2)))\n",
    "\n",
    "    # Save your figure\n",
    "    plt.savefig('{}.png'.format('practice'), bbox_inches='tight')\n",
    "    plt.show()"
   ]
  },
  {
   "cell_type": "code",
   "execution_count": 82,
   "metadata": {
    "collapsed": false
   },
   "outputs": [
    {
     "data": {
      "text/plain": [
       "array([-41.1193542 ,  49.71466819,   5.03272136,  -0.26004707,   8.43679249])"
      ]
     },
     "execution_count": 82,
     "metadata": {},
     "output_type": "execute_result"
    }
   ],
   "source": [
    "params[3]"
   ]
  },
  {
   "cell_type": "code",
   "execution_count": 85,
   "metadata": {
    "collapsed": false
   },
   "outputs": [
    {
     "data": {
      "text/plain": [
       "array([ 13.36798829,  13.45363959,  13.45927159,  13.40268218,\n",
       "        13.29805927,  13.15686296,  12.98845066,  12.80053058,\n",
       "        12.5994977 ,  12.39068719,  12.1785687 ,  11.96689746,\n",
       "        11.75883334,  11.55703568,  11.36373978,  11.18081903,\n",
       "        11.00983588,  10.85208407,  10.70862372,  10.58031088,\n",
       "        10.46782242,  10.37167717,  10.29225401,  10.22980736,\n",
       "        10.18448062,  10.15631771,  10.14527324,  10.15122127,\n",
       "        10.1739631 ,  10.21323409,  10.26870966,  10.34001062,\n",
       "        10.42670797,  10.52832709,  10.64435152,  10.77422639,\n",
       "        10.91736143,  11.07313373,  11.24089024,  11.41994999,\n",
       "        11.60960613,  11.8091278 ,  12.01776178,  12.23473406,\n",
       "        12.45925121,  12.69050171,  12.92765708,  13.169873  ,\n",
       "        13.41629028,  13.6660358 ,  13.91822334,  14.17195436,\n",
       "        14.42631873,  14.68039539,  14.933253  ,  15.18395048,\n",
       "        15.43153756,  15.67505529,  15.91353648,  16.14600615,\n",
       "        16.37148196,  16.58897452,  16.79748781,  16.99601948,\n",
       "        17.18356117,  17.35909879,  17.5216128 ,  17.67007848,\n",
       "        17.80346615,  17.92074141,  18.02086534,  18.10279475,\n",
       "        18.16548229,  18.2078767 ,  18.22892294,  18.22756238,\n",
       "        18.20273293,  18.15336919,  18.07840258,  17.97676149,\n",
       "        17.84737138,  17.68915492,  17.50103206,  17.28192019,\n",
       "        17.03073418,  16.74638654,  16.42778744,  16.07384487,\n",
       "        15.68346466,  15.25555058,  14.78900443,  14.28272609,\n",
       "        13.7356136 ,  13.14656322,  12.51446949,  11.8382253 ,\n",
       "        11.11672192,  10.34884909,   9.53349505,   8.66954659])"
      ]
     },
     "execution_count": 85,
     "metadata": {},
     "output_type": "execute_result"
    }
   ],
   "source": [
    "MSD1[3]"
   ]
  },
  {
   "cell_type": "code",
   "execution_count": null,
   "metadata": {
    "collapsed": true
   },
   "outputs": [],
   "source": []
  }
 ],
 "metadata": {
  "kernelspec": {
   "display_name": "Python 3",
   "language": "python",
   "name": "python3"
  },
  "language_info": {
   "codemirror_mode": {
    "name": "ipython",
    "version": 3
   },
   "file_extension": ".py",
   "mimetype": "text/x-python",
   "name": "python",
   "nbconvert_exporter": "python",
   "pygments_lexer": "ipython3",
   "version": "3.5.1"
  }
 },
 "nbformat": 4,
 "nbformat_minor": 0
}
