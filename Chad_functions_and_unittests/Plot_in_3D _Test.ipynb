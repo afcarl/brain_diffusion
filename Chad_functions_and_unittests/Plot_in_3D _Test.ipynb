{
 "cells": [
  {
   "cell_type": "code",
   "execution_count": 1,
   "metadata": {
    "collapsed": true
   },
   "outputs": [],
   "source": [
    "import matplotlib as mpl\n",
    "import matplotlib.pyplot as plt\n",
    "from mpl_toolkits.mplot3d import Axes3D\n",
    "from trajectory_visualization import plot_trajectory, sidebyside, shift_trajectory, overlay, shift_trajectory3D\n",
    "import numpy as np"
   ]
  },
  {
   "cell_type": "code",
   "execution_count": 2,
   "metadata": {
    "collapsed": false
   },
   "outputs": [],
   "source": [
    "#fig = plt.figure()\n",
    "#ax = fig.add_subplot(331,projection='3d')\n",
    "#ax2 = fig.add_subplot(332, projection='3d')\n",
    "#ax3 = fig.add_subplot(333, projection='3d')\n",
    "#ax4 = fig.add_subplot(334, projection='3d')\n",
    "#ax5 = fig.add_subplot(335, projection='3d')\n",
    "#ax6 = fig.add_subplot(336, projection='3d')"
   ]
  },
  {
   "cell_type": "code",
   "execution_count": 64,
   "metadata": {
    "collapsed": false
   },
   "outputs": [],
   "source": [
    "trajectory = np.genfromtxt('../sample_data/Slice1_Video2_Trajectories.csv',\n",
    "            delimiter =\",\")\n",
    "trajectory=np.delete(trajectory, 0,0)\n"
   ]
  },
  {
   "cell_type": "code",
   "execution_count": null,
   "metadata": {
    "collapsed": true
   },
   "outputs": [],
   "source": [
    "#time = trajectory[:,4]\n",
    "#path1 = trajectory[0:13,14:17]\n",
    "#path2 = trajectory[13:33,14:17]\n",
    "#path3 = trajectory[33:61, 14:17]\n",
    "#path4 = trajectory[61:66, 14:17]\n",
    "#path5 = trajectory[66:85, 14:17]\n",
    "#path6 = trajectory[85:107, 14:17]"
   ]
  },
  {
   "cell_type": "code",
   "execution_count": null,
   "metadata": {
    "collapsed": false
   },
   "outputs": [],
   "source": [
    "#shift_trajectory3D(path1)\n",
    "#shift_trajectory3D(path2)\n",
    "#shift_trajectory3D(path3)\n",
    "#shift_trajectory3D(path4)\n",
    "#shift_trajectory3D(path5)\n",
    "#shift_trajectory3D(path6)"
   ]
  },
  {
   "cell_type": "code",
   "execution_count": null,
   "metadata": {
    "collapsed": false
   },
   "outputs": [],
   "source": [
    "#ax.plot(path1[:,0], path1[:,1], path1[:,2], label='Practice')\n",
    "#ax2.plot(path2[:,0], path2[:,1], path2[:,2], label='Practice')\n",
    "#ax3.plot(path3[:,0], path3[:,1], path3[:,2], label='Practice')\n",
    "#ax4.plot(path4[:,0], path4[:,1], path4[:,2], label='Practice')\n",
    "#ax5.plot(path5[:,0], path5[:,1], path5[:,2], label='Practice')\n",
    "#ax6.plot(path6[:,0], path6[:,1], path6[:,2], label='Practice')"
   ]
  },
  {
   "cell_type": "code",
   "execution_count": null,
   "metadata": {
    "collapsed": false
   },
   "outputs": [],
   "source": [
    "#Creates an array 'particles' that contains the particle number at each frame.\n",
    "particles = trajectory[:,1]\n",
    "position = trajectory[:,29:32]\n",
    "total = int(max(particles))\n",
    "total1 = total + 1\n",
    "path = dict()\n",
    "\n",
    "#Creates an array for each trajectory containing all xyz data\n",
    "for num in range(1, total1):\n",
    "    \n",
    "    hold = np.where(particles==num)\n",
    "    itindex = hold[0]\n",
    "    min1 = min(itindex)\n",
    "    max1 = max(itindex)\n",
    "    path[num] = (position[min1:max1,:])\n"
   ]
  },
  {
   "cell_type": "code",
   "execution_count": null,
   "metadata": {
    "collapsed": false
   },
   "outputs": [],
   "source": [
    "rows= np.sqrt(total)"
   ]
  },
  {
   "cell_type": "code",
   "execution_count": null,
   "metadata": {
    "collapsed": true
   },
   "outputs": [],
   "source": [
    "if (rows%1 == 0):\n",
    "    rows = int(rows)\n",
    "else:\n",
    "    rows = int(rows) + 1"
   ]
  },
  {
   "cell_type": "code",
   "execution_count": null,
   "metadata": {
    "collapsed": true
   },
   "outputs": [],
   "source": [
    "fig = plt.figure()\n",
    "ax = dict()\n",
    "\n",
    "for num in range(1,total1):\n",
    "    \n",
    "    number = 100*rows + 10*rows + num\n",
    "    ax[num] = fig.add_subplot(number,projection='3d')\n",
    "    ax[num].plot(path[num][:,0], path[num][:,1], path[num][:,2], label='Practice')"
   ]
  },
  {
   "cell_type": "code",
   "execution_count": null,
   "metadata": {
    "collapsed": true
   },
   "outputs": [],
   "source": [
    "#plt.show()"
   ]
  },
  {
   "cell_type": "code",
   "execution_count": 69,
   "metadata": {
    "collapsed": true
   },
   "outputs": [],
   "source": [
    "def plot_trajectories3D(traj, n1, n2, n3):\n",
    "    #Creates an array 'particles' that contains the particle number at each frame.\n",
    "    particles = traj[:,n1]\n",
    "    position = traj[:,n2:n3]\n",
    "    total = int(max(particles))\n",
    "    total1 = total + 1\n",
    "    path = dict()\n",
    "    \n",
    "    #Creates an array for each trajectory containing all xyz data\n",
    "    for num in range(1, total1):\n",
    "    \n",
    "        hold = np.where(particles==num)\n",
    "        itindex = hold[0]\n",
    "        min1 = min(itindex)\n",
    "        max1 = max(itindex)\n",
    "        path[num] = (position[min1:max1,:])\n",
    "        \n",
    "    rows= np.sqrt(total)\n",
    "    if (rows%1 == 0):\n",
    "        rows = int(rows)\n",
    "    else:\n",
    "        rows = int(rows) + 1\n",
    "        \n",
    "    fig = plt.figure()\n",
    "    ax = dict()\n",
    "\n",
    "    for num in range(1,total1):\n",
    "    \n",
    "        number = 100*rows + 10*rows + num\n",
    "        ax[num] = fig.add_subplot(number,projection='3d')\n",
    "        ax[num].set_title('Particle {}'.format(num))\n",
    "        ax[num].plot(path[num][:,0], path[num][:,1], path[num][:,2], label='Practice')\n",
    "        ax[num].locator_params(nbins=5)"
   ]
  },
  {
   "cell_type": "code",
   "execution_count": 70,
   "metadata": {
    "collapsed": false
   },
   "outputs": [],
   "source": [
    "plot_trajectories3D(trajectory, 1, 29, 32)\n",
    "plt.show()"
   ]
  },
  {
   "cell_type": "code",
   "execution_count": 58,
   "metadata": {
    "collapsed": true
   },
   "outputs": [],
   "source": [
    "def plot_trajectories3Doverlay(traj, n1, n2, n3):\n",
    "    #Creates an array 'particles' that contains the particle number at each frame.\n",
    "    particles = traj[:,n1]\n",
    "    position = traj[:,n2:n3]\n",
    "    total = int(max(particles))\n",
    "    total1 = total + 1\n",
    "    path = dict()\n",
    "    \n",
    "    #Creates an array for each trajectory containing all xyz data\n",
    "    for num in range(1, total1):\n",
    "    \n",
    "        hold = np.where(particles==num)\n",
    "        itindex = hold[0]\n",
    "        min1 = min(itindex)\n",
    "        max1 = max(itindex)\n",
    "        path[num] = (position[min1:max1,:])\n",
    "        \n",
    "    rows= np.sqrt(total)\n",
    "    if (rows%1 == 0):\n",
    "        rows = int(rows)\n",
    "    else:\n",
    "        rows = int(rows) + 1\n",
    "        \n",
    "    fig = plt.figure()\n",
    "    ax = fig.add_subplot(111,projection='3d')\n",
    "    ax.set_title('Particle Trajectories')\n",
    "    \n",
    "    for num in range(1,total1):\n",
    "    \n",
    "        ax.plot(path[num][:,0], path[num][:,1], path[num][:,2], label='Particle {}'.format(num))\n",
    "        \n",
    "    ax.legend()\n",
    "    ax.locator_params(nbins=4)"
   ]
  },
  {
   "cell_type": "code",
   "execution_count": 59,
   "metadata": {
    "collapsed": false
   },
   "outputs": [],
   "source": [
    "plot_trajectories3Doverlay(trajectory, 1, 29, 32)\n",
    "plt.show()"
   ]
  },
  {
   "cell_type": "code",
   "execution_count": null,
   "metadata": {
    "collapsed": true
   },
   "outputs": [],
   "source": []
  }
 ],
 "metadata": {
  "kernelspec": {
   "display_name": "Python 3",
   "language": "python",
   "name": "python3"
  },
  "language_info": {
   "codemirror_mode": {
    "name": "ipython",
    "version": 3
   },
   "file_extension": ".py",
   "mimetype": "text/x-python",
   "name": "python",
   "nbconvert_exporter": "python",
   "pygments_lexer": "ipython3",
   "version": "3.5.1"
  }
 },
 "nbformat": 4,
 "nbformat_minor": 0
}
