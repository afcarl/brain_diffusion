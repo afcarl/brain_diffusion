{
 "cells": [
  {
   "cell_type": "code",
   "execution_count": 1,
   "metadata": {
    "collapsed": true
   },
   "outputs": [],
   "source": [
    "import matplotlib as mpl\n",
    "import matplotlib.pyplot as plt\n",
    "from mpl_toolkits.mplot3d import Axes3D\n",
    "from trajectory_visualization import plot_trajectory, sidebyside, shift_trajectory, overlay, shift_trajectory3D\n",
    "import numpy as np"
   ]
  },
  {
   "cell_type": "code",
   "execution_count": 2,
   "metadata": {
    "collapsed": false
   },
   "outputs": [],
   "source": [
    "fig = plt.figure()\n",
    "ax = fig.add_subplot(221,projection='3d')\n",
    "ax2 = fig.add_subplot(222, projection='3d')"
   ]
  },
  {
   "cell_type": "code",
   "execution_count": 3,
   "metadata": {
    "collapsed": false
   },
   "outputs": [],
   "source": [
    "trajectory = np.genfromtxt('../sample_data/Slice3_Video2_Trajectories.csv',\n",
    "            delimiter =\",\")\n",
    "trajectory=np.delete(trajectory, 0,0)\n"
   ]
  },
  {
   "cell_type": "code",
   "execution_count": 4,
   "metadata": {
    "collapsed": true
   },
   "outputs": [],
   "source": [
    "time = trajectory[:,4]\n",
    "path1 = trajectory[0:13,14:17]\n",
    "path2 = trajectory[13:33,14:17]\n",
    "path3 = trajectory[33:61, 14:17]\n",
    "path4 = trajectory[61:66, 14:17]\n",
    "path5 = trajectory[66:85, 14:17]\n",
    "path6 = trajectory[85:107, 14:17]"
   ]
  },
  {
   "cell_type": "code",
   "execution_count": null,
   "metadata": {
    "collapsed": false
   },
   "outputs": [],
   "source": [
    "shift_trajectory3D(path1)\n",
    "shift_trajectory3D(path2)\n",
    "shift_trajectory3D(path3)\n",
    "shift_trajectory3D(path4)\n",
    "shift_trajectory3D(path5)\n",
    "shift_trajectory3D(path6)"
   ]
  },
  {
   "cell_type": "code",
   "execution_count": 5,
   "metadata": {
    "collapsed": false
   },
   "outputs": [
    {
     "data": {
      "text/plain": [
       "array([[ 43.33,  30.84,   3.52],\n",
       "       [ 42.54,  28.45,   4.87],\n",
       "       [ 42.24,  26.6 ,   3.35],\n",
       "       [ 42.85,  27.13,   2.03],\n",
       "       [ 41.49,  29.47,   1.49],\n",
       "       [ 43.95,  27.73,   1.98],\n",
       "       [ 46.22,  24.05,   4.8 ],\n",
       "       [ 47.02,  25.22,   4.77],\n",
       "       [ 49.88,  14.95,   7.38],\n",
       "       [ 48.07,  12.52,  10.56],\n",
       "       [ 50.86,  15.46,   8.22],\n",
       "       [ 49.1 ,  14.74,  13.  ],\n",
       "       [ 50.56,  13.01,  11.03]])"
      ]
     },
     "execution_count": 5,
     "metadata": {},
     "output_type": "execute_result"
    }
   ],
   "source": [
    "path1"
   ]
  },
  {
   "cell_type": "code",
   "execution_count": null,
   "metadata": {
    "collapsed": false
   },
   "outputs": [],
   "source": [
    "ax.plot(path1[:,1], path1[:,2], path1[:,2], label='Practice')\n",
    "ax2.plot(path1[:,1], path1[:,2], path1[:,2], label='Practice')"
   ]
  },
  {
   "cell_type": "code",
   "execution_count": null,
   "metadata": {
    "collapsed": false
   },
   "outputs": [],
   "source": [
    "plt.show()"
   ]
  },
  {
   "cell_type": "code",
   "execution_count": null,
   "metadata": {
    "collapsed": true
   },
   "outputs": [],
   "source": []
  },
  {
   "cell_type": "code",
   "execution_count": null,
   "metadata": {
    "collapsed": true
   },
   "outputs": [],
   "source": []
  }
 ],
 "metadata": {
  "kernelspec": {
   "display_name": "Python 3",
   "language": "python",
   "name": "python3"
  },
  "language_info": {
   "codemirror_mode": {
    "name": "ipython",
    "version": 3
   },
   "file_extension": ".py",
   "mimetype": "text/x-python",
   "name": "python",
   "nbconvert_exporter": "python",
   "pygments_lexer": "ipython3",
   "version": "3.5.1"
  }
 },
 "nbformat": 4,
 "nbformat_minor": 0
}
