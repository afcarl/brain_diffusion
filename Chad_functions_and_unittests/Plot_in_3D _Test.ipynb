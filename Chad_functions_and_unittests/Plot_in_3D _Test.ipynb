{
 "cells": [
  {
   "cell_type": "code",
   "execution_count": 1,
   "metadata": {
    "collapsed": true
   },
   "outputs": [],
   "source": [
    "import matplotlib as mpl\n",
    "import matplotlib.pyplot as plt\n",
    "from mpl_toolkits.mplot3d import Axes3D\n",
    "from trajectory_visualization import plot_trajectory, sidebyside, shift_trajectory, overlay, shift_trajectory3D\n",
    "from trajectory_visualization import plot_trajectories3D, plot3Doverlay, plot_MSD, randtraj, multrandtraj\n",
    "import numpy as np\n",
    "import random"
   ]
  },
  {
   "cell_type": "code",
   "execution_count": null,
   "metadata": {
    "collapsed": false
   },
   "outputs": [],
   "source": [
    "trajectory = np.genfromtxt('../sample_data/Exploratory_Data_Missing_Datapoints.csv',\n",
    "            delimiter =\",\")\n",
    "trajectory=np.delete(trajectory, 0,0)\n"
   ]
  },
  {
   "cell_type": "code",
   "execution_count": null,
   "metadata": {
    "collapsed": false
   },
   "outputs": [],
   "source": [
    "#Creates an array 'particles' that contains the particle number at each frame.\n",
    "particles = trajectory[:,1]\n",
    "position = trajectory[:,29:32]\n",
    "total = int(max(particles))\n",
    "total1 = total + 1\n",
    "path = dict()\n",
    "\n",
    "#Creates an array for each trajectory containing all xyz data\n",
    "for num in range(1, total1):\n",
    "    \n",
    "    hold = np.where(particles==num)\n",
    "    itindex = hold[0]\n",
    "    min1 = min(itindex)\n",
    "    max1 = max(itindex)\n",
    "    path[num] = (position[min1:max1,:])\n"
   ]
  },
  {
   "cell_type": "code",
   "execution_count": null,
   "metadata": {
    "collapsed": false
   },
   "outputs": [],
   "source": [
    "rows= np.sqrt(total)"
   ]
  },
  {
   "cell_type": "code",
   "execution_count": null,
   "metadata": {
    "collapsed": true
   },
   "outputs": [],
   "source": [
    "if (rows%1 == 0):\n",
    "    rows = int(rows)\n",
    "else:\n",
    "    rows = int(rows) + 1"
   ]
  },
  {
   "cell_type": "code",
   "execution_count": null,
   "metadata": {
    "collapsed": true
   },
   "outputs": [],
   "source": [
    "fig = plt.figure()\n",
    "ax = dict()\n",
    "\n",
    "for num in range(1,total1):\n",
    "    \n",
    "    number = 100*rows + 10*rows + num\n",
    "    ax[num] = fig.add_subplot(number,projection='3d')\n",
    "    ax[num].plot(path[num][:,0], path[num][:,1], path[num][:,2], label='Practice')"
   ]
  },
  {
   "cell_type": "code",
   "execution_count": null,
   "metadata": {
    "collapsed": true
   },
   "outputs": [],
   "source": [
    "#plt.show()"
   ]
  },
  {
   "cell_type": "code",
   "execution_count": 47,
   "metadata": {
    "collapsed": true
   },
   "outputs": [],
   "source": [
    "def plot_trajectories3D(traj, n1, n2, n3, dec, filename):\n",
    "    \"\"\"\n",
    "    This function creates a multiple 3D plots from trajectory data.  This dataset must include a column of particle numbers\n",
    "    as well as the x, y, and z coordinates of of each particle at each frame. Output will be saved as a .png file of the\n",
    "    desired name.\n",
    "    \n",
    "    Inputs:\n",
    "    traj: array of trajectory data e.g. particle #, frames, x, y, z, Deff, MSD, etc.\n",
    "    n1: particle# column\n",
    "    n2: x data\n",
    "    n3: z data (with y data, of course, in between x and z.  This just defines a range)\n",
    "    dec: how many decimals you would like to be displayed in the graph.\n",
    "    filename: what you want to name the file.  Must be in ''.  \n",
    "    \n",
    "    Can also use plt.show() afterwards to preview your data, even if it skews the title and legend a bit.\n",
    "    \"\"\"\n",
    "    \n",
    "    #Creates an array 'particles' that contains the particle number at each frame.\n",
    "    particles = traj[:,n1]\n",
    "    position = traj[:,n2:n3+1]\n",
    "    total = int(max(particles))\n",
    "    total1 = total + 1\n",
    "    path = dict()\n",
    "    \n",
    "    #Creates an array for each trajectory containing all xyz data\n",
    "    for num in range(1, total1):\n",
    "    \n",
    "        hold = np.where(particles==num)\n",
    "        itindex = hold[0]\n",
    "        min1 = min(itindex)\n",
    "        max1 = max(itindex)\n",
    "        path[num] = (position[min1:max1,:])\n",
    "    \n",
    "    #Determines arrangement of subplots\n",
    "    rows= np.sqrt(total)\n",
    "    if (rows%1 == 0):\n",
    "        rows = int(rows)\n",
    "    else:\n",
    "        rows = int(rows) + 1\n",
    "        \n",
    "    #Create figure\n",
    "    fig = plt.figure(figsize=(24,20), dpi=80)\n",
    "    ax = dict()\n",
    "\n",
    "    #Plot trajectories\n",
    "    for num in range(1,total1):\n",
    "    \n",
    "        number = 100*rows + 10*rows + num\n",
    "        ax[num] = fig.add_subplot(number,projection='3d')\n",
    "        ax[num].set_title('Particle {}'.format(num), x=0.5, y=1.08)\n",
    "        ax[num].plot(path[num][:,0], path[num][:,1], path[num][:,2])\n",
    "        ax[num].locator_params(nbins=5)\n",
    "        ax[num].title.set_fontsize(30)\n",
    "        \n",
    "        ax[num].tick_params(direction='out', pad=13)\n",
    "    \n",
    "        ax[num].xaxis.set_major_formatter(mpl.ticker.FormatStrFormatter('%.{}f um'.format(dec)))\n",
    "        ax[num].yaxis.set_major_formatter(mpl.ticker.FormatStrFormatter('%.{}f um'.format(dec)))\n",
    "        ax[num].zaxis.set_major_formatter(mpl.ticker.FormatStrFormatter('%.{}f um'.format(dec)))\n",
    "    \n",
    "    #Save figures\n",
    "    plt.savefig('{}.png'.format(filename), bbox_inches='tight')\n"
   ]
  },
  {
   "cell_type": "code",
   "execution_count": 48,
   "metadata": {
    "collapsed": false
   },
   "outputs": [
    {
     "ename": "IndexError",
     "evalue": "too many indices for array",
     "output_type": "error",
     "traceback": [
      "\u001b[1;31m---------------------------------------------------------------------------\u001b[0m",
      "\u001b[1;31mIndexError\u001b[0m                                Traceback (most recent call last)",
      "\u001b[1;32m<ipython-input-48-fd77a4351966>\u001b[0m in \u001b[0;36m<module>\u001b[1;34m()\u001b[0m\n\u001b[1;32m----> 1\u001b[1;33m \u001b[0mplot_trajectories3D\u001b[0m\u001b[1;33m(\u001b[0m\u001b[0mthree\u001b[0m\u001b[1;33m,\u001b[0m \u001b[1;36m1\u001b[0m\u001b[1;33m,\u001b[0m \u001b[1;36m8\u001b[0m\u001b[1;33m,\u001b[0m \u001b[1;36m10\u001b[0m\u001b[1;33m,\u001b[0m \u001b[1;36m0\u001b[0m\u001b[1;33m,\u001b[0m \u001b[1;34m'practice'\u001b[0m\u001b[1;33m)\u001b[0m\u001b[1;33m\u001b[0m\u001b[0m\n\u001b[0m\u001b[0;32m      2\u001b[0m \u001b[0mplt\u001b[0m\u001b[1;33m.\u001b[0m\u001b[0mshow\u001b[0m\u001b[1;33m(\u001b[0m\u001b[1;33m)\u001b[0m\u001b[1;33m\u001b[0m\u001b[0m\n",
      "\u001b[1;32m<ipython-input-47-708ee4a44ebc>\u001b[0m in \u001b[0;36mplot_trajectories3D\u001b[1;34m(traj, n1, n2, n3, dec, filename)\u001b[0m\n\u001b[0;32m     17\u001b[0m \u001b[1;33m\u001b[0m\u001b[0m\n\u001b[0;32m     18\u001b[0m     \u001b[1;31m#Creates an array 'particles' that contains the particle number at each frame.\u001b[0m\u001b[1;33m\u001b[0m\u001b[1;33m\u001b[0m\u001b[0m\n\u001b[1;32m---> 19\u001b[1;33m     \u001b[0mparticles\u001b[0m \u001b[1;33m=\u001b[0m \u001b[0mtraj\u001b[0m\u001b[1;33m[\u001b[0m\u001b[1;33m:\u001b[0m\u001b[1;33m,\u001b[0m\u001b[0mn1\u001b[0m\u001b[1;33m]\u001b[0m\u001b[1;33m\u001b[0m\u001b[0m\n\u001b[0m\u001b[0;32m     20\u001b[0m     \u001b[0mposition\u001b[0m \u001b[1;33m=\u001b[0m \u001b[0mtraj\u001b[0m\u001b[1;33m[\u001b[0m\u001b[1;33m:\u001b[0m\u001b[1;33m,\u001b[0m\u001b[0mn2\u001b[0m\u001b[1;33m:\u001b[0m\u001b[0mn3\u001b[0m\u001b[1;33m+\u001b[0m\u001b[1;36m1\u001b[0m\u001b[1;33m]\u001b[0m\u001b[1;33m\u001b[0m\u001b[0m\n\u001b[0;32m     21\u001b[0m     \u001b[0mtotal\u001b[0m \u001b[1;33m=\u001b[0m \u001b[0mint\u001b[0m\u001b[1;33m(\u001b[0m\u001b[0mmax\u001b[0m\u001b[1;33m(\u001b[0m\u001b[0mparticles\u001b[0m\u001b[1;33m)\u001b[0m\u001b[1;33m)\u001b[0m\u001b[1;33m\u001b[0m\u001b[0m\n",
      "\u001b[1;31mIndexError\u001b[0m: too many indices for array"
     ]
    }
   ],
   "source": [
    "plot_trajectories3D(three, 1, 8, 10, 0, 'practice')\n",
    "plt.show()"
   ]
  },
  {
   "cell_type": "code",
   "execution_count": 49,
   "metadata": {
    "collapsed": false
   },
   "outputs": [],
   "source": [
    "def plot_3Doverlay(traj, n1, n2, n3, dec, filename):\n",
    "    \"\"\"\n",
    "    This function creates a single 3D plot from trajectory data.  This dataset must include a column of particle numbers\n",
    "    as well as the x, y, and z coordinates of of each particle at each frame. Output will be saved as a .png file of the\n",
    "    desired name.\n",
    "    \n",
    "    Inputs:\n",
    "    traj: array of trajectory data e.g. particle #, frames, x, y, z, Deff, MSD, etc.\n",
    "    n1: particle# column\n",
    "    n2: x data\n",
    "    n3: z data (with y data, of course, in between x and z.  This just defines a range)\n",
    "    dec: how many decimals you would like to be displayed in the graph.\n",
    "    filename: what you want to name the file.  Must be in ''.  \n",
    "    \n",
    "    Can also use plt.show() afterwards to preview your data, even if it skews the title and legend a bit.\n",
    "    \"\"\"\n",
    "    \n",
    "    #Creates an array 'particles' that contains the particle number at each frame.\n",
    "    particles = traj[:,n1]\n",
    "    position = traj[:,n2:n3+1]\n",
    "    total = int(max(particles))\n",
    "    total1 = total + 1\n",
    "    path = dict()\n",
    "    \n",
    "    #Creates an array for each trajectory containing all xyz data\n",
    "    for num in range(1, total1):\n",
    "    \n",
    "        hold = np.where(particles==num)\n",
    "        itindex = hold[0]\n",
    "        min1 = min(itindex)\n",
    "        max1 = max(itindex)\n",
    "        path[num] = (position[min1:max1,:])\n",
    "    \n",
    "    #Creates figure\n",
    "    fig = plt.figure(figsize=(24,18), dpi=80)\n",
    "    ax = fig.add_subplot(111,projection='3d')\n",
    "    ax.set_title('Particle Trajectories', x=0.5, y=1.15)\n",
    "    \n",
    "    #Plots individual trajectories\n",
    "    for num in range(1,total1):\n",
    "    \n",
    "        ax.plot(path[num][:,0], path[num][:,1], path[num][:,2], label='Particle {}'.format(num))\n",
    "        \n",
    "    axbox = ax.get_position()\n",
    "    ax.legend(loc =(0.86, 0.90), prop={'size':20})\n",
    "    ax.locator_params(nbins=4)\n",
    "    ax.view_init(elev=38, azim=72)\n",
    "    \n",
    "    #A few adjustments to prettify the graph\n",
    "    for item in ([ax.xaxis.label, ax.yaxis.label, ax.zaxis.label]\n",
    "                 + ax.get_xticklabels() + ax.get_yticklabels() + ax.get_zticklabels()):\n",
    "        item.set_fontsize(13)\n",
    "    \n",
    "    ax.title.set_fontsize(35)\n",
    "    ax.tick_params(direction='out', pad=16)\n",
    "    plt.gca().xaxis.set_major_formatter(mpl.ticker.FormatStrFormatter('%.{}f um'.format(dec)))\n",
    "    plt.gca().yaxis.set_major_formatter(mpl.ticker.FormatStrFormatter('%.{}f um'.format(dec)))\n",
    "    plt.gca().zaxis.set_major_formatter(mpl.ticker.FormatStrFormatter('%.{}f um'.format(dec)))\n",
    "    \n",
    "    #Save your figure\n",
    "    plt.savefig('{}.png'.format(filename), bbox_inches='tight')"
   ]
  },
  {
   "cell_type": "code",
   "execution_count": 68,
   "metadata": {
    "collapsed": false
   },
   "outputs": [],
   "source": [
    "plot_3Doverlay(three, 0, 8, 10, 0, 'practice')\n",
    "plt.show()"
   ]
  },
  {
   "cell_type": "code",
   "execution_count": 86,
   "metadata": {
    "collapsed": false
   },
   "outputs": [],
   "source": [
    "def plot_MSD(traj, n1, n2, n3, dec, filename):\n",
    "    \"\"\"  \n",
    "    Plots the MSDs from a trajectory dataset.\n",
    "    \n",
    "    n1: particle numbers\n",
    "    n2: time\n",
    "    n3: MSDs\n",
    "    \"\"\"\n",
    "    \n",
    "    #Creates an array 'particles' that contains the particle number at each frame.\n",
    "    particles = three[:,n1]\n",
    "    total = int(max(particles))\n",
    "    total1 = total + 1\n",
    "    rawtime = three[:,n2]\n",
    "    rawMSD = three[:,n3]\n",
    "    MSD = dict()\n",
    "    time = dict()\n",
    "\n",
    "    #Creates an array for each trajectory containing all xyz data\n",
    "    for num in range(1, total1):\n",
    "    \n",
    "        hold = np.where(particles==num)\n",
    "        itindex = hold[0]\n",
    "        min1 = min(itindex)\n",
    "        max1 = max(itindex)\n",
    "        MSD[num] = (rawMSD[min1:max1])\n",
    "        time[num] = (rawtime[min1:max1])\n",
    "\n",
    "    #Creates figure\n",
    "    fig = plt.figure(figsize=(24,18), dpi=80)\n",
    "    ax = fig.add_subplot(111)\n",
    "    ax.set_title('Particle Trajectories', x=0.5, y=1.15)\n",
    "    \n",
    "    #Plots individual trajectories\n",
    "    for num in range(1,total1):\n",
    "    \n",
    "        ax.plot(time[num][:], MSD[num][:], label='Particle {}'.format(num))\n",
    "        \n",
    "    axbox = ax.get_position()\n",
    "    #ax.legend(loc =(0.86, 0.90), prop={'size':20})\n",
    "    #ax.locator_params(nbins=4)\n",
    "    \n",
    "    #A few adjustments to prettify the graph\n",
    "    for item in ([ax.xaxis.label, ax.yaxis.label]\n",
    "                 + ax.get_xticklabels() + ax.get_yticklabels()):\n",
    "        item.set_fontsize(16)\n",
    "    \n",
    "    ax.title.set_fontsize(35)\n",
    "    ax.set_xlabel('Time (s)')\n",
    "    ax.set_ylabel('MSD (um2)')\n",
    "    ax.tick_params(direction='out', pad=16)\n",
    "    plt.gca().xaxis.set_major_formatter(mpl.ticker.FormatStrFormatter('%.{}f'.format(dec)))\n",
    "    plt.gca().yaxis.set_major_formatter(mpl.ticker.FormatStrFormatter('%.{}f'.format(dec)))\n",
    "    \n",
    "    #Save your figure\n",
    "    plt.savefig('{}.png'.format(filename), bbox_inches='tight')"
   ]
  },
  {
   "cell_type": "code",
   "execution_count": 99,
   "metadata": {
    "collapsed": false
   },
   "outputs": [],
   "source": [
    "def plot_MeanMSD(traj, n1, n2, n3, dec, filename):\n",
    "    \"\"\"  \n",
    "    Plots the MSDs from a trajectory dataset.\n",
    "    \n",
    "    n1: particle numbers\n",
    "    n2: time\n",
    "    n3: MSDs\n",
    "    \"\"\"\n",
    "    \n",
    "    #Creates an array 'particles' that contains the particle number at each frame.\n",
    "    particles = three[:,n1]\n",
    "    total = int(max(particles))\n",
    "    total1 = total + 1\n",
    "    rawtime = three[:,n2]\n",
    "    rawMSD = three[:,n3]\n",
    "    MSD = dict()\n",
    "    time = dict()\n",
    "\n",
    "    #Creates an array for each trajectory containing all xyz data\n",
    "    for num in range(1, total1):\n",
    "    \n",
    "        hold = np.where(particles==num)\n",
    "        itindex = hold[0]\n",
    "        min1 = min(itindex)\n",
    "        max1 = max(itindex)\n",
    "        MSD[num] = (rawMSD[min1:max1])\n",
    "        time[num] = (rawtime[min1:max1])\n",
    "    \n",
    "    MMSD = MSD[1]\n",
    "    for num in range(2, total1):\n",
    "        MMSD = MMSD + MSD[num]\n",
    "    MMSD = MMSD/total1\n",
    "    \n",
    "    #Creates figure\n",
    "    fig = plt.figure(figsize=(24,18), dpi=80)\n",
    "    ax = fig.add_subplot(111)\n",
    "    ax.set_title('Particle Trajectories', x=0.5, y=1.15)\n",
    "    \n",
    "    ax.plot(time[1][:], MMSD[:])\n",
    "\n",
    "    #A few adjustments to prettify the graph\n",
    "    for item in ([ax.xaxis.label, ax.yaxis.label]\n",
    "                 + ax.get_xticklabels() + ax.get_yticklabels()):\n",
    "        item.set_fontsize(16)\n",
    "    \n",
    "    ax.title.set_fontsize(35)\n",
    "    ax.set_xlabel('Time (s)')\n",
    "    ax.set_ylabel('MSD (um2)')\n",
    "    ax.tick_params(direction='out', pad=16)\n",
    "    plt.gca().xaxis.set_major_formatter(mpl.ticker.FormatStrFormatter('%.{}f'.format(dec)))\n",
    "    plt.gca().yaxis.set_major_formatter(mpl.ticker.FormatStrFormatter('%.{}f'.format(dec)))\n",
    "    \n",
    "    #Save your figure\n",
    "    plt.savefig('{}.png'.format(filename), bbox_inches='tight')"
   ]
  },
  {
   "cell_type": "code",
   "execution_count": 100,
   "metadata": {
    "collapsed": true
   },
   "outputs": [],
   "source": [
    "plot_MeanMSD(three, 0,1,11, 0, 'picture')\n",
    "plt.show()"
   ]
  },
  {
   "cell_type": "code",
   "execution_count": 58,
   "metadata": {
    "collapsed": false
   },
   "outputs": [],
   "source": [
    "def randtraj(b, s, f, p):\n",
    "\n",
    "    base = b\n",
    "    step = s\n",
    "    pi = 3.14159\n",
    "    frames = f\n",
    "    parts = 40\n",
    "\n",
    "    ttraject = np.zeros((frames,20))\n",
    "\n",
    "    for num in range(1, frames):\n",
    "\n",
    "        #Create particle number\n",
    "        ttraject[num,0] = p\n",
    "        ttraject[num-1,0] = p\n",
    "        #Create frame\n",
    "        ttraject[num,1] = 1 + ttraject[num-1,1]\n",
    "        #Create magnitude vector\n",
    "        ttraject[num,2] = base + step*random.random()\n",
    "        #Create Angle Vectors\n",
    "        ttraject[num,3] = 2 * pi * random.random()\n",
    "        ttraject[num,4] = pi * random.random()\n",
    "        #Build trajectories\n",
    "        ttraject[num,5] = ttraject[num-1,5] + ttraject[num,2]*np.sin(ttraject[num,4])*np.cos(ttraject[num,3])\n",
    "        ttraject[num,6] = ttraject[num-1,6] + ttraject[num,2]*np.sin(ttraject[num,4])*np.sin(ttraject[num,3])\n",
    "        ttraject[num,7] = ttraject[num-1,7] + ttraject[num,2]*np.cos(ttraject[num,4])\n",
    "    \n",
    "\n",
    "    particle = ttraject[:,0]\n",
    "    time = ttraject[:,1]\n",
    "    x = ttraject[:,5]\n",
    "    y = ttraject[:,6]\n",
    "    z = ttraject[:,7]\n",
    "\n",
    "    ttraject[:,8] = x - ((max(x)+min(x))/2)\n",
    "    cx = ttraject[:,8]\n",
    "    ttraject[:,9] = y - ((max(y)+min(y))/2)\n",
    "    cy = ttraject[:,9]\n",
    "    ttraject[:,10] = z - ((max(z)+min(z))/2)\n",
    "    cz = ttraject[:,10]\n",
    "\n",
    "    #Calculate MSDs and Deffs\n",
    "    for num in range (1, frames):\n",
    "    \n",
    "        ttraject[num,11] = np.sqrt((ttraject[num,8]-ttraject[0,8])**2 + (ttraject[num,9]-ttraject[0,9])**2 + \n",
    "                                  (ttraject[num,10]-ttraject[0,10])**2)\n",
    "        ttraject[num,12] = np.sqrt((ttraject[num,8]-ttraject[0,8])**2 + (ttraject[num,9]-ttraject[0,9])**2)\n",
    "        ttraject[num,13] = np.sqrt((ttraject[num,8]-ttraject[0,8])**2 + (ttraject[num,10]-ttraject[0,10])**2)\n",
    "        ttraject[num,14] = np.sqrt((ttraject[num,10]-ttraject[0,10])**2 + (ttraject[num,9]-ttraject[0,9])**2)\n",
    "    \n",
    "        ttraject[num,15] = ttraject[num,11]/(6*ttraject[num,1])\n",
    "        ttraject[num,16] = ttraject[num,12]/(4*ttraject[num,1])\n",
    "        ttraject[num,17] = ttraject[num,13]/(4*ttraject[num,1])\n",
    "        ttraject[num,18] = ttraject[num,14]/(4*ttraject[num,1])\n",
    "    \n",
    "    MSD = ttraject[:,11]\n",
    "    MSDxy = ttraject[:,12]\n",
    "    MSDxz = ttraject[:,13]\n",
    "    MSDyz = ttraject[:,14]\n",
    "\n",
    "    Deff = ttraject[:,15]\n",
    "    Deffxy = ttraject[:,16]\n",
    "    Deffxz = ttraject[:,17]\n",
    "    Deffyz = ttraject[:,18]\n",
    "    \n",
    "    return ttraject"
   ]
  },
  {
   "cell_type": "code",
   "execution_count": 59,
   "metadata": {
    "collapsed": false
   },
   "outputs": [],
   "source": [
    "def multrandtraj(b, s, f, p):\n",
    "\n",
    "    parts = p\n",
    "    one = randtraj(b, s, f, 1)\n",
    "    counter = 1\n",
    "    \n",
    "    while counter < p + 1:\n",
    "        counter = counter + 1\n",
    "        one = np.append(one, randtraj(b, s, f, counter), axis=0)\n",
    "    \n",
    "    return one"
   ]
  },
  {
   "cell_type": "code",
   "execution_count": 64,
   "metadata": {
    "collapsed": false
   },
   "outputs": [],
   "source": [
    "three = multrandtraj(1.5, 0.5, 60, 30)"
   ]
  },
  {
   "cell_type": "code",
   "execution_count": null,
   "metadata": {
    "collapsed": true
   },
   "outputs": [],
   "source": []
  }
 ],
 "metadata": {
  "kernelspec": {
   "display_name": "Python 3",
   "language": "python",
   "name": "python3"
  },
  "language_info": {
   "codemirror_mode": {
    "name": "ipython",
    "version": 3
   },
   "file_extension": ".py",
   "mimetype": "text/x-python",
   "name": "python",
   "nbconvert_exporter": "python",
   "pygments_lexer": "ipython3",
   "version": "3.5.1"
  }
 },
 "nbformat": 4,
 "nbformat_minor": 0
}
