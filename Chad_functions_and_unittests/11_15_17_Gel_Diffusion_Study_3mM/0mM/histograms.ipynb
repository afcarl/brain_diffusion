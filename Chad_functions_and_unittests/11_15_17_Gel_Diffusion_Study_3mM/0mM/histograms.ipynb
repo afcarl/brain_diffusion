{
 "cells": [
  {
   "cell_type": "code",
   "execution_count": null,
   "metadata": {
    "collapsed": true
   },
   "outputs": [],
   "source": [
    "import numpy as np\n",
    "import numpy.ma as ma\n",
    "import scipy.stats as stat\n",
    "import random\n",
    "import matplotlib as mpl\n",
    "import matplotlib.pyplot as plt\n",
    "import h5py as hpy"
   ]
  },
  {
   "cell_type": "code",
   "execution_count": null,
   "metadata": {
    "collapsed": false
   },
   "outputs": [],
   "source": [
    "parameters = {}\n",
    "parameters[\"channels\"] = [\"RED\"]\n",
    "parameters[\"surface functionalities\"] = [\"PEG\"]\n",
    "parameters[\"slices\"] = [\"S4\"]\n",
    "parameters[\"videos\"] = [1, 2, 3, 4, 5]\n",
    "\n",
    "channels = parameters[\"channels\"]\n",
    "surface_functionalities = parameters[\"surface functionalities\"]\n",
    "slices = parameters[\"slices\"]\n",
    "videos = parameters[\"videos\"]"
   ]
  },
  {
   "cell_type": "code",
   "execution_count": null,
   "metadata": {
    "collapsed": false
   },
   "outputs": [],
   "source": [
    "fps = 100.02\n",
    "frames = 651\n",
    "toi = 0.04 #time of interest\n",
    "\n",
    "foi = int(np.round(fps*toi)) #frame of interest\n",
    "label = 'MSD Dist'\n",
    "analysis = 'log'\n",
    "theta = \"D\"\n",
    "frame_range = range(5, 30, 5)\n",
    "\n",
    "set_x_limit=False\n",
    "x_range=40\n",
    "\n",
    "set_y_limit=True\n",
    "y_range=5000\n",
    "\n",
    "\n",
    "for slic in slices:\n",
    "    for video in videos:\n",
    "\n",
    "        DIR = 'd:/Chad/11_15_17_Gel_Experiment/0mM/'\n",
    "        base = 'RED0_PEG_37C_72pH_{}_{}'.format(slic, video)\n",
    "\n",
    "        filename = base + '_hist'\n",
    "        SM2xy = np.genfromtxt(DIR + 'SM2xy_' + base + '.csv', delimiter=\",\")\n",
    "\n",
    "        fig = plt.figure(figsize=(16, 6))\n",
    "\n",
    "        for i in frame_range:\n",
    "            toi = i/fps;\n",
    "            if theta == \"MSD\":\n",
    "                factor = 1\n",
    "            else:\n",
    "                factor = 4*toi\n",
    "\n",
    "            if analysis == 'log':\n",
    "                dist = ma.log(SM2xy[i, :]/factor)\n",
    "                test_bins = np.linspace(-5, 5, 76)    \n",
    "            else:\n",
    "                dist = ma.masked_equal(SM2xy[i, :], 0)/factor\n",
    "                test_bins = np.linspace(0, 20, 76)\n",
    "\n",
    "            unmask = np.invert(ma.getmask(dist))\n",
    "            dist = dist[unmask]\n",
    "            histogram, test_bins = np.histogram(dist, bins=test_bins)\n",
    "\n",
    "\n",
    "            # Plot_general_histogram_code\n",
    "            plot = histogram\n",
    "            bins = test_bins\n",
    "            width = 0.7 * (bins[1] - bins[0])\n",
    "            center = (bins[:-1] + bins[1:])/2\n",
    "            plt.bar(center, plot, align='center', width=width)\n",
    "            plt.xlabel(label, fontsize=20)\n",
    "\n",
    "            if set_y_limit:\n",
    "                plt.gca().set_ylim([0, y_range])\n",
    "\n",
    "            if set_x_limit:\n",
    "                plt.gca().set_xlim([0, x_range])\n",
    "\n",
    "        plt.savefig(DIR + '{}.png'.format(filename), bbox_inches='tight')\n",
    "        plt.close('all')\n",
    "        #plt.show()\n",
    "        print(foi)"
   ]
  },
  {
   "cell_type": "code",
   "execution_count": null,
   "metadata": {
    "collapsed": false
   },
   "outputs": [],
   "source": [
    "fps = 100.02\n",
    "frames = 651\n",
    "toi = 0.04 #time of interest\n",
    "\n",
    "foi = int(np.round(fps*toi)) #frame of interest\n",
    "label = 'MSD Dist'\n",
    "analysis = 'log'\n",
    "theta = \"D\"\n",
    "frame_range = range(5, 30, 5)\n",
    "\n",
    "set_x_limit=False\n",
    "x_range=40\n",
    "\n",
    "set_y_limit=True\n",
    "y_range=5000\n",
    "\n",
    "\n",
    "for slic in slices:\n",
    "    for video in videos:\n",
    "\n",
    "        DIR = 'd:/Chad/11_15_17_Gel_Experiment/5mM/'\n",
    "        base = 'RED_nPEG_37C_72pH_{}_{}'.format(slic, video)\n",
    "\n",
    "        filename = base + '_hist'\n",
    "        SM2xy = np.genfromtxt(DIR + 'SM2xy_' + base + '.csv', delimiter=\",\")\n",
    "\n",
    "#         fig = plt.figure(figsize=(16, 6))\n",
    "\n",
    "#         for i in frame_range:\n",
    "#             toi = i/fps;\n",
    "#             if theta == \"MSD\":\n",
    "#                 factor = 1\n",
    "#             else:\n",
    "#                 factor = 4*toi\n",
    "\n",
    "#             if analysis == 'log':\n",
    "#                 dist = ma.log(SM2xy[i, :]/factor)\n",
    "#                 test_bins = np.linspace(-5, 5, 76)    \n",
    "#             else:\n",
    "#                 dist = ma.masked_equal(SM2xy[i, :], 0)/factor\n",
    "#                 test_bins = np.linspace(0, 20, 76)\n",
    "\n",
    "#             unmask = np.invert(ma.getmask(dist))\n",
    "#             dist = dist[unmask]\n",
    "#             histogram, test_bins = np.histogram(dist, bins=test_bins)\n",
    "\n",
    "\n",
    "#             # Plot_general_histogram_code\n",
    "#             plot = histogram\n",
    "#             bins = test_bins\n",
    "#             width = 0.7 * (bins[1] - bins[0])\n",
    "#             center = (bins[:-1] + bins[1:])/2\n",
    "#             plt.bar(center, plot, align='center', width=width)\n",
    "#             plt.xlabel(label, fontsize=20)\n",
    "\n",
    "#             if set_y_limit:\n",
    "#                 plt.gca().set_ylim([0, y_range])\n",
    "\n",
    "#             if set_x_limit:\n",
    "#                 plt.gca().set_xlim([0, x_range])\n",
    "\n",
    "#         plt.savefig(DIR + '{}.png'.format(filename), bbox_inches='tight')\n",
    "#         plt.close('all')\n",
    "#         #plt.show()\n",
    "#         print(foi)"
   ]
  },
  {
   "cell_type": "code",
   "execution_count": null,
   "metadata": {
    "collapsed": false
   },
   "outputs": [],
   "source": [
    "dist, test_bins = find_distribution(SM2xy, theta, analysis, frame_range, fps)"
   ]
  },
  {
   "cell_type": "code",
   "execution_count": null,
   "metadata": {
    "collapsed": false
   },
   "outputs": [],
   "source": [
    "fps = 100.02\n",
    "frames = 651\n",
    "toi = 0.50 #time of interest\n",
    "\n",
    "foi = int(np.round(fps*toi)) #frame of interest\n",
    "print(foi)\n",
    "filename = 'test_qqplot_50'\n",
    "label = 'MSD Dist'\n",
    "analysis = 'log'\n",
    "theta = \"D\"\n",
    "\n",
    "fig = plt.figure()\n",
    "ax = fig.add_subplot(111)\n",
    "\n",
    "if theta == \"MSD\":\n",
    "    factor = 1\n",
    "else:\n",
    "    factor = 4*toi\n",
    "\n",
    "if analysis == 'log':\n",
    "    dist = ma.log(SM2xy[foi, :]/factor)\n",
    "    unmask = np.invert(ma.getmask(dist))\n",
    "    dist = dist[unmask]\n",
    "    test_bins = np.linspace(-5, 5, 76)\n",
    "else:\n",
    "    dist = ma.masked_equal(SM2xy[foi, :], 0)/factor\n",
    "    unmask = np.invert(ma.getmask(dist))\n",
    "    dist = dist[unmask]\n",
    "    test_bins = np.linspace(0, 20, 76)\n",
    "\n",
    "qqplot = stat.probplot(dist, plot=plt)\n",
    "plt.savefig('{}.png'.format(filename), bbox_inches='tight')\n",
    "plt.show()"
   ]
  },
  {
   "cell_type": "code",
   "execution_count": null,
   "metadata": {
    "collapsed": false
   },
   "outputs": [],
   "source": [
    "np.histogram(dist[0:10])"
   ]
  },
  {
   "cell_type": "code",
   "execution_count": null,
   "metadata": {
    "collapsed": true
   },
   "outputs": [],
   "source": [
    "def plot_general_histogram(histogram, bins, label, directory, filename, set_y_limit=False, y_range=40, set_x_limit=False, x_range=40):\n",
    "    \"\"\"\n",
    "    This function plots a histogram of the input dataset.\n",
    "\n",
    "    Inputs:\n",
    "    dataset: array of floats.  Contains data used to generate histogram.\n",
    "    bins: integer or array. desired number of bins.\n",
    "    label: string. label used along x axis.\n",
    "    filename: string.  desired name of file.  File will automatically be saved as a PNG.\n",
    "    set_y_limit: True/False.  Option to manually set the y limit of graph.\n",
    "    y_range: float.  Manually set y limit.\n",
    "    set_x_limit: True/False.  Option to manually set the x limit of graph.\n",
    "    x_range: float. Manually set x limit.\n",
    "    \"\"\"\n",
    "\n",
    "    plot = histogram\n",
    "    #plot[0] = 0\n",
    "    width = 0.7 * (bins[1] - bins[0])\n",
    "    center = (bins[:-1] + bins[1:])/2\n",
    "    plt.bar(center, plot, align='center', width=width)\n",
    "    plt.xlabel(label, fontsize=20)\n",
    "\n",
    "    if set_y_limit:\n",
    "        plt.gca().set_ylim([0, y_range])\n",
    "\n",
    "    if set_x_limit:\n",
    "        plt.gca().set_xlim([0, x_range])"
   ]
  },
  {
   "cell_type": "code",
   "execution_count": null,
   "metadata": {
    "collapsed": true
   },
   "outputs": [],
   "source": [
    "cd 'd:/'\n",
    "cd 'Chad/11_15_17_Gel_Experiment/5mM/'\n",
    "\n",
    "f = hpy.File('SM2xy.hdf5', 'w')\n",
    "\n",
    "del f['nPEG_37C_72pH_s4_3']\n",
    "\n",
    "dset = f.create_dataset('nPEG_37C_72pH_s4_3', SM2xy.shape, dtype='f')\n",
    "\n",
    "SM2xy = np.genfromtxt(DIR + 'SM2xy_' + base + '.csv', delimiter=\",\")\n",
    "\n",
    "dset[...] = SM2xy"
   ]
  }
 ],
 "metadata": {
  "kernelspec": {
   "display_name": "Python 3",
   "language": "python",
   "name": "python3"
  },
  "language_info": {
   "codemirror_mode": {
    "name": "ipython",
    "version": 3
   },
   "file_extension": ".py",
   "mimetype": "text/x-python",
   "name": "python",
   "nbconvert_exporter": "python",
   "pygments_lexer": "ipython3",
   "version": "3.5.3"
  }
 },
 "nbformat": 4,
 "nbformat_minor": 0
}
