{
 "cells": [
  {
   "cell_type": "code",
   "execution_count": 2,
   "metadata": {
    "collapsed": false
   },
   "outputs": [],
   "source": [
    "import os\n",
    "import csv\n",
    "import sys\n",
    "module_path = os.path.abspath(os.path.join('C:\\\\Users\\\\koolk\\\\Desktop\\\\brain-diffusion\\\\Chad_functions_and_unittests'))\n",
    "if module_path not in sys.path:\n",
    "    sys.path.append(module_path)\n",
    "\n",
    "import matplotlib as mpl\n",
    "import matplotlib.pyplot as plt\n",
    "import numpy as np\n",
    "import numpy.ma as ma"
   ]
  },
  {
   "cell_type": "code",
   "execution_count": 3,
   "metadata": {
    "collapsed": false
   },
   "outputs": [],
   "source": [
    "import numpy as np\n",
    "from MSD_utils import get_data_pups, build_time_array, return_average, avg_all, graph_single_variable\n",
    "from MSD_utils import SD_all, return_SD, range_and_ticks, choose_y_axis_params, data_prep_for_plotting_pups\n",
    "from MSD_utils import fill_in_and_split, plot_traj_length_histogram, plot_traj"
   ]
  },
  {
   "cell_type": "code",
   "execution_count": 9,
   "metadata": {
    "collapsed": false
   },
   "outputs": [],
   "source": [
    "path = \"./{genotype}/geoM2xy_{sample_name}.csv\"\n",
    "frames = 90\n",
    "SD_frames = [1, 7, 14, 15]\n",
    "conversion = (0.3, 3.95, 1)#(0.5, 1.93, 1)\n",
    "to_frame = 16\n",
    "\n",
    "parameters = {}\n",
    "parameters[\"channels\"] = [\"RED\"]\n",
    "parameters[\"genotypes\"] = [\"WT\"]\n",
    "parameters[\"pups\"] = [\"P1\", \"P2\", \"P3\"]\n",
    "parameters[\"surface functionalities\"] = [\"PEG\"]\n",
    "parameters[\"slices\"] = [\"S1\", \"S2\", \"S3\"]\n",
    "parameters[\"regions\"] = [\"cortex\", \"mid\"]\n",
    "parameters[\"replicates\"] = [1, 2, 3, 4, 5]\n",
    "\n",
    "base_name = \"WT\""
   ]
  },
  {
   "cell_type": "code",
   "execution_count": null,
   "metadata": {
    "collapsed": false
   },
   "outputs": [],
   "source": [
    "data, avg_over_slices, avg_over_pups, names_with_replicates, time, time_SD, average_over_slices, average_over_pups,\\\n",
    "    all_SD_over_slices, all_SD_over_pups = data_prep_for_plotting_pups(path, frames, SD_frames, conversion, to_frame, parameters)"
   ]
  },
  {
   "cell_type": "code",
   "execution_count": null,
   "metadata": {
    "collapsed": true
   },
   "outputs": [],
   "source": [
    "y_range, ticks_y, dec_y, x_range, ticks_x, dec_x = 20, 2.5, 1, 5, 1, 1"
   ]
  },
  {
   "cell_type": "code",
   "execution_count": null,
   "metadata": {
    "collapsed": false
   },
   "outputs": [],
   "source": [
    "# #Put dataset with largest y range here.\n",
    "\n",
    "# in_name1 = \"YG\"\n",
    "# in_name2 = \"YG\"\n",
    "\n",
    "# y_range, ticks_y, dec_y, x_range, ticks_x, dec_x = graph_single_variable(average_over_pups, all_SD_over_pups, time, time_SD, SD_frames, in_name1, in_name2, to_frame=to_frame,\n",
    "#                       modify_labels=True, label_identifier=\"PEG_\", base_name=base_name)\n",
    "# plt.show()"
   ]
  },
  {
   "cell_type": "code",
   "execution_count": null,
   "metadata": {
    "collapsed": false
   },
   "outputs": [],
   "source": [
    "in_name1 = \"RED\"\n",
    "in_name2 = \"RED\"\n",
    "\n",
    "graph_single_variable(average_over_pups, all_SD_over_pups, time, time_SD, SD_frames, in_name1, in_name2, to_frame=to_frame, y_range=y_range,\n",
    "                      ticks_y=ticks_y, dec_y=dec_y, x_range=x_range, ticks_x=ticks_x, dec_x=dec_x,\n",
    "                      modify_labels=True, label_identifier=\"PEG_\", x_manual=True, base_name=base_name)\n",
    "plt.show()"
   ]
  },
  {
   "cell_type": "code",
   "execution_count": null,
   "metadata": {
    "collapsed": false
   },
   "outputs": [],
   "source": [
    "in_name1 = [\"cortex\", \"mid\"]\n",
    "in_name2 = [\"RED\", \"YG\"]\n",
    "\n",
    "for one in in_name1:\n",
    "    for two in in_name2:\n",
    "\n",
    "        graph_single_variable(average_over_slices, all_SD_over_slices, time, time_SD, SD_frames, one, two, to_frame=to_frame, y_range=y_range,\n",
    "                              ticks_y=ticks_y, dec_y=dec_y, x_range=x_range, ticks_x=ticks_x, dec_x=dec_x,\n",
    "                              modify_labels=True, label_identifier=\"PEG_\", x_manual=True, base_name=base_name)\n",
    "#plt.show()"
   ]
  },
  {
   "cell_type": "code",
   "execution_count": 4,
   "metadata": {
    "collapsed": false
   },
   "outputs": [],
   "source": [
    "channels = [\"RED\", \"YG\"]\n",
    "genotypes = [\"KO\"]\n",
    "pups = [\"P1\", \"P2\", \"P3\"]\n",
    "surface_functionalities = [\"PEG\"]\n",
    "slices = [\"S1\", \"S2\", \"S3\"]\n",
    "regions = [\"cortex\", \"mid\"]\n",
    "replicates = [1, 2, 3, 4, 5]\n",
    "\n",
    "cut = 4\n",
    "great = 10000\n",
    "filtered = False\n",
    "new_method = True\n",
    "tofilt = np.array([])\n",
    "\n",
    "frame = 60\n",
    "tau_m = frame - 1\n",
    "trajectory = {}\n",
    "names_with_replicates = {}\n",
    "data = {}\n",
    "\n",
    "path2 = \"./{genotype}/{pup}/{region}/{channel}/Traj_{sample_name}.tif.csv\"\n",
    "\n",
    "counter2 = 0\n",
    "\n",
    "for channel in channels:\n",
    "    for genotype in genotypes:\n",
    "        for surface_functionality in surface_functionalities:\n",
    "            for region in regions:\n",
    "                for pup in pups:\n",
    "                    for slic in slices:\n",
    "                        for replicate in replicates:\n",
    "                            \n",
    "                            # Establishing sample names and extracting data from csv files.\n",
    "                            sample_name_long = \"{}_{}_{}_{}_{}_{}_{}\".format(channel, genotype, surface_functionality,\n",
    "                                                                             region, pup, slic, replicate)\n",
    "                            names_with_replicates[counter2] = sample_name_long\n",
    "                            counter2 = counter2 + 1\n",
    "                            filename = path2.format(channel=channel, genotype=genotype, pup=pup, region=region, sample_name=sample_name_long)\n",
    "                            data[sample_name_long] = np.genfromtxt(filename, delimiter=\",\")\n",
    "                            data[sample_name_long] = np.delete(data[sample_name_long],0,1)\n",
    "                            \n",
    "                            #Names of output plots\n",
    "                            logplot = '{}_logplot'.format(sample_name_long)\n",
    "                            Mplot = '{}_Mplot'.format(sample_name_long)\n",
    "                            Dplot = '{}_Dplot'.format(sample_name_long)\n",
    "                            Hplot = '{}_Hplot'.format(sample_name_long)\n",
    "                            Hlogplot = '{}_Hlogplot'.format(sample_name_long)\n",
    "                            Cplot = '{}_Cplot'.format(sample_name_long)\n",
    "                            Tplot = '{}_Tplot'.format(sample_name_long)\n",
    "                            T2plot = '{}_T2plot'.format(sample_name_long)\n",
    "                            lenplot = '{}_lenplot'.format(sample_name_long)"
   ]
  },
  {
   "cell_type": "code",
   "execution_count": null,
   "metadata": {
    "collapsed": false
   },
   "outputs": [],
   "source": [
    "\n",
    "\n",
    "for keys in names_with_replicates:\n",
    "    \n",
    "    name = names_with_replicates[keys]\n",
    "\n",
    "    logplot = '{}_logplot'.format(name)\n",
    "    Mplot = '{}_Mplot'.format(name)\n",
    "    Dplot = '{}_Dplot'.format(name)\n",
    "    Hplot = '{}_Hplot'.format(name)\n",
    "    Hlogplot = '{}_Hlogplot'.format(name)\n",
    "    Cplot = '{}_Cplot'.format(name)\n",
    "    Tplot = '{}_Tplot'.format(name)\n",
    "    T2plot = '{}_T2plot'.format(name)\n",
    "    lenplot = '{}_lenplot'.format(name)\n",
    "\n",
    "\n",
    "    trajectory[names_with_replicates[keys]]=np.genfromtxt('./Traj_RED_WT_P1_PEG_S1_cortex_{}.tif.csv'.format(num), delimiter =\",\")\n",
    "    trajectory[names_with_replicates[keys]]=np.delete(trajectory[num],0,1)\n",
    "\n",
    "parts = dict()\n",
    "tots = dict()\n",
    "newtots = dict()\n",
    "newtots[0] = 0\n",
    "tlen = dict()\n",
    "tlength = dict()\n",
    "tlength[0] = 0\n",
    "\n",
    "for num in range(1, totvids + 1):\n",
    "    tots[num] = trajectory[num][-1, 0].astype(np.int64)\n",
    "    parts[num] = tots[num]\n",
    "    counter = 1\n",
    "    newtots[num] = newtots[num-1] + tots[num]\n",
    "\n",
    "    tlen[num] = trajectory[num].shape[0]\n",
    "    tlength[num] = tlength[num-1] + tlen[num]\n",
    "\n",
    "placeholder = np.zeros((tlength[totvids], 11))\n",
    "\n",
    "for num in range(1, totvids + 1):\n",
    "    placeholder[tlength[num-1]:tlength[num], :] = trajectory[num]\n",
    "    placeholder[tlength[num-1]:tlength[num], 0] = placeholder[tlength[num-1]:tlength[num], 0] + newtots[num-1]"
   ]
  },
  {
   "cell_type": "code",
   "execution_count": 5,
   "metadata": {
    "collapsed": false
   },
   "outputs": [],
   "source": [
    "#Dictionaries with [1]s will be duplicated for all datasets in nested loops.\n",
    "\n",
    "particles = {}\n",
    "framed = {}\n",
    "x_data = {}\n",
    "y_data = {}\n",
    "total = {}\n",
    "tlength = {}\n",
    "x_microns = {}\n",
    "y_microns = {}\n",
    "x_particle = {}\n",
    "y_particle = {}\n",
    "\n",
    "# particles[1] = data[names_with_replicates[3]][:,0]\n",
    "# framed[1] = data[names_with_replicates[3]][:,1].astype(np.int64)\n",
    "# x_data[1] = data[names_with_replicates[3]][:,2]\n",
    "# y_data[1] = data[names_with_replicates[3]][:,3]\n"
   ]
  },
  {
   "cell_type": "code",
   "execution_count": 6,
   "metadata": {
    "collapsed": false
   },
   "outputs": [],
   "source": [
    "def fill_in_and_split(data):\n",
    "    \"\"\"\n",
    "    This function takes a raw trajectory datafile (with the first column deleted),\n",
    "    splits it into particles, frames, x data, and y data arrays, and fills in\n",
    "    any skipped frames.\n",
    "    \n",
    "    Inputs:\n",
    "    data: array.  First column are particle numbers, second frames, third x data,\n",
    "        forth, y data.\n",
    "    \n",
    "    Outputs:\n",
    "    particles_new\n",
    "    framed_new\n",
    "    x_data_new\n",
    "    y_data_new\n",
    "    \"\"\"\n",
    "\n",
    "    particles = data[:,0]\n",
    "    framed = data[:,1].astype(np.int64)\n",
    "    x_data = data[:,2]\n",
    "    y_data = data[:,3]\n",
    "\n",
    "    counter = 0\n",
    "    original_size = framed.size\n",
    "\n",
    "    for num in range(0, original_size - 1):\n",
    "        if framed[num+1] > framed[num] and particles[num+1] == particles[num]:\n",
    "            if not framed[num+1] - framed[num] == 1:\n",
    "                new_frames = framed[num+1] - framed[num] - 1\n",
    "                counter = counter + new_frames\n",
    "\n",
    "    new_size = original_size + counter\n",
    "\n",
    "    if not counter == 0:\n",
    "        particles_new = np.zeros(new_size)\n",
    "        framed_new = np.zeros(new_size)\n",
    "        x_data_new = np.zeros(new_size)\n",
    "        y_data_new = np.zeros(new_size)\n",
    "\n",
    "        counter2 = 0\n",
    "\n",
    "        for num in range(0, original_size - 1):\n",
    "            if framed[num+1] > framed[num] and particles[num+1] == particles[num]:\n",
    "                if not framed[num+1] - framed[num] == 1:\n",
    "                    new_frames = framed[num+1] - framed[num] - 1\n",
    "                    for num2 in range(1, new_frames):\n",
    "                        particles_new[num+num2+counter2] = particles[num]\n",
    "                        framed_new[num+num2+counter2] = framed[num]\n",
    "                        x_data_new[num+num2+counter2] = x_data[num]\n",
    "                        y_data_new[num+num2+counter2] = y_data[num]\n",
    "                    counter2 = counter2 + new_frames\n",
    "                else:\n",
    "                    particles_new[num+counter2] = particles[num]\n",
    "                    framed_new[num+counter2] = framed[num]\n",
    "                    x_data_new[num+counter2] = x_data[num]\n",
    "                    y_data_new[num+counter2] = y_data[num]\n",
    "            else:\n",
    "                particles_new[num+counter2] = particles[num]\n",
    "                framed_new[num+counter2] = framed[num]\n",
    "                x_data_new[num+counter2] = x_data[num]\n",
    "                y_data_new[num+counter2] = y_data[num]\n",
    "\n",
    "        particles_new[original_size+counter2 - 1] = particles[original_size - 1]\n",
    "        framed_new[original_size+counter2 - 1] = framed[original_size - 1]\n",
    "        x_data_new[original_size+counter2 - 1] = x_data[original_size - 1]\n",
    "        y_data_new[original_size+counter2 - 1] = y_data[original_size - 1]\n",
    "    else:\n",
    "        particles_new = particles\n",
    "        framed_new = framed\n",
    "        x_data_new = x_data\n",
    "        y_data_new = y_data\n",
    "\n",
    "    return particles_new, framed_new, x_data_new, y_data_new\n"
   ]
  },
  {
   "cell_type": "code",
   "execution_count": 7,
   "metadata": {
    "collapsed": false
   },
   "outputs": [],
   "source": [
    "particles[1], framed[1], x_data[1], y_data[1] = fill_in_and_split(data[names_with_replicates[3]])"
   ]
  },
  {
   "cell_type": "code",
   "execution_count": 16,
   "metadata": {
    "collapsed": false
   },
   "outputs": [],
   "source": [
    "time, time_SD = build_time_array(frames, conversion, SD_frames)\n",
    "framen = np.linspace(0, frames, frames+1).astype(np.int64)\n",
    "total[1] = int(max(particles[1]))\n",
    "tlength[1] = np.zeros(total[1] + 1)\n",
    "total[1]\n",
    "\n",
    "x_microns[1] = x_data[1]*conversion[0]\n",
    "y_microns[1] = y_data[1]*conversion[0]\n"
   ]
  },
  {
   "cell_type": "code",
   "execution_count": 17,
   "metadata": {
    "collapsed": false
   },
   "outputs": [],
   "source": [
    "x_original_frames = {}\n",
    "y_original_frames = {}\n",
    "\n",
    "x_adjusted_frames = {}\n",
    "y_adjusted_frames = {}\n",
    "\n",
    "x_particle[1] = {}\n",
    "y_particle[1] = {}\n",
    "\n",
    "x_original_frames[1] = {}\n",
    "y_original_frames[1] = {}\n",
    "\n",
    "x_adjusted_frames[1] = {}\n",
    "y_adjusted_frames[1] = {}\n",
    "\n",
    "for num in range(1, total[1] + 1):\n",
    "    hold = np.where(particles[1] == num)\n",
    "    itindex = hold[0]\n",
    "    min1 = min(itindex)\n",
    "    max1 = max(itindex)\n",
    "    x_particle[1][num] = x_microns[1][min1:max1+1]\n",
    "    y_particle[1][num] = y_microns[1][min1:max1+1]\n",
    "    \n",
    "    x_original_frames[1][num] = np.zeros(frames + 1)\n",
    "    y_original_frames[1][num] = np.zeros(frames + 1)\n",
    "    x_adjusted_frames[1][num] = np.zeros(frames + 1)\n",
    "    y_adjusted_frames[1][num] = np.zeros(frames + 1)\n",
    "    \n",
    "    x_original_frames[1][num][framed[1][min1]:framed[1][max1]+1] = x_microns[1][min1:max1+1]\n",
    "    y_original_frames[1][num][framed[1][min1]:framed[1][max1]+1] = y_microns[1][min1:max1+1]\n",
    "\n",
    "    x_adjusted_frames[1][num][0:max1+1-min1] = x_microns[1][min1:max1+1]\n",
    "    y_adjusted_frames[1][num][0:max1+1-min1] = y_microns[1][min1:max1+1]\n",
    "    \n",
    "    x_original_frames[1][num] = ma.masked_equal(x_original_frames[1][num], 0)\n",
    "    y_original_frames[1][num] = ma.masked_equal(y_original_frames[1][num], 0)\n",
    "    x_adjusted_frames[1][num] = ma.masked_equal(x_adjusted_frames[1][num], 0)\n",
    "    y_adjusted_frames[1][num] = ma.masked_equal(y_adjusted_frames[1][num], 0)\n",
    "    \n",
    "    tlength[1][num - 1] = ma.count(x_adjusted_frames[1][num])"
   ]
  },
  {
   "cell_type": "code",
   "execution_count": 18,
   "metadata": {
    "collapsed": false
   },
   "outputs": [
    {
     "data": {
      "text/plain": [
       "array([  2.,  90.,  90.,   4.,   2.,  90.,  90.,   3.,   6.,   2.,   3.,\n",
       "         2.,   3.,   2.,   8.,   4.,   2.,   2.,   2.,   2.,   2.,   2.,\n",
       "         2.,   2.,   7.,   2.,   2.,   3.,   2.,   2.,   2.,   2.,   3.,\n",
       "         5.,   3.,   2.,   2.,   2.,   2.,   2.,   4.,   2.,   3.,   2.,\n",
       "         2.,   2.,   2.,   4.,   2.,   2.,   2.,   2.,   2.,   2.,   2.,\n",
       "         3.,   2.,   3.,   2.,   3.,   2.,   2.,   3.,   2.,   3.,   2.,\n",
       "         2.,   2.,   3.,   2.,   2.,   2.,   3.,   2.,   2.,   2.,   2.,\n",
       "         2.,   2.,   2.,   0.])"
      ]
     },
     "execution_count": 18,
     "metadata": {},
     "output_type": "execute_result"
    }
   ],
   "source": [
    "tlength[1]"
   ]
  },
  {
   "cell_type": "code",
   "execution_count": 15,
   "metadata": {
    "collapsed": true
   },
   "outputs": [],
   "source": [
    "def plot_traj_length_histogram(length, total, filename):\n",
    "    \n",
    "    total1 = total\n",
    "    hist = length\n",
    "\n",
    "    hist = [x for x in hist if str(x) != 'nan']\n",
    "    \n",
    "    plot, bins = np.histogram(hist, bins=total1)\n",
    "    width = 1 * (bins[1] - bins[0])\n",
    "    center = (bins[:-1] + bins[1:])/2\n",
    "    plt.bar(center, plot, align='center', width=width)\n",
    "    plt.xlabel('Trajectory lengths', fontsize=20)\n",
    "\n",
    "    plt.savefig('{}.png'.format(filename), bbox_inches='tight')\n",
    "    return hist, total1"
   ]
  },
  {
   "cell_type": "code",
   "execution_count": 21,
   "metadata": {
    "collapsed": false
   },
   "outputs": [],
   "source": [
    "hist, total= plot_traj_length_histogram(tlength[1], total[1], lenplot)\n",
    "plt.show()"
   ]
  },
  {
   "cell_type": "code",
   "execution_count": 53,
   "metadata": {
    "collapsed": false
   },
   "outputs": [],
   "source": [
    "def plot_traj(xts, yts, total):\n",
    "    \"\"\"\n",
    "    This function plots the trajectories of the particles as they were originally caught on the\n",
    "    microscope (no centering performed).\n",
    "    \n",
    "    Inputs:\n",
    "    xts: dictionary of arrays.  Keys are the particle numbers.\n",
    "    yts: dictionary of arrays.  Keys are the particle numbers.\n",
    "    total: total particles in dictionary.\n",
    "    \"\"\"\n",
    "    middle_max_x = np.zeros(total)\n",
    "    middle_max_y = np.zeros(total)\n",
    "\n",
    "    for num in range(1, total+1):\n",
    "        middle_max_x[num-1] = np.nanmax(xts[num])\n",
    "        middle_max_y[num-1] = np.nanmax(yts[num])\n",
    "\n",
    "    x_max = np.round(max(middle_max_x)/10, 0)*10+0.1\n",
    "    y_max = np.round(max(middle_max_y)/10, 0)*10+0.1\n",
    "\n",
    "    both_max = max(x_max, y_max)\n",
    "    \n",
    "    # Creates figure\n",
    "    fig = plt.figure(figsize=(24, 18), dpi=80)\n",
    "    ax = fig.add_subplot(111)\n",
    "\n",
    "    for num in range(1, total+1):\n",
    "        ax.plot(xts[num], yts[num], linewidth=3, label='Particle {}'.format(num))\n",
    "\n",
    "\n",
    "    # A few adjustments to prettify the graph\n",
    "    for item in ([ax.xaxis.label, ax.yaxis.label] +\n",
    "                 ax.get_xticklabels() + ax.get_yticklabels()):\n",
    "        item.set_fontsize(70)\n",
    "\n",
    "    xmajor_ticks = np.arange(0, both_max, 20)\n",
    "    ymajor_ticks = np.arange(0, both_max, 20)\n",
    "\n",
    "    ax.set_xticks(xmajor_ticks)\n",
    "    ax.set_yticks(ymajor_ticks)\n",
    "    ax.title.set_fontsize(70)\n",
    "    ax.set_xlabel(r'x ($\\mu$m)', fontsize=95)\n",
    "    ax.set_ylabel(r'y ($\\mu$m)', fontsize=95)\n",
    "    #ax.tick_params(direction='out', pad=16)\n",
    "    #ax.legend(loc=(0.60, 0.76), prop={'size': 40})\n",
    "    plt.gca().xaxis.set_major_formatter(mpl.ticker.FormatStrFormatter('%.{}f'.format(0)))\n",
    "    plt.gca().yaxis.set_major_formatter(mpl.ticker.FormatStrFormatter('%.{}f'.format(0)))\n",
    "\n",
    "\n",
    "    #plt.yscale('log')\n",
    "    #plt.xscale('log')\n",
    "    plt.gca().set_xlim([0, both_max])\n",
    "    plt.gca().set_ylim([0, both_max])\n",
    "\n",
    "    # Save your figure\n",
    "    plt.savefig('{}.png'.format(T2plot), bbox_inches='tight')"
   ]
  },
  {
   "cell_type": "code",
   "execution_count": null,
   "metadata": {
    "collapsed": true
   },
   "outputs": [],
   "source": [
    "plot_traj(x_original_frames[1], y_original_frames[1], total)\n",
    "plt.show()"
   ]
  }
 ],
 "metadata": {
  "kernelspec": {
   "display_name": "Python 3",
   "language": "python",
   "name": "python3"
  },
  "language_info": {
   "codemirror_mode": {
    "name": "ipython",
    "version": 3
   },
   "file_extension": ".py",
   "mimetype": "text/x-python",
   "name": "python",
   "nbconvert_exporter": "python",
   "pygments_lexer": "ipython3",
   "version": "3.5.3"
  }
 },
 "nbformat": 4,
 "nbformat_minor": 0
}
