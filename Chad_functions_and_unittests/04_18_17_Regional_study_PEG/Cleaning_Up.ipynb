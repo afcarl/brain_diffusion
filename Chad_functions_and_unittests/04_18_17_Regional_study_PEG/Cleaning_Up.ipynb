{
 "cells": [
  {
   "cell_type": "code",
   "execution_count": 1,
   "metadata": {
    "collapsed": false
   },
   "outputs": [],
   "source": [
    "import os\n",
    "import csv\n",
    "import sys\n",
    "module_path = os.path.abspath(os.path.join('C:\\\\Users\\\\koolk\\\\Desktop\\\\brain-diffusion\\\\Chad_functions_and_unittests'))\n",
    "if module_path not in sys.path:\n",
    "    sys.path.append(module_path)\n",
    "\n",
    "import matplotlib as mpl\n",
    "import matplotlib.pyplot as plt\n",
    "# import matplotlib.ticker as mtick\n",
    "# import scipy.optimize as opt\n",
    "# import scipy.stats as stat\n",
    "# from mpl_toolkits.mplot3d import Axes3D\n",
    "# from operator import itemgetter\n",
    "# import random\n",
    "import numpy as np\n",
    "import numpy.ma as ma\n",
    "# import numpy.linalg as la\n",
    "# from mpl_toolkits.mplot3d import Axes3D\n",
    "\n",
    "# pi = np.pi\n",
    "# sin = np.sin\n",
    "# cos = np.cos"
   ]
  },
  {
   "cell_type": "code",
   "execution_count": 2,
   "metadata": {
    "collapsed": false
   },
   "outputs": [],
   "source": [
    "import numpy as np\n",
    "from MSD_utils import get_data_pups, build_time_array, return_average, avg_all\n",
    "from MSD_utils import SD_all, return_SD, range_and_ticks, choose_y_axis_params, data_prep_for_plotting_pups"
   ]
  },
  {
   "cell_type": "code",
   "execution_count": 3,
   "metadata": {
    "collapsed": false
   },
   "outputs": [],
   "source": [
    "path = \"./{genotype}/geoM2xy_{sample_name}.csv\"\n",
    "frames = 60\n",
    "SD_frames = [1, 7, 14, 15]\n",
    "conversion = (0.5, 1.93, 1)#(0.3, 3.95, 1)\n",
    "to_frame = 16\n",
    "\n",
    "parameters = {}\n",
    "parameters[\"channels\"] = [\"RED\"]\n",
    "parameters[\"genotypes\"] = [\"WT\"]\n",
    "parameters[\"pups\"] = [\"P1\", \"P2\", \"P3\"]\n",
    "parameters[\"surface functionalities\"] = [\"PEG\"]\n",
    "parameters[\"slices\"] = [\"S1\", \"S2\", \"S3\"]\n",
    "parameters[\"regions\"] = [\"cortex\", \"mid\"]\n",
    "parameters[\"replicates\"] = [1, 2, 3, 4, 5]\n",
    "\n",
    "base_name = \"WT\""
   ]
  },
  {
   "cell_type": "code",
   "execution_count": 5,
   "metadata": {
    "collapsed": false
   },
   "outputs": [],
   "source": [
    "data, avg_over_slices, avg_over_pups, names_with_replicates, time, time_SD, average_over_slices, average_over_pups,\\\n",
    "    all_SD_over_slices, all_SD_over_pups = data_prep_for_plotting_pups(path, frames, SD_frames, conversion, to_frame, parameters)"
   ]
  },
  {
   "cell_type": "code",
   "execution_count": null,
   "metadata": {
    "collapsed": false
   },
   "outputs": [],
   "source": [
    "def graph_single_variable(all_avg, all_SD, time, time_SD, SD_frames, in_name1, in_name2, to_frame=15, line_colors=['g', 'r', 'b', 'c', 'm', 'k'], line_kind='-',\n",
    "                         x_manual=False, y_range=10, ticks_y=2, dec_y=0, x_range=5, ticks_x=1, dec_x=0, label_size=95, legend_size=40, tick_size=50,\n",
    "                         line_width=10, fig_size=(20,18), modify_labels=False, label_identifier=\"agarose_\", base_name=\"KO\"):\n",
    "    \"\"\"\n",
    "    A handy plotting function to examine individual datasets within the larger dataset.\n",
    "    \n",
    "    Inputs:\n",
    "    all_avg: dictionary of numpy arrays.  A subset of this data will be plotted\n",
    "        based on the parameters in_name1 and in_name2. Keys contain the name of\n",
    "        the dataset.\n",
    "    all_SD: dictionary of numpy arrays.  Mirrors the all_avg dataset.\n",
    "    time: numpy array.  Assumes time array is the same between datasets\n",
    "        contained in all_avg. \n",
    "    time_SD: numpy array.  Contains timepoints at which SDs are desired for the\n",
    "        plots.\n",
    "    SD_frames: numpy array.  Contains frames at which SDs are desired for the\n",
    "        plots.\n",
    "    in_name1: string.  in_name1 should be found within the keys in all_avg of\n",
    "        all datasets to be plotted e.g. if I want to plot all RED datasets, the\n",
    "        I could use in_name1=RED.\n",
    "    in_name2: similar criteria to in_name1.  If I want to narrow the data to be\n",
    "        plotted to PEG datasets, then, in_name2 could be \"_PEG\" (if you only use\n",
    "        PEG, it will plot all nPEG and PEG datasets, due to my chosen\n",
    "        nomenclature. Just be aware of your naming system).\n",
    "    \n",
    "    to_frame: integer, limits data to be graphed to the range [0, to_frame].\n",
    "    line_colors: list of strings.  Contains colors desired for plot.\n",
    "    line_kind: string.  Contains a single string for the desired line format\n",
    "        of all lines in graph.\n",
    "    x_manual: True/False.  If True, the user must define range, ticks, and\n",
    "        decimals for both x and y.\n",
    "    y_range: y range of the plot.\n",
    "    ticks_y: interval size on y axis.\n",
    "    dec_y: number of decimals displayed on y axis.\n",
    "    x_range\" x range of the plot.\n",
    "    ticks_x: intervals size on x axis.\n",
    "    dec_x: number of decimals displayed on the x axis.\n",
    "    label_size: Size of labels on x and y axes.\n",
    "    legend_size: size of text in legend.\n",
    "    tick_size: size of text of ticks.\n",
    "    line_width: width of lines on plot.\n",
    "    fig_size: x,y size of plot e.g. (20, 18).\n",
    "    modify_labels: True/False.  If True, the user must give a label_identifier.\n",
    "    label_identifier: string.  User puts in a string that is contained in all keys\n",
    "        of all_avg.  Labels of data will now be whatever follows label_identifier\n",
    "        e.g. if a key contains \"agarose_S1\" and I use \"agarose_\", the legend\n",
    "        will read \"S1\".\n",
    "    \n",
    "    To do:\n",
    "    I need to make my labelling more flexible eventually.  The troubl is correctly\n",
    "    lining up my labels with the data in all_avg.\n",
    "    I also need to make it possible to plot in a desired order e.g. 0.1x, 1x, 10x.\n",
    "    \"\"\"\n",
    "    \n",
    "    to_graph = {}\n",
    "    line_type = {}\n",
    "    counter = 0\n",
    "    labels = {}\n",
    "    \n",
    "    if x_manual == False:\n",
    "        y_range, ticks_y, dec_y = choose_y_axis_params(all_avg, in_name1, in_name2, to_frame)\n",
    "        x_range, ticks_x, dec_x = range_and_ticks(time, to_frame)\n",
    "    else:\n",
    "        y_range, ticks_y, dec_y = y_range, ticks_y, dec_y\n",
    "        x_range, ticks_x, dec_x = x_range, ticks_x, dec_x\n",
    "\n",
    "    filename = base_name + \"_\" + in_name1 + \"_\" + in_name2 + \".png\"\n",
    "\n",
    "    # Creates figure\n",
    "    fig = plt.figure(figsize=fig_size, dpi=80)\n",
    "    ax = fig.add_subplot(111)\n",
    "\n",
    "    for keys in all_avg:\n",
    "        if in_name1 in keys and in_name2 in keys:\n",
    "            to_graph[counter] = keys\n",
    "            counter = counter + 1\n",
    "\n",
    "    for keys in to_graph:\n",
    "        if modify_labels==True:\n",
    "            labels[keys] = to_graph[keys].split(label_identifier, 1)[1]\n",
    "        else:\n",
    "            labels[keys] = to_graph[keys]\n",
    "        line_type[keys] = line_colors[keys]+line_kind  \n",
    "        ax.plot(time[0:to_frame], all_avg[to_graph[keys]][0:to_frame], line_type[keys], linewidth=line_width, label=labels[keys])\n",
    "        ax.errorbar(time_SD, all_avg[to_graph[keys]][SD_frames], all_SD[to_graph[keys]], fmt='', linestyle='', capsize=7, capthick=2, elinewidth=2, color=line_colors[keys])\n",
    "\n",
    "    # A few adjustments to prettify the graph\n",
    "    for item in ([ax.xaxis.label, ax.yaxis.label] +\n",
    "                 ax.get_xticklabels() + ax.get_yticklabels()):\n",
    "        item.set_fontsize(tick_size)\n",
    "\n",
    "    xmajor_ticks = np.arange(0, x_range+0.0001, ticks_x)\n",
    "    ymajor_ticks = np.arange(0, y_range+0.0001, ticks_y)\n",
    "\n",
    "    ax.set_xticks(xmajor_ticks)\n",
    "    plt.xticks(rotation=-30)\n",
    "    ax.set_yticks(ymajor_ticks)\n",
    "    ax.title.set_fontsize(tick_size)\n",
    "    ax.set_xlabel('Time (s)', fontsize=label_size)\n",
    "    ax.set_ylabel(r'MSD ($\\mu$m$^2$)', fontsize=label_size)\n",
    "    ax.tick_params(direction='out', pad=16)\n",
    "    ax.legend(loc=(0.02, 0.75), prop={'size': legend_size})\n",
    "    plt.gca().xaxis.set_major_formatter(mpl.ticker.FormatStrFormatter('%.{}f'.format(dec_x)))\n",
    "    plt.gca().yaxis.set_major_formatter(mpl.ticker.FormatStrFormatter('%.{}f'.format(dec_y)))\n",
    "\n",
    "\n",
    "    # plt.yscale('log')\n",
    "    # plt.xscale('log')\n",
    "    plt.gca().set_xlim([0, x_range+0.0001])\n",
    "    plt.gca().set_ylim([0, y_range+0.0001])\n",
    "\n",
    "    # Save your figure\n",
    "    plt.savefig('{}'.format(filename), bbox_inches='tight')\n",
    "    return y_range, ticks_y, dec_y, x_range, ticks_x, dec_x"
   ]
  },
  {
   "cell_type": "code",
   "execution_count": null,
   "metadata": {
    "collapsed": true
   },
   "outputs": [],
   "source": [
    "y_range, ticks_y, dec_y, x_range, ticks_x, dec_x = 20, 2.5, 1, 5, 1, 1"
   ]
  },
  {
   "cell_type": "code",
   "execution_count": null,
   "metadata": {
    "collapsed": false
   },
   "outputs": [],
   "source": [
    "# #Put dataset with largest y range here.\n",
    "\n",
    "# in_name1 = \"YG\"\n",
    "# in_name2 = \"YG\"\n",
    "\n",
    "# y_range, ticks_y, dec_y, x_range, ticks_x, dec_x = graph_single_variable(average_over_pups, all_SD_over_pups, time, time_SD, SD_frames, in_name1, in_name2, to_frame=to_frame,\n",
    "#                       modify_labels=True, label_identifier=\"PEG_\", base_name=base_name)\n",
    "# plt.show()"
   ]
  },
  {
   "cell_type": "code",
   "execution_count": null,
   "metadata": {
    "collapsed": false
   },
   "outputs": [],
   "source": [
    "in_name1 = \"RED\"\n",
    "in_name2 = \"RED\"\n",
    "\n",
    "graph_single_variable(average_over_pups, all_SD_over_pups, time, time_SD, SD_frames, in_name1, in_name2, to_frame=to_frame, y_range=y_range,\n",
    "                      ticks_y=ticks_y, dec_y=dec_y, x_range=x_range, ticks_x=ticks_x, dec_x=dec_x,\n",
    "                      modify_labels=True, label_identifier=\"PEG_\", x_manual=True, base_name=base_name)\n",
    "plt.show()"
   ]
  },
  {
   "cell_type": "code",
   "execution_count": null,
   "metadata": {
    "collapsed": false
   },
   "outputs": [],
   "source": [
    "in_name1 = [\"cortex\", \"mid\"]\n",
    "in_name2 = [\"RED\", \"YG\"]\n",
    "\n",
    "for one in in_name1:\n",
    "    for two in in_name2:\n",
    "\n",
    "        graph_single_variable(average_over_slices, all_SD_over_slices, time, time_SD, SD_frames, one, two, to_frame=to_frame, y_range=y_range,\n",
    "                              ticks_y=ticks_y, dec_y=dec_y, x_range=x_range, ticks_x=ticks_x, dec_x=dec_x,\n",
    "                              modify_labels=True, label_identifier=\"PEG_\", x_manual=True, base_name=base_name)\n",
    "#plt.show()"
   ]
  },
  {
   "cell_type": "code",
   "execution_count": null,
   "metadata": {
    "collapsed": true
   },
   "outputs": [],
   "source": []
  }
 ],
 "metadata": {
  "kernelspec": {
   "display_name": "Python 3",
   "language": "python",
   "name": "python3"
  },
  "language_info": {
   "codemirror_mode": {
    "name": "ipython",
    "version": 3
   },
   "file_extension": ".py",
   "mimetype": "text/x-python",
   "name": "python",
   "nbconvert_exporter": "python",
   "pygments_lexer": "ipython3",
   "version": "3.5.3"
  }
 },
 "nbformat": 4,
 "nbformat_minor": 0
}
