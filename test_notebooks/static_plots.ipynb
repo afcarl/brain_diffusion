{
 "cells": [
  {
   "cell_type": "code",
   "execution_count": 4,
   "metadata": {
    "collapsed": false
   },
   "outputs": [],
   "source": [
    "import numpy as np\n",
    "import csv\n",
    "import os\n",
    "from bokeh.plotting import figure, show, gridplot\n",
    "from bokeh.io import output_notebook\n",
    "from trajectory_visualization import define_xydata, shift_trajectory, download_trajectory_data, plot_trajectory, fromListToCSV"
   ]
  },
  {
   "cell_type": "code",
   "execution_count": null,
   "metadata": {
    "collapsed": true
   },
   "outputs": [],
   "source": [
    "trajectory = np.genfromtxt('../sample_data/Sample_Trajectory_Data1.csv',\n",
    "            delimiter =\",\")\n",
    "trajectory=np.delete(trajectory, 0,0)"
   ]
  },
  {
   "cell_type": "code",
   "execution_count": null,
   "metadata": {
    "collapsed": true
   },
   "outputs": [],
   "source": [
    "time = trajectory[:,0]\n",
    "PLGA_4A_UP_R1_P25 = trajectory[:,1:4]\n",
    "PLGA_4A_P80_R1_P22 = trajectory[:,4:7]\n",
    "PLGA_15k_UP_R3_P5 = trajectory[:,7:10]\n",
    "PLGA_15k_P80_R3_P36 = trajectory[:,10:13]\n",
    "PLGA_4A_F68_R3_P15 = trajectory[:,13:16]\n",
    "PLGA_15k_F68_R3_P10 = trajectory[:,16:19]\n",
    "PLGA4A_5CHA_R3_P124 = trajectory[:,19:22]\n",
    "PLGA_15k_5CHA_R3_P50 = trajectory[:,22:25]\n",
    "PLGA_15k_2CHA_R2_P44 = trajectory[:,25:28]\n",
    "PLGA15k_05CHA_R3_P22 = trajectory[:,28:31]\n",
    "PEG_PLGA15k_P80_R3_P127 = trajectory[:,31:34]\n",
    "PEG_PLGA4A_F68_R3_P111 = trajectory[:,34:37]\n",
    "PEG_PLGA4A_P80_R1_P84 = trajectory[:,37:40]\n",
    "PEG_PLGA4A_UP_R1_P53 = trajectory[:,40:43]\n",
    "PEG_PLGA15k_2CHA_R2_P26 = trajectory[:,43:46]\n",
    "PEG_PLGA15k_5CHA_R2_P52 = trajectory[:,46:49]\n",
    "PEG_PLGA15k_UP_R3_P61 = trajectory[:,49:52]\n",
    "PEG_PLGA58k_5CHA_R2_P15 = trajectory[:,52:55]\n",
    "PEG_PLGA15k_F68_R2_P81 = trajectory[:,55:58]\n",
    "PLGA_15k_2CHA_R2_P37 = trajectory[:,58:61]\n",
    "PLGA_15k_PEG_2CHA_R2_P81 = trajectory[:,61:64]\n",
    "PLGA_15k_05CHA_R1_P45 = trajectory[:,64:67]\n",
    "PLGA_15k_PEG_05CHA_R3_P61 = trajectory[:,67:70]\n"
   ]
  },
  {
   "cell_type": "code",
   "execution_count": null,
   "metadata": {
    "collapsed": false
   },
   "outputs": [],
   "source": [
    "#output to notebook\n",
    "output_notebook()"
   ]
  },
  {
   "cell_type": "code",
   "execution_count": null,
   "metadata": {
    "collapsed": false
   },
   "outputs": [],
   "source": [
    "def shift_trajectory(xydata):\n",
    "    \"\"\"\n",
    "    \n",
    "    \"\"\"\n",
    "    x_mean = (np.min(xydata[:,1]) + np.max(xydata[:,1]))/2\n",
    "    y_mean = (np.min(xydata[:,2]) + np.max(xydata[:,2]))/2\n",
    "\n",
    "    xydata[:,1] = xydata[:,1] - x_mean\n",
    "    xydata[:,2] = xydata[:,2] - y_mean\n",
    "    \n",
    "    return xydata"
   ]
  },
  {
   "cell_type": "code",
   "execution_count": null,
   "metadata": {
    "collapsed": true
   },
   "outputs": [],
   "source": [
    "def plot_trajectory(xydata, charttitle):\n",
    "    \n",
    "    x = xydata[:,1]\n",
    "    y = xydata[:,2]\n",
    "    p = figure(title=charttitle, title_text_font_size='8pt', \n",
    "               width = 300, height = 300, x_axis_label='x', y_axis_label='y')\n",
    "    p.line(x, y, line_width=2)\n",
    "    show(p)"
   ]
  },
  {
   "cell_type": "code",
   "execution_count": null,
   "metadata": {
    "collapsed": false
   },
   "outputs": [],
   "source": [
    "shift_trajectory(PEG_PLGA15k_2CHA_R2_P26)\n",
    "plot_trajectory(PEG_PLGA15k_2CHA_R2_P26, 'PEG_PLGA15k_2CHA_R2_P26')"
   ]
  },
  {
   "cell_type": "code",
   "execution_count": null,
   "metadata": {
    "collapsed": false
   },
   "outputs": [],
   "source": [
    "pink = np.chararray((3, 3))\n",
    "pink[:] = 'a'\n",
    "np.dtype(pink[0,0])"
   ]
  },
  {
   "cell_type": "code",
   "execution_count": null,
   "metadata": {
    "collapsed": false
   },
   "outputs": [],
   "source": [
    "length = pink.shape[0]\n",
    "width = pink.shape[1]\n",
    "numerical = True\n",
    "\n",
    "for num in range(0,width):\n",
    "    \n",
    "    for yes in range(0,length):\n",
    "\n",
    "        if np.dtype(pink[yes,num]) == np.dtype('float64'):\n",
    "            numerical = True\n",
    "        else:\n",
    "            numerical = False\n",
    "            break\n"
   ]
  },
  {
   "cell_type": "code",
   "execution_count": null,
   "metadata": {
    "collapsed": false
   },
   "outputs": [],
   "source": [
    "from trajectory_visualization import shift_trajectory"
   ]
  },
  {
   "cell_type": "code",
   "execution_count": null,
   "metadata": {
    "collapsed": false
   },
   "outputs": [],
   "source": [
    "shift_trajectory(PLGA_15k_F68_R3_P10)"
   ]
  },
  {
   "cell_type": "code",
   "execution_count": null,
   "metadata": {
    "collapsed": true
   },
   "outputs": [],
   "source": [
    "trajectory = download_trajectory_data('../sample_data/Sample_Trajectory_Data1.csv')\n",
    "time, Run = define_xydata(trajectory, 2)"
   ]
  },
  {
   "cell_type": "code",
   "execution_count": null,
   "metadata": {
    "collapsed": false
   },
   "outputs": [],
   "source": [
    "PLGA_4A_UP_R1_P25 = Run['Run1']\n",
    "PLGA_4A_P80_R1_P22 = Run['Run2']"
   ]
  },
  {
   "cell_type": "code",
   "execution_count": null,
   "metadata": {
    "collapsed": false
   },
   "outputs": [],
   "source": [
    "shift_trajectory(PLGA_4A_UP_R1_P25)\n",
    "shift_trajectory(PLGA_4A_P80_R1_P22)"
   ]
  },
  {
   "cell_type": "code",
   "execution_count": null,
   "metadata": {
    "collapsed": false
   },
   "outputs": [],
   "source": [
    "output_notebook()"
   ]
  },
  {
   "cell_type": "code",
   "execution_count": null,
   "metadata": {
    "collapsed": false
   },
   "outputs": [],
   "source": [
    "plot_trajectory(PLGA_4A_UP_R1_P25, 'PLGA_4A_P80_R1_P22')"
   ]
  },
  {
   "cell_type": "code",
   "execution_count": null,
   "metadata": {
    "collapsed": false
   },
   "outputs": [],
   "source": [
    "type('yes')"
   ]
  },
  {
   "cell_type": "code",
   "execution_count": null,
   "metadata": {
    "collapsed": false
   },
   "outputs": [],
   "source": [
    "float(3.5).is_integer()"
   ]
  },
  {
   "cell_type": "code",
   "execution_count": null,
   "metadata": {
    "collapsed": false
   },
   "outputs": [],
   "source": [
    "a = np.arange(220).reshape(10, 22)\n",
    "a"
   ]
  },
  {
   "cell_type": "code",
   "execution_count": null,
   "metadata": {
    "collapsed": false
   },
   "outputs": [],
   "source": [
    "a.shape[1]"
   ]
  },
  {
   "cell_type": "code",
   "execution_count": null,
   "metadata": {
    "collapsed": false
   },
   "outputs": [],
   "source": [
    "time, Run, yes = define_xydata(a, 6.5)"
   ]
  },
  {
   "cell_type": "code",
   "execution_count": null,
   "metadata": {
    "collapsed": false
   },
   "outputs": [],
   "source": [
    "a = type(time) == type(a)"
   ]
  },
  {
   "cell_type": "code",
   "execution_count": null,
   "metadata": {
    "collapsed": false
   },
   "outputs": [],
   "source": [
    "Run['Run25']"
   ]
  },
  {
   "cell_type": "code",
   "execution_count": null,
   "metadata": {
    "collapsed": false
   },
   "outputs": [],
   "source": [
    "sample_data()"
   ]
  },
  {
   "cell_type": "code",
   "execution_count": 5,
   "metadata": {
    "collapsed": false
   },
   "outputs": [
    {
     "ename": "NameError",
     "evalue": "name 'errno' is not defined",
     "output_type": "error",
     "traceback": [
      "\u001b[1;31m---------------------------------------------------------------------------\u001b[0m",
      "\u001b[1;31mNameError\u001b[0m                                 Traceback (most recent call last)",
      "\u001b[1;32mC:\\Users\\koolk\\Desktop\\brain-diffusion\\test_notebooks\\trajectory_visualization.py\u001b[0m in \u001b[0;36mfromListToCSV\u001b[1;34m()\u001b[0m\n\u001b[0;32m     90\u001b[0m     \u001b[1;32mtry\u001b[0m\u001b[1;33m:\u001b[0m\u001b[1;33m\u001b[0m\u001b[0m\n\u001b[1;32m---> 91\u001b[1;33m         \u001b[0mmyFilePath\u001b[0m \u001b[1;33m=\u001b[0m \u001b[0mos\u001b[0m\u001b[1;33m.\u001b[0m\u001b[0mpath\u001b[0m\u001b[1;33m.\u001b[0m\u001b[0mjoin\u001b[0m\u001b[1;33m(\u001b[0m\u001b[0mfilePath\u001b[0m\u001b[1;33m,\u001b[0m \u001b[1;34m'MyList.csv'\u001b[0m\u001b[1;33m)\u001b[0m\u001b[1;33m\u001b[0m\u001b[0m\n\u001b[0m\u001b[0;32m     92\u001b[0m         \u001b[1;32mwith\u001b[0m \u001b[0mopen\u001b[0m\u001b[1;33m(\u001b[0m\u001b[0mmyFilePath\u001b[0m\u001b[1;33m,\u001b[0m\u001b[1;34m'w'\u001b[0m\u001b[1;33m,\u001b[0m \u001b[0mnewline\u001b[0m\u001b[1;33m=\u001b[0m\u001b[1;34m''\u001b[0m\u001b[1;33m)\u001b[0m \u001b[1;32mas\u001b[0m \u001b[0mmyCSVFile\u001b[0m\u001b[1;33m:\u001b[0m\u001b[1;33m\u001b[0m\u001b[0m\n",
      "\u001b[1;31mNameError\u001b[0m: name 'filePath' is not defined",
      "\nDuring handling of the above exception, another exception occurred:\n",
      "\u001b[1;31mNameError\u001b[0m                                 Traceback (most recent call last)",
      "\u001b[1;32m<ipython-input-5-69dfffd5282d>\u001b[0m in \u001b[0;36m<module>\u001b[1;34m()\u001b[0m\n\u001b[1;32m----> 1\u001b[1;33m \u001b[0mfromListToCSV\u001b[0m\u001b[1;33m(\u001b[0m\u001b[1;33m)\u001b[0m\u001b[1;33m\u001b[0m\u001b[0m\n\u001b[0m",
      "\u001b[1;32mC:\\Users\\koolk\\Desktop\\brain-diffusion\\test_notebooks\\trajectory_visualization.py\u001b[0m in \u001b[0;36mfromListToCSV\u001b[1;34m()\u001b[0m\n\u001b[0;32m     96\u001b[0m                 \u001b[0mcsvWriter\u001b[0m\u001b[1;33m.\u001b[0m\u001b[0mwriterow\u001b[0m\u001b[1;33m(\u001b[0m\u001b[0mdata\u001b[0m\u001b[1;33m)\u001b[0m\u001b[1;33m\u001b[0m\u001b[0m\n\u001b[0;32m     97\u001b[0m     \u001b[1;32mexcept\u001b[0m \u001b[0mIOError\u001b[0m \u001b[1;32mas\u001b[0m \u001b[1;33m(\u001b[0m\u001b[0merrno\u001b[0m\u001b[1;33m,\u001b[0m \u001b[0mstrerror\u001b[0m\u001b[1;33m)\u001b[0m\u001b[1;33m:\u001b[0m\u001b[1;33m\u001b[0m\u001b[0m\n\u001b[1;32m---> 98\u001b[1;33m         \u001b[0mprint\u001b[0m\u001b[1;33m(\u001b[0m\u001b[1;34m\"I/O error({0}): {1}\"\u001b[0m\u001b[1;33m.\u001b[0m\u001b[0mformat\u001b[0m\u001b[1;33m(\u001b[0m\u001b[0merrno\u001b[0m\u001b[1;33m,\u001b[0m \u001b[0mstrerror\u001b[0m\u001b[1;33m)\u001b[0m\u001b[1;33m)\u001b[0m\u001b[1;33m\u001b[0m\u001b[0m\n\u001b[0m\u001b[0;32m     99\u001b[0m \u001b[1;33m\u001b[0m\u001b[0m\n\u001b[0;32m    100\u001b[0m     \u001b[1;32mreturn\u001b[0m\u001b[1;33m\u001b[0m\u001b[0m\n",
      "\u001b[1;31mNameError\u001b[0m: name 'errno' is not defined"
     ]
    }
   ],
   "source": [
    "fromListToCSV()"
   ]
  },
  {
   "cell_type": "code",
   "execution_count": null,
   "metadata": {
    "collapsed": true
   },
   "outputs": [],
   "source": []
  }
 ],
 "metadata": {
  "kernelspec": {
   "display_name": "Python 3",
   "language": "python",
   "name": "python3"
  },
  "language_info": {
   "codemirror_mode": {
    "name": "ipython",
    "version": 3
   },
   "file_extension": ".py",
   "mimetype": "text/x-python",
   "name": "python",
   "nbconvert_exporter": "python",
   "pygments_lexer": "ipython3",
   "version": "3.5.1"
  }
 },
 "nbformat": 4,
 "nbformat_minor": 0
}
