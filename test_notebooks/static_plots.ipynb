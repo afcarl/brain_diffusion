{
 "cells": [
  {
   "cell_type": "code",
   "execution_count": 3,
   "metadata": {
    "collapsed": false
   },
   "outputs": [],
   "source": [
    "import numpy as np\n",
    "import csv\n",
    "import os\n",
    "from bokeh.plotting import figure, show, gridplot\n",
    "from bokeh.io import output_notebook\n",
    "from trajectory_visualization import define_xydata, shift_trajectory, download_trajectory_data, plot_trajectory, csv_writer"
   ]
  },
  {
   "cell_type": "code",
   "execution_count": 2,
   "metadata": {
    "collapsed": true
   },
   "outputs": [],
   "source": [
    "trajectory = np.genfromtxt('../sample_data/Sample_Trajectory_Data1.csv',\n",
    "            delimiter =\",\")\n",
    "trajectory=np.delete(trajectory, 0,0)"
   ]
  },
  {
   "cell_type": "code",
   "execution_count": 3,
   "metadata": {
    "collapsed": true
   },
   "outputs": [],
   "source": [
    "time = trajectory[:,0]\n",
    "PLGA_4A_UP_R1_P25 = trajectory[:,1:4]\n",
    "PLGA_4A_P80_R1_P22 = trajectory[:,4:7]\n",
    "PLGA_15k_UP_R3_P5 = trajectory[:,7:10]\n",
    "PLGA_15k_P80_R3_P36 = trajectory[:,10:13]\n",
    "PLGA_4A_F68_R3_P15 = trajectory[:,13:16]\n",
    "PLGA_15k_F68_R3_P10 = trajectory[:,16:19]\n",
    "PLGA4A_5CHA_R3_P124 = trajectory[:,19:22]\n",
    "PLGA_15k_5CHA_R3_P50 = trajectory[:,22:25]\n",
    "PLGA_15k_2CHA_R2_P44 = trajectory[:,25:28]\n",
    "PLGA15k_05CHA_R3_P22 = trajectory[:,28:31]\n",
    "PEG_PLGA15k_P80_R3_P127 = trajectory[:,31:34]\n",
    "PEG_PLGA4A_F68_R3_P111 = trajectory[:,34:37]\n",
    "PEG_PLGA4A_P80_R1_P84 = trajectory[:,37:40]\n",
    "PEG_PLGA4A_UP_R1_P53 = trajectory[:,40:43]\n",
    "PEG_PLGA15k_2CHA_R2_P26 = trajectory[:,43:46]\n",
    "PEG_PLGA15k_5CHA_R2_P52 = trajectory[:,46:49]\n",
    "PEG_PLGA15k_UP_R3_P61 = trajectory[:,49:52]\n",
    "PEG_PLGA58k_5CHA_R2_P15 = trajectory[:,52:55]\n",
    "PEG_PLGA15k_F68_R2_P81 = trajectory[:,55:58]\n",
    "PLGA_15k_2CHA_R2_P37 = trajectory[:,58:61]\n",
    "PLGA_15k_PEG_2CHA_R2_P81 = trajectory[:,61:64]\n",
    "PLGA_15k_05CHA_R1_P45 = trajectory[:,64:67]\n",
    "PLGA_15k_PEG_05CHA_R3_P61 = trajectory[:,67:70]\n"
   ]
  },
  {
   "cell_type": "code",
   "execution_count": 4,
   "metadata": {
    "collapsed": false
   },
   "outputs": [
    {
     "data": {
      "text/html": [
       "\n",
       "    <div class=\"bk-banner\">\n",
       "        <a href=\"http://bokeh.pydata.org\" target=\"_blank\" class=\"bk-logo bk-logo-small bk-logo-notebook\"></a>\n",
       "        <span id=\"7d727d92-485b-45f5-b684-206e1e00e501\">Loading BokehJS ...</span>\n",
       "    </div>"
      ]
     },
     "metadata": {},
     "output_type": "display_data"
    },
    {
     "data": {
      "application/javascript": [
       "\n",
       "(function(global) {\n",
       "  function now() {\n",
       "    return new Date();\n",
       "  }\n",
       "\n",
       "  if (typeof (window._bokeh_onload_callbacks) === \"undefined\") {\n",
       "    window._bokeh_onload_callbacks = [];\n",
       "  }\n",
       "\n",
       "  function run_callbacks() {\n",
       "    window._bokeh_onload_callbacks.forEach(function(callback) { callback() });\n",
       "    delete window._bokeh_onload_callbacks\n",
       "    console.info(\"Bokeh: all callbacks have finished\");\n",
       "  }\n",
       "\n",
       "  function load_libs(js_urls, callback) {\n",
       "    window._bokeh_onload_callbacks.push(callback);\n",
       "    if (window._bokeh_is_loading > 0) {\n",
       "      console.log(\"Bokeh: BokehJS is being loaded, scheduling callback at\", now());\n",
       "      return null;\n",
       "    }\n",
       "    if (js_urls == null || js_urls.length === 0) {\n",
       "      run_callbacks();\n",
       "      return null;\n",
       "    }\n",
       "    console.log(\"Bokeh: BokehJS not loaded, scheduling load and callback at\", now());\n",
       "    window._bokeh_is_loading = js_urls.length;\n",
       "    for (var i = 0; i < js_urls.length; i++) {\n",
       "      var url = js_urls[i];\n",
       "      var s = document.createElement('script');\n",
       "      s.src = url;\n",
       "      s.async = false;\n",
       "      s.onreadystatechange = s.onload = function() {\n",
       "        window._bokeh_is_loading--;\n",
       "        if (window._bokeh_is_loading === 0) {\n",
       "          console.log(\"Bokeh: all BokehJS libraries loaded\");\n",
       "          run_callbacks()\n",
       "        }\n",
       "      };\n",
       "      s.onerror = function() {\n",
       "        console.warn(\"failed to load library \" + url);\n",
       "      };\n",
       "      console.log(\"Bokeh: injecting script tag for BokehJS library: \", url);\n",
       "      document.getElementsByTagName(\"head\")[0].appendChild(s);\n",
       "    }\n",
       "  };\n",
       "\n",
       "  var js_urls = ['https://cdn.pydata.org/bokeh/release/bokeh-0.11.1.min.js', 'https://cdn.pydata.org/bokeh/release/bokeh-widgets-0.11.1.min.js', 'https://cdn.pydata.org/bokeh/release/bokeh-compiler-0.11.1.min.js'];\n",
       "\n",
       "  var inline_js = [\n",
       "    function(Bokeh) {\n",
       "      Bokeh.set_log_level(\"info\");\n",
       "    },\n",
       "    \n",
       "    function(Bokeh) {\n",
       "      Bokeh.$(\"#7d727d92-485b-45f5-b684-206e1e00e501\").text(\"BokehJS successfully loaded\");\n",
       "    },\n",
       "    function(Bokeh) {\n",
       "      console.log(\"Bokeh: injecting CSS: https://cdn.pydata.org/bokeh/release/bokeh-0.11.1.min.css\");\n",
       "      Bokeh.embed.inject_css(\"https://cdn.pydata.org/bokeh/release/bokeh-0.11.1.min.css\");\n",
       "      console.log(\"Bokeh: injecting CSS: https://cdn.pydata.org/bokeh/release/bokeh-widgets-0.11.1.min.css\");\n",
       "      Bokeh.embed.inject_css(\"https://cdn.pydata.org/bokeh/release/bokeh-widgets-0.11.1.min.css\");\n",
       "    }\n",
       "  ];\n",
       "\n",
       "  function run_inline_js() {\n",
       "    for (var i = 0; i < inline_js.length; i++) {\n",
       "      inline_js[i](window.Bokeh);\n",
       "    }\n",
       "  }\n",
       "\n",
       "  if (window._bokeh_is_loading === 0) {\n",
       "    console.log(\"Bokeh: BokehJS loaded, going straight to plotting\");\n",
       "    run_inline_js();\n",
       "  } else {\n",
       "    load_libs(js_urls, function() {\n",
       "      console.log(\"Bokeh: BokehJS plotting callback run at\", now());\n",
       "      run_inline_js();\n",
       "    });\n",
       "  }\n",
       "}(this));"
      ]
     },
     "metadata": {},
     "output_type": "display_data"
    }
   ],
   "source": [
    "#output to notebook\n",
    "output_notebook()"
   ]
  },
  {
   "cell_type": "code",
   "execution_count": 5,
   "metadata": {
    "collapsed": false
   },
   "outputs": [],
   "source": [
    "def shift_trajectory(xydata):\n",
    "    \"\"\"\n",
    "    \n",
    "    \"\"\"\n",
    "    x_mean = (np.min(xydata[:,1]) + np.max(xydata[:,1]))/2\n",
    "    y_mean = (np.min(xydata[:,2]) + np.max(xydata[:,2]))/2\n",
    "\n",
    "    xydata[:,1] = xydata[:,1] - x_mean\n",
    "    xydata[:,2] = xydata[:,2] - y_mean\n",
    "    \n",
    "    return xydata"
   ]
  },
  {
   "cell_type": "code",
   "execution_count": 6,
   "metadata": {
    "collapsed": true
   },
   "outputs": [],
   "source": [
    "def plot_trajectory(xydata, charttitle):\n",
    "    \n",
    "    x = xydata[:,1]\n",
    "    y = xydata[:,2]\n",
    "    p = figure(title=charttitle, title_text_font_size='8pt', \n",
    "               width = 300, height = 300, x_axis_label='x', y_axis_label='y')\n",
    "    p.line(x, y, line_width=2)\n",
    "    show(p)"
   ]
  },
  {
   "cell_type": "code",
   "execution_count": 7,
   "metadata": {
    "collapsed": false
   },
   "outputs": [
    {
     "data": {
      "text/html": [
       "\n",
       "\n",
       "    <div class=\"plotdiv\" id=\"0741ea6d-acb3-41e5-a70e-ec45d7105477\"></div>\n",
       "<script type=\"text/javascript\">\n",
       "  \n",
       "  (function(global) {\n",
       "    function now() {\n",
       "      return new Date();\n",
       "    }\n",
       "  \n",
       "    if (typeof (window._bokeh_onload_callbacks) === \"undefined\") {\n",
       "      window._bokeh_onload_callbacks = [];\n",
       "    }\n",
       "  \n",
       "    function run_callbacks() {\n",
       "      window._bokeh_onload_callbacks.forEach(function(callback) { callback() });\n",
       "      delete window._bokeh_onload_callbacks\n",
       "      console.info(\"Bokeh: all callbacks have finished\");\n",
       "    }\n",
       "  \n",
       "    function load_libs(js_urls, callback) {\n",
       "      window._bokeh_onload_callbacks.push(callback);\n",
       "      if (window._bokeh_is_loading > 0) {\n",
       "        console.log(\"Bokeh: BokehJS is being loaded, scheduling callback at\", now());\n",
       "        return null;\n",
       "      }\n",
       "      if (js_urls == null || js_urls.length === 0) {\n",
       "        run_callbacks();\n",
       "        return null;\n",
       "      }\n",
       "      console.log(\"Bokeh: BokehJS not loaded, scheduling load and callback at\", now());\n",
       "      window._bokeh_is_loading = js_urls.length;\n",
       "      for (var i = 0; i < js_urls.length; i++) {\n",
       "        var url = js_urls[i];\n",
       "        var s = document.createElement('script');\n",
       "        s.src = url;\n",
       "        s.async = false;\n",
       "        s.onreadystatechange = s.onload = function() {\n",
       "          window._bokeh_is_loading--;\n",
       "          if (window._bokeh_is_loading === 0) {\n",
       "            console.log(\"Bokeh: all BokehJS libraries loaded\");\n",
       "            run_callbacks()\n",
       "          }\n",
       "        };\n",
       "        s.onerror = function() {\n",
       "          console.warn(\"failed to load library \" + url);\n",
       "        };\n",
       "        console.log(\"Bokeh: injecting script tag for BokehJS library: \", url);\n",
       "        document.getElementsByTagName(\"head\")[0].appendChild(s);\n",
       "      }\n",
       "    };var element = document.getElementById(\"0741ea6d-acb3-41e5-a70e-ec45d7105477\");\n",
       "    if (element == null) {\n",
       "      console.log(\"Bokeh: ERROR: autoload.js configured with elementid '0741ea6d-acb3-41e5-a70e-ec45d7105477' but no matching script tag was found. \")\n",
       "      return false;\n",
       "    }\n",
       "  \n",
       "    var js_urls = [];\n",
       "  \n",
       "    var inline_js = [\n",
       "      function(Bokeh) {\n",
       "        Bokeh.$(function() {\n",
       "            var docs_json = {\"25374e73-e8f1-4ddf-8383-b5a07f2945bb\":{\"roots\":{\"references\":[{\"attributes\":{},\"id\":\"032e8c7d-22cf-43b9-8f0c-eb51c3ba2401\",\"type\":\"ToolEvents\"},{\"attributes\":{\"line_alpha\":{\"value\":0.1},\"line_color\":{\"value\":\"#1f77b4\"},\"line_width\":{\"value\":2},\"x\":{\"field\":\"x\"},\"y\":{\"field\":\"y\"}},\"id\":\"836c1a73-b5c3-487a-aeaf-75b8e33e1f73\",\"type\":\"Line\"},{\"attributes\":{\"plot\":{\"id\":\"e70870f2-1c1d-4fbb-a812-8f3b72a708c2\",\"subtype\":\"Figure\",\"type\":\"Plot\"}},\"id\":\"138fefdd-24e7-465e-bb59-0a213d18e5ec\",\"type\":\"WheelZoomTool\"},{\"attributes\":{\"line_color\":{\"value\":\"#1f77b4\"},\"line_width\":{\"value\":2},\"x\":{\"field\":\"x\"},\"y\":{\"field\":\"y\"}},\"id\":\"df12b19e-be23-4b4a-b6ac-4e999c844fa0\",\"type\":\"Line\"},{\"attributes\":{\"below\":[{\"id\":\"dab6cfd1-88ab-4937-ad30-c2ff3dfafcc4\",\"type\":\"LinearAxis\"}],\"left\":[{\"id\":\"e25362d6-dd47-4e43-9e83-ce372183f17e\",\"type\":\"LinearAxis\"}],\"plot_height\":300,\"plot_width\":300,\"renderers\":[{\"id\":\"dab6cfd1-88ab-4937-ad30-c2ff3dfafcc4\",\"type\":\"LinearAxis\"},{\"id\":\"c96856f5-b3cf-40c9-b8c5-ed713c115b77\",\"type\":\"Grid\"},{\"id\":\"e25362d6-dd47-4e43-9e83-ce372183f17e\",\"type\":\"LinearAxis\"},{\"id\":\"c8759edc-59f5-497f-99b9-709c84f9c87a\",\"type\":\"Grid\"},{\"id\":\"74016d37-e1d9-47f4-bcde-725518400055\",\"type\":\"BoxAnnotation\"},{\"id\":\"383a28a7-d9f7-4aa7-9b09-0c69ce43489e\",\"type\":\"GlyphRenderer\"}],\"title\":\"PEG_PLGA15k_2CHA_R2_P26\",\"title_text_font_size\":{\"value\":\"8pt\"},\"tool_events\":{\"id\":\"032e8c7d-22cf-43b9-8f0c-eb51c3ba2401\",\"type\":\"ToolEvents\"},\"tools\":[{\"id\":\"96f0f68b-614c-4a8e-97e9-00fd1575d44e\",\"type\":\"PanTool\"},{\"id\":\"138fefdd-24e7-465e-bb59-0a213d18e5ec\",\"type\":\"WheelZoomTool\"},{\"id\":\"e419b079-0cc4-4757-be5f-1877251eb0a9\",\"type\":\"BoxZoomTool\"},{\"id\":\"c6bb896e-a64d-42d8-bca9-846c9c018caa\",\"type\":\"PreviewSaveTool\"},{\"id\":\"ecdf55a4-3475-4f8e-9525-182cbd53eef9\",\"type\":\"ResizeTool\"},{\"id\":\"a7b38fbb-97fd-4a4f-b2b9-8bd9780e44fd\",\"type\":\"ResetTool\"},{\"id\":\"e401b82f-53a6-4343-9a59-5ebbef4a15ce\",\"type\":\"HelpTool\"}],\"x_range\":{\"id\":\"b410d028-b2a6-4fad-9f35-7bd95199b118\",\"type\":\"DataRange1d\"},\"y_range\":{\"id\":\"75d0220d-3603-46b5-9fc0-42b5c1e9e625\",\"type\":\"DataRange1d\"}},\"id\":\"e70870f2-1c1d-4fbb-a812-8f3b72a708c2\",\"subtype\":\"Figure\",\"type\":\"Plot\"},{\"attributes\":{\"data_source\":{\"id\":\"fb200883-3c79-4778-9497-b75d7e10c7bf\",\"type\":\"ColumnDataSource\"},\"glyph\":{\"id\":\"df12b19e-be23-4b4a-b6ac-4e999c844fa0\",\"type\":\"Line\"},\"hover_glyph\":null,\"nonselection_glyph\":{\"id\":\"836c1a73-b5c3-487a-aeaf-75b8e33e1f73\",\"type\":\"Line\"},\"selection_glyph\":null},\"id\":\"383a28a7-d9f7-4aa7-9b09-0c69ce43489e\",\"type\":\"GlyphRenderer\"},{\"attributes\":{\"axis_label\":\"y\",\"formatter\":{\"id\":\"818d4aaf-7ef5-4131-850e-62780aa6346d\",\"type\":\"BasicTickFormatter\"},\"plot\":{\"id\":\"e70870f2-1c1d-4fbb-a812-8f3b72a708c2\",\"subtype\":\"Figure\",\"type\":\"Plot\"},\"ticker\":{\"id\":\"af5021cd-6906-4fbe-9b02-0d24b0b5a81e\",\"type\":\"BasicTicker\"}},\"id\":\"e25362d6-dd47-4e43-9e83-ce372183f17e\",\"type\":\"LinearAxis\"},{\"attributes\":{\"dimension\":1,\"plot\":{\"id\":\"e70870f2-1c1d-4fbb-a812-8f3b72a708c2\",\"subtype\":\"Figure\",\"type\":\"Plot\"},\"ticker\":{\"id\":\"af5021cd-6906-4fbe-9b02-0d24b0b5a81e\",\"type\":\"BasicTicker\"}},\"id\":\"c8759edc-59f5-497f-99b9-709c84f9c87a\",\"type\":\"Grid\"},{\"attributes\":{},\"id\":\"ee184c9a-4be4-44a6-b536-25708120fdbd\",\"type\":\"BasicTickFormatter\"},{\"attributes\":{\"callback\":null,\"column_names\":[\"x\",\"y\"],\"data\":{\"x\":[-0.2865449999999998,-0.31559773399999985,-0.26798268299999983,-0.24646779099999983,-0.2451784229999998,-0.2643129439999998,-0.21361561799999984,-0.41931935299999984,-0.41447468799999987,-0.41453572299999986,-0.3537904829999998,-0.32187672599999984,-0.46038075399999984,-0.5196916669999998,-0.4599611379999998,-0.5359727949999998,-0.40974446299999984,-0.7001344779999998,-0.9153215499999998,-0.9650423139999998,-1.0067979909999998,-1.1593401049999998,-1.2396318529999997,-1.6595003219999998,-1.8328325369999998,-1.5236360639999997,-1.697998247,-1.8055879689999998,-1.5243684859999997,-1.2495119189999997,-1.177711687,-1.1756670089999999,-1.2249300099999998,-1.7171251389999997,-1.942726335,-1.5479356859999998,-1.2836382009999998,-1.071151934,-1.087181292,-1.1426164719999998,-0.9176256269999998,-0.9952852339999998,-1.2171556569999997,-1.239563188,-1.094375811,-1.2363283249999997,-1.4073106859999998,-1.5520784469999998,-1.8216402149999997,-1.7571565719999998,-1.6796266649999998,-1.7420045949999998,-1.6573946089999998,-1.467766008,-1.282074175,-0.3516161059999998,-0.15447255099999982,-0.17178364699999982,0.007087507000000159,0.1201856520000002,0.2465360550000002,0.28609446500000013,0.03366068800000016,-0.2432481859999998,-0.4984895799999998,-1.0516740889999998,-1.0077669239999998,-1.1368486499999997,-1.10899373,-0.9905397509999998,-0.9583818529999998,-0.9753648849999998,-1.05670186,-1.1241914839999998,-1.138763628,-1.152809343,-1.381096086,-0.7058336349999998,-0.8624803639999998,-1.4584428879999998,-1.2310106369999998,-1.366829119,-1.3536531539999999,-1.2162248709999999,-1.122276506,-1.0171434499999998,-1.069915972,-1.1575166799999999,-1.1832201099999997,-1.1800005049999998,-1.1363069629999998,-1.0720903489999998,-1.0501863569999998,-1.0228044599999997,-1.0591127489999999,-1.2184373949999998,-1.1879121879999999,-1.236450396,-1.1052095509999997,-0.9894563769999998,-2.058775,-1.1680919999999997,-0.4195039999999998,-0.7080409999999998,-1.5282949999999997,-2.094835,-1.913765,-0.23901009999999984,-0.5813769999999998,-1.0893909999999998,-1.4719649999999997,-1.390715,-1.613595,-1.8449649999999997,-1.974495,-1.6093549999999999,-0.2696858999999998,-0.8791009999999998,-0.7101639999999998,-0.7954799999999999,-1.5921949999999998,-1.9781749999999998,-1.7381449999999998,-0.9243449999999999,-0.9674379999999998,-0.3149158999999998,-1.451855,-1.406335,-2.211665,-1.9579049999999998,-2.634085,-2.7531649999999996,-3.565765,-4.544725,-5.173394999999999,-5.386205,-5.295235,-5.455814999999999,-5.509255,-5.555895,-5.4384049999999995,-5.572505,-5.450374999999999,-5.035425,-5.044995,-5.227385,-5.251614999999999,-5.258265,-5.182644999999999,-4.7500350000000005,-4.764944999999999,-4.993174999999999,-4.492654999999999,-4.221545,-3.8341049999999997,-4.039415,-3.3206149999999997,-3.998985,-2.080475,-1.3516249999999999,-2.283555,-3.068235,-3.5266949999999997,-4.537725,-4.8140350000000005,-4.020194999999999,-3.912975,-4.5600950000000005,-4.6852350000000005,-4.857474999999999,-4.3900950000000005,-4.221885,-4.788055,-4.359365,-4.220985,-3.856985,-3.706025,-3.3648949999999997,-3.2411649999999996,-3.042925,-3.892225,-4.347205000000001,-3.979615,-3.1377349999999997,-2.501235,-2.066395,-2.1905849999999996,-2.9600649999999997,-3.382355,-3.1714249999999997,-3.882265,-3.658965,-3.844535,-3.778025,-3.008175,-2.945735,-2.893005,-2.619315,-2.428785,-1.935185,-1.28152,-1.2637099999999997,-2.628835,-3.284915,-2.9600649999999997,-1.1904759999999999,0.01202800000000015,1.1159250000000003,2.068255,2.518805,1.8919550000000003,3.677155,5.027485,4.897855,5.063055,5.525405000000001,5.407954999999999,4.009865,3.6403450000000004,3.445625,3.070805,2.9385250000000003,2.0924850000000004,2.9172350000000002,4.119025000000001,4.417735,4.821485000000001,3.944485,3.048865,3.1216850000000003,3.043615,2.889975,3.222325,3.610115,2.765435,1.7371250000000003,0.21797400000000022,1.6339150000000002,3.123235,4.479785,5.5293849999999996,5.220905,5.572505,4.782135,4.421374999999999,4.478104999999999,4.957155,4.946145,4.775735000000001,4.479184999999999,4.8610050000000005,5.429105,5.1390150000000006,3.7707650000000004,2.770635,2.868215,2.773485,2.5188650000000004,2.2624950000000004,1.1831650000000002,-0.9753259999999998,-1.250406,-1.224843,-1.3318549999999998,-1.390915,-2.0235149999999997,-2.9896949999999998,-2.634175,-2.139125,-0.3020879999999998,0.01408500000000018,-0.031091999999999842,0.2618090000000002,-0.005901999999999852,-1.4458049999999998,-2.190245,-2.542675,-2.853175,-2.861455,-2.9149749999999996,-1.8279249999999998,-0.5499059999999998,0.9744550000000001,0.5711610000000001,1.4241850000000003,1.3514150000000003,1.6901650000000001,1.639755,1.3769650000000002,0.9007050000000001,1.031435,0.5174470000000002,-0.18277299999999982,-1.9754349999999998,-1.7492349999999999,-2.079225,-1.907765,-2.582095,-2.908785],\"y\":[-1.8406996214999998,-1.8624205074999998,-1.8895353754999997,-1.9454130614999998,-1.9395918334999998,-1.5453810174999998,-1.4676298584999998,-1.4549116574999998,-1.6145872554999998,-1.5769895994999998,-1.6901564084999998,-1.6549925294999999,-1.6482252564999997,-1.5229811154999997,-1.7172789064999998,-1.9524244754999998,-1.5885862794999999,-2.0924162355,-2.4691404785,-2.3824247804999996,-2.5362715204999997,-2.5423750364999997,-2.7226118525,-2.9319700685,-2.6276335205,-2.9497312984999997,-2.8302854975,-2.6438612425,-3.1093992674999997,-2.8058332884999997,-2.5193190065,-2.5146269285,-2.7596220454999996,-2.8799375974999997,-2.8923735104999997,-2.9721464595,-3.0632414304999998,-3.1982588255,-3.1876158204999996,-3.0452665774999996,-3.3871855225,-3.2339949095,-3.3011717285,-3.1243833985,-3.0802244624999995,-3.1935209715,-3.2097563234999997,-2.7178739985,-2.7647413695,-2.6415495365,-2.5037855595,-2.5769514525,-2.5847181765,-2.5967802485,-2.8142713985,-3.4215864624999996,-3.4884886225,-3.5529875244999998,-3.5811628785,-3.6105741945,-3.6983503785,-3.6310514895,-3.5614561525,-3.4007505855,-3.3606657464999996,-3.3069853274999996,-3.2826551874999996,-3.3268904174999996,-3.3706297364999998,-3.4118742435,-3.3461775265,-3.3621153315,-3.2718824824999997,-3.4709333864999996,-3.4618772945,-3.3696226565,-3.1068739374999996,-3.3230299435,-3.3205809084999998,-3.1698851075,-3.3969130004999997,-3.2380690065,-3.1421369995,-3.3696302854999995,-3.4188398804999998,-3.1453794925,-3.2079786744999996,-3.4891600095,-3.5022367914999997,-3.6027998414999995,-3.5688032595,-3.5350126704999996,-3.4827589475,-3.4169783085,-3.4354567014999997,-3.6030744995,-3.4971632445,-3.6041502444999995,-3.4928907835,-3.3769163575,-1.4127366214999997,-1.3358526214999997,-1.3973456214999997,-0.22857962149999977,-0.6015496214999998,-0.4398996214999997,0.6176603785000001,-0.29091962149999984,-1.1316466214999998,-1.3931916214999998,-0.5237196214999997,-0.6501096214999997,-0.8208596214999997,-1.1893516214999997,-0.9237896214999998,-0.07813962149999987,-0.07788962149999978,0.5536303785000003,0.5059603785000002,1.0054703785,0.5352803785000004,1.0220703785,1.9834503785000002,2.4717803785,3.1221603785000003,3.0188003785,1.3667003785,1.6061003785000003,1.6153203785000003,1.1709703785000003,0.14408037850000022,-0.0865196214999997,0.5410803785000002,0.46886037850000006,0.9519403785000002,0.7927303785000004,0.2597903785000004,0.6480403785000002,0.25863037850000037,-0.26226962149999977,-0.2197896214999997,0.6454003785000002,0.5361503785000004,0.01094037850000018,-0.2576996214999998,0.3597703785000004,0.10061037850000032,-0.16213962149999972,-0.21948962149999973,-0.07506962149999974,-1.7927279214999998,-2.3649606215,-1.7155436214999997,-1.5397166214999998,-1.2055546214999997,-1.6446486214999998,-1.4799476214999998,-0.5049096214999997,0.9212203785000002,1.2436403785000003,0.6389303785,0.4844703785000002,0.4829803785000002,0.4275303785000002,0.022380378500000297,0.20034037850000042,-0.014649621499999821,0.37465037850000016,-0.22601962149999988,-0.9475546214999998,-0.20393962149999978,0.16600037850000016,-0.7661396214999998,-0.7148496214999998,-0.06312962149999968,0.8081903785000004,1.2221303785000002,0.6473103785000003,0.29752037850000024,-0.5867896214999997,-1.3465456214999998,-2.1199466214999996,-2.5262126215,-2.2864256215,-0.5610596214999997,0.45062037850000003,0.42332037850000015,-0.44872962149999984,0.7947803785,1.8939203785000003,1.9102903785,1.8508903785000004,1.6490603785000002,1.5083303785000002,2.1780603785000006,2.6438203785,2.4889003785000003,3.3608603785,3.3273103785,3.3480703785,3.5893903785,3.5280303785000005,2.7696703785,1.9773503785000002,2.0815703785000004,1.1742903785000003,0.7611103785000002,0.6967903785000003,0.7414403785000001,0.4669303785000003,0.14348037850000028,1.6248603785000002,2.6213903785,2.7043903785000003,2.7193103785000003,3.6983503785,1.9406103785000002,1.4850503785000004,1.7567803785000002,1.9117003785000004,2.1184403785000003,1.6403703785000001,1.0596403785000001,0.7052703785000003,0.2061503785000003,0.10501037850000028,-0.19693962149999966,-0.14868962149999976,-0.8783796214999998,-0.8528146214999998,-0.5748296214999997,-0.7417396214999998,-2.9481096214999996,-2.8802596214999996,-1.7544226214999998,-1.8077616214999999,-3.2700196214999995,-2.6911996215,-2.5048536214999997,-2.0303436214999997,-1.7304506214999997,-0.9773156214999997,-0.6413296214999997,-0.33620962149999967,-0.4114396214999998,-0.9340816214999997,-1.4434576215,-1.9543586214999997,-2.0152046214999997,-0.5516296214999998,0.07891037850000027,0.2442203785000001,0.08502037850000033,-0.9651596214999998,-0.5622896214999997,-0.8405796214999999,-0.9128946214999998,-1.7278456214999998,-0.9400246214999998,-1.9507116214999998,-2.4178026215,-1.8334383414999997,-1.6420436214999998,-0.08983962149999969,0.1818403785,-0.3231696214999997,-1.5567016214999998,-1.6338956214999998,-1.0739396214999997,-0.7381696214999998,-0.6302996214999999,0.2227603785000003,0.09816037850000026,-1.3234646214999999,-2.0700126214999996,-1.4638376214999997,-0.8910496214999998,-0.2911996214999997,0.5177303785,0.6281003785000001,0.5098903785000002,0.3634303785000004,-0.15102962149999977,-0.09298962149999968,-1.1210206214999998,-0.8542146214999998,-0.05803962149999986,-0.15366962149999974,-0.040799621499999716,-0.5674496214999998,-0.9444116214999998,-1.2615616214999998,-2.1299486214999996,-2.4158146215,-1.7820048214999997,-2.1389326215,-2.9552296215,-1.9874696214999998,-2.4120476214999997]}},\"id\":\"fb200883-3c79-4778-9497-b75d7e10c7bf\",\"type\":\"ColumnDataSource\"},{\"attributes\":{\"bottom_units\":\"screen\",\"fill_alpha\":{\"value\":0.5},\"fill_color\":{\"value\":\"lightgrey\"},\"left_units\":\"screen\",\"level\":\"overlay\",\"line_alpha\":{\"value\":1.0},\"line_color\":{\"value\":\"black\"},\"line_dash\":[4,4],\"line_width\":{\"value\":2},\"plot\":null,\"render_mode\":\"css\",\"right_units\":\"screen\",\"top_units\":\"screen\"},\"id\":\"74016d37-e1d9-47f4-bcde-725518400055\",\"type\":\"BoxAnnotation\"},{\"attributes\":{\"callback\":null},\"id\":\"b410d028-b2a6-4fad-9f35-7bd95199b118\",\"type\":\"DataRange1d\"},{\"attributes\":{\"overlay\":{\"id\":\"74016d37-e1d9-47f4-bcde-725518400055\",\"type\":\"BoxAnnotation\"},\"plot\":{\"id\":\"e70870f2-1c1d-4fbb-a812-8f3b72a708c2\",\"subtype\":\"Figure\",\"type\":\"Plot\"}},\"id\":\"e419b079-0cc4-4757-be5f-1877251eb0a9\",\"type\":\"BoxZoomTool\"},{\"attributes\":{\"plot\":{\"id\":\"e70870f2-1c1d-4fbb-a812-8f3b72a708c2\",\"subtype\":\"Figure\",\"type\":\"Plot\"}},\"id\":\"e401b82f-53a6-4343-9a59-5ebbef4a15ce\",\"type\":\"HelpTool\"},{\"attributes\":{},\"id\":\"af5021cd-6906-4fbe-9b02-0d24b0b5a81e\",\"type\":\"BasicTicker\"},{\"attributes\":{\"plot\":{\"id\":\"e70870f2-1c1d-4fbb-a812-8f3b72a708c2\",\"subtype\":\"Figure\",\"type\":\"Plot\"}},\"id\":\"96f0f68b-614c-4a8e-97e9-00fd1575d44e\",\"type\":\"PanTool\"},{\"attributes\":{\"plot\":{\"id\":\"e70870f2-1c1d-4fbb-a812-8f3b72a708c2\",\"subtype\":\"Figure\",\"type\":\"Plot\"},\"ticker\":{\"id\":\"2d4114ca-9c42-4973-bd43-6b2218e9c7c5\",\"type\":\"BasicTicker\"}},\"id\":\"c96856f5-b3cf-40c9-b8c5-ed713c115b77\",\"type\":\"Grid\"},{\"attributes\":{\"plot\":{\"id\":\"e70870f2-1c1d-4fbb-a812-8f3b72a708c2\",\"subtype\":\"Figure\",\"type\":\"Plot\"}},\"id\":\"c6bb896e-a64d-42d8-bca9-846c9c018caa\",\"type\":\"PreviewSaveTool\"},{\"attributes\":{},\"id\":\"818d4aaf-7ef5-4131-850e-62780aa6346d\",\"type\":\"BasicTickFormatter\"},{\"attributes\":{\"axis_label\":\"x\",\"formatter\":{\"id\":\"ee184c9a-4be4-44a6-b536-25708120fdbd\",\"type\":\"BasicTickFormatter\"},\"plot\":{\"id\":\"e70870f2-1c1d-4fbb-a812-8f3b72a708c2\",\"subtype\":\"Figure\",\"type\":\"Plot\"},\"ticker\":{\"id\":\"2d4114ca-9c42-4973-bd43-6b2218e9c7c5\",\"type\":\"BasicTicker\"}},\"id\":\"dab6cfd1-88ab-4937-ad30-c2ff3dfafcc4\",\"type\":\"LinearAxis\"},{\"attributes\":{\"plot\":{\"id\":\"e70870f2-1c1d-4fbb-a812-8f3b72a708c2\",\"subtype\":\"Figure\",\"type\":\"Plot\"}},\"id\":\"a7b38fbb-97fd-4a4f-b2b9-8bd9780e44fd\",\"type\":\"ResetTool\"},{\"attributes\":{},\"id\":\"2d4114ca-9c42-4973-bd43-6b2218e9c7c5\",\"type\":\"BasicTicker\"},{\"attributes\":{\"plot\":{\"id\":\"e70870f2-1c1d-4fbb-a812-8f3b72a708c2\",\"subtype\":\"Figure\",\"type\":\"Plot\"}},\"id\":\"ecdf55a4-3475-4f8e-9525-182cbd53eef9\",\"type\":\"ResizeTool\"},{\"attributes\":{\"callback\":null},\"id\":\"75d0220d-3603-46b5-9fc0-42b5c1e9e625\",\"type\":\"DataRange1d\"}],\"root_ids\":[\"e70870f2-1c1d-4fbb-a812-8f3b72a708c2\"]},\"title\":\"Bokeh Application\",\"version\":\"0.11.1\"}};\n",
       "            var render_items = [{\"docid\":\"25374e73-e8f1-4ddf-8383-b5a07f2945bb\",\"elementid\":\"0741ea6d-acb3-41e5-a70e-ec45d7105477\",\"modelid\":\"e70870f2-1c1d-4fbb-a812-8f3b72a708c2\",\"notebook_comms_target\":\"bdb9112f-0b2c-487b-860c-ce7ca88c215f\"}];\n",
       "            \n",
       "            Bokeh.embed.embed_items(docs_json, render_items);\n",
       "        });\n",
       "      },\n",
       "      function(Bokeh) {\n",
       "      }\n",
       "    ];\n",
       "  \n",
       "    function run_inline_js() {\n",
       "      for (var i = 0; i < inline_js.length; i++) {\n",
       "        inline_js[i](window.Bokeh);\n",
       "      }\n",
       "    }\n",
       "  \n",
       "    if (window._bokeh_is_loading === 0) {\n",
       "      console.log(\"Bokeh: BokehJS loaded, going straight to plotting\");\n",
       "      run_inline_js();\n",
       "    } else {\n",
       "      load_libs(js_urls, function() {\n",
       "        console.log(\"Bokeh: BokehJS plotting callback run at\", now());\n",
       "        run_inline_js();\n",
       "      });\n",
       "    }\n",
       "  }(this));\n",
       "</script>"
      ]
     },
     "metadata": {},
     "output_type": "display_data"
    }
   ],
   "source": [
    "shift_trajectory(PEG_PLGA15k_2CHA_R2_P26)\n",
    "plot_trajectory(PEG_PLGA15k_2CHA_R2_P26, 'PEG_PLGA15k_2CHA_R2_P26')"
   ]
  },
  {
   "cell_type": "code",
   "execution_count": null,
   "metadata": {
    "collapsed": false
   },
   "outputs": [],
   "source": [
    "pink = np.chararray((3, 3))\n",
    "pink[:] = 'a'\n",
    "np.dtype(pink[0,0])"
   ]
  },
  {
   "cell_type": "code",
   "execution_count": null,
   "metadata": {
    "collapsed": false
   },
   "outputs": [],
   "source": [
    "length = pink.shape[0]\n",
    "width = pink.shape[1]\n",
    "numerical = True\n",
    "\n",
    "for num in range(0,width):\n",
    "    \n",
    "    for yes in range(0,length):\n",
    "\n",
    "        if np.dtype(pink[yes,num]) == np.dtype('float64'):\n",
    "            numerical = True\n",
    "        else:\n",
    "            numerical = False\n",
    "            break\n"
   ]
  },
  {
   "cell_type": "code",
   "execution_count": null,
   "metadata": {
    "collapsed": false
   },
   "outputs": [],
   "source": [
    "from trajectory_visualization import shift_trajectory"
   ]
  },
  {
   "cell_type": "code",
   "execution_count": null,
   "metadata": {
    "collapsed": false
   },
   "outputs": [],
   "source": [
    "shift_trajectory(PLGA_15k_F68_R3_P10)"
   ]
  },
  {
   "cell_type": "code",
   "execution_count": null,
   "metadata": {
    "collapsed": true
   },
   "outputs": [],
   "source": [
    "trajectory = download_trajectory_data('../sample_data/Sample_Trajectory_Data1.csv')\n",
    "time, Run = define_xydata(trajectory, 2)"
   ]
  },
  {
   "cell_type": "code",
   "execution_count": null,
   "metadata": {
    "collapsed": false
   },
   "outputs": [],
   "source": [
    "PLGA_4A_UP_R1_P25 = Run['Run1']\n",
    "PLGA_4A_P80_R1_P22 = Run['Run2']"
   ]
  },
  {
   "cell_type": "code",
   "execution_count": null,
   "metadata": {
    "collapsed": false
   },
   "outputs": [],
   "source": [
    "shift_trajectory(PLGA_4A_UP_R1_P25)\n",
    "shift_trajectory(PLGA_4A_P80_R1_P22)"
   ]
  },
  {
   "cell_type": "code",
   "execution_count": null,
   "metadata": {
    "collapsed": false
   },
   "outputs": [],
   "source": [
    "output_notebook()"
   ]
  },
  {
   "cell_type": "code",
   "execution_count": null,
   "metadata": {
    "collapsed": false
   },
   "outputs": [],
   "source": [
    "plot_trajectory(PLGA_4A_UP_R1_P25, 'PLGA_4A_P80_R1_P22')"
   ]
  },
  {
   "cell_type": "code",
   "execution_count": null,
   "metadata": {
    "collapsed": false
   },
   "outputs": [],
   "source": [
    "type('yes')"
   ]
  },
  {
   "cell_type": "code",
   "execution_count": null,
   "metadata": {
    "collapsed": false
   },
   "outputs": [],
   "source": [
    "float(3.5).is_integer()"
   ]
  },
  {
   "cell_type": "code",
   "execution_count": null,
   "metadata": {
    "collapsed": false
   },
   "outputs": [],
   "source": [
    "a = np.arange(220).reshape(10, 22)\n",
    "a"
   ]
  },
  {
   "cell_type": "code",
   "execution_count": null,
   "metadata": {
    "collapsed": false
   },
   "outputs": [],
   "source": [
    "a.shape[1]"
   ]
  },
  {
   "cell_type": "code",
   "execution_count": null,
   "metadata": {
    "collapsed": false
   },
   "outputs": [],
   "source": [
    "time, Run, yes = define_xydata(a, 6.5)"
   ]
  },
  {
   "cell_type": "code",
   "execution_count": null,
   "metadata": {
    "collapsed": false
   },
   "outputs": [],
   "source": [
    "a = type(time) == type(a)"
   ]
  },
  {
   "cell_type": "code",
   "execution_count": null,
   "metadata": {
    "collapsed": false
   },
   "outputs": [],
   "source": [
    "Run['Run25']"
   ]
  },
  {
   "cell_type": "code",
<<<<<<< HEAD
   "execution_count": 10,
=======
   "execution_count": null,
>>>>>>> master
   "metadata": {
    "collapsed": false
   },
   "outputs": [
    {
     "name": "stdout",
     "output_type": "stream",
     "text": [
      "Array has more than three columns. May not yield correct results\n"
     ]
    },
    {
     "data": {
      "text/plain": [
       "(True, False)"
      ]
     },
     "execution_count": 10,
     "metadata": {},
     "output_type": "execute_result"
    }
   ],
   "source": [
    "a = np.arange(220).reshape(10, 22)\n",
    "shift_trajectory(a.astype(np.float64))"
   ]
  },
  {
   "cell_type": "code",
<<<<<<< HEAD
   "execution_count": 9,
   "metadata": {
    "collapsed": false
   },
   "outputs": [
    {
     "data": {
      "text/plain": [
       "array([[  0,   1,   2,   3,   4,   5,   6,   7,   8,   9,  10,  11,  12,\n",
       "         13,  14,  15,  16,  17,  18,  19,  20,  21],\n",
       "       [ 22,  23,  24,  25,  26,  27,  28,  29,  30,  31,  32,  33,  34,\n",
       "         35,  36,  37,  38,  39,  40,  41,  42,  43],\n",
       "       [ 44,  45,  46,  47,  48,  49,  50,  51,  52,  53,  54,  55,  56,\n",
       "         57,  58,  59,  60,  61,  62,  63,  64,  65],\n",
       "       [ 66,  67,  68,  69,  70,  71,  72,  73,  74,  75,  76,  77,  78,\n",
       "         79,  80,  81,  82,  83,  84,  85,  86,  87],\n",
       "       [ 88,  89,  90,  91,  92,  93,  94,  95,  96,  97,  98,  99, 100,\n",
       "        101, 102, 103, 104, 105, 106, 107, 108, 109],\n",
       "       [110, 111, 112, 113, 114, 115, 116, 117, 118, 119, 120, 121, 122,\n",
       "        123, 124, 125, 126, 127, 128, 129, 130, 131],\n",
       "       [132, 133, 134, 135, 136, 137, 138, 139, 140, 141, 142, 143, 144,\n",
       "        145, 146, 147, 148, 149, 150, 151, 152, 153],\n",
       "       [154, 155, 156, 157, 158, 159, 160, 161, 162, 163, 164, 165, 166,\n",
       "        167, 168, 169, 170, 171, 172, 173, 174, 175],\n",
       "       [176, 177, 178, 179, 180, 181, 182, 183, 184, 185, 186, 187, 188,\n",
       "        189, 190, 191, 192, 193, 194, 195, 196, 197],\n",
       "       [198, 199, 200, 201, 202, 203, 204, 205, 206, 207, 208, 209, 210,\n",
       "        211, 212, 213, 214, 215, 216, 217, 218, 219]])"
      ]
     },
     "execution_count": 9,
     "metadata": {},
     "output_type": "execute_result"
    }
   ],
   "source": []
=======
   "execution_count": null,
   "metadata": {
    "collapsed": false
   },
   "outputs": [],
   "source": [
    "csv_writer(data, path)"
   ]
>>>>>>> master
  },
  {
   "cell_type": "code",
   "execution_count": null,
   "metadata": {
    "collapsed": true
   },
   "outputs": [],
   "source": []
  }
 ],
 "metadata": {
  "kernelspec": {
   "display_name": "Python 3",
   "language": "python",
   "name": "python3"
  },
  "language_info": {
   "codemirror_mode": {
    "name": "ipython",
    "version": 3
   },
   "file_extension": ".py",
   "mimetype": "text/x-python",
   "name": "python",
   "nbconvert_exporter": "python",
   "pygments_lexer": "ipython3",
   "version": "3.5.1"
  }
 },
 "nbformat": 4,
 "nbformat_minor": 0
}
