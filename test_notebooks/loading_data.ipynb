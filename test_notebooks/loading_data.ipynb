{
 "cells": [
  {
   "cell_type": "code",
   "execution_count": 1,
   "metadata": {
    "collapsed": false
   },
   "outputs": [],
   "source": [
    "import numpy as np\n",
    "from bokeh.plotting import figure, show, gridplot, vplot, hplot\n",
    "from bokeh.io import output_notebook\n",
    "from trajectory_visualization import plot_trajectory, sidebyside"
   ]
  },
  {
   "cell_type": "code",
   "execution_count": 2,
   "metadata": {
    "collapsed": false
   },
   "outputs": [
    {
     "data": {
      "text/html": [
       "\n",
       "    <div class=\"bk-banner\">\n",
       "        <a href=\"http://bokeh.pydata.org\" target=\"_blank\" class=\"bk-logo bk-logo-small bk-logo-notebook\"></a>\n",
       "        <span id=\"cec625a4-d590-45b1-a2bc-3ce87ce056f2\">Loading BokehJS ...</span>\n",
       "    </div>"
      ]
     },
     "metadata": {},
     "output_type": "display_data"
    },
    {
     "data": {
      "application/javascript": [
       "\n",
       "(function(global) {\n",
       "  function now() {\n",
       "    return new Date();\n",
       "  }\n",
       "\n",
       "  if (typeof (window._bokeh_onload_callbacks) === \"undefined\") {\n",
       "    window._bokeh_onload_callbacks = [];\n",
       "  }\n",
       "\n",
       "  function run_callbacks() {\n",
       "    window._bokeh_onload_callbacks.forEach(function(callback) { callback() });\n",
       "    delete window._bokeh_onload_callbacks\n",
       "    console.info(\"Bokeh: all callbacks have finished\");\n",
       "  }\n",
       "\n",
       "  function load_libs(js_urls, callback) {\n",
       "    window._bokeh_onload_callbacks.push(callback);\n",
       "    if (window._bokeh_is_loading > 0) {\n",
       "      console.log(\"Bokeh: BokehJS is being loaded, scheduling callback at\", now());\n",
       "      return null;\n",
       "    }\n",
       "    if (js_urls == null || js_urls.length === 0) {\n",
       "      run_callbacks();\n",
       "      return null;\n",
       "    }\n",
       "    console.log(\"Bokeh: BokehJS not loaded, scheduling load and callback at\", now());\n",
       "    window._bokeh_is_loading = js_urls.length;\n",
       "    for (var i = 0; i < js_urls.length; i++) {\n",
       "      var url = js_urls[i];\n",
       "      var s = document.createElement('script');\n",
       "      s.src = url;\n",
       "      s.async = false;\n",
       "      s.onreadystatechange = s.onload = function() {\n",
       "        window._bokeh_is_loading--;\n",
       "        if (window._bokeh_is_loading === 0) {\n",
       "          console.log(\"Bokeh: all BokehJS libraries loaded\");\n",
       "          run_callbacks()\n",
       "        }\n",
       "      };\n",
       "      s.onerror = function() {\n",
       "        console.warn(\"failed to load library \" + url);\n",
       "      };\n",
       "      console.log(\"Bokeh: injecting script tag for BokehJS library: \", url);\n",
       "      document.getElementsByTagName(\"head\")[0].appendChild(s);\n",
       "    }\n",
       "  };\n",
       "\n",
       "  var js_urls = ['https://cdn.pydata.org/bokeh/release/bokeh-0.11.1.min.js', 'https://cdn.pydata.org/bokeh/release/bokeh-widgets-0.11.1.min.js', 'https://cdn.pydata.org/bokeh/release/bokeh-compiler-0.11.1.min.js'];\n",
       "\n",
       "  var inline_js = [\n",
       "    function(Bokeh) {\n",
       "      Bokeh.set_log_level(\"info\");\n",
       "    },\n",
       "    \n",
       "    function(Bokeh) {\n",
       "      Bokeh.$(\"#cec625a4-d590-45b1-a2bc-3ce87ce056f2\").text(\"BokehJS successfully loaded\");\n",
       "    },\n",
       "    function(Bokeh) {\n",
       "      console.log(\"Bokeh: injecting CSS: https://cdn.pydata.org/bokeh/release/bokeh-0.11.1.min.css\");\n",
       "      Bokeh.embed.inject_css(\"https://cdn.pydata.org/bokeh/release/bokeh-0.11.1.min.css\");\n",
       "      console.log(\"Bokeh: injecting CSS: https://cdn.pydata.org/bokeh/release/bokeh-widgets-0.11.1.min.css\");\n",
       "      Bokeh.embed.inject_css(\"https://cdn.pydata.org/bokeh/release/bokeh-widgets-0.11.1.min.css\");\n",
       "    }\n",
       "  ];\n",
       "\n",
       "  function run_inline_js() {\n",
       "    for (var i = 0; i < inline_js.length; i++) {\n",
       "      inline_js[i](window.Bokeh);\n",
       "    }\n",
       "  }\n",
       "\n",
       "  if (window._bokeh_is_loading === 0) {\n",
       "    console.log(\"Bokeh: BokehJS loaded, going straight to plotting\");\n",
       "    run_inline_js();\n",
       "  } else {\n",
       "    load_libs(js_urls, function() {\n",
       "      console.log(\"Bokeh: BokehJS plotting callback run at\", now());\n",
       "      run_inline_js();\n",
       "    });\n",
       "  }\n",
       "}(this));"
      ]
     },
     "metadata": {},
     "output_type": "display_data"
    }
   ],
   "source": [
    "output_notebook()"
   ]
  },
  {
   "cell_type": "code",
   "execution_count": 3,
   "metadata": {
    "collapsed": false
   },
   "outputs": [],
   "source": [
    "trajectory = np.genfromtxt('../sample_data/Sample_Trajectory_Data1.csv',\n",
    "            delimiter =\",\")"
   ]
  },
  {
   "cell_type": "code",
   "execution_count": 4,
   "metadata": {
    "collapsed": false
   },
   "outputs": [],
   "source": [
    "trajectory=np.delete(trajectory, 0,0)"
   ]
  },
  {
   "cell_type": "code",
   "execution_count": 5,
   "metadata": {
    "collapsed": false
   },
   "outputs": [],
   "source": [
    "time = trajectory[:,0]\n",
    "PLGA_4A_UP_R1_P25 = trajectory[:,1:4]\n",
    "PLGA_4A_P80_R1_P22 = trajectory[:,4:7]\n",
    "PLGA_15k_UP_R3_P5 = trajectory[:,7:10]\n",
    "PLGA_15k_P80_R3_P36 = trajectory[:,10:13]\n",
    "PLGA_4A_F68_R3_P15 = trajectory[:,13:16]\n",
    "PLGA_15k_F68_R3_P10 = trajectory[:,16:19]\n",
    "PLGA4A_5CHA_R3_P124 = trajectory[:,19:22]\n",
    "PLGA_15k_5CHA_R3_P50 = trajectory[:,22:25]\n",
    "PLGA_15k_2CHA_R2_P44 = trajectory[:,25:28]\n",
    "PLGA15k_05CHA_R3_P22 = trajectory[:,28:31]\n",
    "PEG_PLGA15k_P80_R3_P127 = trajectory[:,31:34]\n",
    "PEG_PLGA4A_F68_R3_P111 = trajectory[:,34:37]\n",
    "PEG_PLGA4A_P80_R1_P84 = trajectory[:,37:40]\n",
    "PEG_PLGA4A_UP_R1_P53 = trajectory[:,40:43]\n",
    "PEG_PLGA15k_2CHA_R2_P26 = trajectory[:,43:46]\n",
    "PEG_PLGA15k_5CHA_R2_P52 = trajectory[:,46:49]\n",
    "PEG_PLGA15k_UP_R3_P61 = trajectory[:,49:52]\n",
    "PEG_PLGA58k_5CHA_R2_P15 = trajectory[:,52:55]\n",
    "PEG_PLGA15k_F68_R2_P81 = trajectory[:,55:58]\n",
    "PLGA_15k_2CHA_R2_P37 = trajectory[:,58:61]\n",
    "PLGA_15k_PEG_2CHA_R2_P81 = trajectory[:,61:64]\n",
    "PLGA_15k_05CHA_R1_P45 = trajectory[:,64:67]\n",
    "PLGA_15k_PEG_05CHA_R3_P61 = trajectory[:,67:70]"
   ]
  },
  {
   "cell_type": "code",
   "execution_count": null,
   "metadata": {
    "collapsed": false
   },
   "outputs": [],
   "source": [
    "#output to notebook\n",
    "output_notebook()\n",
    "\n",
    "#create a plot of trajectory data\n",
    "x = PLGA_4A_UP_R1_P25[:,1]\n",
    "y = PLGA_4A_UP_R1_P25[:,2]\n",
    "p = figure(title='PLGA_4A_UP_R1_P25', x_axis_label='x', y_axis_label='y')\n",
    "p.line(x, y, line_width=2)\n",
    "\n",
    "show(p)"
   ]
  },
  {
   "cell_type": "code",
   "execution_count": null,
   "metadata": {
    "collapsed": false
   },
   "outputs": [],
   "source": [
    "def plot_trajectory(xydata, charttitle):\n",
    "    \n",
    "    output_notebook()  \n",
    "    x = xydata[:,1]\n",
    "    y = xydata[:,2]\n",
    "    p = figure(title=charttitle, title_text_font_size='8pt', \n",
    "               width = 300, height = 300, x_axis_label='x', y_axis_label='y')\n",
    "    p.line(x, y, line_width=2)\n",
    "    show(p)"
   ]
  },
  {
   "cell_type": "code",
   "execution_count": null,
   "metadata": {
    "collapsed": true
   },
   "outputs": [],
   "source": []
  },
  {
   "cell_type": "code",
   "execution_count": null,
   "metadata": {
    "collapsed": false
   },
   "outputs": [],
   "source": [
    "plot_trajectory(PEG_PLGA15k_2CHA_R2_P26, 'PEG_PLGA15k_2CHA_R2_P26')"
   ]
  },
  {
   "cell_type": "code",
   "execution_count": null,
   "metadata": {
    "collapsed": true
   },
   "outputs": [],
   "source": [
    "def sidebyside(xydata1, xydata2, charttitle1, charttitle2):\n",
    "    \n",
    "    output_notebook()  \n",
    "    x1 = xydata1[:,1]\n",
    "    y1 = xydata1[:,2]\n",
    "    x2 = xydata2[:,1]\n",
    "    y2 = xydata2[:,2]\n",
    "    \n",
    "    s1 = figure(title=charttitle1, width = 300, height = 300, x_axis_label='x', y_axis_label='y')\n",
    "    s1.line(x1, y1, color='navy', line_width=2)\n",
    "    \n",
    "    s2 = figure(title=charttitle2, width = 300, height = 300, x_range=s1.x_range, y_range=s1.y_range, x_axis_label='x', y_axis_label='y')\n",
    "    s2.line(x2, y2, color='firebrick', line_width=2)    \n",
    "    \n",
    "    p = hplot(s1, s2)\n",
    "    \n",
    "    show(p)"
   ]
  },
  {
   "cell_type": "code",
   "execution_count": 6,
   "metadata": {
    "collapsed": false
   },
   "outputs": [
    {
     "data": {
      "text/html": [
       "\n",
       "\n",
       "    <div class=\"plotdiv\" id=\"8e4c27c9-3a64-4c89-9195-615c7b3df9eb\"></div>\n",
       "<script type=\"text/javascript\">\n",
       "  \n",
       "  (function(global) {\n",
       "    function now() {\n",
       "      return new Date();\n",
       "    }\n",
       "  \n",
       "    if (typeof (window._bokeh_onload_callbacks) === \"undefined\") {\n",
       "      window._bokeh_onload_callbacks = [];\n",
       "    }\n",
       "  \n",
       "    function run_callbacks() {\n",
       "      window._bokeh_onload_callbacks.forEach(function(callback) { callback() });\n",
       "      delete window._bokeh_onload_callbacks\n",
       "      console.info(\"Bokeh: all callbacks have finished\");\n",
       "    }\n",
       "  \n",
       "    function load_libs(js_urls, callback) {\n",
       "      window._bokeh_onload_callbacks.push(callback);\n",
       "      if (window._bokeh_is_loading > 0) {\n",
       "        console.log(\"Bokeh: BokehJS is being loaded, scheduling callback at\", now());\n",
       "        return null;\n",
       "      }\n",
       "      if (js_urls == null || js_urls.length === 0) {\n",
       "        run_callbacks();\n",
       "        return null;\n",
       "      }\n",
       "      console.log(\"Bokeh: BokehJS not loaded, scheduling load and callback at\", now());\n",
       "      window._bokeh_is_loading = js_urls.length;\n",
       "      for (var i = 0; i < js_urls.length; i++) {\n",
       "        var url = js_urls[i];\n",
       "        var s = document.createElement('script');\n",
       "        s.src = url;\n",
       "        s.async = false;\n",
       "        s.onreadystatechange = s.onload = function() {\n",
       "          window._bokeh_is_loading--;\n",
       "          if (window._bokeh_is_loading === 0) {\n",
       "            console.log(\"Bokeh: all BokehJS libraries loaded\");\n",
       "            run_callbacks()\n",
       "          }\n",
       "        };\n",
       "        s.onerror = function() {\n",
       "          console.warn(\"failed to load library \" + url);\n",
       "        };\n",
       "        console.log(\"Bokeh: injecting script tag for BokehJS library: \", url);\n",
       "        document.getElementsByTagName(\"head\")[0].appendChild(s);\n",
       "      }\n",
       "    };var element = document.getElementById(\"8e4c27c9-3a64-4c89-9195-615c7b3df9eb\");\n",
       "    if (element == null) {\n",
       "      console.log(\"Bokeh: ERROR: autoload.js configured with elementid '8e4c27c9-3a64-4c89-9195-615c7b3df9eb' but no matching script tag was found. \")\n",
       "      return false;\n",
       "    }\n",
       "  \n",
       "    var js_urls = [];\n",
       "  \n",
       "    var inline_js = [\n",
       "      function(Bokeh) {\n",
       "        Bokeh.$(function() {\n",
       "            var docs_json = {\"8303b936-538c-4f83-8c5c-3a9f7a4388e9\":{\"roots\":{\"references\":[{\"attributes\":{\"axis_label\":\"y\",\"formatter\":{\"id\":\"125687e2-87ea-44f2-bf2f-ca49673a57d7\",\"type\":\"BasicTickFormatter\"},\"plot\":{\"id\":\"01d54b21-0ac2-453e-8400-58fd68218a4c\",\"subtype\":\"Figure\",\"type\":\"Plot\"},\"ticker\":{\"id\":\"12206b11-01e9-4d9d-9194-9b4c773579a6\",\"type\":\"BasicTicker\"}},\"id\":\"a42709a4-5d29-4570-ac49-8a7f8a2eb3ff\",\"type\":\"LinearAxis\"},{\"attributes\":{},\"id\":\"125687e2-87ea-44f2-bf2f-ca49673a57d7\",\"type\":\"BasicTickFormatter\"},{\"attributes\":{\"data_source\":{\"id\":\"852083b5-56f4-4331-bd23-2dcdece5f938\",\"type\":\"ColumnDataSource\"},\"glyph\":{\"id\":\"a001cea8-eb82-499d-b603-65a231aa4f0f\",\"type\":\"Line\"},\"hover_glyph\":null,\"nonselection_glyph\":{\"id\":\"4a71327f-3456-4699-b733-b20e0713eff7\",\"type\":\"Line\"},\"selection_glyph\":null},\"id\":\"8c0c3809-ec02-4521-a894-1f3637346191\",\"type\":\"GlyphRenderer\"},{\"attributes\":{\"line_color\":{\"value\":\"firebrick\"},\"line_width\":{\"value\":2},\"x\":{\"field\":\"x\"},\"y\":{\"field\":\"y\"}},\"id\":\"f74276fb-8320-4310-a1e7-8ddc0031a3cf\",\"type\":\"Line\"},{\"attributes\":{\"bottom_units\":\"screen\",\"fill_alpha\":{\"value\":0.5},\"fill_color\":{\"value\":\"lightgrey\"},\"left_units\":\"screen\",\"level\":\"overlay\",\"line_alpha\":{\"value\":1.0},\"line_color\":{\"value\":\"black\"},\"line_dash\":[4,4],\"line_width\":{\"value\":2},\"plot\":null,\"render_mode\":\"css\",\"right_units\":\"screen\",\"top_units\":\"screen\"},\"id\":\"c82e78cc-d2ab-472c-944f-a466f689d9cb\",\"type\":\"BoxAnnotation\"},{\"attributes\":{\"plot\":{\"id\":\"01d54b21-0ac2-453e-8400-58fd68218a4c\",\"subtype\":\"Figure\",\"type\":\"Plot\"}},\"id\":\"262da033-e1f2-42a7-abdb-40ad04ec84b6\",\"type\":\"WheelZoomTool\"},{\"attributes\":{},\"id\":\"38c20166-ec33-415a-9dec-f223042f2c8d\",\"type\":\"BasicTicker\"},{\"attributes\":{},\"id\":\"17becae9-51c4-43e9-8e5b-b185b576dc1e\",\"type\":\"ToolEvents\"},{\"attributes\":{\"plot\":{\"id\":\"01d54b21-0ac2-453e-8400-58fd68218a4c\",\"subtype\":\"Figure\",\"type\":\"Plot\"}},\"id\":\"c4572b37-18d8-4146-8504-3f79084aab0e\",\"type\":\"HelpTool\"},{\"attributes\":{\"plot\":{\"id\":\"072e493c-527e-4737-87c1-32112273a2b8\",\"subtype\":\"Figure\",\"type\":\"Plot\"}},\"id\":\"e3d24ec8-a55e-480b-b380-34b0a0a187b6\",\"type\":\"PanTool\"},{\"attributes\":{\"callback\":null,\"column_names\":[\"y\",\"x\"],\"data\":{\"x\":[0.0,-0.020889282,-0.000778198,-0.003890991,0.041412354,-0.035736084,-0.087432861,-0.01524353,-0.107620239,0.022872925,-0.03112793,-0.099609375,-0.061187744,-0.082809448,-0.071838379,-0.111465454,-0.110107422,-0.062362671,-0.114654541,-0.070632935,-0.037719727,-0.033554077,-0.068725586,-0.046661377,-0.089935303,-0.071578979,-0.132400513,-0.045562744,-0.177963257,-0.186019897,-0.082672119,-0.176696777,-0.197631836,-0.087631226,-0.098953247,-0.123214722,-0.056564331,-0.1980896,-0.173294067,-0.140548706,-0.202545166,-0.104202271,-0.195465088,-0.135437012,-0.169754028,-0.265716553,-0.239242554,-0.207199097,-0.298568726,-0.219573975,-0.227783203,-0.299087524,-0.263305664,-0.226745605,-0.266494751,-0.273010254,-0.291503906,-0.268676758,-0.20741272,-0.289855957,-0.29624939,-0.261535645,-0.31427002,-0.303497314,-0.281356812,-0.315200806,-0.285003662,-0.238464355,-0.388458252,-0.246994019,-0.242706299,-0.205764771,-0.249786377,-0.276657104,-0.327392578,-0.295623779,-0.355514526,-0.285568237,-0.355545044,-0.379241943,-0.376678467,-0.334381104,-0.339736938,-0.284057617,-0.297805786,-0.344345093,-0.296310425,-0.318847656,-0.273635864,-0.375228882,-0.335403442,-0.437835693,-0.272415161,-0.34312439,-0.263427734,-0.304595947,-0.325088501,-0.341125488,-0.305557251,-0.276641846,-0.317855835,-0.273162842,-0.360458374,-0.275726318,-0.41708374,-0.283966064,-0.393508911,-0.347640991,-0.291687012,-0.309753418,-0.263473511,-0.307769775,-0.266342163,-0.400161743,-0.316360474,-0.318191528,-0.242370605,-0.242370605,-0.384399414,-0.350448608,-0.314758301,-0.412399292,-0.316757202,-0.323608398,-0.30317688,-0.317687988,-0.31993103,-0.323104858,-0.412399292,-0.357940674,-0.328643799,-0.332305908,-0.345046997,-0.305267334,-0.375030518,-0.266662598,-0.300567627,-0.265258789,-0.267837524,-0.378890991,-0.371536255,-0.296081543,-0.371826172,-0.335968018,-0.309188843,-0.415008545,-0.401901245,-0.34324646,-0.466094971,-0.342315674,-0.249526978,-0.272155762,-0.326782227,-0.353393555,-0.451080322,-0.460769653,-0.425476074,-0.31161499,-0.342498779,-0.332672119,-0.33656311,-0.350280762,-0.376037598,-0.355270386,-0.429290771,-0.425888062,-0.310317993,-0.29725647,-0.33946228,-0.458953857,-0.405822754,-0.352233887,-0.405197144,-0.318481445,-0.451599121,-0.465530396,-0.515136719,-0.477355957,-0.429397583,-0.319671631,-0.374298096,-0.438720703,-0.39982605,-0.370574951,-0.454162598,-0.426849365,-0.465454102,-0.425018311,-0.329940796,-0.497970581,-0.479049683,-0.41456604,-0.419998169,-0.451278687,-0.406326294,-0.465164185,-0.451034546,-0.430557251,-0.400558472,-0.454940796,-0.429107666,-0.505157471,-0.374588013,-0.515808105,-0.440444946,-0.458587646,-0.546127319,-0.508926392,-0.506652832,-0.517456055,-0.535217285,-0.434524536,-0.53163147,-0.59147644,-0.546447754,-0.500396729,-0.445404053,-0.414825439,-0.331756592,-0.39302063,-0.542877197,-0.520736694,-0.412063599,-0.454330444,-0.483184814,-0.472076416,-0.454193115,-0.478286743,-0.34815979,-0.560150146,-0.414154053,-0.406005859,-0.482803345,-0.358062744,-0.37701416,-0.404129028,-0.432006836,-0.345108032,-0.34602356,-0.427810669,-0.304229736,-0.338104248,-0.370452881,-0.318374634,-0.37020874,-0.336807251,-0.381607056,-0.364028931,-0.337600708,-0.281158447,-0.281265259,-0.337783813,-0.327178955,-0.280578613,-0.19140625,-0.287826538,-0.246856689,-0.259658813,-0.281158447,-0.283294678,-0.30708313,-0.234725952,-0.373199463,-0.34072876,-0.248779297,-0.364700317,-0.278503418,-0.369903564,-0.382095337,-0.421340942,-0.383178711,-0.323471069,-0.359832764,-0.390609741,-0.333847046,-0.349472046,-0.354644775,-0.202850342,-0.23739624,-0.390029907,-0.382858276,-0.323974609,-0.336410522,-0.307052612,-0.283035278,-0.334365845,-0.267150879,-0.323654175,-0.353393555,-0.464065552,-0.352249146,-0.324615479,-0.338912964,-0.421417236,-0.376083374,-0.359985352,-0.32220459,-0.403198242,-0.455703735],\"y\":[0.0,0.00163269,-0.024681091,-0.08089447,-0.009056091,0.038551331,-0.062637329,0.01436615,-0.012771606,-0.047683716,-0.05884552,0.00617218,-0.032608032,-0.006767273,0.027488708,-0.01550293,0.065994263,-0.008979797,0.040771484,0.074859619,0.046569824,0.07334137,0.059051514,0.11076355,0.101913452,0.035217285,0.0727005,0.042800903,-0.026916504,0.017494202,0.042640686,0.041320801,0.071998596,0.034614563,0.080162048,0.097747803,0.034141541,-0.008743286,0.059684753,0.033195496,-0.009147644,0.01676178,-0.0210495,0.019271851,0.052276611,0.071052551,0.088539124,0.052368164,-0.016944885,0.066268921,0.03087616,0.040901184,0.124710083,0.046669006,0.04851532,0.05305481,0.069389343,-0.016281128,-0.006652832,-0.011039734,-0.040618896,0.031738281,0.028572083,0.114120483,0.012016296,0.01751709,-0.008766174,0.019104004,0.186103821,0.024559021,0.037849426,0.043701172,0.048980713,0.062553406,-0.016937256,-0.001808167,-0.023071289,-0.065467834,-0.11051178,-0.113113403,-0.039001465,-0.065979004,-0.132080078,-0.01461792,-0.075111389,-0.015991211,-0.041152954,-0.01852417,-0.016563416,-0.000663757,-0.021141052,-0.070907593,-0.09487915,-0.118927002,-0.145065308,-0.041740417,-0.079605103,-0.135818481,-0.097557068,-0.061973572,-0.092071533,-0.148254395,-0.083450317,-0.128585815,-0.18397522,-0.065643311,-0.097518921,-0.198181152,-0.153640747,-0.083335876,-0.036552429,-0.135292053,-0.229393005,-0.061416626,-0.059928894,-0.205726624,-0.190979004,-0.17061615,-0.176513672,-0.135810852,-0.154502869,-0.072303772,-0.062774658,-0.211143494,-0.210174561,-0.178153992,-0.059448242,-0.169563293,-0.12171936,-0.109817505,-0.085151672,-0.128570557,-0.148086548,-0.151977539,-0.195518494,-0.128509521,-0.210029602,-0.235847473,-0.200057983,-0.124099731,-0.164886475,-0.247627258,-0.181877136,-0.275726318,-0.22844696,-0.160087585,-0.201423645,-0.246711731,-0.246841431,-0.165168762,-0.240608215,-0.201637268,-0.188484192,-0.210784912,-0.289657593,-0.187553406,-0.143218994,-0.165374756,-0.191703796,-0.194717407,-0.212562561,-0.135047913,-0.122703552,-0.08014679,-0.193473816,-0.123908997,-0.193847656,-0.23841095,-0.1822052,-0.120223999,-0.087364197,-0.139846802,-0.151580811,-0.228767395,-0.150840759,-0.244903564,-0.144882202,-0.37638855,-0.100990295,-0.197044373,-0.179962158,-0.209159851,-0.050041199,-0.237701416,-0.116958618,-0.140846252,-0.18649292,-0.314155579,-0.290382385,-0.204238892,-0.130561829,-0.162986755,-0.140586853,-0.233779907,-0.24445343,-0.245231628,-0.238182068,-0.20690155,-0.234458923,-0.075134277,-0.241065979,-0.218856812,-0.210906982,-0.247558594,-0.141403198,-0.188934326,-0.257064819,-0.176399231,-0.259429932,-0.262336731,-0.236755371,-0.223121643,-0.158149719,-0.142654419,-0.164230347,0.254753113,-0.188232422,-0.079582214,-0.000839233,-0.183647156,-0.021896362,0.039802551,-0.040985107,-0.081260681,-0.036956787,-0.101509094,-0.053436279,-0.139915466,0.005485535,-0.04384613,-0.059364319,-0.024017334,0.020713806,-0.183662415,-0.113723755,-0.08745575,-0.10509491,-0.11378479,-0.141616821,-0.041816711,-0.087219238,-0.190361023,-0.19380188,-0.155097961,-0.022888184,-0.139541626,-0.074615479,-0.165107727,-0.057792664,-0.046913147,-0.117607117,-0.198181152,-0.109031677,-0.140678406,-0.110366821,-0.13004303,-0.198066711,-0.072311401,-0.138511658,-0.207244873,-0.156066895,-0.285064697,-0.143470764,-0.116355896,-0.245819092,-0.14201355,-0.139625549,-0.11681366,-0.175369263,-0.146995544,-0.167297363,-0.17175293,-0.105499268,-0.104049683,-0.276931763,-0.215698242,-0.15802002,-0.153282166,-0.21559906,-0.249534607,-0.168624878,-0.181388855,-0.121734619,-0.179885864,-0.182807922,-0.181159973,-0.151062012,-0.240913391,-0.274490356,-0.113456726,-0.16002655,-0.225593567,-0.136672974,-0.261047363,-0.296279907,-0.174758911,-0.178779602,-0.261383057,-0.160102844]}},\"id\":\"db120ae9-7305-4daa-a8d3-584a41d893ee\",\"type\":\"ColumnDataSource\"},{\"attributes\":{\"below\":[{\"id\":\"e105b2f0-cd52-4d12-a187-d381809fcbb5\",\"type\":\"LinearAxis\"}],\"left\":[{\"id\":\"e0f95db2-8f52-4799-b9eb-ecf4e0cc1f9c\",\"type\":\"LinearAxis\"}],\"plot_height\":300,\"plot_width\":300,\"renderers\":[{\"id\":\"e105b2f0-cd52-4d12-a187-d381809fcbb5\",\"type\":\"LinearAxis\"},{\"id\":\"5473e665-47b3-4e56-b14e-6d230b8c7968\",\"type\":\"Grid\"},{\"id\":\"e0f95db2-8f52-4799-b9eb-ecf4e0cc1f9c\",\"type\":\"LinearAxis\"},{\"id\":\"24807565-9612-42e8-9b46-2a653bbef67f\",\"type\":\"Grid\"},{\"id\":\"c82e78cc-d2ab-472c-944f-a466f689d9cb\",\"type\":\"BoxAnnotation\"},{\"id\":\"88ee95ae-9504-4e4f-93e9-9649feefef97\",\"type\":\"GlyphRenderer\"}],\"title\":\"No PEG\",\"tool_events\":{\"id\":\"17becae9-51c4-43e9-8e5b-b185b576dc1e\",\"type\":\"ToolEvents\"},\"tools\":[{\"id\":\"e3d24ec8-a55e-480b-b380-34b0a0a187b6\",\"type\":\"PanTool\"},{\"id\":\"9f91f336-a60c-4481-a86e-8ea797049580\",\"type\":\"WheelZoomTool\"},{\"id\":\"128a0eed-e98c-44d1-94d8-2010daa6e9d4\",\"type\":\"BoxZoomTool\"},{\"id\":\"ebc3d3a8-0b03-414b-9750-1814d8c13fd2\",\"type\":\"PreviewSaveTool\"},{\"id\":\"59d19b8e-a09f-41f8-8526-c99e32c061a8\",\"type\":\"ResizeTool\"},{\"id\":\"84c3c0b2-183b-464e-8a2b-df22f9658034\",\"type\":\"ResetTool\"},{\"id\":\"0fb75976-1899-4684-bb14-75b99ddeb213\",\"type\":\"HelpTool\"}],\"x_range\":{\"id\":\"caf05255-8c85-49dc-9b63-f4bbc0db8482\",\"type\":\"DataRange1d\"},\"y_range\":{\"id\":\"1c45660c-eef7-415d-b752-359e37f8cf7c\",\"type\":\"DataRange1d\"}},\"id\":\"072e493c-527e-4737-87c1-32112273a2b8\",\"subtype\":\"Figure\",\"type\":\"Plot\"},{\"attributes\":{\"plot\":{\"id\":\"01d54b21-0ac2-453e-8400-58fd68218a4c\",\"subtype\":\"Figure\",\"type\":\"Plot\"},\"ticker\":{\"id\":\"f6782950-d561-4d8d-b274-31d576d6e86e\",\"type\":\"BasicTicker\"}},\"id\":\"8efeeb61-94d2-4c70-9ee6-19d1984b142a\",\"type\":\"Grid\"},{\"attributes\":{\"plot\":{\"id\":\"072e493c-527e-4737-87c1-32112273a2b8\",\"subtype\":\"Figure\",\"type\":\"Plot\"},\"ticker\":{\"id\":\"38c20166-ec33-415a-9dec-f223042f2c8d\",\"type\":\"BasicTicker\"}},\"id\":\"5473e665-47b3-4e56-b14e-6d230b8c7968\",\"type\":\"Grid\"},{\"attributes\":{\"overlay\":{\"id\":\"c82e78cc-d2ab-472c-944f-a466f689d9cb\",\"type\":\"BoxAnnotation\"},\"plot\":{\"id\":\"072e493c-527e-4737-87c1-32112273a2b8\",\"subtype\":\"Figure\",\"type\":\"Plot\"}},\"id\":\"128a0eed-e98c-44d1-94d8-2010daa6e9d4\",\"type\":\"BoxZoomTool\"},{\"attributes\":{\"data_source\":{\"id\":\"db120ae9-7305-4daa-a8d3-584a41d893ee\",\"type\":\"ColumnDataSource\"},\"glyph\":{\"id\":\"f74276fb-8320-4310-a1e7-8ddc0031a3cf\",\"type\":\"Line\"},\"hover_glyph\":null,\"nonselection_glyph\":{\"id\":\"2671a38d-1f66-4d2f-9945-2df4b76bed9b\",\"type\":\"Line\"},\"selection_glyph\":null},\"id\":\"88ee95ae-9504-4e4f-93e9-9649feefef97\",\"type\":\"GlyphRenderer\"},{\"attributes\":{\"dimension\":1,\"plot\":{\"id\":\"072e493c-527e-4737-87c1-32112273a2b8\",\"subtype\":\"Figure\",\"type\":\"Plot\"},\"ticker\":{\"id\":\"65baa0e0-4f85-4534-a0fc-089edef11556\",\"type\":\"BasicTicker\"}},\"id\":\"24807565-9612-42e8-9b46-2a653bbef67f\",\"type\":\"Grid\"},{\"attributes\":{\"line_color\":{\"value\":\"navy\"},\"line_width\":{\"value\":2},\"x\":{\"field\":\"x\"},\"y\":{\"field\":\"y\"}},\"id\":\"a001cea8-eb82-499d-b603-65a231aa4f0f\",\"type\":\"Line\"},{\"attributes\":{\"callback\":null,\"column_names\":[\"y\",\"x\"],\"data\":{\"x\":[0.0,-0.029052734,0.018562317,0.040077209,0.041366577,0.022232056,0.072929382,-0.132774353,-0.127929688,-0.127990723,-0.067245483,-0.035331726,-0.173835754,-0.233146667,-0.173416138,-0.249427795,-0.123199463,-0.413589478,-0.62877655,-0.678497314,-0.720252991,-0.872795105,-0.953086853,-1.372955322,-1.546287537,-1.237091064,-1.411453247,-1.519042969,-1.237823486,-0.962966919,-0.891166687,-0.889122009,-0.93838501,-1.430580139,-1.656181335,-1.261390686,-0.997093201,-0.784606934,-0.800636292,-0.856071472,-0.631080627,-0.708740234,-0.930610657,-0.953018188,-0.807830811,-0.949783325,-1.120765686,-1.265533447,-1.535095215,-1.470611572,-1.393081665,-1.455459595,-1.370849609,-1.181221008,-0.995529175,-0.065071106,0.132072449,0.114761353,0.293632507,0.406730652,0.533081055,0.572639465,0.320205688,0.043296814,-0.21194458,-0.765129089,-0.721221924,-0.85030365,-0.82244873,-0.703994751,-0.671836853,-0.688819885,-0.77015686,-0.837646484,-0.852218628,-0.866264343,-1.094551086,-0.419288635,-0.575935364,-1.171897888,-0.944465637,-1.080284119,-1.067108154,-0.929679871,-0.835731506,-0.73059845,-0.783370972,-0.87097168,-0.89667511,-0.893455505,-0.849761963,-0.785545349,-0.763641357,-0.73625946,-0.772567749,-0.931892395,-0.901367188,-0.949905396,-0.818664551,-0.702911377,-1.77223,-0.881547,-0.132959,-0.421496,-1.24175,-1.80829,-1.62722,0.0475349,-0.294832,-0.802846,-1.18542,-1.10417,-1.32705,-1.55842,-1.68795,-1.32281,0.0168591,-0.592556,-0.423619,-0.508935,-1.30565,-1.69163,-1.4516,-0.6378,-0.680893,-0.0283709,-1.16531,-1.11979,-1.92512,-1.67136,-2.34754,-2.46662,-3.27922,-4.25818,-4.88685,-5.09966,-5.00869,-5.16927,-5.22271,-5.26935,-5.15186,-5.28596,-5.16383,-4.74888,-4.75845,-4.94084,-4.96507,-4.97172,-4.8961,-4.46349,-4.4784,-4.70663,-4.20611,-3.935,-3.54756,-3.75287,-3.03407,-3.71244,-1.79393,-1.06508,-1.99701,-2.78169,-3.24015,-4.25118,-4.52749,-3.73365,-3.62643,-4.27355,-4.39869,-4.57093,-4.10355,-3.93534,-4.50151,-4.07282,-3.93444,-3.57044,-3.41948,-3.07835,-2.95462,-2.75638,-3.60568,-4.06066,-3.69307,-2.85119,-2.21469,-1.77985,-1.90404,-2.67352,-3.09581,-2.88488,-3.59572,-3.37242,-3.55799,-3.49148,-2.72163,-2.65919,-2.60646,-2.33277,-2.14224,-1.64864,-0.994975,-0.977165,-2.34229,-2.99837,-2.67352,-0.903931,0.298573,1.40247,2.3548,2.80535,2.1785,3.9637,5.31403,5.1844,5.3496,5.81195,5.6945,4.29641,3.92689,3.73217,3.35735,3.22507,2.37903,3.20378,4.40557,4.70428,5.10803,4.23103,3.33541,3.40823,3.33016,3.17652,3.50887,3.89666,3.05198,2.02367,0.504519,1.92046,3.40978,4.76633,5.81593,5.50745,5.85905,5.06868,4.70792,4.76465,5.2437,5.23269,5.06228,4.76573,5.14755,5.71565,5.42556,4.05731,3.05718,3.15476,3.06003,2.80541,2.54904,1.46971,-0.688781,-0.963861,-0.938298,-1.04531,-1.10437,-1.73697,-2.70315,-2.34763,-1.85258,-0.015543,0.30063,0.255453,0.548354,0.280643,-1.15926,-1.9037,-2.25613,-2.56663,-2.57491,-2.62843,-1.54138,-0.263361,1.261,0.857706,1.71073,1.63796,1.97671,1.9263,1.66351,1.18725,1.31798,0.803992,0.103772,-1.68889,-1.46269,-1.79268,-1.62122,-2.29555,-2.62224],\"y\":[0.0,-0.021720886,-0.048835754,-0.10471344,-0.098892212,0.295318604,0.373069763,0.385787964,0.226112366,0.263710022,0.150543213,0.185707092,0.192474365,0.317718506,0.123420715,-0.111724854,0.252113342,-0.251716614,-0.628440857,-0.541725159,-0.695571899,-0.701675415,-0.881912231,-1.091270447,-0.786933899,-1.109031677,-0.989585876,-0.803161621,-1.268699646,-0.965133667,-0.678619385,-0.673927307,-0.918922424,-1.039237976,-1.051673889,-1.131446838,-1.222541809,-1.357559204,-1.346916199,-1.204566956,-1.546485901,-1.393295288,-1.460472107,-1.283683777,-1.239524841,-1.35282135,-1.369056702,-0.877174377,-0.924041748,-0.800849915,-0.663085938,-0.736251831,-0.744018555,-0.756080627,-0.973571777,-1.580886841,-1.647789001,-1.712287903,-1.740463257,-1.769874573,-1.857650757,-1.790351868,-1.720756531,-1.560050964,-1.519966125,-1.466285706,-1.441955566,-1.486190796,-1.529930115,-1.571174622,-1.505477905,-1.52141571,-1.431182861,-1.630233765,-1.621177673,-1.528923035,-1.266174316,-1.482330322,-1.479881287,-1.329185486,-1.556213379,-1.397369385,-1.301437378,-1.528930664,-1.578140259,-1.304679871,-1.367279053,-1.648460388,-1.66153717,-1.76210022,-1.728103638,-1.694313049,-1.642059326,-1.576278687,-1.59475708,-1.762374878,-1.656463623,-1.763450623,-1.652191162,-1.536216736,0.427963,0.504847,0.443354,1.61212,1.23915,1.4008,2.45836,1.54978,0.709053,0.447508,1.31698,1.19059,1.01984,0.651348,0.91691,1.76256,1.76281,2.39433,2.34666,2.84617,2.37598,2.86277,3.82415,4.31248,4.96286,4.8595,3.2074,3.4468,3.45602,3.01167,1.98478,1.75418,2.38178,2.30956,2.79264,2.63343,2.10049,2.48874,2.09933,1.57843,1.62091,2.4861,2.37685,1.85164,1.583,2.20047,1.94131,1.67856,1.62121,1.76563,0.0479717,-0.524261,0.125156,0.300983,0.635145,0.196051,0.360752,1.33579,2.76192,3.08434,2.47963,2.32517,2.32368,2.26823,1.86308,2.04104,1.82605,2.21535,1.61468,0.893145,1.63676,2.0067,1.07456,1.12585,1.77757,2.64889,3.06283,2.48801,2.13822,1.25391,0.494154,-0.279247,-0.685513,-0.445726,1.27964,2.29132,2.26402,1.39197,2.63548,3.73462,3.75099,3.69159,3.48976,3.34903,4.01876,4.48452,4.3296,5.20156,5.16801,5.18877,5.43009,5.36873,4.61037,3.81805,3.92227,3.01499,2.60181,2.53749,2.58214,2.30763,1.98418,3.46556,4.46209,4.54509,4.56001,5.53905,3.78131,3.32575,3.59748,3.7524,3.95914,3.48107,2.90034,2.54597,2.04685,1.94571,1.64376,1.69201,0.96232,0.987885,1.26587,1.09896,-1.10741,-1.03956,0.086277,0.032938,-1.42932,-0.8505,-0.664154,-0.189644,0.110249,0.863384,1.19937,1.50449,1.42926,0.906618,0.397242,-0.113659,-0.174505,1.28907,1.91961,2.08492,1.92572,0.87554,1.27841,1.00012,0.927805,0.112854,0.900675,-0.110012,-0.577103,0.00726128,0.198656,1.75086,2.02254,1.51753,0.283998,0.206804,0.76676,1.10253,1.2104,2.06346,1.93886,0.517235,-0.229313,0.376862,0.94965,1.5495,2.35843,2.4688,2.35059,2.20413,1.68967,1.74771,0.719679,0.986485,1.78266,1.68703,1.7999,1.27325,0.896288,0.579138,-0.289249,-0.575115,0.0586948,-0.298233,-1.11453,-0.14677,-0.571348]}},\"id\":\"852083b5-56f4-4331-bd23-2dcdece5f938\",\"type\":\"ColumnDataSource\"},{\"attributes\":{},\"id\":\"e45921bc-1390-41f4-963f-ecc6c5d977ad\",\"type\":\"BasicTickFormatter\"},{\"attributes\":{\"plot\":{\"id\":\"01d54b21-0ac2-453e-8400-58fd68218a4c\",\"subtype\":\"Figure\",\"type\":\"Plot\"}},\"id\":\"d0d81451-96ac-4a43-9780-b7559767ee52\",\"type\":\"ResizeTool\"},{\"attributes\":{\"plot\":{\"id\":\"01d54b21-0ac2-453e-8400-58fd68218a4c\",\"subtype\":\"Figure\",\"type\":\"Plot\"}},\"id\":\"74c77aff-fea8-4abd-bd34-c21c4892f73a\",\"type\":\"ResetTool\"},{\"attributes\":{\"line_alpha\":{\"value\":0.1},\"line_color\":{\"value\":\"#1f77b4\"},\"line_width\":{\"value\":2},\"x\":{\"field\":\"x\"},\"y\":{\"field\":\"y\"}},\"id\":\"2671a38d-1f66-4d2f-9945-2df4b76bed9b\",\"type\":\"Line\"},{\"attributes\":{\"overlay\":{\"id\":\"54f566c2-06ab-4a33-b6db-7bac335daa56\",\"type\":\"BoxAnnotation\"},\"plot\":{\"id\":\"01d54b21-0ac2-453e-8400-58fd68218a4c\",\"subtype\":\"Figure\",\"type\":\"Plot\"}},\"id\":\"e544ee5e-9a70-4f89-a5a8-fc51992217ed\",\"type\":\"BoxZoomTool\"},{\"attributes\":{\"plot\":{\"id\":\"072e493c-527e-4737-87c1-32112273a2b8\",\"subtype\":\"Figure\",\"type\":\"Plot\"}},\"id\":\"9f91f336-a60c-4481-a86e-8ea797049580\",\"type\":\"WheelZoomTool\"},{\"attributes\":{\"plot\":{\"id\":\"072e493c-527e-4737-87c1-32112273a2b8\",\"subtype\":\"Figure\",\"type\":\"Plot\"}},\"id\":\"84c3c0b2-183b-464e-8a2b-df22f9658034\",\"type\":\"ResetTool\"},{\"attributes\":{\"callback\":null},\"id\":\"caf05255-8c85-49dc-9b63-f4bbc0db8482\",\"type\":\"DataRange1d\"},{\"attributes\":{},\"id\":\"0e1822e7-1172-4c9b-b955-16d51a31d10a\",\"type\":\"ToolEvents\"},{\"attributes\":{\"line_alpha\":{\"value\":0.1},\"line_color\":{\"value\":\"#1f77b4\"},\"line_width\":{\"value\":2},\"x\":{\"field\":\"x\"},\"y\":{\"field\":\"y\"}},\"id\":\"4a71327f-3456-4699-b733-b20e0713eff7\",\"type\":\"Line\"},{\"attributes\":{\"axis_label\":\"x\",\"formatter\":{\"id\":\"3dc672e3-729d-4137-905f-10645ce4fcff\",\"type\":\"BasicTickFormatter\"},\"plot\":{\"id\":\"01d54b21-0ac2-453e-8400-58fd68218a4c\",\"subtype\":\"Figure\",\"type\":\"Plot\"},\"ticker\":{\"id\":\"f6782950-d561-4d8d-b274-31d576d6e86e\",\"type\":\"BasicTicker\"}},\"id\":\"c2cc8af4-0e08-43f2-9f38-9c5319668c60\",\"type\":\"LinearAxis\"},{\"attributes\":{\"plot\":{\"id\":\"072e493c-527e-4737-87c1-32112273a2b8\",\"subtype\":\"Figure\",\"type\":\"Plot\"}},\"id\":\"59d19b8e-a09f-41f8-8526-c99e32c061a8\",\"type\":\"ResizeTool\"},{\"attributes\":{\"callback\":null},\"id\":\"1c45660c-eef7-415d-b752-359e37f8cf7c\",\"type\":\"DataRange1d\"},{\"attributes\":{\"axis_label\":\"y\",\"formatter\":{\"id\":\"e45921bc-1390-41f4-963f-ecc6c5d977ad\",\"type\":\"BasicTickFormatter\"},\"plot\":{\"id\":\"072e493c-527e-4737-87c1-32112273a2b8\",\"subtype\":\"Figure\",\"type\":\"Plot\"},\"ticker\":{\"id\":\"65baa0e0-4f85-4534-a0fc-089edef11556\",\"type\":\"BasicTicker\"}},\"id\":\"e0f95db2-8f52-4799-b9eb-ecf4e0cc1f9c\",\"type\":\"LinearAxis\"},{\"attributes\":{\"plot\":{\"id\":\"072e493c-527e-4737-87c1-32112273a2b8\",\"subtype\":\"Figure\",\"type\":\"Plot\"}},\"id\":\"ebc3d3a8-0b03-414b-9750-1814d8c13fd2\",\"type\":\"PreviewSaveTool\"},{\"attributes\":{},\"id\":\"12206b11-01e9-4d9d-9194-9b4c773579a6\",\"type\":\"BasicTicker\"},{\"attributes\":{\"plot\":{\"id\":\"01d54b21-0ac2-453e-8400-58fd68218a4c\",\"subtype\":\"Figure\",\"type\":\"Plot\"}},\"id\":\"bf65c7e3-9b98-4424-998d-b170232fb8e1\",\"type\":\"PreviewSaveTool\"},{\"attributes\":{},\"id\":\"65baa0e0-4f85-4534-a0fc-089edef11556\",\"type\":\"BasicTicker\"},{\"attributes\":{},\"id\":\"3dc672e3-729d-4137-905f-10645ce4fcff\",\"type\":\"BasicTickFormatter\"},{\"attributes\":{},\"id\":\"fa2cb03a-76d2-42c2-98f0-bdd05b2e45ca\",\"type\":\"BasicTickFormatter\"},{\"attributes\":{\"bottom_units\":\"screen\",\"fill_alpha\":{\"value\":0.5},\"fill_color\":{\"value\":\"lightgrey\"},\"left_units\":\"screen\",\"level\":\"overlay\",\"line_alpha\":{\"value\":1.0},\"line_color\":{\"value\":\"black\"},\"line_dash\":[4,4],\"line_width\":{\"value\":2},\"plot\":null,\"render_mode\":\"css\",\"right_units\":\"screen\",\"top_units\":\"screen\"},\"id\":\"54f566c2-06ab-4a33-b6db-7bac335daa56\",\"type\":\"BoxAnnotation\"},{\"attributes\":{\"dimension\":1,\"plot\":{\"id\":\"01d54b21-0ac2-453e-8400-58fd68218a4c\",\"subtype\":\"Figure\",\"type\":\"Plot\"},\"ticker\":{\"id\":\"12206b11-01e9-4d9d-9194-9b4c773579a6\",\"type\":\"BasicTicker\"}},\"id\":\"d92dd921-a1e5-4330-a456-143147fa7fef\",\"type\":\"Grid\"},{\"attributes\":{\"plot\":{\"id\":\"072e493c-527e-4737-87c1-32112273a2b8\",\"subtype\":\"Figure\",\"type\":\"Plot\"}},\"id\":\"0fb75976-1899-4684-bb14-75b99ddeb213\",\"type\":\"HelpTool\"},{\"attributes\":{\"plot\":{\"id\":\"01d54b21-0ac2-453e-8400-58fd68218a4c\",\"subtype\":\"Figure\",\"type\":\"Plot\"}},\"id\":\"ad7c46e4-5f32-4807-a152-74258b884df9\",\"type\":\"PanTool\"},{\"attributes\":{\"axis_label\":\"x\",\"formatter\":{\"id\":\"fa2cb03a-76d2-42c2-98f0-bdd05b2e45ca\",\"type\":\"BasicTickFormatter\"},\"plot\":{\"id\":\"072e493c-527e-4737-87c1-32112273a2b8\",\"subtype\":\"Figure\",\"type\":\"Plot\"},\"ticker\":{\"id\":\"38c20166-ec33-415a-9dec-f223042f2c8d\",\"type\":\"BasicTicker\"}},\"id\":\"e105b2f0-cd52-4d12-a187-d381809fcbb5\",\"type\":\"LinearAxis\"},{\"attributes\":{\"below\":[{\"id\":\"c2cc8af4-0e08-43f2-9f38-9c5319668c60\",\"type\":\"LinearAxis\"}],\"left\":[{\"id\":\"a42709a4-5d29-4570-ac49-8a7f8a2eb3ff\",\"type\":\"LinearAxis\"}],\"plot_height\":300,\"plot_width\":300,\"renderers\":[{\"id\":\"c2cc8af4-0e08-43f2-9f38-9c5319668c60\",\"type\":\"LinearAxis\"},{\"id\":\"8efeeb61-94d2-4c70-9ee6-19d1984b142a\",\"type\":\"Grid\"},{\"id\":\"a42709a4-5d29-4570-ac49-8a7f8a2eb3ff\",\"type\":\"LinearAxis\"},{\"id\":\"d92dd921-a1e5-4330-a456-143147fa7fef\",\"type\":\"Grid\"},{\"id\":\"54f566c2-06ab-4a33-b6db-7bac335daa56\",\"type\":\"BoxAnnotation\"},{\"id\":\"8c0c3809-ec02-4521-a894-1f3637346191\",\"type\":\"GlyphRenderer\"}],\"title\":\"PEG\",\"tool_events\":{\"id\":\"0e1822e7-1172-4c9b-b955-16d51a31d10a\",\"type\":\"ToolEvents\"},\"tools\":[{\"id\":\"ad7c46e4-5f32-4807-a152-74258b884df9\",\"type\":\"PanTool\"},{\"id\":\"262da033-e1f2-42a7-abdb-40ad04ec84b6\",\"type\":\"WheelZoomTool\"},{\"id\":\"e544ee5e-9a70-4f89-a5a8-fc51992217ed\",\"type\":\"BoxZoomTool\"},{\"id\":\"bf65c7e3-9b98-4424-998d-b170232fb8e1\",\"type\":\"PreviewSaveTool\"},{\"id\":\"d0d81451-96ac-4a43-9780-b7559767ee52\",\"type\":\"ResizeTool\"},{\"id\":\"74c77aff-fea8-4abd-bd34-c21c4892f73a\",\"type\":\"ResetTool\"},{\"id\":\"c4572b37-18d8-4146-8504-3f79084aab0e\",\"type\":\"HelpTool\"}],\"x_range\":{\"id\":\"caf05255-8c85-49dc-9b63-f4bbc0db8482\",\"type\":\"DataRange1d\"},\"y_range\":{\"id\":\"1c45660c-eef7-415d-b752-359e37f8cf7c\",\"type\":\"DataRange1d\"}},\"id\":\"01d54b21-0ac2-453e-8400-58fd68218a4c\",\"subtype\":\"Figure\",\"type\":\"Plot\"},{\"attributes\":{},\"id\":\"f6782950-d561-4d8d-b274-31d576d6e86e\",\"type\":\"BasicTicker\"},{\"attributes\":{\"children\":[[{\"id\":\"01d54b21-0ac2-453e-8400-58fd68218a4c\",\"subtype\":\"Figure\",\"type\":\"Plot\"},{\"id\":\"072e493c-527e-4737-87c1-32112273a2b8\",\"subtype\":\"Figure\",\"type\":\"Plot\"}]]},\"id\":\"b1fa8e8d-76d1-4bd7-b775-8de8942416a5\",\"type\":\"GridPlot\"}],\"root_ids\":[\"b1fa8e8d-76d1-4bd7-b775-8de8942416a5\"]},\"title\":\"Bokeh Application\",\"version\":\"0.11.1\"}};\n",
       "            var render_items = [{\"docid\":\"8303b936-538c-4f83-8c5c-3a9f7a4388e9\",\"elementid\":\"8e4c27c9-3a64-4c89-9195-615c7b3df9eb\",\"modelid\":\"b1fa8e8d-76d1-4bd7-b775-8de8942416a5\",\"notebook_comms_target\":\"9b7200b5-8360-4978-9987-74389380227a\"}];\n",
       "            \n",
       "            Bokeh.embed.embed_items(docs_json, render_items);\n",
       "        });\n",
       "      },\n",
       "      function(Bokeh) {\n",
       "      }\n",
       "    ];\n",
       "  \n",
       "    function run_inline_js() {\n",
       "      for (var i = 0; i < inline_js.length; i++) {\n",
       "        inline_js[i](window.Bokeh);\n",
       "      }\n",
       "    }\n",
       "  \n",
       "    if (window._bokeh_is_loading === 0) {\n",
       "      console.log(\"Bokeh: BokehJS loaded, going straight to plotting\");\n",
       "      run_inline_js();\n",
       "    } else {\n",
       "      load_libs(js_urls, function() {\n",
       "        console.log(\"Bokeh: BokehJS plotting callback run at\", now());\n",
       "        run_inline_js();\n",
       "      });\n",
       "    }\n",
       "  }(this));\n",
       "</script>"
      ]
     },
     "metadata": {},
     "output_type": "display_data"
    },
    {
     "data": {
      "text/plain": [
       "True"
      ]
     },
     "execution_count": 6,
     "metadata": {},
     "output_type": "execute_result"
    }
   ],
   "source": [
    "sidebyside(PEG_PLGA15k_2CHA_R2_P26, PLGA_15k_2CHA_R2_P37, 'PEG', 'No PEG')"
   ]
  },
  {
   "cell_type": "code",
   "execution_count": null,
   "metadata": {
    "collapsed": true
   },
   "outputs": [],
   "source": [
    "def overlay(xydata1, xydata2, charttitle):\n",
    "    \n",
    "    output_notebook()  \n",
    "    x1 = xydata1[:,1]\n",
    "    y1 = xydata1[:,2]\n",
    "    x2 = xydata2[:,1]\n",
    "    y2= xydata2[:,2]\n",
    "    p = figure(title=charttitle, width = 300, height = 300, x_axis_label='x', y_axis_label='y')\n",
    "    p.line(x1, y1, line_width=2, color='navy')\n",
    "    p.line(x2, y2, line_width=2, color='firebrick')\n",
    "    show(p)"
   ]
  },
  {
   "cell_type": "code",
   "execution_count": null,
   "metadata": {
    "collapsed": false
   },
   "outputs": [],
   "source": [
    "overlay(PEG_PLGA15k_2CHA_R2_P26, PLGA_15k_2CHA_R2_P37, 'PEG/No PEG')"
   ]
  },
  {
   "cell_type": "code",
   "execution_count": null,
   "metadata": {
    "collapsed": false
   },
   "outputs": [],
   "source": [
    "# You must first run \"bokeh serve\" to view this example\n",
    "\n",
    "from numpy import pi, cos, sin, linspace, roll\n",
    "\n",
    "from bokeh.client import push_session\n",
    "from bokeh.io import curdoc\n",
    "from bokeh.plotting import figure\n",
    "\n",
    "M = 5\n",
    "N = M*10 + 1\n",
    "r_base = 8\n",
    "theta = linspace(0, 2*pi, N)\n",
    "r_x = linspace(0, 6*pi, N-1)\n",
    "rmin = r_base - cos(r_x) - 1\n",
    "rmax = r_base + sin(r_x) + 1\n",
    "\n",
    "colors = [\"FFFFCC\", \"#C7E9B4\", \"#7FCDBB\", \"#41B6C4\", \"#2C7FB8\", \"#253494\", \"#2C7FB8\", \"#41B6C4\", \"#7FCDBB\", \"#C7E9B4\"] * M\n",
    "\n",
    "# figure() function auto-adds the figure to curdoc()\n",
    "p = figure(x_range=(-11, 11), y_range=(-11, 11))\n",
    "r = p.annular_wedge(0, 0, rmin, rmax, theta[:-1], theta[1:],\n",
    "                    fill_color=colors, line_color=\"white\")\n",
    "\n",
    "# open a session to keep our local document in sync with server\n",
    "session = push_session(curdoc())\n",
    "\n",
    "ds = r.data_source\n",
    "\n",
    "def update():\n",
    "    rmin = roll(ds.data[\"inner_radius\"], 1)\n",
    "    rmax = roll(ds.data[\"outer_radius\"], -1)\n",
    "    ds.data.update(inner_radius=rmin, outer_radius=rmax)\n",
    "\n",
    "curdoc().add_periodic_callback(update, 30)\n",
    "\n",
    "session.show() # open the document in a browser\n",
    "\n",
    "session.loop_until_closed() # run forever"
   ]
  },
  {
   "cell_type": "code",
   "execution_count": null,
   "metadata": {
    "collapsed": false
   },
   "outputs": [],
   "source": [
    "def define_xydata(dataset, sets):\n",
    "    \n",
    "    times = dataset[:,0]\n",
    "    Run = dict()\n",
    "    \n",
    "    for num in range(1, sets + 1):\n",
    "        Run[\"Run\" + str(num)] = dataset[:, 3 * num - 2 : 3 * num + 1]\n",
    "\n",
    "    return times, Run"
   ]
  },
  {
   "cell_type": "code",
   "execution_count": null,
   "metadata": {
    "collapsed": false
   },
   "outputs": [],
   "source": [
    "times, Run = define_xydata(trajectory, 23)"
   ]
  },
  {
   "cell_type": "code",
   "execution_count": null,
   "metadata": {
    "collapsed": false
   },
   "outputs": [],
   "source": [
    "def download_data(file):\n",
    "\n",
    "    file_csv = True\n",
    "    file_exists = True\n",
    "\n",
    "    if file[-4:] == '.csv':\n",
    "        \n",
    "        try:\n",
    "            name = np.genfromtxt(file, delimiter = \",\")\n",
    "            name = np.delete(name, 0,0)\n",
    "        except:\n",
    "            return 'File does not exist'\n",
    "            file_exists = False\n",
    "        else:\n",
    "            return name\n",
    "    \n",
    "    else: \n",
    "        \n",
    "        file_csv = False\n",
    "        return 'File is not a .csv file'"
   ]
  },
  {
   "cell_type": "code",
   "execution_count": null,
   "metadata": {
    "collapsed": false
   },
   "outputs": [],
   "source": [
    "name = download_data('../sample_data/Sample_Trajectory_Data2.csv')"
   ]
  },
  {
   "cell_type": "code",
   "execution_count": null,
   "metadata": {
    "collapsed": false
   },
   "outputs": [],
   "source": [
    "name"
   ]
  },
  {
   "cell_type": "code",
   "execution_count": null,
   "metadata": {
    "collapsed": false
   },
   "outputs": [],
   "source": [
    "string = \"string\""
   ]
  },
  {
   "cell_type": "code",
   "execution_count": null,
   "metadata": {
    "collapsed": false
   },
   "outputs": [],
   "source": [
    "string[-4:]"
   ]
  },
  {
   "cell_type": "code",
   "execution_count": null,
   "metadata": {
    "collapsed": true
   },
   "outputs": [],
   "source": []
  }
 ],
 "metadata": {
  "kernelspec": {
   "display_name": "Python 3",
   "language": "python",
   "name": "python3"
  },
  "language_info": {
   "codemirror_mode": {
    "name": "ipython",
    "version": 3
   },
   "file_extension": ".py",
   "mimetype": "text/x-python",
   "name": "python",
   "nbconvert_exporter": "python",
   "pygments_lexer": "ipython3",
   "version": "3.5.1"
  }
 },
 "nbformat": 4,
 "nbformat_minor": 0
}
