{
 "cells": [
  {
   "cell_type": "code",
   "execution_count": null,
   "metadata": {
    "collapsed": true
   },
   "outputs": [],
   "source": [
    "import numpy as np\n",
    "from bokeh.plotting import figure, show, gridplot, vplot, hplot, curdoc\n",
    "from bokeh.io import output_notebook\n",
    "from trajectory_visualization import plot_trajectory, sidebyside, shift_trajectory, overlay\n",
    "from bokeh.client import push_session"
   ]
  },
  {
   "cell_type": "code",
   "execution_count": null,
   "metadata": {
    "collapsed": false
   },
   "outputs": [],
   "source": [
    "output_notebook()"
   ]
  },
  {
   "cell_type": "code",
   "execution_count": null,
   "metadata": {
    "collapsed": true
   },
   "outputs": [],
   "source": [
    "trajectory = np.genfromtxt('../sample_data/Sample_Trajectory_Data1.csv',\n",
    "            delimiter =\",\")\n",
    "trajectory=np.delete(trajectory, 0,0)"
   ]
  },
  {
   "cell_type": "code",
   "execution_count": null,
   "metadata": {
    "collapsed": true
   },
   "outputs": [],
   "source": [
    "time = trajectory[:,0]\n",
    "PLGA_4A_UP_R1_P25 = trajectory[:,1:4]\n",
    "PLGA_4A_P80_R1_P22 = trajectory[:,4:7]\n",
    "PLGA_15k_UP_R3_P5 = trajectory[:,7:10]\n",
    "PLGA_15k_P80_R3_P36 = trajectory[:,10:13]\n",
    "PLGA_4A_F68_R3_P15 = trajectory[:,13:16]\n",
    "PLGA_15k_F68_R3_P10 = trajectory[:,16:19]\n",
    "PLGA4A_5CHA_R3_P124 = trajectory[:,19:22]\n",
    "PLGA_15k_5CHA_R3_P50 = trajectory[:,22:25]\n",
    "PLGA_15k_2CHA_R2_P44 = trajectory[:,25:28]\n",
    "PLGA15k_05CHA_R3_P22 = trajectory[:,28:31]\n",
    "PEG_PLGA15k_P80_R3_P127 = trajectory[:,31:34]\n",
    "PEG_PLGA4A_F68_R3_P111 = trajectory[:,34:37]\n",
    "PEG_PLGA4A_P80_R1_P84 = trajectory[:,37:40]\n",
    "PEG_PLGA4A_UP_R1_P53 = trajectory[:,40:43]\n",
    "PEG_PLGA15k_2CHA_R2_P26 = trajectory[:,43:46]\n",
    "PEG_PLGA15k_5CHA_R2_P52 = trajectory[:,46:49]\n",
    "PEG_PLGA15k_UP_R3_P61 = trajectory[:,49:52]\n",
    "PEG_PLGA58k_5CHA_R2_P15 = trajectory[:,52:55]\n",
    "PEG_PLGA15k_F68_R2_P81 = trajectory[:,55:58]\n",
    "PLGA_15k_2CHA_R2_P37 = trajectory[:,58:61]\n",
    "PLGA_15k_PEG_2CHA_R2_P81 = trajectory[:,61:64]\n",
    "PLGA_15k_05CHA_R1_P45 = trajectory[:,64:67]\n",
    "PLGA_15k_PEG_05CHA_R3_P61 = trajectory[:,67:70]"
   ]
  },
  {
   "cell_type": "code",
   "execution_count": null,
   "metadata": {
    "collapsed": false
   },
   "outputs": [],
   "source": [
    "shift_trajectory(PLGA_4A_UP_R1_P25)\n",
    "shift_trajectory(PEG_PLGA4A_UP_R1_P53)\n",
    "\n",
    "shift_trajectory(PLGA_4A_P80_R1_P22)\n",
    "shift_trajectory(PEG_PLGA4A_P80_R1_P84)\n",
    "\n",
    "shift_trajectory(PLGA_15k_UP_R3_P5)\n",
    "shift_trajectory(PEG_PLGA15k_UP_R3_P61)\n",
    "\n",
    "shift_trajectory(PLGA_15k_P80_R3_P36)\n",
    "shift_trajectory(PEG_PLGA15k_P80_R3_P127)\n",
    "\n",
    "shift_trajectory(PLGA_4A_F68_R3_P15)\n",
    "shift_trajectory(PEG_PLGA4A_F68_R3_P111)\n",
    "\n",
    "shift_trajectory(PLGA_15k_F68_R3_P10)\n",
    "shift_trajectory(PEG_PLGA15k_F68_R2_P81)\n",
    "\n",
    "shift_trajectory(PLGA4A_5CHA_R3_P124)\n",
    "shift_trajectory(PEG_PLGA58k_5CHA_R2_P15)\n",
    "\n",
    "shift_trajectory(PLGA_15k_5CHA_R3_P50)\n",
    "shift_trajectory(PEG_PLGA15k_5CHA_R2_P52)\n",
    "shift_trajectory(PLGA_15k_2CHA_R2_P37)\n",
    "shift_trajectory(PLGA_15k_PEG_2CHA_R2_P81)\n",
    "\n",
    "shift_trajectory(PEG_PLGA15k_2CHA_R2_P26)\n",
    "shift_trajectory(PLGA_15k_2CHA_R2_P44)\n",
    "\n",
    "shift_trajectory(PLGA15k_05CHA_R3_P22)\n",
    "shift_trajectory(PLGA_15k_05CHA_R1_P45)\n",
    "shift_trajectory(PLGA_15k_PEG_05CHA_R3_P61)"
   ]
  },
  {
   "cell_type": "code",
   "execution_count": null,
   "metadata": {
    "collapsed": false
   },
   "outputs": [],
   "source": [
    "plot_trajectory(PLGA15k_05CHA_R3_P22, \"PLGA15k_05CHA_R3_P22\")"
   ]
  },
  {
   "cell_type": "code",
   "execution_count": null,
   "metadata": {
    "collapsed": false
   },
   "outputs": [],
   "source": [
    "sidebyside(PLGA15k_05CHA_R3_P22, PLGA_15k_PEG_05CHA_R3_P61, 'PLGA15k_05CHA_R3_P22', 'PLGA_15k_PEG_05CHA_R3_P61')"
   ]
  },
  {
   "cell_type": "code",
   "execution_count": null,
   "metadata": {
    "collapsed": false
   },
   "outputs": [],
   "source": [
    "overlay(PLGA15k_05CHA_R3_P22, PLGA_15k_PEG_05CHA_R3_P61, 'PLGA15k_05CHA and PLGA_15k_PEG_05CHA')"
   ]
  },
  {
   "cell_type": "code",
   "execution_count": null,
   "metadata": {
    "collapsed": true
   },
   "outputs": [],
   "source": []
  }
 ],
 "metadata": {
  "kernelspec": {
   "display_name": "Python 3",
   "language": "python",
   "name": "python3"
  },
  "language_info": {
   "codemirror_mode": {
    "name": "ipython",
    "version": 3
   },
   "file_extension": ".py",
   "mimetype": "text/x-python",
   "name": "python",
   "nbconvert_exporter": "python",
   "pygments_lexer": "ipython3",
   "version": "3.5.1"
  }
 },
 "nbformat": 4,
 "nbformat_minor": 0
}
