{
 "cells": [
  {
   "cell_type": "code",
   "execution_count": 1,
   "metadata": {
    "collapsed": false
   },
   "outputs": [],
   "source": [
    "import time_variable_Deff"
   ]
  },
  {
   "cell_type": "code",
   "execution_count": 2,
   "metadata": {
    "collapsed": false,
    "scrolled": false
   },
   "outputs": [
    {
     "name": "stdout",
     "output_type": "stream",
     "text": [
      "PEG-PLGA4A 5%CHA Deff = 0.00093598795838\n"
     ]
    },
    {
     "data": {
      "text/html": [
       "<div>\n",
       "<table border=\"1\" class=\"dataframe\">\n",
       "  <thead>\n",
       "    <tr style=\"text-align: right;\">\n",
       "      <th></th>\n",
       "      <th>Deff</th>\n",
       "    </tr>\n",
       "  </thead>\n",
       "  <tbody>\n",
       "    <tr>\n",
       "      <th>PEG-PLGA4A UP</th>\n",
       "      <td>0.000465</td>\n",
       "    </tr>\n",
       "    <tr>\n",
       "      <th>PEG-PLGA15k UP</th>\n",
       "      <td>0.001659</td>\n",
       "    </tr>\n",
       "    <tr>\n",
       "      <th>PEG-PLGA4A P80</th>\n",
       "      <td>0.000087</td>\n",
       "    </tr>\n",
       "    <tr>\n",
       "      <th>PEG-PLGA15k P80</th>\n",
       "      <td>0.000084</td>\n",
       "    </tr>\n",
       "    <tr>\n",
       "      <th>PEG-PLGA4A F68</th>\n",
       "      <td>0.000097</td>\n",
       "    </tr>\n",
       "    <tr>\n",
       "      <th>PEG-PLGA15k F68</th>\n",
       "      <td>0.000095</td>\n",
       "    </tr>\n",
       "    <tr>\n",
       "      <th>PEG-PLGA4A 5%CHA</th>\n",
       "      <td>0.000936</td>\n",
       "    </tr>\n",
       "    <tr>\n",
       "      <th>PEG-PLGA15k 5%CHA</th>\n",
       "      <td>0.002974</td>\n",
       "    </tr>\n",
       "    <tr>\n",
       "      <th>PEG-PLGA15k 2CHA</th>\n",
       "      <td>0.005285</td>\n",
       "    </tr>\n",
       "    <tr>\n",
       "      <th>PEG-PLGA15k 0.5CHA</th>\n",
       "      <td>0.001605</td>\n",
       "    </tr>\n",
       "    <tr>\n",
       "      <th>PLGA 4A UP-Exp 1</th>\n",
       "      <td>0.000132</td>\n",
       "    </tr>\n",
       "    <tr>\n",
       "      <th>PEG-PLGA4A UP-Exp 1</th>\n",
       "      <td>0.001295</td>\n",
       "    </tr>\n",
       "    <tr>\n",
       "      <th>PLGA58k UP</th>\n",
       "      <td>0.000135</td>\n",
       "    </tr>\n",
       "    <tr>\n",
       "      <th>PLGA15k UP</th>\n",
       "      <td>0.000135</td>\n",
       "    </tr>\n",
       "    <tr>\n",
       "      <th>PLGA4A P80</th>\n",
       "      <td>0.000143</td>\n",
       "    </tr>\n",
       "    <tr>\n",
       "      <th>PLGA15k P80</th>\n",
       "      <td>0.000120</td>\n",
       "    </tr>\n",
       "    <tr>\n",
       "      <th>PLGA4A F68</th>\n",
       "      <td>0.000070</td>\n",
       "    </tr>\n",
       "    <tr>\n",
       "      <th>PLGA15k F68</th>\n",
       "      <td>0.000140</td>\n",
       "    </tr>\n",
       "    <tr>\n",
       "      <th>PLGA4A 5%CHA</th>\n",
       "      <td>0.000168</td>\n",
       "    </tr>\n",
       "    <tr>\n",
       "      <th>PLGA15k 5%CHA</th>\n",
       "      <td>0.000106</td>\n",
       "    </tr>\n",
       "    <tr>\n",
       "      <th>PLGA15k 2CHA</th>\n",
       "      <td>0.000153</td>\n",
       "    </tr>\n",
       "    <tr>\n",
       "      <th>PLGA15k 0.5CHA</th>\n",
       "      <td>0.000155</td>\n",
       "    </tr>\n",
       "  </tbody>\n",
       "</table>\n",
       "</div>"
      ],
      "text/plain": [
       "                         Deff\n",
       "PEG-PLGA4A UP        0.000465\n",
       "PEG-PLGA15k UP       0.001659\n",
       "PEG-PLGA4A P80       0.000087\n",
       "PEG-PLGA15k P80      0.000084\n",
       "PEG-PLGA4A F68       0.000097\n",
       "PEG-PLGA15k F68      0.000095\n",
       "PEG-PLGA4A 5%CHA     0.000936\n",
       "PEG-PLGA15k 5%CHA    0.002974\n",
       "PEG-PLGA15k 2CHA     0.005285\n",
       "PEG-PLGA15k 0.5CHA   0.001605\n",
       "PLGA 4A UP-Exp 1     0.000132\n",
       "PEG-PLGA4A UP-Exp 1  0.001295\n",
       "PLGA58k UP           0.000135\n",
       "PLGA15k UP           0.000135\n",
       "PLGA4A P80           0.000143\n",
       "PLGA15k P80          0.000120\n",
       "PLGA4A F68           0.000070\n",
       "PLGA15k F68          0.000140\n",
       "PLGA4A 5%CHA         0.000168\n",
       "PLGA15k 5%CHA        0.000106\n",
       "PLGA15k 2CHA         0.000153\n",
       "PLGA15k 0.5CHA       0.000155"
      ]
     },
     "execution_count": 2,
     "metadata": {},
     "output_type": "execute_result"
    }
   ],
   "source": [
    "time_variable_Deff.compute_plot_all_Deff(2, 4, 'PEG-PLGA4A 5%CHA')"
   ]
  },
  {
   "cell_type": "code",
   "execution_count": 3,
   "metadata": {
    "collapsed": false
   },
   "outputs": [
    {
     "data": {
      "text/html": [
       "<div>\n",
       "<table border=\"1\" class=\"dataframe\">\n",
       "  <thead>\n",
       "    <tr style=\"text-align: right;\">\n",
       "      <th></th>\n",
       "      <th>Deff</th>\n",
       "    </tr>\n",
       "  </thead>\n",
       "  <tbody>\n",
       "    <tr>\n",
       "      <th>PEG-PLGA4A UP</th>\n",
       "      <td>0.000465</td>\n",
       "    </tr>\n",
       "    <tr>\n",
       "      <th>PEG-PLGA15k UP</th>\n",
       "      <td>0.001659</td>\n",
       "    </tr>\n",
       "    <tr>\n",
       "      <th>PEG-PLGA4A P80</th>\n",
       "      <td>0.000087</td>\n",
       "    </tr>\n",
       "    <tr>\n",
       "      <th>PEG-PLGA15k P80</th>\n",
       "      <td>0.000084</td>\n",
       "    </tr>\n",
       "    <tr>\n",
       "      <th>PEG-PLGA4A F68</th>\n",
       "      <td>0.000097</td>\n",
       "    </tr>\n",
       "    <tr>\n",
       "      <th>PEG-PLGA15k F68</th>\n",
       "      <td>0.000095</td>\n",
       "    </tr>\n",
       "    <tr>\n",
       "      <th>PEG-PLGA4A 5%CHA</th>\n",
       "      <td>0.000936</td>\n",
       "    </tr>\n",
       "    <tr>\n",
       "      <th>PEG-PLGA15k 5%CHA</th>\n",
       "      <td>0.002974</td>\n",
       "    </tr>\n",
       "    <tr>\n",
       "      <th>PEG-PLGA15k 2CHA</th>\n",
       "      <td>0.005285</td>\n",
       "    </tr>\n",
       "    <tr>\n",
       "      <th>PEG-PLGA15k 0.5CHA</th>\n",
       "      <td>0.001605</td>\n",
       "    </tr>\n",
       "    <tr>\n",
       "      <th>PLGA 4A UP-Exp 1</th>\n",
       "      <td>0.000132</td>\n",
       "    </tr>\n",
       "    <tr>\n",
       "      <th>PEG-PLGA4A UP-Exp 1</th>\n",
       "      <td>0.001295</td>\n",
       "    </tr>\n",
       "    <tr>\n",
       "      <th>PLGA58k UP</th>\n",
       "      <td>0.000135</td>\n",
       "    </tr>\n",
       "    <tr>\n",
       "      <th>PLGA15k UP</th>\n",
       "      <td>0.000135</td>\n",
       "    </tr>\n",
       "    <tr>\n",
       "      <th>PLGA4A P80</th>\n",
       "      <td>0.000143</td>\n",
       "    </tr>\n",
       "    <tr>\n",
       "      <th>PLGA15k P80</th>\n",
       "      <td>0.000120</td>\n",
       "    </tr>\n",
       "    <tr>\n",
       "      <th>PLGA4A F68</th>\n",
       "      <td>0.000070</td>\n",
       "    </tr>\n",
       "    <tr>\n",
       "      <th>PLGA15k F68</th>\n",
       "      <td>0.000140</td>\n",
       "    </tr>\n",
       "    <tr>\n",
       "      <th>PLGA4A 5%CHA</th>\n",
       "      <td>0.000168</td>\n",
       "    </tr>\n",
       "    <tr>\n",
       "      <th>PLGA15k 5%CHA</th>\n",
       "      <td>0.000106</td>\n",
       "    </tr>\n",
       "    <tr>\n",
       "      <th>PLGA15k 2CHA</th>\n",
       "      <td>0.000153</td>\n",
       "    </tr>\n",
       "    <tr>\n",
       "      <th>PLGA15k 0.5CHA</th>\n",
       "      <td>0.000155</td>\n",
       "    </tr>\n",
       "  </tbody>\n",
       "</table>\n",
       "</div>"
      ],
      "text/plain": [
       "                         Deff\n",
       "PEG-PLGA4A UP        0.000465\n",
       "PEG-PLGA15k UP       0.001659\n",
       "PEG-PLGA4A P80       0.000087\n",
       "PEG-PLGA15k P80      0.000084\n",
       "PEG-PLGA4A F68       0.000097\n",
       "PEG-PLGA15k F68      0.000095\n",
       "PEG-PLGA4A 5%CHA     0.000936\n",
       "PEG-PLGA15k 5%CHA    0.002974\n",
       "PEG-PLGA15k 2CHA     0.005285\n",
       "PEG-PLGA15k 0.5CHA   0.001605\n",
       "PLGA 4A UP-Exp 1     0.000132\n",
       "PEG-PLGA4A UP-Exp 1  0.001295\n",
       "PLGA58k UP           0.000135\n",
       "PLGA15k UP           0.000135\n",
       "PLGA4A P80           0.000143\n",
       "PLGA15k P80          0.000120\n",
       "PLGA4A F68           0.000070\n",
       "PLGA15k F68          0.000140\n",
       "PLGA4A 5%CHA         0.000168\n",
       "PLGA15k 5%CHA        0.000106\n",
       "PLGA15k 2CHA         0.000153\n",
       "PLGA15k 0.5CHA       0.000155"
      ]
     },
     "execution_count": 3,
     "metadata": {},
     "output_type": "execute_result"
    }
   ],
   "source": [
    "time_variable_Deff.compute_plot_all_Deff(2, 4, False)"
   ]
  },
  {
   "cell_type": "code",
   "execution_count": 4,
   "metadata": {
    "collapsed": false
   },
   "outputs": [
    {
     "name": "stderr",
     "output_type": "stream",
     "text": [
      "time_variable_Deff.py:154: SettingWithCopyWarning: \n",
      "A value is trying to be set on a copy of a slice from a DataFrame.\n",
      "Try using .loc[row_indexer,col_indexer] = value instead\n",
      "\n",
      "See the caveats in the documentation: http://pandas.pydata.org/pandas-docs/stable/indexing.html#indexing-view-versus-copy\n",
      "  temp2_msd[particle_chemistry + ' Deff'] = Deff_list\n"
     ]
    },
    {
     "data": {
      "text/plain": [
       "0.00263043089785296"
      ]
     },
     "execution_count": 4,
     "metadata": {},
     "output_type": "execute_result"
    }
   ],
   "source": [
    "time_variable_Deff.compute_hist_Deff('PEG-PLGA15k 0.5CHA', 0.5, 3)"
   ]
  },
  {
   "cell_type": "code",
   "execution_count": null,
   "metadata": {
    "collapsed": true
   },
   "outputs": [],
   "source": []
  }
 ],
 "metadata": {
  "kernelspec": {
   "display_name": "Python 2",
   "language": "python",
   "name": "python2"
  },
  "language_info": {
   "codemirror_mode": {
    "name": "ipython",
    "version": 2
   },
   "file_extension": ".py",
   "mimetype": "text/x-python",
   "name": "python",
   "nbconvert_exporter": "python",
   "pygments_lexer": "ipython2",
   "version": "2.7.11"
  }
 },
 "nbformat": 4,
 "nbformat_minor": 0
}
